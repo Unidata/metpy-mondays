{
 "cells": [
  {
   "cell_type": "markdown",
   "id": "2e0e7661",
   "metadata": {},
   "source": [
    "## 214 - Creating PDF Reports in Python\n",
    "\n",
    "[Youtube](https://www.youtube.com/watch?v=sJ3xLtX0r5U)"
   ]
  },
  {
   "cell_type": "code",
   "execution_count": 1,
   "id": "6e475d3a",
   "metadata": {},
   "outputs": [],
   "source": [
    "from fpdf import FPDF"
   ]
  },
  {
   "cell_type": "code",
   "execution_count": 2,
   "id": "c6701600",
   "metadata": {},
   "outputs": [
    {
     "data": {
      "text/plain": [
       "''"
      ]
     },
     "execution_count": 2,
     "metadata": {},
     "output_type": "execute_result"
    }
   ],
   "source": [
    "pdf = FPDF()\n",
    "pdf.add_page()\n",
    "pdf.set_font('Arial', 'B', 16)\n",
    "pdf.cell(40, 10, 'Hello MetPy!', 1, align = 'C')\n",
    "pdf.output('report.pdf', 'F')"
   ]
  },
  {
   "cell_type": "code",
   "execution_count": 3,
   "id": "7b808d06",
   "metadata": {},
   "outputs": [],
   "source": [
    "class PDF(FPDF):\n",
    "    def header(self):\n",
    "        self.image('unidata.png', w = 20)\n",
    "        self.set_font('Arial', 'B', 11)\n",
    "        self.set_xy(0, 0)\n",
    "        self.cell(200, 40, 'Current Buoy Summary', 0, 0, 'R')\n",
    "        self.ln(20)\n",
    "\n",
    "    def footer(self):\n",
    "        self.set_y(-15)\n",
    "        self.set_font('Arial', 'I', 8)\n",
    "        self.cell(0, 10, 'Page ' + str(self.page_no()) + '/{nb}', 0, 0, 'C')"
   ]
  },
  {
   "cell_type": "code",
   "execution_count": 4,
   "id": "c8881f01",
   "metadata": {},
   "outputs": [
    {
     "data": {
      "text/plain": [
       "''"
      ]
     },
     "execution_count": 4,
     "metadata": {},
     "output_type": "execute_result"
    }
   ],
   "source": [
    "pdf = PDF()\n",
    "pdf.add_page()\n",
    "pdf.alias_nb_pages()\n",
    "pdf.set_font('Arial', 'B', 16)\n",
    "pdf.cell(60, 40, 'Hello MetPy!', 1, align = 'C')\n",
    "pdf.output('report.pdf', 'F')"
   ]
  },
  {
   "cell_type": "code",
   "execution_count": null,
   "id": "f86c6eae",
   "metadata": {},
   "outputs": [],
   "source": []
  }
 ],
 "metadata": {
  "kernelspec": {
   "display_name": "Python 3 (ipykernel)",
   "language": "python",
   "name": "python3"
  },
  "language_info": {
   "codemirror_mode": {
    "name": "ipython",
    "version": 3
   },
   "file_extension": ".py",
   "mimetype": "text/x-python",
   "name": "python",
   "nbconvert_exporter": "python",
   "pygments_lexer": "ipython3",
   "version": "3.9.12"
  }
 },
 "nbformat": 4,
 "nbformat_minor": 5
}
