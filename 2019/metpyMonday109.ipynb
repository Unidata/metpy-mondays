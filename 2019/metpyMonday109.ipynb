{
 "cells": [
  {
   "cell_type": "markdown",
   "metadata": {},
   "source": [
    "## 109 - encode, decode, and bytes OH MY!\n",
    "\n",
    "\n",
    "[Youtube](https://www.youtube.com/watch?v=H-9cTkBJuEg)"
   ]
  },
  {
   "cell_type": "code",
   "execution_count": 1,
   "metadata": {},
   "outputs": [],
   "source": [
    "from urllib import request"
   ]
  },
  {
   "cell_type": "code",
   "execution_count": 2,
   "metadata": {},
   "outputs": [],
   "source": [
    "url = 'http://weather.uwyo.edu/cgi-bin/sounding?region=nanconf&TYPE=TEXT%3ALIST&YEAR=2019&MONTH=12&FROM=0812&TO=0812&STNM=72469'"
   ]
  },
  {
   "cell_type": "code",
   "execution_count": 3,
   "metadata": {},
   "outputs": [
    {
     "data": {
      "text/plain": [
       "b'<HTML>\\n<TITLE>University of Wyoming - Radiosonde Data</TITLE>\\n<BODY BGCOLOR=\"white\">\\n<H2>72469 DNR Denver Observations at 12Z 08 Dec 2019</H2>\\n<PRE>\\n-----------------------------------------------------------------------------\\n   PRES   HGHT   TEMP   DWPT   RELH   MIXR   DRCT   SKNT   THTA   THTE   THTV\\n    hPa     m      C      C      %    g/kg    deg   knot     K      K      K \\n-----------------------------------------------------------------------------\\n 1000.0     86                                                               \\n  925.0    740                                                               \\n  850.0   1435                                                               \\n  832.0   1611    2.8   -4.2     60   3.38    190      8  290.8  300.9  291.4\\n  827.0   1660    6.2   -3.8     49   3.51    193      8  294.9  305.6  295.6\\n  812.0   1811    9.8   -8.2     27   2.55    204      7  300.3  308.4  300.8\\n  810.2   1829    9.7   -8.2     27   2.54    205      7  300.4  308.4  300.8\\n  780.7   2134    7.8   -9.1     29   2.46    270     18  301.6  309.4  302.0\\n  753.0   2431    6.0  -10.0     31   2.39    265     22  302.7  310.4  303.2\\n  752.4   2438    5.9  -10.0     31   2.39    265     22  302.7  310.4  303.2\\n  724.5   2743    3.4  -10.5     35   2.38    265     28  303.2  310.8  303.6\\n  700.0   3022    1.0  -11.0     40   2.37    265     31  303.6  311.2  304.0\\n  646.0   3658   -4.7  -12.6     54   2.27    265     37  304.2  311.5  304.6\\n  635.0   3794   -5.9  -12.9     58   2.24    269     40  304.3  311.5  304.7\\n  625.0   3918   -6.3  -15.3     49   1.87    274     43  305.2  311.3  305.6\\n  621.5   3962   -5.7  -19.4     33   1.33    275     44  306.4  310.8  306.6\\n  619.0   3993   -5.3  -22.3     25   1.04    276     44  307.2  310.7  307.4\\n  605.0   4172   -5.7  -26.7     17   0.72    278     41  308.7  311.3  308.9\\n  597.6   4267   -6.5  -26.7     18   0.73    280     40  308.9  311.5  309.1\\n  551.7   4877  -11.4  -26.6     27   0.79    285     36  310.2  313.0  310.4\\n  500.0   5630  -17.5  -26.5     45   0.88    265     30  311.6  314.7  311.8\\n  469.6   6096  -21.4  -28.2     55   0.81    265     29  312.4  315.3  312.6\\n  460.0   6249  -22.7  -28.7     58   0.78    263     30  312.7  315.4  312.8\\n  414.1   7010  -28.1  -34.1     56   0.52    255     33  315.2  317.1  315.3\\n  400.0   7260  -29.9  -35.9     56   0.45    260     40  316.1  317.7  316.1\\n  390.0   7440  -31.3  -36.3     61   0.44    260     44  316.5  318.1  316.6\\n  380.1   7620  -32.7  -36.9     66   0.43    260     48  317.1  318.6  317.1\\n  344.0   8317  -37.9  -39.2     88   0.37    260     58  319.1  320.5  319.2\\n  318.6   8839  -40.7  -43.1     78   0.27    260     65  322.3  323.3  322.3\\n  304.7   9144  -42.3  -45.3     72   0.22    265     83  324.1  325.0  324.2\\n  300.0   9250  -42.9  -46.1     71   0.20    265     89  324.8  325.6  324.8\\n  284.0   9619  -44.5  -49.2     59   0.15    265    107  327.6  328.2  327.6\\n  278.3   9754  -45.8  -51.0     55   0.13    265    114  327.7  328.2  327.8\\n  261.0  10179  -49.7  -56.7     44   0.07    265    116  328.0  328.3  328.0\\n  258.0  10255  -50.5  -57.2     45   0.07    265    116  328.0  328.2  328.0\\n  253.8  10363  -51.5  -57.9     46   0.06    265    116  327.9  328.2  327.9\\n  250.0  10460  -52.5  -58.5     48   0.06    265    115  327.9  328.1  327.9\\n  242.0  10668  -54.3  -58.9     57   0.06    265    114  328.2  328.5  328.3\\n  200.0  11860  -62.9  -68.9     44   0.02    265    103  333.0  333.1  333.0\\n  193.0  12080  -64.5  -70.5     43   0.01    265    105  333.9  333.9  333.9\\n  161.0  13192  -64.7  -73.7     28   0.01    269     96  351.3  351.3  351.3\\n  150.0  13630  -61.5  -73.5     19   0.01    270     93  363.9  364.0  363.9\\n  141.0  14014  -59.9  -73.9     14   0.01    269     89  373.2  373.3  373.2\\n  123.0  14862  -61.5  -76.5     12   0.01    265     80  385.2  385.2  385.2\\n  121.6  14935  -60.4  -75.9     11   0.01    265     79  388.5  388.5  388.5\\n  115.8  15240  -55.8  -73.5      9   0.02    280     53  402.4  402.5  402.4\\n  115.0  15284  -55.1  -73.1      9   0.02    282     50  404.5  404.6  404.5\\n  110.4  15545  -55.8  -74.8      8   0.01    295     33  408.0  408.1  408.0\\n  101.0  16107  -57.3  -78.3      5   0.01    230      4  415.6  415.6  415.6\\n  100.2  16154  -57.8  -78.8      5   0.01    225      2  415.6  415.6  415.6\\n  100.0  16170  -57.9  -78.9      5   0.01    140      4  415.6  415.6  415.6\\n   95.5  16459  -59.6  -80.6      5   0.01    130     11  417.7  417.8  417.7\\n   90.9  16764  -61.5  -82.5      5   0.00    130      8  420.0  420.0  420.0\\n   87.5  17001  -62.9  -83.9      4   0.00    178     13  421.7  421.7  421.7\\n   82.4  17374  -60.7  -83.4      4   0.00    255     21  433.6  433.6  433.6\\n   79.0  17635  -59.1  -83.1      3   0.01    272     24  442.1  442.1  442.1\\n   78.5  17678  -59.2  -83.1      3   0.01    275     24  442.8  442.8  442.8\\n   74.7  17983  -59.8  -83.3      3   0.01    260     32  447.8  447.8  447.8\\n   71.2  18288  -60.3  -83.5      3   0.01    270     38  452.9  452.9  452.9\\n   70.0  18390  -60.5  -83.5      3   0.01    270     38  454.6  454.6  454.6\\n   60.0  19358  -57.9  -83.9      2   0.01    313     16  480.9  480.9  480.9\\n   58.6  19507  -58.5  -84.3      2   0.01    320     13  482.9  482.9  482.9\\n   53.0  20136  -60.9  -85.9      2   0.00    307     14  491.3  491.3  491.3\\n   50.0  20500  -59.5  -85.5      2   0.01    300     15  502.8  502.9  502.8\\n   48.2  20726  -59.0  -85.4      2   0.01    300     15  509.1  509.2  509.1\\n   46.0  21031  -58.4  -85.3      2   0.01    340      7  517.7  517.8  517.7\\n   43.8  21336  -57.8  -85.2      2   0.01    355      8  526.5  526.5  526.5\\n   41.7  21641  -57.2  -85.1      2   0.01      5      8  535.3  535.4  535.4\\n   41.5  21673  -57.1  -85.1      2   0.01      8      8  536.3  536.3  536.3\\n   39.7  21946  -57.3  -85.2      2   0.01     35      6  542.4  542.5  542.4\\n   37.9  22250  -57.5  -85.3      2   0.01    345     10  549.3  549.4  549.3\\n   36.1  22555  -57.8  -85.4      2   0.01     10     13  556.4  556.4  556.4\\n   31.2  23470  -58.5  -85.6      2   0.01     70     11  578.0  578.0  578.0\\n   30.0  23720  -58.7  -85.7      2   0.01     70     11  584.0  584.1  584.0\\n   29.4  23846  -59.3  -86.3      2   0.01     68     10  585.8  585.8  585.8\\n   28.3  24079  -58.7  -86.2      2   0.01     65      8  593.7  593.8  593.7\\n   27.0  24384  -57.9  -86.0      2   0.01     50      4  604.2  604.3  604.2\\n   25.7  24689  -57.1  -85.8      1   0.01      0     15  615.0  615.0  615.0\\n   23.4  25283  -55.5  -85.5      1   0.01     29     21  636.4  636.5  636.4\\n   23.3  25298  -55.5  -85.5      1   0.01     30     21  636.8  636.9  636.8\\n   20.2  26213  -55.5  -85.5      1   0.01     40     14  663.5  663.7  663.5\\n   20.0  26280  -55.5  -85.5      1   0.01     50     13  665.5  665.7  665.5\\n   19.3  26518  -56.1  -86.1      1   0.01     60     12  670.9  671.0  670.9\\n   18.5  26776  -56.7  -86.7      1   0.01     43     11  676.8  676.9  676.8\\n   18.4  26822  -56.6  -86.7      1   0.01     40     11  678.4  678.5  678.4\\n   17.5  27127  -56.2  -86.4      1   0.01     60     10  689.0  689.2  689.0\\n   16.7  27432  -55.8  -86.2      1   0.01     45     12  699.8  700.0  699.8\\n   15.9  27737  -55.4  -86.0      1   0.02     70      9  710.8  711.0  710.8\\n   14.5  28346  -54.6  -85.5      1   0.02    125      9  733.2  733.4  733.2\\n   14.3  28417  -54.5  -85.5      1   0.02    125      8  735.9  736.1  735.9\\n   13.2  28956  -51.1  -85.1      1   0.02    125      2  765.2  765.5  765.2\\n   13.2  28934  -51.1  -85.1      1   0.02    125      2  764.6  764.9  764.6\\n   10.9  30175  -52.8  -85.4      1   0.03    255      9  801.6  802.0  801.6\\n   10.4  30480  -53.2  -85.4      1   0.03    270      4  811.0  811.3  811.0\\n   10.0  30730  -53.5  -85.5      1   0.03    345      5  818.8  819.1  818.8\\n    9.9  30785  -53.4  -85.7      1   0.03    345      5  821.0  821.3  821.0\\n    9.7  30926  -53.3  -86.3      1   0.02                826.7  827.0  826.7\\n    9.6  30993  -52.9  -85.9      1   0.03                830.6  831.0  830.6\\n</PRE><H3>Station information and sounding indices</H3><PRE>\\n                         Station identifier: DNR\\n                             Station number: 72469\\n                           Observation time: 191208/1200\\n                           Station latitude: 39.77\\n                          Station longitude: -104.87\\n                          Station elevation: 1611.0\\n                               Lifted index: 6.38\\n    LIFT computed using virtual temperature: 6.35\\n      Convective Available Potential Energy: 0.00\\n             CAPE using virtual temperature: 0.00\\n                      Convective Inhibition: 0.00\\n             CINS using virtual temperature: 0.00\\n                     Bulk Richardson Number: 0.00\\n          Bulk Richardson Number using CAPV: 0.00\\n  Temp [K] of the Lifted Condensation Level: 262.71\\nPres [hPa] of the Lifted Condensation Level: 635.51\\n   Equivalent potential temp [K] of the LCL: 307.57\\n     Mean mixed layer potential temperature: 299.07\\n              Mean mixed layer mixing ratio: 2.76\\n              1000 hPa to 500 hPa thickness: 5544.00\\nPrecipitable water [mm] for entire sounding: 7.39\\n</PRE>\\n<P>Description of the \\n<A HREF=\"/upperair/columns.html\">data columns</A>\\nor <A HREF=\"/upperair/indices.html\">sounding indices</A>.\\n\\n<P>\\n<FORM>\\n<INPUT CLASS=\"button\" TYPE=\"button\" VALUE=\" Close this window \" \\n onClick=\"window.close();\">\\n<INPUT CLASS=\"button\" TYPE=\"button\" VALUE=\" Select another map \" \\n onClick=\"window.blur();\">\\n</FORM>\\n<HR SIZE=\"1\">\\n<I>Interested in graduate studies in atmospheric science?\\nCheck out our program at the\\n<a href=\"http://www.uwyo.edu/atsc/howtoapply/\"\\ntarget=_top>University of Wyoming\\n</a></I>\\n<HR SIZE=\"1\"><FONT SIZE=\"-1\">\\nQuestions about the weather data provided by this site can be\\naddressed to <A HREF=\"mailto:ldoolman@uwyo.edu\">\\nLarry Oolman (ldoolman@uwyo.edu)</A></FONT>\\n<HR SIZE=\"1\">\\n<SCRIPT TYPE=\"text/javascript\">\\n<!--\\nwindow.focus();\\n// -->\\n</SCRIPT>\\n</BODY>\\n</HTML>\\n'"
      ]
     },
     "execution_count": 3,
     "metadata": {},
     "output_type": "execute_result"
    }
   ],
   "source": [
    "contents = request.urlopen(url).read()\n",
    "contents"
   ]
  },
  {
   "cell_type": "code",
   "execution_count": 4,
   "metadata": {},
   "outputs": [
    {
     "data": {
      "text/plain": [
       "bytes"
      ]
     },
     "execution_count": 4,
     "metadata": {},
     "output_type": "execute_result"
    }
   ],
   "source": [
    "type(contents)"
   ]
  },
  {
   "cell_type": "code",
   "execution_count": 5,
   "metadata": {},
   "outputs": [
    {
     "data": {
      "text/plain": [
       "60"
      ]
     },
     "execution_count": 5,
     "metadata": {},
     "output_type": "execute_result"
    }
   ],
   "source": [
    "contents[0]"
   ]
  },
  {
   "cell_type": "code",
   "execution_count": 6,
   "metadata": {},
   "outputs": [
    {
     "data": {
      "text/plain": [
       "'b'"
      ]
     },
     "execution_count": 6,
     "metadata": {},
     "output_type": "execute_result"
    }
   ],
   "source": [
    "str(contents)[0]"
   ]
  },
  {
   "cell_type": "code",
   "execution_count": 7,
   "metadata": {},
   "outputs": [],
   "source": [
    "contents_decoded = contents.decode()"
   ]
  },
  {
   "cell_type": "code",
   "execution_count": 8,
   "metadata": {},
   "outputs": [
    {
     "data": {
      "text/plain": [
       "str"
      ]
     },
     "execution_count": 8,
     "metadata": {},
     "output_type": "execute_result"
    }
   ],
   "source": [
    "type(contents_decoded)"
   ]
  },
  {
   "cell_type": "code",
   "execution_count": 9,
   "metadata": {},
   "outputs": [
    {
     "data": {
      "text/plain": [
       "'<HTML>\\n<TITLE>University of Wyoming - Radiosonde Data</TITLE>\\n<BODY BGCOLOR=\"white\">\\n<H2>72469 DNR Denver Observations at 12Z 08 Dec 2019</H2>\\n<PRE>\\n-----------------------------------------------------------------------------\\n   PRES   HGHT   TEMP   DWPT   RELH   MIXR   DRCT   SKNT   THTA   THTE   THTV\\n    hPa     m      C      C      %    g/kg    deg   knot     K      K      K \\n-----------------------------------------------------------------------------\\n 1000.0     86                                                               \\n  925.0    740                                                               \\n  850.0   1435                                                               \\n  832.0   1611    2.8   -4.2     60   3.38    190      8  290.8  300.9  291.4\\n  827.0   1660    6.2   -3.8     49   3.51    193      8  294.9  305.6  295.6\\n  812.0   1811    9.8   -8.2     27   2.55    204      7  300.3  308.4  300.8\\n  810.2   1829    9.7   -8.2     27   2.54    205      7  300.4  308.4  300.8\\n  780.7   2134    7.8   -9.1     29   2.46    270     18  301.6  309.4  302.0\\n  753.0   2431    6.0  -10.0     31   2.39    265     22  302.7  310.4  303.2\\n  752.4   2438    5.9  -10.0     31   2.39    265     22  302.7  310.4  303.2\\n  724.5   2743    3.4  -10.5     35   2.38    265     28  303.2  310.8  303.6\\n  700.0   3022    1.0  -11.0     40   2.37    265     31  303.6  311.2  304.0\\n  646.0   3658   -4.7  -12.6     54   2.27    265     37  304.2  311.5  304.6\\n  635.0   3794   -5.9  -12.9     58   2.24    269     40  304.3  311.5  304.7\\n  625.0   3918   -6.3  -15.3     49   1.87    274     43  305.2  311.3  305.6\\n  621.5   3962   -5.7  -19.4     33   1.33    275     44  306.4  310.8  306.6\\n  619.0   3993   -5.3  -22.3     25   1.04    276     44  307.2  310.7  307.4\\n  605.0   4172   -5.7  -26.7     17   0.72    278     41  308.7  311.3  308.9\\n  597.6   4267   -6.5  -26.7     18   0.73    280     40  308.9  311.5  309.1\\n  551.7   4877  -11.4  -26.6     27   0.79    285     36  310.2  313.0  310.4\\n  500.0   5630  -17.5  -26.5     45   0.88    265     30  311.6  314.7  311.8\\n  469.6   6096  -21.4  -28.2     55   0.81    265     29  312.4  315.3  312.6\\n  460.0   6249  -22.7  -28.7     58   0.78    263     30  312.7  315.4  312.8\\n  414.1   7010  -28.1  -34.1     56   0.52    255     33  315.2  317.1  315.3\\n  400.0   7260  -29.9  -35.9     56   0.45    260     40  316.1  317.7  316.1\\n  390.0   7440  -31.3  -36.3     61   0.44    260     44  316.5  318.1  316.6\\n  380.1   7620  -32.7  -36.9     66   0.43    260     48  317.1  318.6  317.1\\n  344.0   8317  -37.9  -39.2     88   0.37    260     58  319.1  320.5  319.2\\n  318.6   8839  -40.7  -43.1     78   0.27    260     65  322.3  323.3  322.3\\n  304.7   9144  -42.3  -45.3     72   0.22    265     83  324.1  325.0  324.2\\n  300.0   9250  -42.9  -46.1     71   0.20    265     89  324.8  325.6  324.8\\n  284.0   9619  -44.5  -49.2     59   0.15    265    107  327.6  328.2  327.6\\n  278.3   9754  -45.8  -51.0     55   0.13    265    114  327.7  328.2  327.8\\n  261.0  10179  -49.7  -56.7     44   0.07    265    116  328.0  328.3  328.0\\n  258.0  10255  -50.5  -57.2     45   0.07    265    116  328.0  328.2  328.0\\n  253.8  10363  -51.5  -57.9     46   0.06    265    116  327.9  328.2  327.9\\n  250.0  10460  -52.5  -58.5     48   0.06    265    115  327.9  328.1  327.9\\n  242.0  10668  -54.3  -58.9     57   0.06    265    114  328.2  328.5  328.3\\n  200.0  11860  -62.9  -68.9     44   0.02    265    103  333.0  333.1  333.0\\n  193.0  12080  -64.5  -70.5     43   0.01    265    105  333.9  333.9  333.9\\n  161.0  13192  -64.7  -73.7     28   0.01    269     96  351.3  351.3  351.3\\n  150.0  13630  -61.5  -73.5     19   0.01    270     93  363.9  364.0  363.9\\n  141.0  14014  -59.9  -73.9     14   0.01    269     89  373.2  373.3  373.2\\n  123.0  14862  -61.5  -76.5     12   0.01    265     80  385.2  385.2  385.2\\n  121.6  14935  -60.4  -75.9     11   0.01    265     79  388.5  388.5  388.5\\n  115.8  15240  -55.8  -73.5      9   0.02    280     53  402.4  402.5  402.4\\n  115.0  15284  -55.1  -73.1      9   0.02    282     50  404.5  404.6  404.5\\n  110.4  15545  -55.8  -74.8      8   0.01    295     33  408.0  408.1  408.0\\n  101.0  16107  -57.3  -78.3      5   0.01    230      4  415.6  415.6  415.6\\n  100.2  16154  -57.8  -78.8      5   0.01    225      2  415.6  415.6  415.6\\n  100.0  16170  -57.9  -78.9      5   0.01    140      4  415.6  415.6  415.6\\n   95.5  16459  -59.6  -80.6      5   0.01    130     11  417.7  417.8  417.7\\n   90.9  16764  -61.5  -82.5      5   0.00    130      8  420.0  420.0  420.0\\n   87.5  17001  -62.9  -83.9      4   0.00    178     13  421.7  421.7  421.7\\n   82.4  17374  -60.7  -83.4      4   0.00    255     21  433.6  433.6  433.6\\n   79.0  17635  -59.1  -83.1      3   0.01    272     24  442.1  442.1  442.1\\n   78.5  17678  -59.2  -83.1      3   0.01    275     24  442.8  442.8  442.8\\n   74.7  17983  -59.8  -83.3      3   0.01    260     32  447.8  447.8  447.8\\n   71.2  18288  -60.3  -83.5      3   0.01    270     38  452.9  452.9  452.9\\n   70.0  18390  -60.5  -83.5      3   0.01    270     38  454.6  454.6  454.6\\n   60.0  19358  -57.9  -83.9      2   0.01    313     16  480.9  480.9  480.9\\n   58.6  19507  -58.5  -84.3      2   0.01    320     13  482.9  482.9  482.9\\n   53.0  20136  -60.9  -85.9      2   0.00    307     14  491.3  491.3  491.3\\n   50.0  20500  -59.5  -85.5      2   0.01    300     15  502.8  502.9  502.8\\n   48.2  20726  -59.0  -85.4      2   0.01    300     15  509.1  509.2  509.1\\n   46.0  21031  -58.4  -85.3      2   0.01    340      7  517.7  517.8  517.7\\n   43.8  21336  -57.8  -85.2      2   0.01    355      8  526.5  526.5  526.5\\n   41.7  21641  -57.2  -85.1      2   0.01      5      8  535.3  535.4  535.4\\n   41.5  21673  -57.1  -85.1      2   0.01      8      8  536.3  536.3  536.3\\n   39.7  21946  -57.3  -85.2      2   0.01     35      6  542.4  542.5  542.4\\n   37.9  22250  -57.5  -85.3      2   0.01    345     10  549.3  549.4  549.3\\n   36.1  22555  -57.8  -85.4      2   0.01     10     13  556.4  556.4  556.4\\n   31.2  23470  -58.5  -85.6      2   0.01     70     11  578.0  578.0  578.0\\n   30.0  23720  -58.7  -85.7      2   0.01     70     11  584.0  584.1  584.0\\n   29.4  23846  -59.3  -86.3      2   0.01     68     10  585.8  585.8  585.8\\n   28.3  24079  -58.7  -86.2      2   0.01     65      8  593.7  593.8  593.7\\n   27.0  24384  -57.9  -86.0      2   0.01     50      4  604.2  604.3  604.2\\n   25.7  24689  -57.1  -85.8      1   0.01      0     15  615.0  615.0  615.0\\n   23.4  25283  -55.5  -85.5      1   0.01     29     21  636.4  636.5  636.4\\n   23.3  25298  -55.5  -85.5      1   0.01     30     21  636.8  636.9  636.8\\n   20.2  26213  -55.5  -85.5      1   0.01     40     14  663.5  663.7  663.5\\n   20.0  26280  -55.5  -85.5      1   0.01     50     13  665.5  665.7  665.5\\n   19.3  26518  -56.1  -86.1      1   0.01     60     12  670.9  671.0  670.9\\n   18.5  26776  -56.7  -86.7      1   0.01     43     11  676.8  676.9  676.8\\n   18.4  26822  -56.6  -86.7      1   0.01     40     11  678.4  678.5  678.4\\n   17.5  27127  -56.2  -86.4      1   0.01     60     10  689.0  689.2  689.0\\n   16.7  27432  -55.8  -86.2      1   0.01     45     12  699.8  700.0  699.8\\n   15.9  27737  -55.4  -86.0      1   0.02     70      9  710.8  711.0  710.8\\n   14.5  28346  -54.6  -85.5      1   0.02    125      9  733.2  733.4  733.2\\n   14.3  28417  -54.5  -85.5      1   0.02    125      8  735.9  736.1  735.9\\n   13.2  28956  -51.1  -85.1      1   0.02    125      2  765.2  765.5  765.2\\n   13.2  28934  -51.1  -85.1      1   0.02    125      2  764.6  764.9  764.6\\n   10.9  30175  -52.8  -85.4      1   0.03    255      9  801.6  802.0  801.6\\n   10.4  30480  -53.2  -85.4      1   0.03    270      4  811.0  811.3  811.0\\n   10.0  30730  -53.5  -85.5      1   0.03    345      5  818.8  819.1  818.8\\n    9.9  30785  -53.4  -85.7      1   0.03    345      5  821.0  821.3  821.0\\n    9.7  30926  -53.3  -86.3      1   0.02                826.7  827.0  826.7\\n    9.6  30993  -52.9  -85.9      1   0.03                830.6  831.0  830.6\\n</PRE><H3>Station information and sounding indices</H3><PRE>\\n                         Station identifier: DNR\\n                             Station number: 72469\\n                           Observation time: 191208/1200\\n                           Station latitude: 39.77\\n                          Station longitude: -104.87\\n                          Station elevation: 1611.0\\n                               Lifted index: 6.38\\n    LIFT computed using virtual temperature: 6.35\\n      Convective Available Potential Energy: 0.00\\n             CAPE using virtual temperature: 0.00\\n                      Convective Inhibition: 0.00\\n             CINS using virtual temperature: 0.00\\n                     Bulk Richardson Number: 0.00\\n          Bulk Richardson Number using CAPV: 0.00\\n  Temp [K] of the Lifted Condensation Level: 262.71\\nPres [hPa] of the Lifted Condensation Level: 635.51\\n   Equivalent potential temp [K] of the LCL: 307.57\\n     Mean mixed layer potential temperature: 299.07\\n              Mean mixed layer mixing ratio: 2.76\\n              1000 hPa to 500 hPa thickness: 5544.00\\nPrecipitable water [mm] for entire sounding: 7.39\\n</PRE>\\n<P>Description of the \\n<A HREF=\"/upperair/columns.html\">data columns</A>\\nor <A HREF=\"/upperair/indices.html\">sounding indices</A>.\\n\\n<P>\\n<FORM>\\n<INPUT CLASS=\"button\" TYPE=\"button\" VALUE=\" Close this window \" \\n onClick=\"window.close();\">\\n<INPUT CLASS=\"button\" TYPE=\"button\" VALUE=\" Select another map \" \\n onClick=\"window.blur();\">\\n</FORM>\\n<HR SIZE=\"1\">\\n<I>Interested in graduate studies in atmospheric science?\\nCheck out our program at the\\n<a href=\"http://www.uwyo.edu/atsc/howtoapply/\"\\ntarget=_top>University of Wyoming\\n</a></I>\\n<HR SIZE=\"1\"><FONT SIZE=\"-1\">\\nQuestions about the weather data provided by this site can be\\naddressed to <A HREF=\"mailto:ldoolman@uwyo.edu\">\\nLarry Oolman (ldoolman@uwyo.edu)</A></FONT>\\n<HR SIZE=\"1\">\\n<SCRIPT TYPE=\"text/javascript\">\\n<!--\\nwindow.focus();\\n// -->\\n</SCRIPT>\\n</BODY>\\n</HTML>\\n'"
      ]
     },
     "execution_count": 9,
     "metadata": {},
     "output_type": "execute_result"
    }
   ],
   "source": [
    "contents_decoded"
   ]
  },
  {
   "cell_type": "code",
   "execution_count": 10,
   "metadata": {},
   "outputs": [
    {
     "data": {
      "text/plain": [
       "'Temperature = 20°C'"
      ]
     },
     "execution_count": 10,
     "metadata": {},
     "output_type": "execute_result"
    }
   ],
   "source": [
    "my_data = 'Temperature = 20\\N{DEGREE SIGN}C'\n",
    "my_data"
   ]
  },
  {
   "cell_type": "code",
   "execution_count": 11,
   "metadata": {},
   "outputs": [
    {
     "data": {
      "text/plain": [
       "str"
      ]
     },
     "execution_count": 11,
     "metadata": {},
     "output_type": "execute_result"
    }
   ],
   "source": [
    "type(my_data)"
   ]
  },
  {
   "cell_type": "code",
   "execution_count": 12,
   "metadata": {},
   "outputs": [
    {
     "data": {
      "text/plain": [
       "b'Temperature = 20\\xc2\\xb0C'"
      ]
     },
     "execution_count": 12,
     "metadata": {},
     "output_type": "execute_result"
    }
   ],
   "source": [
    "encoded = my_data.encode()\n",
    "encoded"
   ]
  },
  {
   "cell_type": "code",
   "execution_count": 13,
   "metadata": {},
   "outputs": [
    {
     "data": {
      "text/plain": [
       "'Temperature = 20°C'"
      ]
     },
     "execution_count": 13,
     "metadata": {},
     "output_type": "execute_result"
    }
   ],
   "source": [
    "encoded.decode()"
   ]
  },
  {
   "cell_type": "code",
   "execution_count": 14,
   "metadata": {},
   "outputs": [
    {
     "data": {
      "text/plain": [
       "'Temperature = 20ยฐC'"
      ]
     },
     "execution_count": 14,
     "metadata": {},
     "output_type": "execute_result"
    }
   ],
   "source": [
    "encoded.decode('iso-8859-11')"
   ]
  }
 ],
 "metadata": {
  "kernelspec": {
   "display_name": "Python 3.9.12 ('base')",
   "language": "python",
   "name": "python3"
  },
  "language_info": {
   "codemirror_mode": {
    "name": "ipython",
    "version": 3
   },
   "file_extension": ".py",
   "mimetype": "text/x-python",
   "name": "python",
   "nbconvert_exporter": "python",
   "pygments_lexer": "ipython3",
   "version": "3.9.12"
  },
  "orig_nbformat": 4,
  "vscode": {
   "interpreter": {
    "hash": "b5cfa023891fceef02537f80a4c6e95b77988fb973cdb16a51cdb785092210be"
   }
  }
 },
 "nbformat": 4,
 "nbformat_minor": 2
}
