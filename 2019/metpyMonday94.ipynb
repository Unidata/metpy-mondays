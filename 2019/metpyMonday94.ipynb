{
 "cells": [
  {
   "cell_type": "markdown",
   "metadata": {},
   "source": [
    "## 94 - Pandas Column Cleanup\n",
    "\n",
    "\n",
    "[Youtube](https://www.youtube.com/watch?v=ncpYohRYG3I)"
   ]
  },
  {
   "cell_type": "code",
   "execution_count": 1,
   "metadata": {},
   "outputs": [],
   "source": [
    "import pandas as pd"
   ]
  },
  {
   "cell_type": "code",
   "execution_count": 2,
   "metadata": {},
   "outputs": [],
   "source": [
    "data_url = 'http://www.mesonet.org/data/basic/mesonet/mts/2019/08/17/20190817nrmn.mts'"
   ]
  },
  {
   "cell_type": "code",
   "execution_count": 3,
   "metadata": {},
   "outputs": [],
   "source": [
    "df = pd.read_csv(data_url, skiprows = 2, delim_whitespace = True)"
   ]
  },
  {
   "cell_type": "code",
   "execution_count": 4,
   "metadata": {},
   "outputs": [
    {
     "data": {
      "text/plain": [
       "Index(['STID', 'STNM', 'TIME', 'RELH', 'TAIR', 'WSPD', 'WVEC', 'WDIR', 'WDSD',\n",
       "       'WSSD', 'WMAX', 'RAIN', 'PRES', 'SRAD', 'TA9M', 'WS2M', 'TS10', 'TB10',\n",
       "       'TS05', 'TS25', 'TS60', 'TR05', 'TR25', 'TR60'],\n",
       "      dtype='object')"
      ]
     },
     "execution_count": 4,
     "metadata": {},
     "output_type": "execute_result"
    }
   ],
   "source": [
    "df.columns"
   ]
  },
  {
   "cell_type": "code",
   "execution_count": 5,
   "metadata": {},
   "outputs": [],
   "source": [
    "df.drop(['STID', 'STNM', 'WVEC', 'WDSD', 'WSSD', 'WMAX', 'TA9M', 'WS2M', 'TS10', 'TB10', 'TS05', 'TS25', 'TS60', 'TR05', 'TR25', 'TR60'], axis = 'columns', inplace = True)"
   ]
  },
  {
   "cell_type": "code",
   "execution_count": 6,
   "metadata": {},
   "outputs": [
    {
     "data": {
      "text/html": [
       "<div>\n",
       "<style scoped>\n",
       "    .dataframe tbody tr th:only-of-type {\n",
       "        vertical-align: middle;\n",
       "    }\n",
       "\n",
       "    .dataframe tbody tr th {\n",
       "        vertical-align: top;\n",
       "    }\n",
       "\n",
       "    .dataframe thead th {\n",
       "        text-align: right;\n",
       "    }\n",
       "</style>\n",
       "<table border=\"1\" class=\"dataframe\">\n",
       "  <thead>\n",
       "    <tr style=\"text-align: right;\">\n",
       "      <th></th>\n",
       "      <th>TIME</th>\n",
       "      <th>RELH</th>\n",
       "      <th>TAIR</th>\n",
       "      <th>WSPD</th>\n",
       "      <th>WDIR</th>\n",
       "      <th>RAIN</th>\n",
       "      <th>PRES</th>\n",
       "      <th>SRAD</th>\n",
       "    </tr>\n",
       "  </thead>\n",
       "  <tbody>\n",
       "    <tr>\n",
       "      <th>0</th>\n",
       "      <td>0</td>\n",
       "      <td>41</td>\n",
       "      <td>35.1</td>\n",
       "      <td>6.4</td>\n",
       "      <td>167</td>\n",
       "      <td>0.0</td>\n",
       "      <td>967.55</td>\n",
       "      <td>193</td>\n",
       "    </tr>\n",
       "    <tr>\n",
       "      <th>1</th>\n",
       "      <td>5</td>\n",
       "      <td>41</td>\n",
       "      <td>34.9</td>\n",
       "      <td>6.2</td>\n",
       "      <td>162</td>\n",
       "      <td>0.0</td>\n",
       "      <td>967.56</td>\n",
       "      <td>177</td>\n",
       "    </tr>\n",
       "    <tr>\n",
       "      <th>2</th>\n",
       "      <td>10</td>\n",
       "      <td>41</td>\n",
       "      <td>34.8</td>\n",
       "      <td>6.5</td>\n",
       "      <td>159</td>\n",
       "      <td>0.0</td>\n",
       "      <td>967.58</td>\n",
       "      <td>163</td>\n",
       "    </tr>\n",
       "    <tr>\n",
       "      <th>3</th>\n",
       "      <td>15</td>\n",
       "      <td>41</td>\n",
       "      <td>34.7</td>\n",
       "      <td>6.0</td>\n",
       "      <td>158</td>\n",
       "      <td>0.0</td>\n",
       "      <td>967.60</td>\n",
       "      <td>151</td>\n",
       "    </tr>\n",
       "    <tr>\n",
       "      <th>4</th>\n",
       "      <td>20</td>\n",
       "      <td>41</td>\n",
       "      <td>34.6</td>\n",
       "      <td>6.0</td>\n",
       "      <td>156</td>\n",
       "      <td>0.0</td>\n",
       "      <td>967.60</td>\n",
       "      <td>136</td>\n",
       "    </tr>\n",
       "  </tbody>\n",
       "</table>\n",
       "</div>"
      ],
      "text/plain": [
       "   TIME  RELH  TAIR  WSPD  WDIR  RAIN    PRES  SRAD\n",
       "0     0    41  35.1   6.4   167   0.0  967.55   193\n",
       "1     5    41  34.9   6.2   162   0.0  967.56   177\n",
       "2    10    41  34.8   6.5   159   0.0  967.58   163\n",
       "3    15    41  34.7   6.0   158   0.0  967.60   151\n",
       "4    20    41  34.6   6.0   156   0.0  967.60   136"
      ]
     },
     "execution_count": 6,
     "metadata": {},
     "output_type": "execute_result"
    }
   ],
   "source": [
    "df.head()"
   ]
  },
  {
   "cell_type": "code",
   "execution_count": 7,
   "metadata": {},
   "outputs": [
    {
     "data": {
      "text/plain": [
       "Index(['TIME', 'RELH', 'TAIR', 'WSPD', 'WDIR', 'RAIN', 'PRES', 'SRAD'], dtype='object')"
      ]
     },
     "execution_count": 7,
     "metadata": {},
     "output_type": "execute_result"
    }
   ],
   "source": [
    "df.columns"
   ]
  },
  {
   "cell_type": "code",
   "execution_count": 8,
   "metadata": {},
   "outputs": [],
   "source": [
    "name_mapping = {'TIME': 'Time', 'RELH': 'Relative Humidity', 'TAIR': 'Air Temperature', 'WSPD': 'Wind Speed', 'WDIR': 'Wind Direction', 'RAIN': 'Rain', 'PRES': 'Pressure', 'SRAD': 'Solar Radiation', 'STEMP': 'Soil Temperature'}"
   ]
  },
  {
   "cell_type": "code",
   "execution_count": 9,
   "metadata": {},
   "outputs": [],
   "source": [
    "df.rename(columns = name_mapping, inplace = True)"
   ]
  },
  {
   "cell_type": "code",
   "execution_count": 10,
   "metadata": {},
   "outputs": [
    {
     "data": {
      "text/html": [
       "<div>\n",
       "<style scoped>\n",
       "    .dataframe tbody tr th:only-of-type {\n",
       "        vertical-align: middle;\n",
       "    }\n",
       "\n",
       "    .dataframe tbody tr th {\n",
       "        vertical-align: top;\n",
       "    }\n",
       "\n",
       "    .dataframe thead th {\n",
       "        text-align: right;\n",
       "    }\n",
       "</style>\n",
       "<table border=\"1\" class=\"dataframe\">\n",
       "  <thead>\n",
       "    <tr style=\"text-align: right;\">\n",
       "      <th></th>\n",
       "      <th>Time</th>\n",
       "      <th>Relative Humidity</th>\n",
       "      <th>Air Temperature</th>\n",
       "      <th>Wind Speed</th>\n",
       "      <th>Wind Direction</th>\n",
       "      <th>Rain</th>\n",
       "      <th>Pressure</th>\n",
       "      <th>Solar Radiation</th>\n",
       "    </tr>\n",
       "  </thead>\n",
       "  <tbody>\n",
       "    <tr>\n",
       "      <th>0</th>\n",
       "      <td>0</td>\n",
       "      <td>41</td>\n",
       "      <td>35.1</td>\n",
       "      <td>6.4</td>\n",
       "      <td>167</td>\n",
       "      <td>0.0</td>\n",
       "      <td>967.55</td>\n",
       "      <td>193</td>\n",
       "    </tr>\n",
       "    <tr>\n",
       "      <th>1</th>\n",
       "      <td>5</td>\n",
       "      <td>41</td>\n",
       "      <td>34.9</td>\n",
       "      <td>6.2</td>\n",
       "      <td>162</td>\n",
       "      <td>0.0</td>\n",
       "      <td>967.56</td>\n",
       "      <td>177</td>\n",
       "    </tr>\n",
       "    <tr>\n",
       "      <th>2</th>\n",
       "      <td>10</td>\n",
       "      <td>41</td>\n",
       "      <td>34.8</td>\n",
       "      <td>6.5</td>\n",
       "      <td>159</td>\n",
       "      <td>0.0</td>\n",
       "      <td>967.58</td>\n",
       "      <td>163</td>\n",
       "    </tr>\n",
       "    <tr>\n",
       "      <th>3</th>\n",
       "      <td>15</td>\n",
       "      <td>41</td>\n",
       "      <td>34.7</td>\n",
       "      <td>6.0</td>\n",
       "      <td>158</td>\n",
       "      <td>0.0</td>\n",
       "      <td>967.60</td>\n",
       "      <td>151</td>\n",
       "    </tr>\n",
       "    <tr>\n",
       "      <th>4</th>\n",
       "      <td>20</td>\n",
       "      <td>41</td>\n",
       "      <td>34.6</td>\n",
       "      <td>6.0</td>\n",
       "      <td>156</td>\n",
       "      <td>0.0</td>\n",
       "      <td>967.60</td>\n",
       "      <td>136</td>\n",
       "    </tr>\n",
       "  </tbody>\n",
       "</table>\n",
       "</div>"
      ],
      "text/plain": [
       "   Time  Relative Humidity  Air Temperature  Wind Speed  Wind Direction  Rain  \\\n",
       "0     0                 41             35.1         6.4             167   0.0   \n",
       "1     5                 41             34.9         6.2             162   0.0   \n",
       "2    10                 41             34.8         6.5             159   0.0   \n",
       "3    15                 41             34.7         6.0             158   0.0   \n",
       "4    20                 41             34.6         6.0             156   0.0   \n",
       "\n",
       "   Pressure  Solar Radiation  \n",
       "0    967.55              193  \n",
       "1    967.56              177  \n",
       "2    967.58              163  \n",
       "3    967.60              151  \n",
       "4    967.60              136  "
      ]
     },
     "execution_count": 10,
     "metadata": {},
     "output_type": "execute_result"
    }
   ],
   "source": [
    "df.head()"
   ]
  },
  {
   "cell_type": "code",
   "execution_count": 11,
   "metadata": {},
   "outputs": [
    {
     "data": {
      "text/plain": [
       "Index(['Time', 'Relative Humidity', 'Air Temperature', 'Wind Speed',\n",
       "       'Wind Direction', 'Rain', 'Pressure', 'Solar Radiation'],\n",
       "      dtype='object')"
      ]
     },
     "execution_count": 11,
     "metadata": {},
     "output_type": "execute_result"
    }
   ],
   "source": [
    "df.columns"
   ]
  },
  {
   "cell_type": "code",
   "execution_count": 12,
   "metadata": {},
   "outputs": [],
   "source": [
    "df.columns = [col.upper() for col in df.columns]"
   ]
  },
  {
   "cell_type": "code",
   "execution_count": 13,
   "metadata": {},
   "outputs": [],
   "source": [
    "res = []\n",
    "for col in df.columns:\n",
    "\tres.append(col.upper())\n",
    "df.columns = res"
   ]
  },
  {
   "cell_type": "code",
   "execution_count": 14,
   "metadata": {},
   "outputs": [
    {
     "data": {
      "text/html": [
       "<div>\n",
       "<style scoped>\n",
       "    .dataframe tbody tr th:only-of-type {\n",
       "        vertical-align: middle;\n",
       "    }\n",
       "\n",
       "    .dataframe tbody tr th {\n",
       "        vertical-align: top;\n",
       "    }\n",
       "\n",
       "    .dataframe thead th {\n",
       "        text-align: right;\n",
       "    }\n",
       "</style>\n",
       "<table border=\"1\" class=\"dataframe\">\n",
       "  <thead>\n",
       "    <tr style=\"text-align: right;\">\n",
       "      <th></th>\n",
       "      <th>TIME</th>\n",
       "      <th>RELATIVE HUMIDITY</th>\n",
       "      <th>AIR TEMPERATURE</th>\n",
       "      <th>WIND SPEED</th>\n",
       "      <th>WIND DIRECTION</th>\n",
       "      <th>RAIN</th>\n",
       "      <th>PRESSURE</th>\n",
       "      <th>SOLAR RADIATION</th>\n",
       "    </tr>\n",
       "  </thead>\n",
       "  <tbody>\n",
       "    <tr>\n",
       "      <th>0</th>\n",
       "      <td>0</td>\n",
       "      <td>41</td>\n",
       "      <td>35.1</td>\n",
       "      <td>6.4</td>\n",
       "      <td>167</td>\n",
       "      <td>0.0</td>\n",
       "      <td>967.55</td>\n",
       "      <td>193</td>\n",
       "    </tr>\n",
       "    <tr>\n",
       "      <th>1</th>\n",
       "      <td>5</td>\n",
       "      <td>41</td>\n",
       "      <td>34.9</td>\n",
       "      <td>6.2</td>\n",
       "      <td>162</td>\n",
       "      <td>0.0</td>\n",
       "      <td>967.56</td>\n",
       "      <td>177</td>\n",
       "    </tr>\n",
       "    <tr>\n",
       "      <th>2</th>\n",
       "      <td>10</td>\n",
       "      <td>41</td>\n",
       "      <td>34.8</td>\n",
       "      <td>6.5</td>\n",
       "      <td>159</td>\n",
       "      <td>0.0</td>\n",
       "      <td>967.58</td>\n",
       "      <td>163</td>\n",
       "    </tr>\n",
       "    <tr>\n",
       "      <th>3</th>\n",
       "      <td>15</td>\n",
       "      <td>41</td>\n",
       "      <td>34.7</td>\n",
       "      <td>6.0</td>\n",
       "      <td>158</td>\n",
       "      <td>0.0</td>\n",
       "      <td>967.60</td>\n",
       "      <td>151</td>\n",
       "    </tr>\n",
       "    <tr>\n",
       "      <th>4</th>\n",
       "      <td>20</td>\n",
       "      <td>41</td>\n",
       "      <td>34.6</td>\n",
       "      <td>6.0</td>\n",
       "      <td>156</td>\n",
       "      <td>0.0</td>\n",
       "      <td>967.60</td>\n",
       "      <td>136</td>\n",
       "    </tr>\n",
       "  </tbody>\n",
       "</table>\n",
       "</div>"
      ],
      "text/plain": [
       "   TIME  RELATIVE HUMIDITY  AIR TEMPERATURE  WIND SPEED  WIND DIRECTION  RAIN  \\\n",
       "0     0                 41             35.1         6.4             167   0.0   \n",
       "1     5                 41             34.9         6.2             162   0.0   \n",
       "2    10                 41             34.8         6.5             159   0.0   \n",
       "3    15                 41             34.7         6.0             158   0.0   \n",
       "4    20                 41             34.6         6.0             156   0.0   \n",
       "\n",
       "   PRESSURE  SOLAR RADIATION  \n",
       "0    967.55              193  \n",
       "1    967.56              177  \n",
       "2    967.58              163  \n",
       "3    967.60              151  \n",
       "4    967.60              136  "
      ]
     },
     "execution_count": 14,
     "metadata": {},
     "output_type": "execute_result"
    }
   ],
   "source": [
    "df.head()"
   ]
  }
 ],
 "metadata": {
  "kernelspec": {
   "display_name": "Python 3.9.12 ('base')",
   "language": "python",
   "name": "python3"
  },
  "language_info": {
   "codemirror_mode": {
    "name": "ipython",
    "version": 3
   },
   "file_extension": ".py",
   "mimetype": "text/x-python",
   "name": "python",
   "nbconvert_exporter": "python",
   "pygments_lexer": "ipython3",
   "version": "3.9.12"
  },
  "orig_nbformat": 4,
  "vscode": {
   "interpreter": {
    "hash": "b5cfa023891fceef02537f80a4c6e95b77988fb973cdb16a51cdb785092210be"
   }
  }
 },
 "nbformat": 4,
 "nbformat_minor": 2
}
