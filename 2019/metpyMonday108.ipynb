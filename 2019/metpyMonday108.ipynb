{
 "cells": [
  {
   "cell_type": "markdown",
   "metadata": {},
   "source": [
    "## 108 - f-strings and string formatting\n",
    "\n",
    "\n",
    "[Youtube](https://www.youtube.com/watch?v=GtBSBH_rlM4)"
   ]
  },
  {
   "cell_type": "code",
   "execution_count": 1,
   "metadata": {},
   "outputs": [],
   "source": [
    "from datetime import datetime"
   ]
  },
  {
   "cell_type": "code",
   "execution_count": 2,
   "metadata": {},
   "outputs": [],
   "source": [
    "now = datetime.utcnow()\n",
    "temperature = 20\n",
    "humidity = 15.5"
   ]
  },
  {
   "cell_type": "code",
   "execution_count": 3,
   "metadata": {},
   "outputs": [
    {
     "name": "stdout",
     "output_type": "stream",
     "text": [
      "Current weather at 2022-11-24 09 Hours: 20 degC, 15% RH\n"
     ]
    }
   ],
   "source": [
    "current_time_str = datetime.strftime(now, '%Y-%m-%d %H Hours')\n",
    "print('Current weather at %s: %d degC, %d%% RH' %(current_time_str, temperature, humidity))"
   ]
  },
  {
   "cell_type": "code",
   "execution_count": 4,
   "metadata": {},
   "outputs": [
    {
     "name": "stdout",
     "output_type": "stream",
     "text": [
      "Current weather at 2022-11-24 09 Hours: 20 degC, 15.5% RH\n"
     ]
    }
   ],
   "source": [
    "current_time_str = datetime.strftime(now, '%Y-%m-%d %H Hours')\n",
    "print('Current weather at {}: {} degC, {}% RH'.format(current_time_str, temperature, humidity))"
   ]
  },
  {
   "cell_type": "code",
   "execution_count": 5,
   "metadata": {},
   "outputs": [
    {
     "name": "stdout",
     "output_type": "stream",
     "text": [
      "Current weather at 2022-11-24 09 Hours: 20 degC, 15.5% RH\n"
     ]
    }
   ],
   "source": [
    "current_time_str = datetime.strftime(now, '%Y-%m-%d %H Hours')\n",
    "print('Current weather at {time}: {temp} degC, {hum}% RH'.format(time = current_time_str, hum = humidity, temp = temperature))"
   ]
  },
  {
   "cell_type": "code",
   "execution_count": 6,
   "metadata": {},
   "outputs": [
    {
     "name": "stdout",
     "output_type": "stream",
     "text": [
      "Current weather at 2022-11-24 09 Hours: 20 degC, 15.5% RH\n"
     ]
    }
   ],
   "source": [
    "current_time_str = datetime.strftime(now, '%Y-%m-%d %H Hours')\n",
    "print(f'Current weather at {current_time_str}: {temperature} degC, {humidity}% RH')"
   ]
  },
  {
   "cell_type": "code",
   "execution_count": 7,
   "metadata": {},
   "outputs": [
    {
     "name": "stdout",
     "output_type": "stream",
     "text": [
      "Current weather at 2022-11-24 09 Hours: 20.0 degC, 016% RH\n"
     ]
    }
   ],
   "source": [
    "print(f'Current weather at {now:%Y-%m-%d %H Hours}: {temperature:.1f} degC, {humidity:03.0f}% RH')"
   ]
  }
 ],
 "metadata": {
  "kernelspec": {
   "display_name": "Python 3.9.12 ('base')",
   "language": "python",
   "name": "python3"
  },
  "language_info": {
   "codemirror_mode": {
    "name": "ipython",
    "version": 3
   },
   "file_extension": ".py",
   "mimetype": "text/x-python",
   "name": "python",
   "nbconvert_exporter": "python",
   "pygments_lexer": "ipython3",
   "version": "3.9.12"
  },
  "orig_nbformat": 4,
  "vscode": {
   "interpreter": {
    "hash": "b5cfa023891fceef02537f80a4c6e95b77988fb973cdb16a51cdb785092210be"
   }
  }
 },
 "nbformat": 4,
 "nbformat_minor": 2
}
