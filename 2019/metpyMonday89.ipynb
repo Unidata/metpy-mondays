{
 "cells": [
  {
   "attachments": {},
   "cell_type": "markdown",
   "metadata": {},
   "source": [
    "## 89 - SPC Maps with Shapefiles\n",
    "\n",
    "[Youtube](https://www.youtube.com/watch?v=wEtN8o_G0zQ)\n",
    "\n",
    "\n",
    "Go to: https://www.spc.noaa.gov/gis/\n",
    "\n",
    "Download: Day 1 Outlook Shapefiles"
   ]
  },
  {
   "cell_type": "code",
   "execution_count": null,
   "metadata": {},
   "outputs": [],
   "source": [
    "import matplotlib.pyplot as plt\n",
    "import geopandas\n",
    "from cartopy import crs as ccrs\n",
    "import cartopy.feature as cfeature\n",
    "%matplotlib inline"
   ]
  },
  {
   "cell_type": "code",
   "execution_count": null,
   "metadata": {},
   "outputs": [],
   "source": [
    "cat_gdf = geopandas.read_file('./day1otlk-shp/day1otlk_cat.shp')\n",
    "cat_gdf"
   ]
  },
  {
   "cell_type": "code",
   "execution_count": null,
   "metadata": {},
   "outputs": [],
   "source": [
    "cat_gdf.plot()"
   ]
  },
  {
   "cell_type": "code",
   "execution_count": null,
   "metadata": {},
   "outputs": [],
   "source": [
    "cat_gdf.crs"
   ]
  },
  {
   "cell_type": "code",
   "execution_count": null,
   "metadata": {},
   "outputs": [],
   "source": [
    "map_crs = ccrs.LambertConformal(central_latitude = 35, central_longitude = -100, standard_parallels = (30, 60))\n",
    "data_crs = ccrs.LambertConformal(central_latitude = cat_gdf['lat_0'], central_longitude = cat_gdf.crs['lon_0'], standard_parallels = (cat_gdf.crs['lat_1'], cat_gdf.crs['lat_2']))"
   ]
  },
  {
   "cell_type": "code",
   "execution_count": null,
   "metadata": {},
   "outputs": [],
   "source": [
    "cat_plot_colors = {2: 'palegreen', 3: 'green', 4: 'yellow', 5: 'brown', 6: 'red', 7: 'magenta'}"
   ]
  },
  {
   "cell_type": "code",
   "execution_count": null,
   "metadata": {},
   "outputs": [],
   "source": [
    "fig = plt.figure(1, figsize = (14, 12))\n",
    "ax = plt.subplot(1, 1, 1, projection = map_crs)\n",
    "ax.set_extent([-130, -72, 20, 55], ccrs.PlateCarree())\n",
    "\n",
    "ax.add_feature(cfeature.COASTLINE.with_scale('50m'))\n",
    "ax.add_feature(cfeature.STATES.with_scale('50m'))\n",
    "\n",
    "for key in cat_plot_colors.keys():\n",
    "\tgeometries = cat_gdf[cat_gdf['DN'] == key]\n",
    "\tif len(geometries) > 0:\n",
    "\t\tax.add_geometries(geometries['geometry'], crs = data_crs, facecolor = cat_plot_colors[key], edgecolor = 'black', alpha = 0.5)"
   ]
  }
 ],
 "metadata": {
  "kernelspec": {
   "display_name": "base",
   "language": "python",
   "name": "python3"
  },
  "language_info": {
   "codemirror_mode": {
    "name": "ipython",
    "version": 3
   },
   "file_extension": ".py",
   "mimetype": "text/x-python",
   "name": "python",
   "nbconvert_exporter": "python",
   "pygments_lexer": "ipython3",
   "version": "3.9.12"
  },
  "orig_nbformat": 4,
  "vscode": {
   "interpreter": {
    "hash": "b5cfa023891fceef02537f80a4c6e95b77988fb973cdb16a51cdb785092210be"
   }
  }
 },
 "nbformat": 4,
 "nbformat_minor": 2
}
