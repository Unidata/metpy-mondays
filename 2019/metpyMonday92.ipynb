{
 "cells": [
  {
   "attachments": {},
   "cell_type": "markdown",
   "metadata": {},
   "source": [
    "## 92 - Geocoding and SPC Storm Report Maps\n",
    "\n",
    "\n",
    "[Youtube](https://www.youtube.com/watch?v=9N1pshrUbrs)"
   ]
  },
  {
   "cell_type": "code",
   "execution_count": null,
   "metadata": {},
   "outputs": [],
   "source": [
    "import cartopy.feature as cfeature\n",
    "import cartopy.crs as ccrs\n",
    "import pandas as pd\n",
    "import geopandas\n",
    "import matplotlib.pyplot as plt\n",
    "from metpy.plots import USCOUNTIES\n",
    "%matplotlib inline"
   ]
  },
  {
   "cell_type": "code",
   "execution_count": null,
   "metadata": {},
   "outputs": [],
   "source": [
    "my_town = geopandas.tools.geocode(['Siloam Springs, AR'])\n",
    "my_town"
   ]
  },
  {
   "cell_type": "code",
   "execution_count": null,
   "metadata": {},
   "outputs": [],
   "source": [
    "my_town = my_town['geometry'][0]\n",
    "print(my_town)"
   ]
  },
  {
   "cell_type": "code",
   "execution_count": null,
   "metadata": {},
   "outputs": [],
   "source": [
    "wind_reports = pd.read_csv('https://www.spc.noaa.gov/climo/reports/190710_rpts_wind.csv')\n",
    "wind_reports.head()"
   ]
  },
  {
   "cell_type": "code",
   "execution_count": null,
   "metadata": {},
   "outputs": [],
   "source": [
    "wind_reports['Speed'].replace(to_replace = 'UNK', value = 0, inplace = True)"
   ]
  },
  {
   "cell_type": "code",
   "execution_count": null,
   "metadata": {},
   "outputs": [],
   "source": [
    "wind_reports['Speed'] = pd.to_numeric(wind_report['Speed'])"
   ]
  },
  {
   "cell_type": "code",
   "execution_count": null,
   "metadata": {},
   "outputs": [],
   "source": [
    "proj = ccrs.LambertConformal(central_longitude = -95, central_latitude = 35, standard_parallels = [35])"
   ]
  },
  {
   "cell_type": "code",
   "execution_count": null,
   "metadata": {},
   "outputs": [],
   "source": [
    "fig = plt.figure(figsize = (10, 5))\n",
    "ax = fig.add_subplot(1, 1, 1, projection = proj)\n",
    "\n",
    "ax.add_feature(cfeature.LAND)\n",
    "ax.add_feature(cfeature.STATES.with_scale('50m'))\n",
    "ax.add_feature(cfeature.USCOUNTIES.with_scale('5m'), linewidth = 0.25)\n",
    "\n",
    "ax.set_extent((-100, -93, 32, 38))\n",
    "\n",
    "ax.scatter(*my_town.xy, transform = ccrs.PlateCarree(), marker = '*', color = 'tab:red', edgecolor = 'black', s = 150, zorder = 10)\n",
    "\n",
    "ax.scatter(wind_reports['Lon'], wind_reports['Lat'], c = wind_reports['Speed'], transform = ccrs.PlateCarree(), s = 20)"
   ]
  }
 ],
 "metadata": {
  "kernelspec": {
   "display_name": "base",
   "language": "python",
   "name": "python3"
  },
  "language_info": {
   "codemirror_mode": {
    "name": "ipython",
    "version": 3
   },
   "file_extension": ".py",
   "mimetype": "text/x-python",
   "name": "python",
   "nbconvert_exporter": "python",
   "pygments_lexer": "ipython3",
   "version": "3.9.12"
  },
  "orig_nbformat": 4,
  "vscode": {
   "interpreter": {
    "hash": "b5cfa023891fceef02537f80a4c6e95b77988fb973cdb16a51cdb785092210be"
   }
  }
 },
 "nbformat": 4,
 "nbformat_minor": 2
}
