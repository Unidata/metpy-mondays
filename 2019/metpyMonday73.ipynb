{
 "cells": [
  {
   "cell_type": "markdown",
   "metadata": {},
   "source": [
    "## 73 - Pilot Reports Pt.2\n",
    "\n",
    "\n",
    "[Youtube](https://www.youtube.com/watch?v=_qeAFBEbqQk)"
   ]
  },
  {
   "cell_type": "code",
   "execution_count": 1,
   "metadata": {},
   "outputs": [],
   "source": [
    "import urllib\n",
    "from bs4 import BeautifulSoup"
   ]
  },
  {
   "cell_type": "code",
   "execution_count": 2,
   "metadata": {},
   "outputs": [],
   "source": [
    "data_url = 'https://www.aviationweather.gov/airep/data?id=&distance=200&format=decoded&type=&age=1.5&layout=on&date='"
   ]
  },
  {
   "cell_type": "code",
   "execution_count": 3,
   "metadata": {},
   "outputs": [],
   "source": [
    "req = urllib.request.urlopen(data_url)"
   ]
  },
  {
   "cell_type": "code",
   "execution_count": 4,
   "metadata": {},
   "outputs": [
    {
     "data": {
      "text/plain": [
       "http.client.HTTPResponse"
      ]
     },
     "execution_count": 4,
     "metadata": {},
     "output_type": "execute_result"
    }
   ],
   "source": [
    "type(req)"
   ]
  },
  {
   "cell_type": "code",
   "execution_count": 5,
   "metadata": {},
   "outputs": [],
   "source": [
    "html_doc = req.read()"
   ]
  },
  {
   "cell_type": "code",
   "execution_count": 6,
   "metadata": {},
   "outputs": [],
   "source": [
    "html_doc = html_doc.decode('utf8')"
   ]
  },
  {
   "cell_type": "code",
   "execution_count": 7,
   "metadata": {},
   "outputs": [],
   "source": [
    "req.close()"
   ]
  },
  {
   "cell_type": "code",
   "execution_count": 8,
   "metadata": {},
   "outputs": [],
   "source": [
    "soup = BeautifulSoup(html_doc, 'html.parser')"
   ]
  },
  {
   "cell_type": "code",
   "execution_count": 9,
   "metadata": {},
   "outputs": [],
   "source": [
    "table_data = soup.find_all('table')"
   ]
  },
  {
   "cell_type": "code",
   "execution_count": 10,
   "metadata": {},
   "outputs": [
    {
     "data": {
      "text/plain": [
       "25"
      ]
     },
     "execution_count": 10,
     "metadata": {},
     "output_type": "execute_result"
    }
   ],
   "source": [
    "len(table_data)"
   ]
  },
  {
   "cell_type": "code",
   "execution_count": 11,
   "metadata": {},
   "outputs": [
    {
     "data": {
      "text/plain": [
       "<table border=\"0\" cellpadding=\"3\" cellspacing=\"0\">\n",
       "<tr>\n",
       "<td align=\"right\" width=\"130px\"><span style=\"color: #9999CC; font-weight: bold\">PIREP Text:</span></td><td style=\"background-color: #CCCCCC; font-weight: bold\">BTV UA /OV BTV150010/TM 0330/FL038/TP CRJ9/TB MOD TURB 060-038</td>\n",
       "</tr>\n",
       "<tr>\n",
       "<td align=\"right\"><span style=\"color: #9999CC; font-weight: bold\">Observed at:</span></td><td>0330 UTC 27 Oct 2022</td>\n",
       "</tr>\n",
       "<tr>\n",
       "<td align=\"right\"><span style=\"color: #9999CC; font-weight: bold\">Aircraft type:</span></td><td>CRJ9</td>\n",
       "</tr>\n",
       "<tr>\n",
       "<td align=\"right\"><span style=\"color: #9999CC; font-weight: bold\">Location:</span></td><td>44.2793 latitude, -73.0183 longitude</td>\n",
       "</tr>\n",
       "<tr>\n",
       "<td align=\"right\"><span style=\"color: #9999CC; font-weight: bold\">Flight level:</span></td><td>038 (3,800ft)</td>\n",
       "</tr>\n",
       "<tr>\n",
       "<td align=\"right\"><span style=\"color: #9999CC; font-weight: bold\">Flight level type:</span></td><td>OTHER</td>\n",
       "</tr>\n",
       "<tr>\n",
       "<td align=\"right\"><span style=\"color: #9999CC; font-weight: bold\">Turbulence:</span></td><td>Moderate </td>\n",
       "</tr>\n",
       "</table>"
      ]
     },
     "execution_count": 11,
     "metadata": {},
     "output_type": "execute_result"
    }
   ],
   "source": [
    "report_html = table_data[2]\n",
    "report_html"
   ]
  },
  {
   "cell_type": "code",
   "execution_count": 12,
   "metadata": {},
   "outputs": [
    {
     "data": {
      "text/plain": [
       "[<tr>\n",
       " <td align=\"right\" width=\"130px\"><span style=\"color: #9999CC; font-weight: bold\">PIREP Text:</span></td><td style=\"background-color: #CCCCCC; font-weight: bold\">BTV UA /OV BTV150010/TM 0330/FL038/TP CRJ9/TB MOD TURB 060-038</td>\n",
       " </tr>,\n",
       " <tr>\n",
       " <td align=\"right\"><span style=\"color: #9999CC; font-weight: bold\">Observed at:</span></td><td>0330 UTC 27 Oct 2022</td>\n",
       " </tr>,\n",
       " <tr>\n",
       " <td align=\"right\"><span style=\"color: #9999CC; font-weight: bold\">Aircraft type:</span></td><td>CRJ9</td>\n",
       " </tr>,\n",
       " <tr>\n",
       " <td align=\"right\"><span style=\"color: #9999CC; font-weight: bold\">Location:</span></td><td>44.2793 latitude, -73.0183 longitude</td>\n",
       " </tr>,\n",
       " <tr>\n",
       " <td align=\"right\"><span style=\"color: #9999CC; font-weight: bold\">Flight level:</span></td><td>038 (3,800ft)</td>\n",
       " </tr>,\n",
       " <tr>\n",
       " <td align=\"right\"><span style=\"color: #9999CC; font-weight: bold\">Flight level type:</span></td><td>OTHER</td>\n",
       " </tr>,\n",
       " <tr>\n",
       " <td align=\"right\"><span style=\"color: #9999CC; font-weight: bold\">Turbulence:</span></td><td>Moderate </td>\n",
       " </tr>]"
      ]
     },
     "execution_count": 12,
     "metadata": {},
     "output_type": "execute_result"
    }
   ],
   "source": [
    "report_rows = report_html.find_all('tr')\n",
    "report_rows"
   ]
  },
  {
   "cell_type": "code",
   "execution_count": 13,
   "metadata": {},
   "outputs": [
    {
     "data": {
      "text/plain": [
       "['Aircraft type', 'CRJ9']"
      ]
     },
     "execution_count": 13,
     "metadata": {},
     "output_type": "execute_result"
    }
   ],
   "source": [
    "report_rows[2].get_text().strip().split(':')"
   ]
  },
  {
   "cell_type": "code",
   "execution_count": 14,
   "metadata": {},
   "outputs": [
    {
     "ename": "TabError",
     "evalue": "inconsistent use of tabs and spaces in indentation (1974942549.py, line 5)",
     "output_type": "error",
     "traceback": [
      "\u001b[0;36m  Input \u001b[0;32mIn [14]\u001b[0;36m\u001b[0m\n\u001b[0;31m    if row[0] == 'Location':\u001b[0m\n\u001b[0m    ^\u001b[0m\n\u001b[0;31mTabError\u001b[0m\u001b[0;31m:\u001b[0m inconsistent use of tabs and spaces in indentation\n"
     ]
    }
   ],
   "source": [
    "report = {}\n",
    "for row in report_rows:\n",
    " \trow = row.get_text().strip().split(':')\n",
    "  \t# If this is the location field, split it apart\n",
    "\tif row[0] == 'Location':\n",
    "\t\tlocation = row[1].split(',')\n",
    "\t\treport.update({'Latitude': float(location[0].replace(' latitude', ''))})\n",
    "\t\treport.update({'Longitude': float(location[1].replace(' longitude', ''))})\n",
    "\t\t\n",
    "\telse:\n",
    "\t\treport.update({row[0]: row[1]})"
   ]
  },
  {
   "cell_type": "code",
   "execution_count": null,
   "metadata": {},
   "outputs": [],
   "source": [
    "def parse_report(report_html):\n",
    " report = {}\n",
    " for row in report_rows:\n",
    "  row = row.get_text().strip().split(':')\n",
    "  \n",
    "  # If this is the location field, split it apart\n",
    "  if row[0] == 'Location':\n",
    "   location = row[1].split(',')\n",
    "   report.update({'Latitude': float(location[0].replace(' latitude', ''))})\n",
    "   report.update({'Longitude': float(location[1].replace(' longitude', ''))})\n",
    "   \n",
    "  else:\n",
    "   report.update({row[0]: row[1]})\n",
    "\n",
    " return report"
   ]
  },
  {
   "cell_type": "code",
   "execution_count": null,
   "metadata": {},
   "outputs": [],
   "source": [
    "reports = [parse_report(report) for report in table_data]\n",
    "reports"
   ]
  },
  {
   "cell_type": "code",
   "execution_count": null,
   "metadata": {},
   "outputs": [],
   "source": [
    "reports[0]['Latitude']"
   ]
  }
 ],
 "metadata": {
  "kernelspec": {
   "display_name": "Python 3.9.12 ('base': conda)",
   "language": "python",
   "name": "python3"
  },
  "language_info": {
   "codemirror_mode": {
    "name": "ipython",
    "version": 3
   },
   "file_extension": ".py",
   "mimetype": "text/x-python",
   "name": "python",
   "nbconvert_exporter": "python",
   "pygments_lexer": "ipython3",
   "version": "3.9.12"
  },
  "orig_nbformat": 4,
  "vscode": {
   "interpreter": {
    "hash": "b5cfa023891fceef02537f80a4c6e95b77988fb973cdb16a51cdb785092210be"
   }
  }
 },
 "nbformat": 4,
 "nbformat_minor": 2
}
