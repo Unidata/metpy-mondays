{
 "cells": [
  {
   "cell_type": "markdown",
   "metadata": {},
   "source": [
    "## 79 - Function Documentation\n",
    "\n",
    "\n",
    "[Youtube](https://www.youtube.com/watch?v=zr9MDnib4yU)"
   ]
  },
  {
   "cell_type": "code",
   "execution_count": 1,
   "metadata": {},
   "outputs": [],
   "source": [
    "import numpy as np"
   ]
  },
  {
   "cell_type": "code",
   "execution_count": 2,
   "metadata": {},
   "outputs": [],
   "source": [
    "def wind_speed(u, v):\n",
    " \"\"\"\n",
    " Compute the wind speed from u and v components.\n",
    "\n",
    " Parameters\n",
    " ----------\n",
    " u : array_like - Wind components in the X (east - west) direction.\n",
    " v : array_like - Wind components in the Y (north - south) direction.\n",
    "\n",
    "\n",
    " Returns\n",
    " -------\n",
    " wind speed : array_like - The vector magnitude speed of the wind.\n",
    "\n",
    " Notes\n",
    " -----\n",
    " wind speed = sqrt(u^2 + v^2)\n",
    " \"\"\"\n",
    "\n",
    " return np.sqrt(u * u + v * v)"
   ]
  },
  {
   "cell_type": "code",
   "execution_count": 3,
   "metadata": {},
   "outputs": [],
   "source": [
    "u = np.array([10, 15, 0, 5])\n",
    "v = np.array([10, 8, 3, 0])"
   ]
  },
  {
   "cell_type": "code",
   "execution_count": 4,
   "metadata": {},
   "outputs": [
    {
     "data": {
      "text/plain": [
       "array([14.14213562, 17.        ,  3.        ,  5.        ])"
      ]
     },
     "execution_count": 4,
     "metadata": {},
     "output_type": "execute_result"
    }
   ],
   "source": [
    "wind_speed(u, v)"
   ]
  }
 ],
 "metadata": {
  "kernelspec": {
   "display_name": "Python 3.9.12 ('base')",
   "language": "python",
   "name": "python3"
  },
  "language_info": {
   "codemirror_mode": {
    "name": "ipython",
    "version": 3
   },
   "file_extension": ".py",
   "mimetype": "text/x-python",
   "name": "python",
   "nbconvert_exporter": "python",
   "pygments_lexer": "ipython3",
   "version": "3.9.12"
  },
  "orig_nbformat": 4,
  "vscode": {
   "interpreter": {
    "hash": "b5cfa023891fceef02537f80a4c6e95b77988fb973cdb16a51cdb785092210be"
   }
  }
 },
 "nbformat": 4,
 "nbformat_minor": 2
}
