{
 "cells": [
  {
   "cell_type": "markdown",
   "metadata": {},
   "source": [
    "## 66 - Dictionary Comprehensions\n",
    "\n",
    "\n",
    "[Youtube](https://www.youtube.com/watch?v=Whs8XXZJSVk)"
   ]
  },
  {
   "cell_type": "code",
   "execution_count": 1,
   "metadata": {},
   "outputs": [],
   "source": [
    "import numpy as np"
   ]
  },
  {
   "cell_type": "code",
   "execution_count": 2,
   "metadata": {},
   "outputs": [
    {
     "data": {
      "text/plain": [
       "[array([0.36544285, 0.21764687, 0.37059845, 0.43948227, 0.23683001,\n",
       "        0.85915049, 0.47054818, 0.17183417, 0.30173631, 0.74717151]),\n",
       " array([0.67178505, 0.60095884, 0.86715261, 0.97706811, 0.44478359,\n",
       "        0.91558307, 0.36581709, 0.43427992, 0.04466343, 0.40058758]),\n",
       " array([0.27369624, 0.80127532, 0.6811502 , 0.0963363 , 0.03660549,\n",
       "        0.14660464, 0.46434287, 0.42779667, 0.7932161 , 0.86474138]),\n",
       " array([0.92501797, 0.60691268, 0.34078166, 0.09179702, 0.19174711,\n",
       "        0.45437619, 0.83708858, 0.96382759, 0.84492485, 0.57634407])]"
      ]
     },
     "execution_count": 2,
     "metadata": {},
     "output_type": "execute_result"
    }
   ],
   "source": [
    "labels = ['time', 'temperature', 'pressure', 'humidity']\n",
    "data = [np.random.rand(10), np.random.rand(10), np.random.rand(10), np.random.rand(10)]\n",
    "data"
   ]
  },
  {
   "cell_type": "code",
   "execution_count": 3,
   "metadata": {},
   "outputs": [],
   "source": [
    "my_dict = {}\n",
    "for name, vals in zip(labels, data):\n",
    " my_dict[name] = vals"
   ]
  },
  {
   "cell_type": "code",
   "execution_count": 4,
   "metadata": {},
   "outputs": [
    {
     "data": {
      "text/plain": [
       "{'time': array([0.36544285, 0.21764687, 0.37059845, 0.43948227, 0.23683001,\n",
       "        0.85915049, 0.47054818, 0.17183417, 0.30173631, 0.74717151]),\n",
       " 'temperature': array([0.67178505, 0.60095884, 0.86715261, 0.97706811, 0.44478359,\n",
       "        0.91558307, 0.36581709, 0.43427992, 0.04466343, 0.40058758]),\n",
       " 'pressure': array([0.27369624, 0.80127532, 0.6811502 , 0.0963363 , 0.03660549,\n",
       "        0.14660464, 0.46434287, 0.42779667, 0.7932161 , 0.86474138]),\n",
       " 'humidity': array([0.92501797, 0.60691268, 0.34078166, 0.09179702, 0.19174711,\n",
       "        0.45437619, 0.83708858, 0.96382759, 0.84492485, 0.57634407])}"
      ]
     },
     "execution_count": 4,
     "metadata": {},
     "output_type": "execute_result"
    }
   ],
   "source": [
    "my_dict"
   ]
  },
  {
   "cell_type": "code",
   "execution_count": 5,
   "metadata": {},
   "outputs": [],
   "source": [
    "my_dict = {name:val for name, val in zip(labels, data)}"
   ]
  },
  {
   "cell_type": "code",
   "execution_count": 6,
   "metadata": {},
   "outputs": [
    {
     "data": {
      "text/plain": [
       "{'time': array([0.36544285, 0.21764687, 0.37059845, 0.43948227, 0.23683001,\n",
       "        0.85915049, 0.47054818, 0.17183417, 0.30173631, 0.74717151]),\n",
       " 'temperature': array([0.67178505, 0.60095884, 0.86715261, 0.97706811, 0.44478359,\n",
       "        0.91558307, 0.36581709, 0.43427992, 0.04466343, 0.40058758]),\n",
       " 'pressure': array([0.27369624, 0.80127532, 0.6811502 , 0.0963363 , 0.03660549,\n",
       "        0.14660464, 0.46434287, 0.42779667, 0.7932161 , 0.86474138]),\n",
       " 'humidity': array([0.92501797, 0.60691268, 0.34078166, 0.09179702, 0.19174711,\n",
       "        0.45437619, 0.83708858, 0.96382759, 0.84492485, 0.57634407])}"
      ]
     },
     "execution_count": 6,
     "metadata": {},
     "output_type": "execute_result"
    }
   ],
   "source": [
    "my_dict"
   ]
  },
  {
   "cell_type": "code",
   "execution_count": 7,
   "metadata": {},
   "outputs": [
    {
     "data": {
      "text/plain": [
       "{'col1': array([0.91257859, 0.45046857, 0.70068827, 0.09079917, 0.39503287,\n",
       "        0.224005  , 0.17635943, 0.43388765, 0.99643509, 0.50136739]),\n",
       " 'col2_log': array([0.43162534, 0.01331126, 0.6404446 , 0.87219307, 0.4550301 ,\n",
       "        0.83161092, 0.20261536, 0.0730063 , 0.66718693, 0.93904873]),\n",
       " 'col3': array([0.76804499, 0.74923794, 0.83690323, 0.01259102, 0.69444939,\n",
       "        0.99210232, 0.6749822 , 0.94627776, 0.47107512, 0.13055316]),\n",
       " 'col4_log': array([0.22240839, 0.17809985, 0.20053187, 0.71365563, 0.18737177,\n",
       "        0.10162977, 0.29125298, 0.41028683, 0.31303251, 0.81457661]),\n",
       " 'col5': array([0.56381701, 0.56132503, 0.59054789, 0.09010023, 0.14093449,\n",
       "        0.41379616, 0.80415827, 0.03198961, 0.41279418, 0.06885606]),\n",
       " 'col6': array([0.68258194, 0.19705218, 0.72650661, 0.26273584, 0.0577051 ,\n",
       "        0.03603062, 0.12467118, 0.59628836, 0.67744154, 0.25388835])}"
      ]
     },
     "execution_count": 7,
     "metadata": {},
     "output_type": "execute_result"
    }
   ],
   "source": [
    "original_data = {'col1': np.random.rand(10), 'col2_log': np.random.rand(10), 'col3': np.random.rand(10), 'col4_log': np.random.rand(10), 'col5': np.random.rand(10), 'col6': np.random.rand(10)}\n",
    "original_data "
   ]
  },
  {
   "cell_type": "code",
   "execution_count": 8,
   "metadata": {},
   "outputs": [
    {
     "data": {
      "text/plain": [
       "{'col1': array([0.91257859, 0.45046857, 0.70068827, 0.09079917, 0.39503287,\n",
       "        0.224005  , 0.17635943, 0.43388765, 0.99643509, 0.50136739]),\n",
       " 'col2': array([-0.36489307, -1.87578071, -0.19351843, -0.05938737, -0.34195987,\n",
       "        -0.08007982, -0.69332764, -1.13663965, -0.17575247, -0.02731187]),\n",
       " 'col3': array([0.76804499, 0.74923794, 0.83690323, 0.01259102, 0.69444939,\n",
       "        0.99210232, 0.6749822 , 0.94627776, 0.47107512, 0.13055316]),\n",
       " 'col4': array([-0.65284884, -0.74933646, -0.69781661, -0.1465113 , -0.72729584,\n",
       "        -0.99297906, -0.53572962, -0.38691243, -0.50441056, -0.08906807]),\n",
       " 'col5': array([0.56381701, 0.56132503, 0.59054789, 0.09010023, 0.14093449,\n",
       "        0.41379616, 0.80415827, 0.03198961, 0.41279418, 0.06885606]),\n",
       " 'col6': array([0.68258194, 0.19705218, 0.72650661, 0.26273584, 0.0577051 ,\n",
       "        0.03603062, 0.12467118, 0.59628836, 0.67744154, 0.25388835])}"
      ]
     },
     "execution_count": 8,
     "metadata": {},
     "output_type": "execute_result"
    }
   ],
   "source": [
    "processed_data = {(k.replace('_log', '') if k.endswith('log') else k): (np.log10(v) if k.endswith('log') else v) for (k, v) in original_data.items()}\n",
    "processed_data"
   ]
  }
 ],
 "metadata": {
  "kernelspec": {
   "display_name": "Python 3.9.12 ('base')",
   "language": "python",
   "name": "python3"
  },
  "language_info": {
   "codemirror_mode": {
    "name": "ipython",
    "version": 3
   },
   "file_extension": ".py",
   "mimetype": "text/x-python",
   "name": "python",
   "nbconvert_exporter": "python",
   "pygments_lexer": "ipython3",
   "version": "3.9.12"
  },
  "orig_nbformat": 4,
  "vscode": {
   "interpreter": {
    "hash": "b5cfa023891fceef02537f80a4c6e95b77988fb973cdb16a51cdb785092210be"
   }
  }
 },
 "nbformat": 4,
 "nbformat_minor": 2
}
