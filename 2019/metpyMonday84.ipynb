{
 "cells": [
  {
   "attachments": {},
   "cell_type": "markdown",
   "metadata": {},
   "source": [
    "## 84 - fileinput and multiple files\n",
    "\n",
    "\n",
    "[Youtube](https://www.youtube.com/watch?v=WFFexMM5qdA)"
   ]
  },
  {
   "cell_type": "code",
   "execution_count": null,
   "metadata": {},
   "outputs": [],
   "source": [
    "import fileinput"
   ]
  },
  {
   "cell_type": "code",
   "execution_count": null,
   "metadata": {},
   "outputs": [],
   "source": [
    "with fileinput.input(files = ('file1.csv', 'file2.csv')) as f:\n",
    "\tfor line in f:\n",
    "\t\tprint(fileinput.filelineno())\n",
    "\t\tprint(fileinput.isfirstline())\n",
    "\t\tprint(line)"
   ]
  },
  {
   "cell_type": "code",
   "execution_count": null,
   "metadata": {},
   "outputs": [],
   "source": [
    "with fileinput.input(files = ('20170505acme.mts', '20170506acme.mts')) as f:\n",
    "\tfor line in f:\n",
    "\t\tif fileinput.isfirstline():\n",
    "\t\t\tfor _ in range(2): f.readline()\n",
    "\t\t\tcontinue\n",
    "\t\tprint(line.split()[4])"
   ]
  }
 ],
 "metadata": {
  "kernelspec": {
   "display_name": "Python 3",
   "language": "python",
   "name": "python3"
  },
  "language_info": {
   "name": "python",
   "version": "3.10.6 (main, Nov 14 2022, 16:10:14) [GCC 11.3.0]"
  },
  "orig_nbformat": 4,
  "vscode": {
   "interpreter": {
    "hash": "916dbcbb3f70747c44a77c7bcd40155683ae19c65e1c03b4aa3499c5328201f1"
   }
  }
 },
 "nbformat": 4,
 "nbformat_minor": 2
}
