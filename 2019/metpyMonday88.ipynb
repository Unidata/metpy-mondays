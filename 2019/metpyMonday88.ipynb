{
 "cells": [
  {
   "attachments": {},
   "cell_type": "markdown",
   "metadata": {},
   "source": [
    "## 88 - Savitzky-Golay\n",
    "\n",
    "\n",
    "[Youtube](https://www.youtube.com/watch?v=_qF0DjDdOog)"
   ]
  },
  {
   "cell_type": "code",
   "execution_count": null,
   "metadata": {},
   "outputs": [],
   "source": [
    "import pandas as pd\n",
    "import numpy as np\n",
    "import matplotlib.pyplot as plt\n",
    "import scipy.signal as ss\n",
    "%matplotlib inline"
   ]
  },
  {
   "cell_type": "code",
   "execution_count": null,
   "metadata": {},
   "outputs": [],
   "source": [
    "df = pd.read_csv('20180111nrmn.mts', sep = r'\\s+', engine = 'python', skiprows = 2)\n",
    "df.head()"
   ]
  },
  {
   "cell_type": "code",
   "execution_count": null,
   "metadata": {},
   "outputs": [],
   "source": [
    "unfiltered = df['TAIR']\n",
    "sg_filtered = ss.savgol_filter(unfiltered, 9, 3)"
   ]
  },
  {
   "cell_type": "code",
   "execution_count": null,
   "metadata": {},
   "outputs": [],
   "source": [
    "plt.plot(unfiltered)\n",
    "plt.plot(sg_filtered)"
   ]
  },
  {
   "cell_type": "code",
   "execution_count": null,
   "metadata": {},
   "outputs": [],
   "source": [
    "filter_length = 51 # 5, 10 , 20\n",
    "tair_moving_average = np.convolve(df['TAIR'], np.ones((filter_length)), mode = 'same')\n",
    "tair_moving_average /= filter_length"
   ]
  },
  {
   "cell_type": "code",
   "execution_count": null,
   "metadata": {},
   "outputs": [],
   "source": [
    "plt.plot(df['TAIR'])\n",
    "plt.plot(tair_moving_average)"
   ]
  },
  {
   "cell_type": "code",
   "execution_count": null,
   "metadata": {},
   "outputs": [],
   "source": [
    "from scipy.signal import medfilt"
   ]
  },
  {
   "cell_type": "code",
   "execution_count": null,
   "metadata": {},
   "outputs": [],
   "source": [
    "tair_medfilt = medfilt(df['TAIR'], filter_length)"
   ]
  },
  {
   "cell_type": "code",
   "execution_count": null,
   "metadata": {},
   "outputs": [],
   "source": [
    "plt.plot(df['TAIR'])\n",
    "plt.plot(tair_moving_average)\n",
    "plt.plot(tair_medfilt)"
   ]
  },
  {
   "cell_type": "code",
   "execution_count": null,
   "metadata": {},
   "outputs": [],
   "source": [
    "unfiltered_derv1 = np.ediff1d(unfiltered)\n",
    "# sg_derv1 = ss.savgol_filter(unfiltered, 9, 3, deriv = 1)\n",
    "sg_derv1 = ss.savgol_filter(unfiltered, 5, 1, deriv = 1)"
   ]
  },
  {
   "cell_type": "code",
   "execution_count": null,
   "metadata": {},
   "outputs": [],
   "source": [
    "plt.plot(unfiltered_derv1)\n",
    "plt.plot(sg_derv1)"
   ]
  },
  {
   "cell_type": "code",
   "execution_count": null,
   "metadata": {},
   "outputs": [],
   "source": [
    "unfiltered_deriv2 = np.ediff1d(unfiltered_derv1)\n",
    "sg_derv2 = ss.savgol_filter(unfiltered, 5, 2, deriv = 2)"
   ]
  },
  {
   "cell_type": "code",
   "execution_count": null,
   "metadata": {},
   "outputs": [],
   "source": [
    "plt.plot(unfiltered_deriv2)\n",
    "plt.plot(sg_derv2)"
   ]
  }
 ],
 "metadata": {
  "language_info": {
   "name": "python"
  },
  "orig_nbformat": 4
 },
 "nbformat": 4,
 "nbformat_minor": 2
}
