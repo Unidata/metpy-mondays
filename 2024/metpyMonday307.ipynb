{
 "cells": [
  {
   "attachments": {},
   "cell_type": "markdown",
   "metadata": {},
   "source": [
    "## 307 - Calculating DCAPE with MetPy\n",
    "\n",
    "[Youtube](https://www.youtube.com/watch?v=zm_L5b4LXZs)\n",
    "\n",
    "[Sounding Analysis Page - OUN 240123](spc.noaa.gov/exper/soundings/24012300_OBS/)"
   ]
  },
  {
   "cell_type": "code",
   "execution_count": 1,
   "metadata": {},
   "outputs": [],
   "source": [
    "import metpy.calc as mpcalc\n",
    "from datetime import datetime\n",
    "from siphon.simplewebservice.wyoming import WyomingUpperAir\n",
    "from metpy.units import units, pandas_dataframe_to_unit_arrays"
   ]
  },
  {
   "cell_type": "code",
   "execution_count": 2,
   "metadata": {},
   "outputs": [],
   "source": [
    "date = datetime(2024, 1, 23)\n",
    "station = 'NKX'"
   ]
  },
  {
   "cell_type": "code",
   "execution_count": 3,
   "metadata": {},
   "outputs": [
    {
     "data": {
      "text/html": [
       "<div>\n",
       "<style scoped>\n",
       "    .dataframe tbody tr th:only-of-type {\n",
       "        vertical-align: middle;\n",
       "    }\n",
       "\n",
       "    .dataframe tbody tr th {\n",
       "        vertical-align: top;\n",
       "    }\n",
       "\n",
       "    .dataframe thead th {\n",
       "        text-align: right;\n",
       "    }\n",
       "</style>\n",
       "<table border=\"1\" class=\"dataframe\">\n",
       "  <thead>\n",
       "    <tr style=\"text-align: right;\">\n",
       "      <th></th>\n",
       "      <th>pressure</th>\n",
       "      <th>height</th>\n",
       "      <th>temperature</th>\n",
       "      <th>dewpoint</th>\n",
       "      <th>direction</th>\n",
       "      <th>speed</th>\n",
       "      <th>u_wind</th>\n",
       "      <th>v_wind</th>\n",
       "      <th>station</th>\n",
       "      <th>station_number</th>\n",
       "      <th>time</th>\n",
       "      <th>latitude</th>\n",
       "      <th>longitude</th>\n",
       "      <th>elevation</th>\n",
       "      <th>pw</th>\n",
       "    </tr>\n",
       "  </thead>\n",
       "  <tbody>\n",
       "    <tr>\n",
       "      <th>0</th>\n",
       "      <td>991.0</td>\n",
       "      <td>137</td>\n",
       "      <td>15.0</td>\n",
       "      <td>14.4</td>\n",
       "      <td>230.0</td>\n",
       "      <td>6.0</td>\n",
       "      <td>4.596267</td>\n",
       "      <td>3.856726</td>\n",
       "      <td>NKX</td>\n",
       "      <td>72293</td>\n",
       "      <td>2024-01-23</td>\n",
       "      <td>32.85</td>\n",
       "      <td>-117.12</td>\n",
       "      <td>137.0</td>\n",
       "      <td>22.87</td>\n",
       "    </tr>\n",
       "    <tr>\n",
       "      <th>1</th>\n",
       "      <td>982.0</td>\n",
       "      <td>214</td>\n",
       "      <td>14.0</td>\n",
       "      <td>13.8</td>\n",
       "      <td>228.0</td>\n",
       "      <td>6.0</td>\n",
       "      <td>4.458869</td>\n",
       "      <td>4.014784</td>\n",
       "      <td>NKX</td>\n",
       "      <td>72293</td>\n",
       "      <td>2024-01-23</td>\n",
       "      <td>32.85</td>\n",
       "      <td>-117.12</td>\n",
       "      <td>137.0</td>\n",
       "      <td>22.87</td>\n",
       "    </tr>\n",
       "    <tr>\n",
       "      <th>2</th>\n",
       "      <td>940.0</td>\n",
       "      <td>583</td>\n",
       "      <td>12.4</td>\n",
       "      <td>12.4</td>\n",
       "      <td>219.0</td>\n",
       "      <td>8.0</td>\n",
       "      <td>5.034563</td>\n",
       "      <td>6.217168</td>\n",
       "      <td>NKX</td>\n",
       "      <td>72293</td>\n",
       "      <td>2024-01-23</td>\n",
       "      <td>32.85</td>\n",
       "      <td>-117.12</td>\n",
       "      <td>137.0</td>\n",
       "      <td>22.87</td>\n",
       "    </tr>\n",
       "    <tr>\n",
       "      <th>3</th>\n",
       "      <td>925.0</td>\n",
       "      <td>718</td>\n",
       "      <td>11.6</td>\n",
       "      <td>11.6</td>\n",
       "      <td>215.0</td>\n",
       "      <td>8.0</td>\n",
       "      <td>4.588611</td>\n",
       "      <td>6.553216</td>\n",
       "      <td>NKX</td>\n",
       "      <td>72293</td>\n",
       "      <td>2024-01-23</td>\n",
       "      <td>32.85</td>\n",
       "      <td>-117.12</td>\n",
       "      <td>137.0</td>\n",
       "      <td>22.87</td>\n",
       "    </tr>\n",
       "    <tr>\n",
       "      <th>4</th>\n",
       "      <td>880.0</td>\n",
       "      <td>1134</td>\n",
       "      <td>9.3</td>\n",
       "      <td>9.3</td>\n",
       "      <td>260.0</td>\n",
       "      <td>11.0</td>\n",
       "      <td>10.832885</td>\n",
       "      <td>1.910130</td>\n",
       "      <td>NKX</td>\n",
       "      <td>72293</td>\n",
       "      <td>2024-01-23</td>\n",
       "      <td>32.85</td>\n",
       "      <td>-117.12</td>\n",
       "      <td>137.0</td>\n",
       "      <td>22.87</td>\n",
       "    </tr>\n",
       "  </tbody>\n",
       "</table>\n",
       "</div>"
      ],
      "text/plain": [
       "   pressure  height  temperature  dewpoint  direction  speed     u_wind  \\\n",
       "0     991.0     137         15.0      14.4      230.0    6.0   4.596267   \n",
       "1     982.0     214         14.0      13.8      228.0    6.0   4.458869   \n",
       "2     940.0     583         12.4      12.4      219.0    8.0   5.034563   \n",
       "3     925.0     718         11.6      11.6      215.0    8.0   4.588611   \n",
       "4     880.0    1134          9.3       9.3      260.0   11.0  10.832885   \n",
       "\n",
       "     v_wind station  station_number       time  latitude  longitude  \\\n",
       "0  3.856726     NKX           72293 2024-01-23     32.85    -117.12   \n",
       "1  4.014784     NKX           72293 2024-01-23     32.85    -117.12   \n",
       "2  6.217168     NKX           72293 2024-01-23     32.85    -117.12   \n",
       "3  6.553216     NKX           72293 2024-01-23     32.85    -117.12   \n",
       "4  1.910130     NKX           72293 2024-01-23     32.85    -117.12   \n",
       "\n",
       "   elevation     pw  \n",
       "0      137.0  22.87  \n",
       "1      137.0  22.87  \n",
       "2      137.0  22.87  \n",
       "3      137.0  22.87  \n",
       "4      137.0  22.87  "
      ]
     },
     "execution_count": 3,
     "metadata": {},
     "output_type": "execute_result"
    }
   ],
   "source": [
    "df = WyomingUpperAir.request_data(date, station)\n",
    "df.head()"
   ]
  },
  {
   "cell_type": "code",
   "execution_count": 4,
   "metadata": {},
   "outputs": [],
   "source": [
    "df = pandas_dataframe_to_unit_arrays(df)"
   ]
  },
  {
   "cell_type": "code",
   "execution_count": 5,
   "metadata": {},
   "outputs": [
    {
     "data": {
      "text/html": [
       "649.9056331832209 joule/kilogram"
      ],
      "text/latex": [
       "$649.9056331832209\\ \\frac{\\mathrm{joule}}{\\mathrm{kilogram}}$"
      ],
      "text/plain": [
       "649.9056331832209 <Unit('joule / kilogram')>"
      ]
     },
     "execution_count": 5,
     "metadata": {},
     "output_type": "execute_result"
    }
   ],
   "source": [
    "dcape, _, _ = mpcalc.downdraft_cape(df['pressure'], df['temperature'], df['dewpoint'])\n",
    "dcape"
   ]
  },
  {
   "cell_type": "code",
   "execution_count": 6,
   "metadata": {},
   "outputs": [
    {
     "name": "stdout",
     "output_type": "stream",
     "text": [
      "DCAPE at 01/23 00Z for station NKX is 650 joule / kilogram\n"
     ]
    }
   ],
   "source": [
    "print(f'DCAPE at {date:%m/%d %H}Z for station {station} is {dcape:.0f}')"
   ]
  }
 ],
 "metadata": {
  "kernelspec": {
   "display_name": "base",
   "language": "python",
   "name": "python3"
  },
  "language_info": {
   "codemirror_mode": {
    "name": "ipython",
    "version": 3
   },
   "file_extension": ".py",
   "mimetype": "text/x-python",
   "name": "python",
   "nbconvert_exporter": "python",
   "pygments_lexer": "ipython3",
   "version": "3.9.16"
  },
  "orig_nbformat": 4,
  "vscode": {
   "interpreter": {
    "hash": "b5cfa023891fceef02537f80a4c6e95b77988fb973cdb16a51cdb785092210be"
   }
  }
 },
 "nbformat": 4,
 "nbformat_minor": 2
}
