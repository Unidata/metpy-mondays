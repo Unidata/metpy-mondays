{
 "cells": [
  {
   "cell_type": "markdown",
   "id": "4a66427f",
   "metadata": {},
   "source": [
    "## 156 - Voila Part 2 - Making a Basic Density Altitude Calculator\n",
    "\n",
    "[Youtube](https://www.youtube.com/watch?v=SjLvPCSi7Yk)"
   ]
  },
  {
   "cell_type": "markdown",
   "id": "a316445d",
   "metadata": {},
   "source": [
    "### Density Altitude Calculator"
   ]
  },
  {
   "cell_type": "code",
   "execution_count": 1,
   "id": "eaf8ac0d",
   "metadata": {},
   "outputs": [],
   "source": [
    "import ipywidgets as widgets"
   ]
  },
  {
   "cell_type": "code",
   "execution_count": 2,
   "id": "80ec10bc",
   "metadata": {},
   "outputs": [],
   "source": [
    "pressure_setting = widgets.FloatSlider(min = 28, max = 31, step = 0.01, value = 29.92, description = 'Pressure Setting [inHg]:')\n",
    "elevation = widgets.IntSlider(min = -1000, max = 1000, step = 10, value = 0, description = 'Elevation [ft]:')\n",
    "temperature = widgets.IntSlider(min = -40, max = 60, step = 1, value = 15, description = 'Temperature [degC]')\n",
    "pressure_alt = widgets.FloatText(disabled = True, description = 'Pressure Altitude [ft]')\n",
    "std_temp = widgets.FloatText(disabled = True, description = 'Standard Temperature [degC]')\n",
    "density_alt = widgets.FloatText(disabled = True, description = 'Density Altitude [ft]')"
   ]
  },
  {
   "cell_type": "code",
   "execution_count": 3,
   "id": "45a3152f",
   "metadata": {},
   "outputs": [],
   "source": [
    "def calculate(*ignore):\n",
    "    pressure_altitude = (29.92 - pressure_setting.value) * 1000 + elevation.value\n",
    "    standard_temperature = ((elevation.value / 1000) - 15) * -1\n",
    "    density_altitude = pressure_altitude + (120 * (temperature.value - standard_temperature))\n",
    "    pressure_alt.value = str(pressure_altitude)\n",
    "    std_temp.value = str(standard_temperature)\n",
    "    density_alt.value = str(density_altitude)"
   ]
  },
  {
   "cell_type": "code",
   "execution_count": 4,
   "id": "7d22709a",
   "metadata": {},
   "outputs": [
    {
     "data": {
      "application/vnd.jupyter.widget-view+json": {
       "model_id": "0226dc4cdac2455697e582fb3df8fdbc",
       "version_major": 2,
       "version_minor": 0
      },
      "text/plain": [
       "VBox(children=(FloatSlider(value=29.92, description='Pressure Setting [inHg]:', max=31.0, min=28.0, step=0.01)…"
      ]
     },
     "metadata": {},
     "output_type": "display_data"
    }
   ],
   "source": [
    "pressure_setting.observe(calculate, 'value')\n",
    "elevation.observe(calculate, 'value')\n",
    "temperature.observe(calculate, 'value')\n",
    "\n",
    "widgets.VBox([pressure_setting, elevation, temperature, pressure_alt, std_temp, density_alt])"
   ]
  },
  {
   "cell_type": "code",
   "execution_count": null,
   "id": "6fbbbfc4",
   "metadata": {},
   "outputs": [],
   "source": []
  }
 ],
 "metadata": {
  "kernelspec": {
   "display_name": "Python 3 (ipykernel)",
   "language": "python",
   "name": "python3"
  },
  "language_info": {
   "codemirror_mode": {
    "name": "ipython",
    "version": 3
   },
   "file_extension": ".py",
   "mimetype": "text/x-python",
   "name": "python",
   "nbconvert_exporter": "python",
   "pygments_lexer": "ipython3",
   "version": "3.9.12"
  }
 },
 "nbformat": 4,
 "nbformat_minor": 5
}
