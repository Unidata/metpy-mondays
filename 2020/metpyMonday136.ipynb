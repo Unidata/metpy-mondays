{
 "cells": [
  {
   "attachments": {},
   "cell_type": "markdown",
   "metadata": {},
   "source": [
    "## 136 - Delving into unknown NDFD GRIB data\n",
    "\n",
    "[GRIB2 Encoding Details for the National Weather Service Digital Forecast Database](https://graphical.weather.gov/docs/grib_design.html)\n",
    "\n",
    "[DEGRIB FOR NDFD](https://vlab.noaa.gov/web/mdl/degrib-for-ndfd)\n",
    "\n",
    "[Youtube](https://www.youtube.com/watch?v=kEhcJP3G0xw)\n",
    "\n",
    "[Example Data](https://tgftp.nws.noaa.gov/SL.us008001/ST.opnl/DF.gr2/DC.ndfd/AR.conus/VP.001-003/)"
   ]
  },
  {
   "cell_type": "code",
   "execution_count": 1,
   "metadata": {},
   "outputs": [],
   "source": [
    "import pygrib"
   ]
  },
  {
   "cell_type": "code",
   "execution_count": 2,
   "metadata": {},
   "outputs": [],
   "source": [
    "grbs = pygrib.open('ds.iceaccum.bin')"
   ]
  },
  {
   "cell_type": "code",
   "execution_count": 3,
   "metadata": {},
   "outputs": [
    {
     "name": "stdout",
     "output_type": "stream",
     "text": [
      "1:227:227 (accum):lambert:surface:level 0:fcst time 0-6 hrs (accum):from 202303102100\n",
      "2023-03-10 21:00:00\n",
      "unknown\n",
      "unknown\n",
      "2:227:227 (accum):lambert:surface:level 0:fcst time 3-9 hrs (accum):from 202303102100\n",
      "2023-03-11 00:00:00\n",
      "unknown\n",
      "unknown\n",
      "3:227:227 (accum):lambert:surface:level 0:fcst time 9-15 hrs (accum):from 202303102100\n",
      "2023-03-11 06:00:00\n",
      "unknown\n",
      "unknown\n",
      "4:227:227 (accum):lambert:surface:level 0:fcst time 15-21 hrs (accum):from 202303102100\n",
      "2023-03-11 12:00:00\n",
      "unknown\n",
      "unknown\n",
      "5:227:227 (accum):lambert:surface:level 0:fcst time 21-27 hrs (accum):from 202303102100\n",
      "2023-03-11 18:00:00\n",
      "unknown\n",
      "unknown\n",
      "6:227:227 (accum):lambert:surface:level 0:fcst time 27-33 hrs (accum):from 202303102100\n",
      "2023-03-12 00:00:00\n",
      "unknown\n",
      "unknown\n",
      "7:227:227 (accum):lambert:surface:level 0:fcst time 33-39 hrs (accum):from 202303102100\n",
      "2023-03-12 06:00:00\n",
      "unknown\n",
      "unknown\n",
      "8:227:227 (accum):lambert:surface:level 0:fcst time 39-45 hrs (accum):from 202303102100\n",
      "2023-03-12 12:00:00\n",
      "unknown\n",
      "unknown\n",
      "9:227:227 (accum):lambert:surface:level 0:fcst time 45-51 hrs (accum):from 202303102100\n",
      "2023-03-12 18:00:00\n",
      "unknown\n",
      "unknown\n",
      "10:227:227 (accum):lambert:surface:level 0:fcst time 51-57 hrs (accum):from 202303102100\n",
      "2023-03-13 00:00:00\n",
      "unknown\n",
      "unknown\n",
      "11:227:227 (accum):lambert:surface:level 0:fcst time 57-63 hrs (accum):from 202303102100\n",
      "2023-03-13 06:00:00\n",
      "unknown\n",
      "unknown\n"
     ]
    }
   ],
   "source": [
    "grbs.seek(0)\n",
    "for grb in grbs:\n",
    "\tprint(grb)\n",
    "\tprint(grb.validDate)\n",
    "\tprint(grb.name)\n",
    "\tprint(grb.units)"
   ]
  },
  {
   "cell_type": "code",
   "execution_count": null,
   "metadata": {},
   "outputs": [],
   "source": []
  }
 ],
 "metadata": {
  "kernelspec": {
   "display_name": "base",
   "language": "python",
   "name": "python3"
  },
  "language_info": {
   "codemirror_mode": {
    "name": "ipython",
    "version": 3
   },
   "file_extension": ".py",
   "mimetype": "text/x-python",
   "name": "python",
   "nbconvert_exporter": "python",
   "pygments_lexer": "ipython3",
   "version": "3.9.16"
  },
  "orig_nbformat": 4,
  "vscode": {
   "interpreter": {
    "hash": "b5cfa023891fceef02537f80a4c6e95b77988fb973cdb16a51cdb785092210be"
   }
  }
 },
 "nbformat": 4,
 "nbformat_minor": 2
}
