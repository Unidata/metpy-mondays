{
 "cells": [
  {
   "cell_type": "markdown",
   "metadata": {},
   "source": [
    "## 123 - Violin Plots of Soil Temperature Data\n",
    "\n",
    "[Youtube](https://www.youtube.com/watch?v=NJlHbpsq_1Q)"
   ]
  },
  {
   "cell_type": "code",
   "execution_count": 1,
   "metadata": {},
   "outputs": [],
   "source": [
    "import pandas as pd\n",
    "import matplotlib.pyplot as plt\n",
    "import numpy as np\n",
    "%matplotlib inline"
   ]
  },
  {
   "cell_type": "code",
   "execution_count": 2,
   "metadata": {},
   "outputs": [
    {
     "data": {
      "text/plain": [
       "Index(['TS10', 'TS05', 'TS25', 'TS60'], dtype='object')"
      ]
     },
     "execution_count": 2,
     "metadata": {},
     "output_type": "execute_result"
    }
   ],
   "source": [
    "df = pd.read_csv('202212192300.mdf', skiprows = 2, delim_whitespace = True, na_values = -999.000)\n",
    "df.dropna(inplace = True)\n",
    "# df.drop(['STID', 'STNM', 'TIME', 'TB10AV1D', 'TB10AV3D', 'TB10AV7D'], inplace = True, axis = 'columns')\n",
    "df.drop(['STID', 'STNM', 'TIME', 'RELH', 'TAIR', 'WSPD', 'WVEC', 'WDIR', 'WDSD', 'WSSD', 'WMAX', 'RAIN', 'PRES', 'SRAD', 'TA9M', 'WS2M', 'TB10', 'TR05', 'TR25', 'TR60'], inplace = True, axis = 'columns')\n",
    "df.columns"
   ]
  },
  {
   "cell_type": "code",
   "execution_count": 3,
   "metadata": {},
   "outputs": [],
   "source": [
    "# Remove value -998.0\n",
    "df = df.loc[df['TS25'] != -998.0]\n",
    "df = df.loc[df['TS60'] != -998.0]"
   ]
  },
  {
   "attachments": {},
   "cell_type": "markdown",
   "metadata": {},
   "source": [
    "## Variable Name Examples\n",
    "* TS05\n",
    "* TS25"
   ]
  },
  {
   "cell_type": "code",
   "execution_count": 4,
   "metadata": {},
   "outputs": [],
   "source": [
    "def parse_variable_name(var_name):\n",
    "    \"\"\"Make a readable name from the mesonet variable name.\"\"\"\n",
    "    # var_name = var_name.split('AV')\n",
    "    # depth = int(var_name[0].replace('TS', ''))\n",
    "    depth = int(var_name.replace('TS', ''))\n",
    "    # average = var_name[1].replace('D', '')\n",
    "    # return f'{depth} cm {average} day Avg.'\n",
    "    return f'{depth} cm'"
   ]
  },
  {
   "cell_type": "code",
   "execution_count": 5,
   "metadata": {},
   "outputs": [
    {
     "data": {
      "text/plain": [
       "'5 cm'"
      ]
     },
     "execution_count": 5,
     "metadata": {},
     "output_type": "execute_result"
    }
   ],
   "source": [
    "# parse_variable_name('TS05AV1D')\n",
    "parse_variable_name('TS05')"
   ]
  },
  {
   "cell_type": "code",
   "execution_count": 6,
   "metadata": {},
   "outputs": [
    {
     "data": {
      "text/plain": [
       "['10 cm', '5 cm', '25 cm', '60 cm']"
      ]
     },
     "execution_count": 6,
     "metadata": {},
     "output_type": "execute_result"
    }
   ],
   "source": [
    "labels = [parse_variable_name(n) for n in df.columns]\n",
    "labels"
   ]
  },
  {
   "cell_type": "code",
   "execution_count": 7,
   "metadata": {},
   "outputs": [
    {
     "data": {
      "image/png": "[encoded data removed]",
      "text/plain": [
       "<Figure size 640x480 with 1 Axes>"
      ]
     },
     "metadata": {},
     "output_type": "display_data"
    }
   ],
   "source": [
    "fig, ax = plt.subplots()\n",
    "_ = ax.violinplot(df.values)\n",
    "ax.set_xticks(np.arange(1, len(df.columns)+1))\n",
    "_ = ax.set_xticklabels(labels, rotation = 90)"
   ]
  }
 ],
 "metadata": {
  "kernelspec": {
   "display_name": "Python 3.9.12 ('base')",
   "language": "python",
   "name": "python3"
  },
  "language_info": {
   "codemirror_mode": {
    "name": "ipython",
    "version": 3
   },
   "file_extension": ".py",
   "mimetype": "text/x-python",
   "name": "python",
   "nbconvert_exporter": "python",
   "pygments_lexer": "ipython3",
   "version": "3.9.16"
  },
  "orig_nbformat": 4,
  "vscode": {
   "interpreter": {
    "hash": "b5cfa023891fceef02537f80a4c6e95b77988fb973cdb16a51cdb785092210be"
   }
  }
 },
 "nbformat": 4,
 "nbformat_minor": 2
}
