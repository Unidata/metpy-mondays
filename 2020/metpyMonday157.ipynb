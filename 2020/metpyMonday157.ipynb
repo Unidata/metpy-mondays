{
 "cells": [
  {
   "cell_type": "markdown",
   "id": "e3254fd8",
   "metadata": {},
   "source": [
    "## 157 - Voila Part 3 -  Basic Widget Layout\n",
    "\n",
    "[Youtube](https://www.youtube.com/watch?v=91jcSY1NzJE)"
   ]
  },
  {
   "cell_type": "markdown",
   "id": "3ce8def8",
   "metadata": {},
   "source": [
    "### Density Altitude Calculator"
   ]
  },
  {
   "cell_type": "code",
   "execution_count": 1,
   "id": "9eb69f67",
   "metadata": {},
   "outputs": [],
   "source": [
    "import ipywidgets as widgets"
   ]
  },
  {
   "cell_type": "code",
   "execution_count": 2,
   "id": "98062296",
   "metadata": {},
   "outputs": [
    {
     "data": {
      "application/vnd.jupyter.widget-view+json": {
       "model_id": "73c919a0e31a4e159ee51d0b1644e1df",
       "version_major": 2,
       "version_minor": 0
      },
      "text/plain": [
       "VBox(children=(FloatSlider(value=29.92, description='Pressure Setting [inHg]:', max=31.0, min=28.0, step=0.01)…"
      ]
     },
     "metadata": {},
     "output_type": "display_data"
    }
   ],
   "source": [
    "# 1\n",
    "pressure_setting = widgets.FloatSlider(min = 28, max = 31, step = 0.01, value = 29.92, description = 'Pressure Setting [inHg]:')\n",
    "elevation = widgets.IntSlider(min = -1000, max = 1000, step = 10, value = 0, description = 'Elevation [ft]:')\n",
    "temperature = widgets.IntSlider(min = -40, max = 60, step = 1, value = 15, description = 'Temperature [degC]')\n",
    "pressure_alt = widgets.FloatText(disabled = True, description = 'Pressure Altitude [ft]')\n",
    "std_temp = widgets.FloatText(disabled = True, description = 'Standard Temperature [degC]')\n",
    "density_alt = widgets.FloatText(disabled = True, description = 'Density Altitude [ft]')\n",
    "\n",
    "def calculate(*ignore):\n",
    "    pressure_altitude = (29.92 - pressure_setting.value) * 1000 + elevation.value\n",
    "    standard_temperature = ((elevation.value / 1000) - 15) * -1\n",
    "    density_altitude = pressure_altitude + (120 * (temperature.value - standard_temperature))\n",
    "    pressure_alt.value = str(pressure_altitude)\n",
    "    std_temp.value = str(standard_temperature)\n",
    "    density_alt.value = str(density_altitude)\n",
    "    \n",
    "pressure_setting.observe(calculate, 'value')\n",
    "elevation.observe(calculate, 'value')\n",
    "temperature.observe(calculate, 'value')\n",
    "\n",
    "widgets.VBox([pressure_setting, elevation, temperature, pressure_alt, std_temp, density_alt])"
   ]
  },
  {
   "cell_type": "code",
   "execution_count": 3,
   "id": "1030c0dc",
   "metadata": {},
   "outputs": [
    {
     "data": {
      "application/vnd.jupyter.widget-view+json": {
       "model_id": "cee58d1704c641fcaebff49100c0356e",
       "version_major": 2,
       "version_minor": 0
      },
      "text/plain": [
       "VBox(children=(FloatSlider(value=29.92, description='Pressure Setting [inHg]:', max=31.0, min=28.0, step=0.01,…"
      ]
     },
     "metadata": {},
     "output_type": "display_data"
    }
   ],
   "source": [
    "# 2\n",
    "style = {'description_width': 'initial'}\n",
    "\n",
    "pressure_setting = widgets.FloatSlider(min = 28, max = 31, step = 0.01, value = 29.92, description = 'Pressure Setting [inHg]:', style = style)\n",
    "elevation = widgets.IntSlider(min = -1000, max = 1000, step = 10, value = 0, description = 'Elevation [ft]:', style = style)\n",
    "temperature = widgets.IntSlider(min = -40, max = 60, step = 1, value = 15, description = 'Temperature [degC]', style = style)\n",
    "pressure_alt = widgets.FloatText(disabled = True, description = 'Pressure Altitude [ft]', style = style)\n",
    "std_temp = widgets.FloatText(disabled = True, description = 'Standard Temperature [degC]', style = style)\n",
    "density_alt = widgets.FloatText(disabled = True, description = 'Density Altitude [ft]', style = style)\n",
    "\n",
    "widgets.VBox([pressure_setting, elevation, temperature, pressure_alt, std_temp, density_alt])"
   ]
  },
  {
   "cell_type": "code",
   "execution_count": 4,
   "id": "c321cbe2",
   "metadata": {},
   "outputs": [
    {
     "data": {
      "application/vnd.jupyter.widget-view+json": {
       "model_id": "b386cda5bad042f7a2f4d4e7c4dd95b6",
       "version_major": 2,
       "version_minor": 0
      },
      "text/plain": [
       "VBox(children=(HBox(children=(Label(value='Pressure Setting [inHg]'), FloatSlider(value=29.92, max=31.0, min=2…"
      ]
     },
     "metadata": {},
     "output_type": "display_data"
    }
   ],
   "source": [
    "# 3\n",
    "pressure_setting = widgets.FloatSlider(min = 28, max = 31, step = 0.01, value = 29.92)\n",
    "elevation = widgets.IntSlider(min = -1000, max = 1000, step = 10, value = 0)\n",
    "temperature = widgets.IntSlider(min = -40, max = 60, step = 1, value = 15)\n",
    "pressure_alt = widgets.FloatText(disabled = True)\n",
    "std_temp = widgets.FloatText(disabled = True)\n",
    "density_alt = widgets.FloatText(disabled = True)\n",
    "\n",
    "def calculate(*ignore):\n",
    "    pressure_altitude = (29.92 - pressure_setting.value) * 1000 + elevation.value\n",
    "    standard_temperature = ((elevation.value / 1000) - 15) * -1\n",
    "    density_altitude = pressure_altitude + (120 * (temperature.value - standard_temperature))\n",
    "    pressure_alt.value = str(pressure_altitude)\n",
    "    std_temp.value = str(standard_temperature)\n",
    "    density_alt.value = str(density_altitude)\n",
    "    \n",
    "pressure_setting.observe(calculate, 'value')\n",
    "elevation.observe(calculate, 'value')\n",
    "temperature.observe(calculate, 'value')\n",
    "\n",
    "\n",
    "widgets.VBox([widgets.HBox([widgets.Label('Pressure Setting [inHg]'), pressure_setting]),\n",
    "              widgets.HBox([widgets.Label('Elevation [ft]'), elevation]),\n",
    "              widgets.HBox([widgets.Label('Temperature [degC]'), temperature]),\n",
    "              widgets.HBox([widgets.Label('Pressure Altitude [ft]'), pressure_alt]),\n",
    "              widgets.HBox([widgets.Label('Standard Temperature [degC]'), std_temp]),\n",
    "              widgets.HBox([widgets.Label('Density Altitude [ft]'), density_alt])])"
   ]
  },
  {
   "cell_type": "code",
   "execution_count": 5,
   "id": "c795fb83",
   "metadata": {},
   "outputs": [
    {
     "data": {
      "application/vnd.jupyter.widget-view+json": {
       "model_id": "90bfd37a1a294a84abf21717a0c6a4d6",
       "version_major": 2,
       "version_minor": 0
      },
      "text/plain": [
       "GridBox(children=(Label(value='Pressure Setting [inHg]'), FloatSlider(value=29.92, max=31.0, min=28.0, step=0.…"
      ]
     },
     "metadata": {},
     "output_type": "display_data"
    }
   ],
   "source": [
    "# 4\n",
    "items = [widgets.Label('Pressure Setting [inHg]'), pressure_setting,\n",
    "         widgets.Label('Elevation [ft]'), elevation,\n",
    "         widgets.Label('Temperature [degC]'), temperature,\n",
    "         widgets.Label('Pressure Altitude [ft]'), pressure_alt,\n",
    "         widgets.Label('Standard Temperature [degC]'), std_temp,\n",
    "         widgets.Label('Density Altitude [ft]'), density_alt]\n",
    "\n",
    "widgets.GridBox(items, layout = widgets.Layout(grid_template_columns = \"repeat(2, 180px)\"))"
   ]
  },
  {
   "cell_type": "code",
   "execution_count": null,
   "id": "770fd340",
   "metadata": {},
   "outputs": [],
   "source": []
  },
  {
   "cell_type": "code",
   "execution_count": null,
   "id": "2c27d9e5",
   "metadata": {},
   "outputs": [],
   "source": []
  }
 ],
 "metadata": {
  "kernelspec": {
   "display_name": "Python 3 (ipykernel)",
   "language": "python",
   "name": "python3"
  },
  "language_info": {
   "codemirror_mode": {
    "name": "ipython",
    "version": 3
   },
   "file_extension": ".py",
   "mimetype": "text/x-python",
   "name": "python",
   "nbconvert_exporter": "python",
   "pygments_lexer": "ipython3",
   "version": "3.9.12"
  }
 },
 "nbformat": 4,
 "nbformat_minor": 5
}
