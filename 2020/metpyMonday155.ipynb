{
 "cells": [
  {
   "cell_type": "markdown",
   "id": "9dd41266",
   "metadata": {},
   "source": [
    "## 155 - Voila Part 1 - Setup and Widgets\n",
    "\n",
    "[Youtube](https://www.youtube.com/watch?v=1ygFFQ2Ga_A)"
   ]
  },
  {
   "cell_type": "markdown",
   "id": "484d1465",
   "metadata": {},
   "source": [
    "`conda install -c conda-forge ipywidgets`\n",
    "\n",
    "`jupyter nbextension enable --py widgetsnbextension`\n",
    "\n",
    "`conda install -c conda-forge nodejs`\n",
    "\n",
    "`jupyter labextension install @jupyter-widgets/jupyterlab-manager`\n",
    "\n",
    "`conda install -c conda-forge voila`\n",
    "\n",
    "`jupyter labextension install @jupyter-voila/jupyterlab-preview`\n",
    "\n",
    "`jupyter serverextension enable voila --sys-prefix`"
   ]
  },
  {
   "cell_type": "code",
   "execution_count": 1,
   "id": "f7e6e699",
   "metadata": {},
   "outputs": [],
   "source": [
    "import ipywidgets as widgets"
   ]
  },
  {
   "cell_type": "code",
   "execution_count": 2,
   "id": "6ce2cc61",
   "metadata": {},
   "outputs": [],
   "source": [
    "x_slider = widgets.FloatSlider(description = '$x$', value = 0)\n",
    "res_text = widgets.FloatText(disabled = True, description = '$x^2$')"
   ]
  },
  {
   "cell_type": "code",
   "execution_count": 3,
   "id": "9d26e5c1",
   "metadata": {},
   "outputs": [],
   "source": [
    "def calc(*ignore):\n",
    "    res_text.value = str(x_slider.value ** 2)"
   ]
  },
  {
   "cell_type": "code",
   "execution_count": 4,
   "id": "43917c6f",
   "metadata": {},
   "outputs": [
    {
     "data": {
      "application/vnd.jupyter.widget-view+json": {
       "model_id": "d92b40f5c5bd42ad842bc54df4523af0",
       "version_major": 2,
       "version_minor": 0
      },
      "text/plain": [
       "VBox(children=(FloatSlider(value=0.0, description='$x$'), FloatText(value=0.0, description='$x^2$', disabled=T…"
      ]
     },
     "metadata": {},
     "output_type": "display_data"
    }
   ],
   "source": [
    "x_slider.observe(calc, 'value')\n",
    "widgets.VBox([x_slider, res_text])"
   ]
  },
  {
   "cell_type": "code",
   "execution_count": null,
   "id": "adc59ed7",
   "metadata": {},
   "outputs": [],
   "source": []
  }
 ],
 "metadata": {
  "kernelspec": {
   "display_name": "Python 3 (ipykernel)",
   "language": "python",
   "name": "python3"
  },
  "language_info": {
   "codemirror_mode": {
    "name": "ipython",
    "version": 3
   },
   "file_extension": ".py",
   "mimetype": "text/x-python",
   "name": "python",
   "nbconvert_exporter": "python",
   "pygments_lexer": "ipython3",
   "version": "3.9.12"
  }
 },
 "nbformat": 4,
 "nbformat_minor": 5
}
