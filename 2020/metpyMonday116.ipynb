{
 "cells": [
  {
   "cell_type": "markdown",
   "metadata": {},
   "source": [
    "## 116 - Altimeter and Sky Cover\n",
    "\n",
    "[Youtube](https://www.youtube.com/watch?v=uZ4HfsNCMmQ)"
   ]
  },
  {
   "cell_type": "code",
   "execution_count": 1,
   "metadata": {},
   "outputs": [],
   "source": [
    "from siphon.catalog import TDSCatalog"
   ]
  },
  {
   "cell_type": "code",
   "execution_count": 2,
   "metadata": {},
   "outputs": [
    {
     "data": {
      "text/plain": [
       "['metar_20221026_0000.txt', 'metar_20221026_0100.txt', 'metar_20221026_0200.txt', 'metar_20221026_0300.txt', 'metar_20221026_0400.txt', 'metar_20221026_0500.txt', 'metar_20221026_0600.txt', 'metar_20221026_0700.txt', 'metar_20221026_0800.txt', 'metar_20221026_0900.txt', 'metar_20221026_1000.txt', 'metar_20221026_1100.txt', 'metar_20221026_1200.txt', 'metar_20221026_1300.txt', 'metar_20221026_1400.txt', 'metar_20221026_1500.txt', 'metar_20221026_1600.txt', 'metar_20221026_1700.txt', 'metar_20221026_1800.txt', 'metar_20221026_1900.txt', 'metar_20221026_2000.txt', 'metar_20221026_2100.txt', 'metar_20221026_2200.txt', 'metar_20221026_2300.txt', 'metar_20221027_0000.txt', 'metar_20221027_0100.txt', 'metar_20221027_0200.txt', 'metar_20221027_0300.txt', 'metar_20221027_0400.txt', 'metar_20221027_0500.txt', 'metar_20221027_0600.txt', 'metar_20221027_0700.txt', 'metar_20221027_0800.txt', 'metar_20221027_0900.txt', 'metar_20221027_1000.txt', 'metar_20221027_1100.txt', 'metar_20221027_1200.txt', 'metar_20221027_1300.txt', 'metar_20221027_1400.txt', 'metar_20221027_1500.txt', 'metar_20221027_1600.txt', 'metar_20221027_1700.txt', 'metar_20221027_1800.txt', 'metar_20221027_1900.txt', 'metar_20221027_2000.txt', 'metar_20221027_2100.txt', 'metar_20221027_2200.txt', 'metar_20221027_2300.txt', 'metar_20221028_0000.txt', 'metar_20221028_0100.txt', 'metar_20221028_0200.txt', 'metar_20221028_0300.txt', 'metar_20221028_0400.txt', 'metar_20221028_0500.txt', 'metar_20221028_0600.txt', 'metar_20221028_0700.txt', 'metar_20221028_0800.txt', 'metar_20221028_0900.txt', 'metar_20221028_1000.txt', 'metar_20221028_1100.txt', 'metar_20221028_1200.txt', 'metar_20221028_1300.txt', 'metar_20221028_1400.txt', 'metar_20221028_1500.txt', 'metar_20221028_1600.txt', 'metar_20221028_1700.txt', 'metar_20221028_1800.txt', 'metar_20221028_1900.txt', 'metar_20221028_2000.txt', 'metar_20221028_2100.txt', 'metar_20221028_2200.txt', 'metar_20221028_2300.txt', 'metar_20221029_0000.txt', 'metar_20221029_0100.txt', 'metar_20221029_0200.txt', 'metar_20221029_0300.txt', 'metar_20221029_0400.txt', 'metar_20221029_0500.txt', 'metar_20221029_0600.txt', 'metar_20221029_0700.txt', 'metar_20221029_0800.txt', 'metar_20221029_0900.txt', 'metar_20221029_1000.txt', 'metar_20221029_1100.txt', 'metar_20221029_1200.txt', 'metar_20221029_1300.txt', 'metar_20221029_1400.txt', 'metar_20221029_1500.txt', 'metar_20221029_1600.txt', 'metar_20221029_1700.txt', 'metar_20221029_1800.txt', 'metar_20221029_1900.txt', 'metar_20221029_2000.txt', 'metar_20221029_2100.txt', 'metar_20221029_2200.txt', 'metar_20221029_2300.txt', 'metar_20221030_0000.txt', 'metar_20221030_0100.txt', 'metar_20221030_0200.txt', 'metar_20221030_0300.txt', 'metar_20221030_0400.txt', 'metar_20221030_0500.txt', 'metar_20221030_0600.txt', 'metar_20221030_0700.txt', 'metar_20221030_0800.txt', 'metar_20221030_0900.txt', 'metar_20221030_1000.txt', 'metar_20221030_1100.txt', 'metar_20221030_1200.txt', 'metar_20221030_1300.txt', 'metar_20221030_1400.txt', 'metar_20221030_1500.txt', 'metar_20221030_1600.txt', 'metar_20221030_1700.txt', 'metar_20221030_1800.txt', 'metar_20221030_1900.txt', 'metar_20221030_2000.txt', 'metar_20221030_2100.txt', 'metar_20221030_2200.txt', 'metar_20221030_2300.txt', 'metar_20221031_0000.txt', 'metar_20221031_0100.txt', 'metar_20221031_0200.txt', 'metar_20221031_0300.txt', 'metar_20221031_0400.txt', 'metar_20221031_0500.txt', 'metar_20221031_0600.txt', 'metar_20221031_0700.txt', 'metar_20221031_0800.txt', 'metar_20221031_0900.txt', 'metar_20221031_1000.txt', 'metar_20221031_1100.txt', 'metar_20221031_1200.txt', 'metar_20221031_1300.txt', 'metar_20221031_1400.txt', 'metar_20221031_1500.txt', 'metar_20221031_1600.txt', 'metar_20221031_1700.txt', 'metar_20221031_1800.txt', 'metar_20221031_1900.txt', 'metar_20221031_2000.txt', 'metar_20221031_2100.txt', 'metar_20221031_2200.txt', 'metar_20221031_2300.txt', 'metar_20221101_0000.txt', 'metar_20221101_0100.txt', 'metar_20221101_0200.txt', 'metar_20221101_0300.txt', 'metar_20221101_0400.txt', 'metar_20221101_0500.txt', 'metar_20221101_0600.txt', 'metar_20221101_0700.txt', 'metar_20221101_0800.txt', 'metar_20221101_0900.txt', 'metar_20221101_1000.txt', 'metar_20221101_1100.txt', 'metar_20221101_1200.txt', 'metar_20221101_1300.txt', 'metar_20221101_1400.txt', 'metar_20221101_1500.txt', 'metar_20221101_1600.txt', 'metar_20221101_1700.txt', 'metar_20221101_1800.txt', 'metar_20221101_1900.txt', 'metar_20221101_2000.txt', 'metar_20221101_2100.txt', 'metar_20221101_2200.txt', 'metar_20221101_2300.txt', 'metar_20221102_0000.txt', 'metar_20221102_0100.txt', 'metar_20221102_0200.txt', 'metar_20221102_0300.txt', 'metar_20221102_0400.txt', 'metar_20221102_0500.txt', 'metar_20221102_0600.txt', 'metar_20221102_0700.txt', 'metar_20221102_0800.txt', 'metar_20221102_0900.txt', 'metar_20221102_1000.txt', 'metar_20221102_1100.txt', 'metar_20221102_1200.txt', 'metar_20221102_1300.txt', 'metar_20221102_1400.txt', 'metar_20221102_1500.txt', 'metar_20221102_1600.txt', 'metar_20221102_1700.txt', 'metar_20221102_1800.txt', 'metar_20221102_1900.txt', 'metar_20221102_2000.txt', 'metar_20221102_2100.txt', 'metar_20221102_2200.txt', 'metar_20221102_2300.txt', 'metar_20221103_0000.txt', 'metar_20221103_0100.txt', 'metar_20221103_0200.txt', 'metar_20221103_0300.txt', 'metar_20221103_0400.txt', 'metar_20221103_0500.txt', 'metar_20221103_0600.txt', 'metar_20221103_0700.txt', 'metar_20221103_0800.txt', 'metar_20221103_0900.txt', 'metar_20221103_1000.txt', 'metar_20221103_1100.txt', 'metar_20221103_1200.txt', 'metar_20221103_1300.txt', 'metar_20221103_1400.txt', 'metar_20221103_1500.txt', 'metar_20221103_1600.txt', 'metar_20221103_1700.txt', 'metar_20221103_1800.txt', 'metar_20221103_1900.txt', 'metar_20221103_2000.txt', 'metar_20221103_2100.txt', 'metar_20221103_2200.txt', 'metar_20221103_2300.txt', 'metar_20221104_0000.txt', 'metar_20221104_0100.txt', 'metar_20221104_0200.txt', 'metar_20221104_0300.txt', 'metar_20221104_0400.txt', 'metar_20221104_0500.txt', 'metar_20221104_0600.txt', 'metar_20221104_0700.txt', 'metar_20221104_0800.txt', 'metar_20221104_0900.txt', 'metar_20221104_1000.txt', 'metar_20221104_1100.txt', 'metar_20221104_1200.txt', 'metar_20221104_1300.txt', 'metar_20221104_1400.txt', 'metar_20221104_1500.txt', 'metar_20221104_1600.txt', 'metar_20221104_1700.txt', 'metar_20221104_1800.txt', 'metar_20221104_1900.txt', 'metar_20221104_2000.txt', 'metar_20221104_2100.txt', 'metar_20221104_2200.txt', 'metar_20221104_2300.txt', 'metar_20221105_0000.txt', 'metar_20221105_0100.txt', 'metar_20221105_0200.txt', 'metar_20221105_0300.txt', 'metar_20221105_0400.txt', 'metar_20221105_0500.txt', 'metar_20221105_0600.txt', 'metar_20221105_0700.txt', 'metar_20221105_0800.txt', 'metar_20221105_0900.txt', 'metar_20221105_1000.txt', 'metar_20221105_1100.txt', 'metar_20221105_1200.txt', 'metar_20221105_1300.txt', 'metar_20221105_1400.txt', 'metar_20221105_1500.txt', 'metar_20221105_1600.txt', 'metar_20221105_1700.txt', 'metar_20221105_1800.txt', 'metar_20221105_1900.txt', 'metar_20221105_2000.txt', 'metar_20221105_2100.txt', 'metar_20221105_2200.txt', 'metar_20221105_2300.txt', 'metar_20221106_0000.txt', 'metar_20221106_0100.txt', 'metar_20221106_0200.txt', 'metar_20221106_0300.txt', 'metar_20221106_0400.txt', 'metar_20221106_0500.txt', 'metar_20221106_0600.txt', 'metar_20221106_0700.txt', 'metar_20221106_0800.txt', 'metar_20221106_0900.txt', 'metar_20221106_1000.txt', 'metar_20221106_1100.txt', 'metar_20221106_1200.txt', 'metar_20221106_1300.txt', 'metar_20221106_1400.txt', 'metar_20221106_1500.txt', 'metar_20221106_1600.txt', 'metar_20221106_1700.txt', 'metar_20221106_1800.txt', 'metar_20221106_1900.txt', 'metar_20221106_2000.txt', 'metar_20221106_2100.txt', 'metar_20221106_2200.txt', 'metar_20221106_2300.txt', 'metar_20221107_0000.txt', 'metar_20221107_0100.txt', 'metar_20221107_0200.txt', 'metar_20221107_0300.txt', 'metar_20221107_0400.txt', 'metar_20221107_0500.txt', 'metar_20221107_0600.txt', 'metar_20221107_0700.txt', 'metar_20221107_0800.txt', 'metar_20221107_0900.txt', 'metar_20221107_1000.txt', 'metar_20221107_1100.txt', 'metar_20221107_1200.txt', 'metar_20221107_1300.txt', 'metar_20221107_1400.txt', 'metar_20221107_1500.txt', 'metar_20221107_1600.txt', 'metar_20221107_1700.txt', 'metar_20221107_1800.txt', 'metar_20221107_1900.txt', 'metar_20221107_2000.txt', 'metar_20221107_2100.txt', 'metar_20221107_2200.txt', 'metar_20221107_2300.txt', 'metar_20221108_0000.txt', 'metar_20221108_0100.txt', 'metar_20221108_0200.txt', 'metar_20221108_0300.txt', 'metar_20221108_0400.txt', 'metar_20221108_0500.txt', 'metar_20221108_0600.txt', 'metar_20221108_0700.txt', 'metar_20221108_0800.txt', 'metar_20221108_0900.txt', 'metar_20221108_1000.txt', 'metar_20221108_1100.txt', 'metar_20221108_1200.txt', 'metar_20221108_1300.txt', 'metar_20221108_1400.txt', 'metar_20221108_1500.txt', 'metar_20221108_1600.txt', 'metar_20221108_1700.txt', 'metar_20221108_1800.txt', 'metar_20221108_1900.txt', 'metar_20221108_2000.txt', 'metar_20221108_2100.txt', 'metar_20221108_2200.txt', 'metar_20221108_2300.txt', 'metar_20221109_0000.txt', 'metar_20221109_0100.txt', 'metar_20221109_0200.txt', 'metar_20221109_0300.txt', 'metar_20221109_0400.txt', 'metar_20221109_0500.txt', 'metar_20221109_0600.txt', 'metar_20221109_0700.txt', 'metar_20221109_0800.txt', 'metar_20221109_0900.txt', 'metar_20221109_1000.txt', 'metar_20221109_1100.txt', 'metar_20221109_1200.txt', 'metar_20221109_1300.txt', 'metar_20221109_1400.txt', 'metar_20221109_1500.txt', 'metar_20221109_1600.txt', 'metar_20221109_1700.txt', 'metar_20221109_1800.txt', 'metar_20221109_1900.txt', 'metar_20221109_2000.txt', 'metar_20221109_2100.txt', 'metar_20221109_2200.txt', 'metar_20221109_2300.txt', 'metar_20221110_0000.txt', 'metar_20221110_0100.txt', 'metar_20221110_0200.txt', 'metar_20221110_0300.txt', 'metar_20221110_0400.txt', 'metar_20221110_0500.txt', 'metar_20221110_0600.txt', 'metar_20221110_0700.txt', 'metar_20221110_0800.txt', 'metar_20221110_0900.txt', 'metar_20221110_1000.txt', 'metar_20221110_1100.txt', 'metar_20221110_1200.txt', 'metar_20221110_1300.txt', 'metar_20221110_1400.txt', 'metar_20221110_1500.txt', 'metar_20221110_1600.txt', 'metar_20221110_1700.txt', 'metar_20221110_1800.txt', 'metar_20221110_1900.txt', 'metar_20221110_2000.txt', 'metar_20221110_2100.txt', 'metar_20221110_2200.txt', 'metar_20221110_2300.txt', 'metar_20221111_0000.txt', 'metar_20221111_0100.txt', 'metar_20221111_0200.txt', 'metar_20221111_0300.txt', 'metar_20221111_0400.txt', 'metar_20221111_0500.txt', 'metar_20221111_0600.txt', 'metar_20221111_0700.txt', 'metar_20221111_0800.txt', 'metar_20221111_0900.txt', 'metar_20221111_1000.txt', 'metar_20221111_1100.txt', 'metar_20221111_1200.txt', 'metar_20221111_1300.txt', 'metar_20221111_1400.txt', 'metar_20221111_1500.txt', 'metar_20221111_1600.txt', 'metar_20221111_1700.txt', 'metar_20221111_1800.txt', 'metar_20221111_1900.txt', 'metar_20221111_2000.txt', 'metar_20221111_2100.txt', 'metar_20221111_2200.txt', 'metar_20221111_2300.txt', 'metar_20221112_0000.txt', 'metar_20221112_0100.txt', 'metar_20221112_0200.txt', 'metar_20221112_0300.txt', 'metar_20221112_0400.txt', 'metar_20221112_0500.txt', 'metar_20221112_0600.txt', 'metar_20221112_0700.txt', 'metar_20221112_0800.txt', 'metar_20221112_0900.txt', 'metar_20221112_1000.txt', 'metar_20221112_1100.txt', 'metar_20221112_1200.txt', 'metar_20221112_1300.txt', 'metar_20221112_1400.txt', 'metar_20221112_1500.txt', 'metar_20221112_1600.txt', 'metar_20221112_1700.txt', 'metar_20221112_1800.txt', 'metar_20221112_1900.txt', 'metar_20221112_2000.txt', 'metar_20221112_2100.txt', 'metar_20221112_2200.txt', 'metar_20221112_2300.txt', 'metar_20221113_0000.txt', 'metar_20221113_0100.txt', 'metar_20221113_0200.txt', 'metar_20221113_0300.txt', 'metar_20221113_0400.txt', 'metar_20221113_0500.txt', 'metar_20221113_0600.txt', 'metar_20221113_0700.txt', 'metar_20221113_0800.txt', 'metar_20221113_0900.txt', 'metar_20221113_1000.txt', 'metar_20221113_1100.txt', 'metar_20221113_1200.txt', 'metar_20221113_1300.txt', 'metar_20221113_1400.txt', 'metar_20221113_1500.txt', 'metar_20221113_1600.txt', 'metar_20221113_1700.txt', 'metar_20221113_1800.txt', 'metar_20221113_1900.txt', 'metar_20221113_2000.txt', 'metar_20221113_2100.txt', 'metar_20221113_2200.txt', 'metar_20221113_2300.txt', 'metar_20221114_0000.txt', 'metar_20221114_0100.txt', 'metar_20221114_0200.txt', 'metar_20221114_0300.txt', 'metar_20221114_0400.txt', 'metar_20221114_0500.txt', 'metar_20221114_0600.txt', 'metar_20221114_0700.txt', 'metar_20221114_0800.txt', 'metar_20221114_0900.txt', 'metar_20221114_1000.txt', 'metar_20221114_1100.txt', 'metar_20221114_1200.txt', 'metar_20221114_1300.txt', 'metar_20221114_1400.txt', 'metar_20221114_1500.txt', 'metar_20221114_1600.txt', 'metar_20221114_1700.txt', 'metar_20221114_1800.txt', 'metar_20221114_1900.txt', 'metar_20221114_2000.txt', 'metar_20221114_2100.txt', 'metar_20221114_2200.txt', 'metar_20221114_2300.txt', 'metar_20221115_0000.txt', 'metar_20221115_0100.txt', 'metar_20221115_0200.txt', 'metar_20221115_0300.txt', 'metar_20221115_0400.txt', 'metar_20221115_0500.txt', 'metar_20221115_0600.txt', 'metar_20221115_0700.txt', 'metar_20221115_0800.txt', 'metar_20221115_0900.txt', 'metar_20221115_1000.txt', 'metar_20221115_1100.txt', 'metar_20221115_1200.txt', 'metar_20221115_1300.txt', 'metar_20221115_1400.txt', 'metar_20221115_1500.txt', 'metar_20221115_1600.txt', 'metar_20221115_1700.txt', 'metar_20221115_1800.txt', 'metar_20221115_1900.txt', 'metar_20221115_2000.txt', 'metar_20221115_2100.txt', 'metar_20221115_2200.txt', 'metar_20221115_2300.txt', 'metar_20221116_0000.txt', 'metar_20221116_0100.txt', 'metar_20221116_0200.txt', 'metar_20221116_0300.txt', 'metar_20221116_0400.txt', 'metar_20221116_0500.txt', 'metar_20221116_0600.txt', 'metar_20221116_0700.txt', 'metar_20221116_0800.txt', 'metar_20221116_0900.txt', 'metar_20221116_1000.txt', 'metar_20221116_1100.txt', 'metar_20221116_1200.txt', 'metar_20221116_1300.txt', 'metar_20221116_1400.txt', 'metar_20221116_1500.txt', 'metar_20221116_1600.txt', 'metar_20221116_1700.txt', 'metar_20221116_1800.txt', 'metar_20221116_1900.txt', 'metar_20221116_2000.txt', 'metar_20221116_2100.txt', 'metar_20221116_2200.txt', 'metar_20221116_2300.txt', 'metar_20221117_0000.txt', 'metar_20221117_0100.txt', 'metar_20221117_0200.txt', 'metar_20221117_0300.txt', 'metar_20221117_0400.txt', 'metar_20221117_0500.txt', 'metar_20221117_0600.txt', 'metar_20221117_0700.txt', 'metar_20221117_0800.txt', 'metar_20221117_0900.txt', 'metar_20221117_1000.txt', 'metar_20221117_1100.txt', 'metar_20221117_1200.txt', 'metar_20221117_1300.txt', 'metar_20221117_1400.txt', 'metar_20221117_1500.txt', 'metar_20221117_1600.txt', 'metar_20221117_1700.txt', 'metar_20221117_1800.txt', 'metar_20221117_1900.txt', 'metar_20221117_2000.txt', 'metar_20221117_2100.txt', 'metar_20221117_2200.txt', 'metar_20221117_2300.txt', 'metar_20221118_0000.txt', 'metar_20221118_0100.txt', 'metar_20221118_0200.txt', 'metar_20221118_0300.txt', 'metar_20221118_0400.txt', 'metar_20221118_0500.txt', 'metar_20221118_0600.txt', 'metar_20221118_0700.txt', 'metar_20221118_0800.txt', 'metar_20221118_0900.txt', 'metar_20221118_1000.txt', 'metar_20221118_1100.txt', 'metar_20221118_1200.txt', 'metar_20221118_1300.txt', 'metar_20221118_1400.txt', 'metar_20221118_1500.txt', 'metar_20221118_1600.txt', 'metar_20221118_1700.txt', 'metar_20221118_1800.txt', 'metar_20221118_1900.txt', 'metar_20221118_2000.txt', 'metar_20221118_2100.txt', 'metar_20221118_2200.txt', 'metar_20221118_2300.txt', 'metar_20221119_0000.txt', 'metar_20221119_0100.txt', 'metar_20221119_0200.txt', 'metar_20221119_0300.txt', 'metar_20221119_0400.txt', 'metar_20221119_0500.txt', 'metar_20221119_0600.txt', 'metar_20221119_0700.txt', 'metar_20221119_0800.txt', 'metar_20221119_0900.txt', 'metar_20221119_1000.txt', 'metar_20221119_1100.txt', 'metar_20221119_1200.txt', 'metar_20221119_1300.txt', 'metar_20221119_1400.txt', 'metar_20221119_1500.txt', 'metar_20221119_1600.txt', 'metar_20221119_1700.txt', 'metar_20221119_1800.txt', 'metar_20221119_1900.txt', 'metar_20221119_2000.txt', 'metar_20221119_2100.txt', 'metar_20221119_2200.txt', 'metar_20221119_2300.txt', 'metar_20221120_0000.txt', 'metar_20221120_0100.txt', 'metar_20221120_0200.txt', 'metar_20221120_0300.txt', 'metar_20221120_0400.txt', 'metar_20221120_0500.txt', 'metar_20221120_0600.txt', 'metar_20221120_0700.txt', 'metar_20221120_0800.txt', 'metar_20221120_0900.txt', 'metar_20221120_1000.txt', 'metar_20221120_1100.txt', 'metar_20221120_1200.txt', 'metar_20221120_1300.txt', 'metar_20221120_1400.txt', 'metar_20221120_1500.txt', 'metar_20221120_1600.txt', 'metar_20221120_1700.txt', 'metar_20221120_1800.txt', 'metar_20221120_1900.txt', 'metar_20221120_2000.txt', 'metar_20221120_2100.txt', 'metar_20221120_2200.txt', 'metar_20221120_2300.txt', 'metar_20221121_0000.txt', 'metar_20221121_0100.txt', 'metar_20221121_0200.txt', 'metar_20221121_0300.txt', 'metar_20221121_0400.txt', 'metar_20221121_0500.txt', 'metar_20221121_0600.txt', 'metar_20221121_0700.txt', 'metar_20221121_0800.txt', 'metar_20221121_0900.txt', 'metar_20221121_1000.txt', 'metar_20221121_1100.txt', 'metar_20221121_1200.txt', 'metar_20221121_1300.txt', 'metar_20221121_1400.txt', 'metar_20221121_1500.txt', 'metar_20221121_1600.txt', 'metar_20221121_1700.txt', 'metar_20221121_1800.txt', 'metar_20221121_1900.txt', 'metar_20221121_2000.txt', 'metar_20221121_2100.txt', 'metar_20221121_2200.txt', 'metar_20221121_2300.txt', 'metar_20221122_0000.txt', 'metar_20221122_0100.txt', 'metar_20221122_0200.txt', 'metar_20221122_0300.txt', 'metar_20221122_0400.txt', 'metar_20221122_0500.txt', 'metar_20221122_0600.txt', 'metar_20221122_0700.txt', 'metar_20221122_0800.txt', 'metar_20221122_0900.txt', 'metar_20221122_1000.txt', 'metar_20221122_1100.txt', 'metar_20221122_1200.txt', 'metar_20221122_1300.txt', 'metar_20221122_1400.txt', 'metar_20221122_1500.txt', 'metar_20221122_1600.txt', 'metar_20221122_1700.txt', 'metar_20221122_1800.txt', 'metar_20221122_1900.txt', 'metar_20221122_2000.txt', 'metar_20221122_2100.txt', 'metar_20221122_2200.txt', 'metar_20221122_2300.txt', 'metar_20221123_0000.txt', 'metar_20221123_0100.txt', 'metar_20221123_0200.txt', 'metar_20221123_0300.txt', 'metar_20221123_0400.txt', 'metar_20221123_0500.txt', 'metar_20221123_0600.txt', 'metar_20221123_0700.txt', 'metar_20221123_0800.txt', 'metar_20221123_0900.txt', 'metar_20221123_1000.txt', 'metar_20221123_1100.txt', 'metar_20221123_1200.txt', 'metar_20221123_1300.txt', 'metar_20221123_1400.txt', 'metar_20221123_1500.txt', 'metar_20221123_1600.txt', 'metar_20221123_1700.txt', 'metar_20221123_1800.txt', 'metar_20221123_1900.txt', 'metar_20221123_2000.txt', 'metar_20221123_2100.txt', 'metar_20221123_2200.txt', 'metar_20221123_2300.txt', 'metar_20221124_0000.txt', 'metar_20221124_0100.txt', 'metar_20221124_0200.txt', 'metar_20221124_0300.txt', 'metar_20221124_0400.txt', 'metar_20221124_0500.txt', 'metar_20221124_0600.txt', 'metar_20221124_0700.txt', 'metar_20221124_0800.txt', 'metar_20221124_0900.txt', 'metar_20221124_1000.txt', 'metar_20221124_1100.txt', 'metar_20221124_1200.txt', 'metar_20221124_1300.txt', 'metar_20221124_1400.txt', 'metar_20221124_1500.txt', 'metar_20221124_1600.txt', 'metar_20221124_1700.txt', 'metar_20221124_1800.txt', 'metar_20221124_1900.txt', 'metar_20221124_2000.txt', 'metar_20221124_2100.txt', 'metar_20221124_2200.txt', 'metar_20221124_2300.txt', 'metar_20221125_0000.txt', 'metar_20221125_0100.txt', 'metar_20221125_0200.txt', 'metar_20221125_1200.txt']"
      ]
     },
     "execution_count": 2,
     "metadata": {},
     "output_type": "execute_result"
    }
   ],
   "source": [
    "cat = TDSCatalog('https://thredds-test.unidata.ucar.edu/thredds/catalog/noaaport/text/metar/catalog.xml')\n",
    "cat.datasets"
   ]
  },
  {
   "cell_type": "code",
   "execution_count": 3,
   "metadata": {},
   "outputs": [],
   "source": [
    "ds = cat.datasets[0]\n",
    "ds.download()"
   ]
  },
  {
   "cell_type": "code",
   "execution_count": 4,
   "metadata": {},
   "outputs": [],
   "source": [
    "from metpy.io import parse_metar_file"
   ]
  },
  {
   "cell_type": "code",
   "execution_count": 5,
   "metadata": {},
   "outputs": [
    {
     "data": {
      "text/plain": [
       "'metar_20221026_0000.txt'"
      ]
     },
     "execution_count": 5,
     "metadata": {},
     "output_type": "execute_result"
    }
   ],
   "source": [
    "ds.name"
   ]
  },
  {
   "cell_type": "code",
   "execution_count": 6,
   "metadata": {},
   "outputs": [
    {
     "data": {
      "text/html": [
       "<div>\n",
       "<style scoped>\n",
       "    .dataframe tbody tr th:only-of-type {\n",
       "        vertical-align: middle;\n",
       "    }\n",
       "\n",
       "    .dataframe tbody tr th {\n",
       "        vertical-align: top;\n",
       "    }\n",
       "\n",
       "    .dataframe thead th {\n",
       "        text-align: right;\n",
       "    }\n",
       "</style>\n",
       "<table border=\"1\" class=\"dataframe\">\n",
       "  <thead>\n",
       "    <tr style=\"text-align: right;\">\n",
       "      <th></th>\n",
       "      <th>station_id</th>\n",
       "      <th>latitude</th>\n",
       "      <th>longitude</th>\n",
       "      <th>elevation</th>\n",
       "      <th>date_time</th>\n",
       "      <th>wind_direction</th>\n",
       "      <th>wind_speed</th>\n",
       "      <th>wind_gust</th>\n",
       "      <th>visibility</th>\n",
       "      <th>current_wx1</th>\n",
       "      <th>...</th>\n",
       "      <th>air_temperature</th>\n",
       "      <th>dew_point_temperature</th>\n",
       "      <th>altimeter</th>\n",
       "      <th>current_wx1_symbol</th>\n",
       "      <th>current_wx2_symbol</th>\n",
       "      <th>current_wx3_symbol</th>\n",
       "      <th>remarks</th>\n",
       "      <th>air_pressure_at_sea_level</th>\n",
       "      <th>eastward_wind</th>\n",
       "      <th>northward_wind</th>\n",
       "    </tr>\n",
       "    <tr>\n",
       "      <th>station_id</th>\n",
       "      <th></th>\n",
       "      <th></th>\n",
       "      <th></th>\n",
       "      <th></th>\n",
       "      <th></th>\n",
       "      <th></th>\n",
       "      <th></th>\n",
       "      <th></th>\n",
       "      <th></th>\n",
       "      <th></th>\n",
       "      <th></th>\n",
       "      <th></th>\n",
       "      <th></th>\n",
       "      <th></th>\n",
       "      <th></th>\n",
       "      <th></th>\n",
       "      <th></th>\n",
       "      <th></th>\n",
       "      <th></th>\n",
       "      <th></th>\n",
       "      <th></th>\n",
       "    </tr>\n",
       "  </thead>\n",
       "  <tbody>\n",
       "    <tr>\n",
       "      <th>KC62</th>\n",
       "      <td>KC62</td>\n",
       "      <td>41.47</td>\n",
       "      <td>-85.27</td>\n",
       "      <td>306.0</td>\n",
       "      <td>2022-11-25 23:55:00</td>\n",
       "      <td>170.0</td>\n",
       "      <td>4.0</td>\n",
       "      <td>NaN</td>\n",
       "      <td>16093.44</td>\n",
       "      <td>NaN</td>\n",
       "      <td>...</td>\n",
       "      <td>16.0</td>\n",
       "      <td>16.0</td>\n",
       "      <td>29.69</td>\n",
       "      <td>0</td>\n",
       "      <td>0</td>\n",
       "      <td>0</td>\n",
       "      <td>AO2 P0001 T01600160</td>\n",
       "      <td>1005.40</td>\n",
       "      <td>-0.694593</td>\n",
       "      <td>3.939231</td>\n",
       "    </tr>\n",
       "    <tr>\n",
       "      <th>KMCX</th>\n",
       "      <td>KMCX</td>\n",
       "      <td>40.72</td>\n",
       "      <td>-86.77</td>\n",
       "      <td>206.0</td>\n",
       "      <td>2022-11-25 23:55:00</td>\n",
       "      <td>130.0</td>\n",
       "      <td>5.0</td>\n",
       "      <td>NaN</td>\n",
       "      <td>16093.44</td>\n",
       "      <td>UP</td>\n",
       "      <td>...</td>\n",
       "      <td>16.0</td>\n",
       "      <td>15.0</td>\n",
       "      <td>29.64</td>\n",
       "      <td>141</td>\n",
       "      <td>0</td>\n",
       "      <td>0</td>\n",
       "      <td>AO2 P0003 60056 T01580150 10176 20158</td>\n",
       "      <td>1003.83</td>\n",
       "      <td>-3.830222</td>\n",
       "      <td>3.213938</td>\n",
       "    </tr>\n",
       "    <tr>\n",
       "      <th>KRID</th>\n",
       "      <td>KRID</td>\n",
       "      <td>39.75</td>\n",
       "      <td>-84.85</td>\n",
       "      <td>348.0</td>\n",
       "      <td>2022-11-25 23:55:00</td>\n",
       "      <td>140.0</td>\n",
       "      <td>8.0</td>\n",
       "      <td>NaN</td>\n",
       "      <td>16093.44</td>\n",
       "      <td>NaN</td>\n",
       "      <td>...</td>\n",
       "      <td>19.0</td>\n",
       "      <td>13.0</td>\n",
       "      <td>29.70</td>\n",
       "      <td>0</td>\n",
       "      <td>0</td>\n",
       "      <td>0</td>\n",
       "      <td>AO2</td>\n",
       "      <td>1005.26</td>\n",
       "      <td>-5.142301</td>\n",
       "      <td>6.128356</td>\n",
       "    </tr>\n",
       "    <tr>\n",
       "      <th>KW75</th>\n",
       "      <td>KW75</td>\n",
       "      <td>37.60</td>\n",
       "      <td>-76.45</td>\n",
       "      <td>9.0</td>\n",
       "      <td>2022-11-25 23:55:00</td>\n",
       "      <td>0.0</td>\n",
       "      <td>0.0</td>\n",
       "      <td>NaN</td>\n",
       "      <td>16093.44</td>\n",
       "      <td>NaN</td>\n",
       "      <td>...</td>\n",
       "      <td>15.0</td>\n",
       "      <td>14.0</td>\n",
       "      <td>30.00</td>\n",
       "      <td>0</td>\n",
       "      <td>0</td>\n",
       "      <td>0</td>\n",
       "      <td>AO1 T01500140 10160 20150</td>\n",
       "      <td>1016.22</td>\n",
       "      <td>-0.000000</td>\n",
       "      <td>-0.000000</td>\n",
       "    </tr>\n",
       "    <tr>\n",
       "      <th>KGPH</th>\n",
       "      <td>KGPH</td>\n",
       "      <td>39.33</td>\n",
       "      <td>-94.32</td>\n",
       "      <td>235.0</td>\n",
       "      <td>2022-11-25 23:55:00</td>\n",
       "      <td>330.0</td>\n",
       "      <td>8.0</td>\n",
       "      <td>NaN</td>\n",
       "      <td>16093.44</td>\n",
       "      <td>NaN</td>\n",
       "      <td>...</td>\n",
       "      <td>11.0</td>\n",
       "      <td>1.0</td>\n",
       "      <td>29.87</td>\n",
       "      <td>0</td>\n",
       "      <td>0</td>\n",
       "      <td>0</td>\n",
       "      <td>AO2</td>\n",
       "      <td>1012.12</td>\n",
       "      <td>4.000000</td>\n",
       "      <td>-6.928203</td>\n",
       "    </tr>\n",
       "  </tbody>\n",
       "</table>\n",
       "<p>5 rows × 31 columns</p>\n",
       "</div>"
      ],
      "text/plain": [
       "           station_id  latitude  longitude  elevation           date_time  \\\n",
       "station_id                                                                  \n",
       "KC62             KC62     41.47     -85.27      306.0 2022-11-25 23:55:00   \n",
       "KMCX             KMCX     40.72     -86.77      206.0 2022-11-25 23:55:00   \n",
       "KRID             KRID     39.75     -84.85      348.0 2022-11-25 23:55:00   \n",
       "KW75             KW75     37.60     -76.45        9.0 2022-11-25 23:55:00   \n",
       "KGPH             KGPH     39.33     -94.32      235.0 2022-11-25 23:55:00   \n",
       "\n",
       "            wind_direction  wind_speed  wind_gust  visibility current_wx1  \\\n",
       "station_id                                                                  \n",
       "KC62                 170.0         4.0        NaN    16093.44         NaN   \n",
       "KMCX                 130.0         5.0        NaN    16093.44          UP   \n",
       "KRID                 140.0         8.0        NaN    16093.44         NaN   \n",
       "KW75                   0.0         0.0        NaN    16093.44         NaN   \n",
       "KGPH                 330.0         8.0        NaN    16093.44         NaN   \n",
       "\n",
       "            ... air_temperature dew_point_temperature altimeter  \\\n",
       "station_id  ...                                                   \n",
       "KC62        ...            16.0                  16.0     29.69   \n",
       "KMCX        ...            16.0                  15.0     29.64   \n",
       "KRID        ...            19.0                  13.0     29.70   \n",
       "KW75        ...            15.0                  14.0     30.00   \n",
       "KGPH        ...            11.0                   1.0     29.87   \n",
       "\n",
       "            current_wx1_symbol current_wx2_symbol  current_wx3_symbol  \\\n",
       "station_id                                                              \n",
       "KC62                         0                  0                   0   \n",
       "KMCX                       141                  0                   0   \n",
       "KRID                         0                  0                   0   \n",
       "KW75                         0                  0                   0   \n",
       "KGPH                         0                  0                   0   \n",
       "\n",
       "                                          remarks  air_pressure_at_sea_level  \\\n",
       "station_id                                                                     \n",
       "KC62                          AO2 P0001 T01600160                    1005.40   \n",
       "KMCX        AO2 P0003 60056 T01580150 10176 20158                    1003.83   \n",
       "KRID                                          AO2                    1005.26   \n",
       "KW75                    AO1 T01500140 10160 20150                    1016.22   \n",
       "KGPH                                          AO2                    1012.12   \n",
       "\n",
       "           eastward_wind  northward_wind  \n",
       "station_id                                \n",
       "KC62           -0.694593        3.939231  \n",
       "KMCX           -3.830222        3.213938  \n",
       "KRID           -5.142301        6.128356  \n",
       "KW75           -0.000000       -0.000000  \n",
       "KGPH            4.000000       -6.928203  \n",
       "\n",
       "[5 rows x 31 columns]"
      ]
     },
     "execution_count": 6,
     "metadata": {},
     "output_type": "execute_result"
    }
   ],
   "source": [
    "df = parse_metar_file(ds.name)\n",
    "df.head()"
   ]
  },
  {
   "cell_type": "code",
   "execution_count": 7,
   "metadata": {},
   "outputs": [],
   "source": [
    "from datetime import datetime, timedelta\n",
    "import cartopy.crs as ccrs\n",
    "\n",
    "from metpy.plots.declarative import *\n",
    "from metpy.units import units"
   ]
  },
  {
   "cell_type": "code",
   "execution_count": 8,
   "metadata": {},
   "outputs": [],
   "source": [
    "# Add dewpoint temps\n",
    "df['tempf'] = (df.air_temperature.values * units.degC).to('degF')\n",
    "df['dew_point_temperature'] = (df.dew_point_temperature.values * units.degC).to('degF')"
   ]
  },
  {
   "cell_type": "code",
   "execution_count": 9,
   "metadata": {},
   "outputs": [
    {
     "data": {
      "text/plain": [
       "{'station_id': None,\n",
       " 'latitude': 'degrees',\n",
       " 'longitude': 'degrees',\n",
       " 'elevation': 'meters',\n",
       " 'date_time': None,\n",
       " 'wind_direction': 'degrees',\n",
       " 'wind_speed': 'kts',\n",
       " 'wind_gust': 'kts',\n",
       " 'visibility': 'meters',\n",
       " 'eastward_wind': 'kts',\n",
       " 'northward_wind': 'kts',\n",
       " 'current_wx1': None,\n",
       " 'current_wx2': None,\n",
       " 'current_wx3': None,\n",
       " 'low_cloud_type': None,\n",
       " 'low_cloud_level': 'feet',\n",
       " 'medium_cloud_type': None,\n",
       " 'medium_cloud_level': 'feet',\n",
       " 'high_cloud_type': None,\n",
       " 'high_cloud_level': 'feet',\n",
       " 'highest_cloud_type': None,\n",
       " 'highest_cloud_level:': None,\n",
       " 'cloud_coverage': None,\n",
       " 'air_temperature': 'degC',\n",
       " 'dew_point_temperature': 'degC',\n",
       " 'altimeter': 'inHg',\n",
       " 'air_pressure_at_sea_level': 'hPa',\n",
       " 'current_wx1_symbol': None,\n",
       " 'current_wx2_symbol': None,\n",
       " 'current_wx3_symbol': None}"
      ]
     },
     "execution_count": 9,
     "metadata": {},
     "output_type": "execute_result"
    }
   ],
   "source": [
    "df.units"
   ]
  },
  {
   "cell_type": "code",
   "execution_count": 10,
   "metadata": {},
   "outputs": [
    {
     "data": {
      "text/plain": [
       "count    8377.000000\n",
       "mean       29.904122\n",
       "std         0.216495\n",
       "min        28.730000\n",
       "25%        29.810000\n",
       "50%        29.930000\n",
       "75%        30.020000\n",
       "max        30.530000\n",
       "Name: altimeter, dtype: float64"
      ]
     },
     "execution_count": 10,
     "metadata": {},
     "output_type": "execute_result"
    }
   ],
   "source": [
    "df['altimeter'].describe()"
   ]
  },
  {
   "cell_type": "code",
   "execution_count": 11,
   "metadata": {},
   "outputs": [
    {
     "data": {
      "text/plain": [
       "count    8942.000000\n",
       "mean        4.091255\n",
       "std         3.798845\n",
       "min         0.000000\n",
       "25%         0.000000\n",
       "50%         4.000000\n",
       "75%         8.000000\n",
       "max        10.000000\n",
       "Name: cloud_coverage, dtype: float64"
      ]
     },
     "execution_count": 11,
     "metadata": {},
     "output_type": "execute_result"
    }
   ],
   "source": [
    "df['cloud_coverage'].describe()"
   ]
  },
  {
   "cell_type": "code",
   "execution_count": 12,
   "metadata": {},
   "outputs": [
    {
     "data": {
      "text/plain": [
       "'306'"
      ]
     },
     "execution_count": 12,
     "metadata": {},
     "output_type": "execute_result"
    }
   ],
   "source": [
    "format(10 * 30.62, '.0f')[-3:]"
   ]
  },
  {
   "cell_type": "code",
   "execution_count": 17,
   "metadata": {},
   "outputs": [
    {
     "data": {
      "image/png": "[encoded data removed]",
      "text/plain": [
       "<Figure size 1500x1500 with 1 Axes>"
      ]
     },
     "metadata": {},
     "output_type": "display_data"
    }
   ],
   "source": [
    "obs = PlotObs()\n",
    "obs.data = df\n",
    "obs.time = datetime.utcnow()\n",
    "obs.level = None\n",
    "obs.fields = ['tempf', 'dew_point_temperature', 'altimeter', 'cloud_coverage']\n",
    "obs.locations = ['NW', 'SW', 'NE', 'C']\n",
    "obs.colors = ['tab:red', 'tab:green', 'black', 'black']\n",
    "obs.formats = [None, None, lambda v: format(10 * v, '.0f')[-3:], 'sky_cover']\n",
    "obs.vector_field = ['eastward_wind', 'northward_wind']\n",
    "obs.reduce_points = 0.5\n",
    "\n",
    "panel = MapPanel()\n",
    "panel.area = 'ks'\n",
    "panel.projection = ccrs.PlateCarree()\n",
    "panel.layers = ['coastline', 'borders', 'states']\n",
    "\n",
    "panel.plots = [obs]\n",
    "\n",
    "pc = PanelContainer()\n",
    "pc.size = (15, 15)\n",
    "pc.panels = [panel]\n",
    "\n",
    "pc.show()"
   ]
  },
  {
   "cell_type": "code",
   "execution_count": null,
   "metadata": {},
   "outputs": [],
   "source": []
  }
 ],
 "metadata": {
  "kernelspec": {
   "display_name": "Python 3.9.12 ('base')",
   "language": "python",
   "name": "python3"
  },
  "language_info": {
   "codemirror_mode": {
    "name": "ipython",
    "version": 3
   },
   "file_extension": ".py",
   "mimetype": "text/x-python",
   "name": "python",
   "nbconvert_exporter": "python",
   "pygments_lexer": "ipython3",
   "version": "3.9.12"
  },
  "orig_nbformat": 4,
  "vscode": {
   "interpreter": {
    "hash": "b5cfa023891fceef02537f80a4c6e95b77988fb973cdb16a51cdb785092210be"
   }
  }
 },
 "nbformat": 4,
 "nbformat_minor": 2
}
