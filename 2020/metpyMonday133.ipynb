{
 "cells": [
  {
   "cell_type": "markdown",
   "metadata": {},
   "source": [
    "## 133 - Timezones and pytz\n",
    "\n",
    "[Youtube](https://www.youtube.com/watch?v=IIriyfUmKgQ)"
   ]
  },
  {
   "cell_type": "code",
   "execution_count": 1,
   "metadata": {},
   "outputs": [],
   "source": [
    "from datetime import datetime\n",
    "import pytz"
   ]
  },
  {
   "cell_type": "code",
   "execution_count": 2,
   "metadata": {},
   "outputs": [
    {
     "name": "stdout",
     "output_type": "stream",
     "text": [
      "2022-12-18 21:14:44.927614\n"
     ]
    }
   ],
   "source": [
    "now = datetime.now()\n",
    "print(now)"
   ]
  },
  {
   "cell_type": "code",
   "execution_count": 3,
   "metadata": {},
   "outputs": [],
   "source": [
    "utc = pytz.utc"
   ]
  },
  {
   "cell_type": "code",
   "execution_count": 4,
   "metadata": {},
   "outputs": [
    {
     "data": {
      "text/plain": [
       "<DstTzInfo 'US/Mountain' LMT-1 day, 17:00:00 STD>"
      ]
     },
     "execution_count": 4,
     "metadata": {},
     "output_type": "execute_result"
    }
   ],
   "source": [
    "mtn = pytz.timezone('US/Mountain')\n",
    "mtn"
   ]
  },
  {
   "cell_type": "code",
   "execution_count": 5,
   "metadata": {},
   "outputs": [
    {
     "data": {
      "text/plain": [
       "datetime.datetime(2022, 12, 18, 20, 14, 44, 927614, tzinfo=<DstTzInfo 'US/Mountain' MST-1 day, 17:00:00 STD>)"
      ]
     },
     "execution_count": 5,
     "metadata": {},
     "output_type": "execute_result"
    }
   ],
   "source": [
    "now.astimezone(mtn)"
   ]
  },
  {
   "cell_type": "code",
   "execution_count": 6,
   "metadata": {},
   "outputs": [
    {
     "data": {
      "text/plain": [
       "datetime.datetime(2022, 12, 18, 21, 14, 44, 927614, tzinfo=<UTC>)"
      ]
     },
     "execution_count": 6,
     "metadata": {},
     "output_type": "execute_result"
    }
   ],
   "source": [
    "utc_now = utc.localize(now)\n",
    "utc_now"
   ]
  },
  {
   "cell_type": "code",
   "execution_count": 7,
   "metadata": {},
   "outputs": [
    {
     "data": {
      "text/plain": [
       "datetime.datetime(2022, 12, 18, 14, 14, 44, 927614, tzinfo=<DstTzInfo 'US/Mountain' MST-1 day, 17:00:00 STD>)"
      ]
     },
     "execution_count": 7,
     "metadata": {},
     "output_type": "execute_result"
    }
   ],
   "source": [
    "utc_now.astimezone(mtn)"
   ]
  },
  {
   "cell_type": "code",
   "execution_count": 8,
   "metadata": {},
   "outputs": [
    {
     "data": {
      "text/plain": [
       "[datetime.datetime(2020, 6, 1, 0, 0),\n",
       " datetime.datetime(2020, 6, 1, 3, 0),\n",
       " datetime.datetime(2020, 6, 1, 6, 0),\n",
       " datetime.datetime(2020, 6, 1, 9, 0),\n",
       " datetime.datetime(2020, 6, 1, 12, 0),\n",
       " datetime.datetime(2020, 6, 1, 15, 0),\n",
       " datetime.datetime(2020, 6, 1, 18, 0),\n",
       " datetime.datetime(2020, 6, 1, 21, 0),\n",
       " datetime.datetime(2020, 6, 2, 0, 0)]"
      ]
     },
     "execution_count": 8,
     "metadata": {},
     "output_type": "execute_result"
    }
   ],
   "source": [
    "forecast_hour = [datetime(2020, 6, 1, 0), datetime(2020, 6, 1, 3), datetime(2020, 6, 1, 6), datetime(2020, 6, 1, 9), datetime(2020, 6, 1, 12), datetime(2020, 6, 1, 15), datetime(2020, 6, 1, 18), datetime(2020, 6, 1, 21), datetime(2020, 6, 2, 0)]\n",
    "forecast_hour"
   ]
  },
  {
   "cell_type": "code",
   "execution_count": 9,
   "metadata": {},
   "outputs": [
    {
     "data": {
      "text/plain": [
       "[datetime.datetime(2020, 6, 1, 0, 0, tzinfo=<UTC>),\n",
       " datetime.datetime(2020, 6, 1, 3, 0, tzinfo=<UTC>),\n",
       " datetime.datetime(2020, 6, 1, 6, 0, tzinfo=<UTC>),\n",
       " datetime.datetime(2020, 6, 1, 9, 0, tzinfo=<UTC>),\n",
       " datetime.datetime(2020, 6, 1, 12, 0, tzinfo=<UTC>),\n",
       " datetime.datetime(2020, 6, 1, 15, 0, tzinfo=<UTC>),\n",
       " datetime.datetime(2020, 6, 1, 18, 0, tzinfo=<UTC>),\n",
       " datetime.datetime(2020, 6, 1, 21, 0, tzinfo=<UTC>),\n",
       " datetime.datetime(2020, 6, 2, 0, 0, tzinfo=<UTC>)]"
      ]
     },
     "execution_count": 9,
     "metadata": {},
     "output_type": "execute_result"
    }
   ],
   "source": [
    "forecast_hour = [utc.localize(t) for t in forecast_hour]\n",
    "forecast_hour"
   ]
  },
  {
   "cell_type": "code",
   "execution_count": 10,
   "metadata": {},
   "outputs": [
    {
     "data": {
      "text/plain": [
       "[datetime.datetime(2020, 5, 31, 18, 0, tzinfo=<DstTzInfo 'US/Mountain' MDT-1 day, 18:00:00 DST>),\n",
       " datetime.datetime(2020, 5, 31, 21, 0, tzinfo=<DstTzInfo 'US/Mountain' MDT-1 day, 18:00:00 DST>),\n",
       " datetime.datetime(2020, 6, 1, 0, 0, tzinfo=<DstTzInfo 'US/Mountain' MDT-1 day, 18:00:00 DST>),\n",
       " datetime.datetime(2020, 6, 1, 3, 0, tzinfo=<DstTzInfo 'US/Mountain' MDT-1 day, 18:00:00 DST>),\n",
       " datetime.datetime(2020, 6, 1, 6, 0, tzinfo=<DstTzInfo 'US/Mountain' MDT-1 day, 18:00:00 DST>),\n",
       " datetime.datetime(2020, 6, 1, 9, 0, tzinfo=<DstTzInfo 'US/Mountain' MDT-1 day, 18:00:00 DST>),\n",
       " datetime.datetime(2020, 6, 1, 12, 0, tzinfo=<DstTzInfo 'US/Mountain' MDT-1 day, 18:00:00 DST>),\n",
       " datetime.datetime(2020, 6, 1, 15, 0, tzinfo=<DstTzInfo 'US/Mountain' MDT-1 day, 18:00:00 DST>),\n",
       " datetime.datetime(2020, 6, 1, 18, 0, tzinfo=<DstTzInfo 'US/Mountain' MDT-1 day, 18:00:00 DST>)]"
      ]
     },
     "execution_count": 10,
     "metadata": {},
     "output_type": "execute_result"
    }
   ],
   "source": [
    "forecast_hour_local = [t.astimezone(mtn) for t in forecast_hour]\n",
    "forecast_hour_local"
   ]
  }
 ],
 "metadata": {
  "kernelspec": {
   "display_name": "Python 3.9.12 ('base')",
   "language": "python",
   "name": "python3"
  },
  "language_info": {
   "codemirror_mode": {
    "name": "ipython",
    "version": 3
   },
   "file_extension": ".py",
   "mimetype": "text/x-python",
   "name": "python",
   "nbconvert_exporter": "python",
   "pygments_lexer": "ipython3",
   "version": "3.9.12"
  },
  "orig_nbformat": 4,
  "vscode": {
   "interpreter": {
    "hash": "b5cfa023891fceef02537f80a4c6e95b77988fb973cdb16a51cdb785092210be"
   }
  }
 },
 "nbformat": 4,
 "nbformat_minor": 2
}
