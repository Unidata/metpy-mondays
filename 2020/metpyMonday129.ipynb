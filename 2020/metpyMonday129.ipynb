{
 "cells": [
  {
   "attachments": {},
   "cell_type": "markdown",
   "metadata": {},
   "source": [
    "## 129 - Cleaning up Glitchy Data\n",
    "\n",
    "\n",
    "[Youtube](youtube.com/watch?v=IqVwBK-TSlk)\n"
   ]
  },
  {
   "cell_type": "code",
   "execution_count": null,
   "metadata": {},
   "outputs": [],
   "source": [
    "import numpy as np\n",
    "import matplolib.pyplot as plt\n",
    "%matplotlib inline"
   ]
  },
  {
   "cell_type": "code",
   "execution_count": null,
   "metadata": {},
   "outputs": [],
   "source": [
    "temperature = np.loadtxt('ds18b20_log.txt', skiprows = 1, usecols=[0])\n",
    "temperature.shape"
   ]
  },
  {
   "cell_type": "code",
   "execution_count": null,
   "metadata": {},
   "outputs": [],
   "source": [
    "fig, ax = plt.subplots()\n",
    "ax.plot(temperature, label = 'Raw Data')\n",
    "plt.legend()"
   ]
  },
  {
   "cell_type": "code",
   "execution_count": null,
   "metadata": {},
   "outputs": [],
   "source": [
    "mean_filter_temperature = np.convolve(np.ones(11), temperature, mode = 'same') / 11"
   ]
  },
  {
   "cell_type": "code",
   "execution_count": null,
   "metadata": {},
   "outputs": [],
   "source": [
    "fig, ax = plt.subplot()\n",
    "ax.plot(temperature, label = 'Raw Data')\n",
    "ax.plot(mean_filter_temperature, label = 'Mean Filter')"
   ]
  },
  {
   "cell_type": "code",
   "execution_count": null,
   "metadata": {},
   "outputs": [],
   "source": [
    "remove_idx = np.abs(temperature - mean_filter_temperature) > 2\n",
    "mean_removed_temperature = np.copy(temperature)\n",
    "mean_removed_temperature[remove_idx] = np.nan"
   ]
  },
  {
   "cell_type": "code",
   "execution_count": null,
   "metadata": {},
   "outputs": [],
   "source": [
    "fig, ax = plt.subplots()\n",
    "ax.plot(temperature, label = 'Raw Data')\n",
    "ax.plot(mean_removed_temperature, label = 'Mean Removed')\n",
    "ax.legend()\n",
    "ax.set_ylim(15, 18)"
   ]
  },
  {
   "cell_type": "code",
   "execution_count": null,
   "metadata": {},
   "outputs": [],
   "source": [
    "from scipy.signal import medfilt\n",
    "median_filter_temperature = medfilt(temperature, 11)"
   ]
  },
  {
   "cell_type": "code",
   "execution_count": null,
   "metadata": {},
   "outputs": [],
   "source": [
    "fig, ax = plt.subplots()\n",
    "ax.plot(temperature, label = 'Raw Data')\n",
    "ax.plot(mean_removed_temperature, label = 'Mean Removed')\n",
    "ax.plot(median_filter_temperature, label = 'Median Filter')\n",
    "plt.legend()\n",
    "ax.set_ylim(15, 18)"
   ]
  }
 ],
 "metadata": {
  "language_info": {
   "name": "python"
  },
  "orig_nbformat": 4
 },
 "nbformat": 4,
 "nbformat_minor": 2
}
