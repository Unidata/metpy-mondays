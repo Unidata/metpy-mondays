{
 "cells": [
  {
   "cell_type": "markdown",
   "metadata": {},
   "source": [
    "## 132 - GFS Weekend Forecast\n",
    "\n",
    "[Youtube](https://www.youtube.com/watch?v=6vVYNGkLdTs)"
   ]
  },
  {
   "cell_type": "code",
   "execution_count": 1,
   "metadata": {},
   "outputs": [],
   "source": [
    "from datetime import datetime, timedelta\n",
    "\n",
    "import matplotlib.pyplot as plt\n",
    "import numpy as np\n",
    "import pandas as pd\n",
    "\n",
    "from siphon.catalog import TDSCatalog"
   ]
  },
  {
   "cell_type": "code",
   "execution_count": 2,
   "metadata": {},
   "outputs": [],
   "source": [
    "gfs_catalog = ('http://thredds.ucar.edu/thredds/catalog/grib/NCEP/GFS/Global_0p5deg/catalog.xml?dataset=grib/NCEP/GFS/Global_0p5deg/Best')"
   ]
  },
  {
   "cell_type": "code",
   "execution_count": 3,
   "metadata": {},
   "outputs": [
    {
     "data": {
      "text/plain": [
       "['Best GFS Half Degree Forecast Time Series']"
      ]
     },
     "execution_count": 3,
     "metadata": {},
     "output_type": "execute_result"
    }
   ],
   "source": [
    "cat = TDSCatalog(gfs_catalog)\n",
    "\n",
    "cat.datasets"
   ]
  },
  {
   "cell_type": "code",
   "execution_count": 4,
   "metadata": {},
   "outputs": [
    {
     "data": {
      "text/plain": [
       "{'Absolute_vorticity_isobaric',\n",
       " 'Albedo_surface_Mixed_intervals_Average',\n",
       " 'Apparent_temperature_height_above_ground',\n",
       " 'Best_4_layer_Lifted_Index_surface',\n",
       " 'Categorical_Freezing_Rain_surface',\n",
       " 'Categorical_Freezing_Rain_surface_Mixed_intervals_Average',\n",
       " 'Categorical_Ice_Pellets_surface',\n",
       " 'Categorical_Ice_Pellets_surface_Mixed_intervals_Average',\n",
       " 'Categorical_Rain_surface',\n",
       " 'Categorical_Rain_surface_Mixed_intervals_Average',\n",
       " 'Categorical_Snow_surface',\n",
       " 'Categorical_Snow_surface_Mixed_intervals_Average',\n",
       " 'Cloud_Work_Function_entire_atmosphere_single_layer_Mixed_intervals_Average',\n",
       " 'Cloud_mixing_ratio_hybrid',\n",
       " 'Cloud_mixing_ratio_isobaric',\n",
       " 'Cloud_water_entire_atmosphere_single_layer',\n",
       " 'Composite_reflectivity_entire_atmosphere',\n",
       " 'Convective_Precipitation_Rate_surface_Mixed_intervals_Average',\n",
       " 'Convective_available_potential_energy_pressure_difference_layer',\n",
       " 'Convective_available_potential_energy_surface',\n",
       " 'Convective_inhibition_pressure_difference_layer',\n",
       " 'Convective_inhibition_surface',\n",
       " 'Convective_precipitation_rate_surface',\n",
       " 'Convective_precipitation_surface_Mixed_intervals_Accumulation',\n",
       " 'Dewpoint_temperature_height_above_ground',\n",
       " 'Downward_Long-Wave_Radp_Flux_surface_Mixed_intervals_Average',\n",
       " 'Downward_Short-Wave_Radiation_Flux_surface_Mixed_intervals_Average',\n",
       " 'Field_Capacity_surface',\n",
       " 'Frictional_Velocity_surface',\n",
       " 'Geopotential_height_cloud_ceiling',\n",
       " 'Geopotential_height_highest_tropospheric_freezing',\n",
       " 'Geopotential_height_isobaric',\n",
       " 'Geopotential_height_maximum_wind',\n",
       " 'Geopotential_height_potential_vorticity_surface',\n",
       " 'Geopotential_height_surface',\n",
       " 'Geopotential_height_tropopause',\n",
       " 'Geopotential_height_zeroDegC_isotherm',\n",
       " 'Graupel_snow_pellets_hybrid',\n",
       " 'Graupel_snow_pellets_isobaric',\n",
       " 'Ground_Heat_Flux_surface_Mixed_intervals_Average',\n",
       " 'Haines_index_surface',\n",
       " 'High_cloud_cover_high_cloud',\n",
       " 'High_cloud_cover_high_cloud_Mixed_intervals_Average',\n",
       " 'ICAO_Standard_Atmosphere_Reference_Height_maximum_wind',\n",
       " 'ICAO_Standard_Atmosphere_Reference_Height_tropopause',\n",
       " 'Ice_cover_surface',\n",
       " 'Ice_growth_rate_altitude_above_msl',\n",
       " 'Ice_temperature_surface',\n",
       " 'Ice_thickness_surface',\n",
       " 'Ice_water_mixing_ratio_hybrid',\n",
       " 'Ice_water_mixing_ratio_isobaric',\n",
       " 'Land_cover_0__sea_1__land_surface',\n",
       " 'Latent_heat_net_flux_surface_Mixed_intervals_Average',\n",
       " 'Liquid_Volumetric_Soil_Moisture_non_Frozen_depth_below_surface_layer',\n",
       " 'Low_cloud_cover_low_cloud',\n",
       " 'Low_cloud_cover_low_cloud_Mixed_intervals_Average',\n",
       " 'MSLP_Eta_model_reduction_msl',\n",
       " 'Maximum_temperature_height_above_ground_Mixed_intervals_Maximum',\n",
       " 'Medium_cloud_cover_middle_cloud',\n",
       " 'Medium_cloud_cover_middle_cloud_Mixed_intervals_Average',\n",
       " 'Meridional_Flux_of_Gravity_Wave_Stress_surface_Mixed_intervals_Average',\n",
       " 'Minimum_temperature_height_above_ground_Mixed_intervals_Minimum',\n",
       " 'Momentum_flux_u-component_surface_Mixed_intervals_Average',\n",
       " 'Momentum_flux_v-component_surface_Mixed_intervals_Average',\n",
       " 'Ozone_Mixing_Ratio_isobaric',\n",
       " 'Per_cent_frozen_precipitation_surface',\n",
       " 'Planetary_Boundary_Layer_Height_surface',\n",
       " 'Plant_Canopy_Surface_Water_surface',\n",
       " 'Potential_Evaporation_Rate_surface',\n",
       " 'Potential_temperature_sigma',\n",
       " 'Precipitable_water_entire_atmosphere_single_layer',\n",
       " 'Precipitation_rate_surface',\n",
       " 'Precipitation_rate_surface_Mixed_intervals_Average',\n",
       " 'Pressure_convective_cloud_bottom',\n",
       " 'Pressure_convective_cloud_top',\n",
       " 'Pressure_height_above_ground',\n",
       " 'Pressure_high_cloud_bottom_Mixed_intervals_Average',\n",
       " 'Pressure_high_cloud_top_Mixed_intervals_Average',\n",
       " 'Pressure_low_cloud_bottom_Mixed_intervals_Average',\n",
       " 'Pressure_low_cloud_top_Mixed_intervals_Average',\n",
       " 'Pressure_maximum_wind',\n",
       " 'Pressure_middle_cloud_bottom_Mixed_intervals_Average',\n",
       " 'Pressure_middle_cloud_top_Mixed_intervals_Average',\n",
       " 'Pressure_of_level_from_which_parcel_was_lifted_pressure_difference_layer',\n",
       " 'Pressure_potential_vorticity_surface',\n",
       " 'Pressure_reduced_to_MSL_msl',\n",
       " 'Pressure_surface',\n",
       " 'Pressure_tropopause',\n",
       " 'Rain_mixing_ratio_hybrid',\n",
       " 'Rain_mixing_ratio_isobaric',\n",
       " 'Reflectivity_height_above_ground',\n",
       " 'Reflectivity_hybrid',\n",
       " 'Relative_humidity_entire_atmosphere_single_layer',\n",
       " 'Relative_humidity_height_above_ground',\n",
       " 'Relative_humidity_highest_tropospheric_freezing',\n",
       " 'Relative_humidity_isobaric',\n",
       " 'Relative_humidity_pressure_difference_layer',\n",
       " 'Relative_humidity_sigma',\n",
       " 'Relative_humidity_sigma_layer',\n",
       " 'Relative_humidity_zeroDegC_isotherm',\n",
       " 'Sensible_heat_net_flux_surface_Mixed_intervals_Average',\n",
       " 'Snow_depth_surface',\n",
       " 'Snow_mixing_ratio_hybrid',\n",
       " 'Snow_mixing_ratio_isobaric',\n",
       " 'Soil_temperature_depth_below_surface_layer',\n",
       " 'Soil_type_surface',\n",
       " 'Specific_humidity_height_above_ground',\n",
       " 'Specific_humidity_isobaric',\n",
       " 'Specific_humidity_pressure_difference_layer',\n",
       " 'Storm_relative_helicity_height_above_ground_layer',\n",
       " 'Sunshine_Duration_surface',\n",
       " 'Surface_Lifted_Index_surface',\n",
       " 'Surface_roughness_surface',\n",
       " 'Temperature_altitude_above_msl',\n",
       " 'Temperature_height_above_ground',\n",
       " 'Temperature_high_cloud_top_Mixed_intervals_Average',\n",
       " 'Temperature_isobaric',\n",
       " 'Temperature_low_cloud_top_Mixed_intervals_Average',\n",
       " 'Temperature_maximum_wind',\n",
       " 'Temperature_middle_cloud_top_Mixed_intervals_Average',\n",
       " 'Temperature_potential_vorticity_surface',\n",
       " 'Temperature_pressure_difference_layer',\n",
       " 'Temperature_sigma',\n",
       " 'Temperature_surface',\n",
       " 'Temperature_tropopause',\n",
       " 'Total_cloud_cover_boundary_layer_cloud_Mixed_intervals_Average',\n",
       " 'Total_cloud_cover_convective_cloud',\n",
       " 'Total_cloud_cover_entire_atmosphere',\n",
       " 'Total_cloud_cover_entire_atmosphere_Mixed_intervals_Average',\n",
       " 'Total_cloud_cover_isobaric',\n",
       " 'Total_ozone_entire_atmosphere_single_layer',\n",
       " 'Total_precipitation_surface_Mixed_intervals_Accumulation',\n",
       " 'U-Component_Storm_Motion_height_above_ground_layer',\n",
       " 'Upward_Long-Wave_Radp_Flux_atmosphere_top_Mixed_intervals_Average',\n",
       " 'Upward_Long-Wave_Radp_Flux_surface_Mixed_intervals_Average',\n",
       " 'Upward_Short-Wave_Radiation_Flux_atmosphere_top_Mixed_intervals_Average',\n",
       " 'Upward_Short-Wave_Radiation_Flux_surface_Mixed_intervals_Average',\n",
       " 'V-Component_Storm_Motion_height_above_ground_layer',\n",
       " 'Vegetation_surface',\n",
       " 'Ventilation_Rate_planetary_boundary',\n",
       " 'Vertical_Speed_Shear_potential_vorticity_surface',\n",
       " 'Vertical_Speed_Shear_tropopause',\n",
       " 'Vertical_velocity_geometric_isobaric',\n",
       " 'Vertical_velocity_pressure_isobaric',\n",
       " 'Vertical_velocity_pressure_sigma',\n",
       " 'Visibility_surface',\n",
       " 'Volumetric_Soil_Moisture_Content_depth_below_surface_layer',\n",
       " 'Water_equivalent_of_accumulated_snow_depth_surface',\n",
       " 'Water_runoff_surface_Mixed_intervals_Accumulation',\n",
       " 'Wilting_Point_surface',\n",
       " 'Wind_speed_gust_surface',\n",
       " 'Zonal_Flux_of_Gravity_Wave_Stress_surface_Mixed_intervals_Average',\n",
       " 'u-component_of_wind_altitude_above_msl',\n",
       " 'u-component_of_wind_height_above_ground',\n",
       " 'u-component_of_wind_isobaric',\n",
       " 'u-component_of_wind_maximum_wind',\n",
       " 'u-component_of_wind_planetary_boundary',\n",
       " 'u-component_of_wind_potential_vorticity_surface',\n",
       " 'u-component_of_wind_pressure_difference_layer',\n",
       " 'u-component_of_wind_sigma',\n",
       " 'u-component_of_wind_tropopause',\n",
       " 'v-component_of_wind_altitude_above_msl',\n",
       " 'v-component_of_wind_height_above_ground',\n",
       " 'v-component_of_wind_isobaric',\n",
       " 'v-component_of_wind_maximum_wind',\n",
       " 'v-component_of_wind_planetary_boundary',\n",
       " 'v-component_of_wind_potential_vorticity_surface',\n",
       " 'v-component_of_wind_pressure_difference_layer',\n",
       " 'v-component_of_wind_sigma',\n",
       " 'v-component_of_wind_tropopause'}"
      ]
     },
     "execution_count": 4,
     "metadata": {},
     "output_type": "execute_result"
    }
   ],
   "source": [
    "ncss = cat.datasets[0].subset()\n",
    "\n",
    "ncss.variables"
   ]
  },
  {
   "cell_type": "code",
   "execution_count": 5,
   "metadata": {},
   "outputs": [
    {
     "data": {
      "text/plain": [
       "var=Precipitation_rate_surface&var=Temperature_surface&time_start=2022-12-19T00%3A47%3A14.727663&time_end=2022-12-22T00%3A47%3A14.727671&longitude=-105.3&latitude=40.01&accept=csv"
      ]
     },
     "execution_count": 5,
     "metadata": {},
     "output_type": "execute_result"
    }
   ],
   "source": [
    "point_query = ncss.query()\n",
    "point_query.time_range(datetime.utcnow(), datetime.utcnow() + timedelta(days = 3))\n",
    "point_query.accept('csv')\n",
    "point_query.variables('Temperature_surface', 'Precipitation_rate_surface')\n",
    "point_query.lonlat_point(-105.3, 40.01)"
   ]
  },
  {
   "cell_type": "code",
   "execution_count": 6,
   "metadata": {},
   "outputs": [
    {
     "name": "stderr",
     "output_type": "stream",
     "text": [
      "/home/jessica/anaconda3/lib/python3.9/site-packages/siphon/ncss.py:432: VisibleDeprecationWarning: Reading unicode strings without specifying the encoding argument is deprecated. Set the encoding, use None for the system default.\n",
      "  arrs = np.genfromtxt(fobj, dtype=None, names=names, delimiter=',',\n"
     ]
    },
    {
     "data": {
      "text/plain": [
       "{'time': array([b'2022-12-19T00:00:00Z', b'2022-12-19T03:00:00Z',\n",
       "        b'2022-12-19T06:00:00Z', b'2022-12-19T09:00:00Z',\n",
       "        b'2022-12-19T12:00:00Z', b'2022-12-19T15:00:00Z',\n",
       "        b'2022-12-19T18:00:00Z', b'2022-12-19T21:00:00Z',\n",
       "        b'2022-12-20T00:00:00Z', b'2022-12-20T03:00:00Z',\n",
       "        b'2022-12-20T06:00:00Z', b'2022-12-20T09:00:00Z',\n",
       "        b'2022-12-20T12:00:00Z', b'2022-12-20T15:00:00Z',\n",
       "        b'2022-12-20T18:00:00Z', b'2022-12-20T21:00:00Z',\n",
       "        b'2022-12-21T00:00:00Z', b'2022-12-21T03:00:00Z',\n",
       "        b'2022-12-21T06:00:00Z', b'2022-12-21T09:00:00Z',\n",
       "        b'2022-12-21T12:00:00Z', b'2022-12-21T15:00:00Z',\n",
       "        b'2022-12-21T18:00:00Z', b'2022-12-21T21:00:00Z',\n",
       "        b'2022-12-22T00:00:00Z'], dtype='|S20'),\n",
       " 'station': array([b'GridPointRequestedAt[40.010N_105.300W]',\n",
       "        b'GridPointRequestedAt[40.010N_105.300W]',\n",
       "        b'GridPointRequestedAt[40.010N_105.300W]',\n",
       "        b'GridPointRequestedAt[40.010N_105.300W]',\n",
       "        b'GridPointRequestedAt[40.010N_105.300W]',\n",
       "        b'GridPointRequestedAt[40.010N_105.300W]',\n",
       "        b'GridPointRequestedAt[40.010N_105.300W]',\n",
       "        b'GridPointRequestedAt[40.010N_105.300W]',\n",
       "        b'GridPointRequestedAt[40.010N_105.300W]',\n",
       "        b'GridPointRequestedAt[40.010N_105.300W]',\n",
       "        b'GridPointRequestedAt[40.010N_105.300W]',\n",
       "        b'GridPointRequestedAt[40.010N_105.300W]',\n",
       "        b'GridPointRequestedAt[40.010N_105.300W]',\n",
       "        b'GridPointRequestedAt[40.010N_105.300W]',\n",
       "        b'GridPointRequestedAt[40.010N_105.300W]',\n",
       "        b'GridPointRequestedAt[40.010N_105.300W]',\n",
       "        b'GridPointRequestedAt[40.010N_105.300W]',\n",
       "        b'GridPointRequestedAt[40.010N_105.300W]',\n",
       "        b'GridPointRequestedAt[40.010N_105.300W]',\n",
       "        b'GridPointRequestedAt[40.010N_105.300W]',\n",
       "        b'GridPointRequestedAt[40.010N_105.300W]',\n",
       "        b'GridPointRequestedAt[40.010N_105.300W]',\n",
       "        b'GridPointRequestedAt[40.010N_105.300W]',\n",
       "        b'GridPointRequestedAt[40.010N_105.300W]',\n",
       "        b'GridPointRequestedAt[40.010N_105.300W]'], dtype='|S38'),\n",
       " 'latitude': array([40., 40., 40., 40., 40., 40., 40., 40., 40., 40., 40., 40., 40.,\n",
       "        40., 40., 40., 40., 40., 40., 40., 40., 40., 40., 40., 40.]),\n",
       " 'longitude': array([-105.5, -105.5, -105.5, -105.5, -105.5, -105.5, -105.5, -105.5,\n",
       "        -105.5, -105.5, -105.5, -105.5, -105.5, -105.5, -105.5, -105.5,\n",
       "        -105.5, -105.5, -105.5, -105.5, -105.5, -105.5, -105.5, -105.5,\n",
       "        -105.5]),\n",
       " 'Precipitation_rate_surface': array([0.00e+00, 0.00e+00, 0.00e+00, 0.00e+00, 0.00e+00, 0.00e+00,\n",
       "        0.00e+00, 0.00e+00, 0.00e+00, 0.00e+00, 0.00e+00, 0.00e+00,\n",
       "        0.00e+00, 8.00e-07, 2.40e-06, 2.40e-06, 1.60e-06, 3.20e-06,\n",
       "        1.88e-05, 1.68e-05, 9.60e-06, 1.60e-06, 8.00e-07, 2.40e-05,\n",
       "        1.68e-05]),\n",
       " 'Temperature_surface': array([259.76294, 259.4914 , 258.8914 , 258.78275, 257.33707, 257.73706,\n",
       "        268.32843, 267.78876, 256.80865, 256.79138, 257.     , 257.2    ,\n",
       "        259.53705, 260.58276, 268.79135, 269.50006, 260.12555, 259.78766,\n",
       "        260.26715, 263.627  , 262.36362, 262.56305, 270.05466, 269.48224,\n",
       "        264.13016])}"
      ]
     },
     "execution_count": 6,
     "metadata": {},
     "output_type": "execute_result"
    }
   ],
   "source": [
    "point_data = ncss.get_data(point_query)\n",
    "point_data"
   ]
  },
  {
   "cell_type": "code",
   "execution_count": 7,
   "metadata": {},
   "outputs": [
    {
     "data": {
      "text/html": [
       "<div>\n",
       "<style scoped>\n",
       "    .dataframe tbody tr th:only-of-type {\n",
       "        vertical-align: middle;\n",
       "    }\n",
       "\n",
       "    .dataframe tbody tr th {\n",
       "        vertical-align: top;\n",
       "    }\n",
       "\n",
       "    .dataframe thead th {\n",
       "        text-align: right;\n",
       "    }\n",
       "</style>\n",
       "<table border=\"1\" class=\"dataframe\">\n",
       "  <thead>\n",
       "    <tr style=\"text-align: right;\">\n",
       "      <th></th>\n",
       "      <th>time</th>\n",
       "      <th>station</th>\n",
       "      <th>latitude</th>\n",
       "      <th>longitude</th>\n",
       "      <th>Precipitation_rate_surface</th>\n",
       "      <th>Temperature_surface</th>\n",
       "    </tr>\n",
       "  </thead>\n",
       "  <tbody>\n",
       "    <tr>\n",
       "      <th>0</th>\n",
       "      <td>b'2022-12-19T00:00:00Z'</td>\n",
       "      <td>b'GridPointRequestedAt[40.010N_105.300W]'</td>\n",
       "      <td>40.0</td>\n",
       "      <td>-105.5</td>\n",
       "      <td>0.0</td>\n",
       "      <td>259.76294</td>\n",
       "    </tr>\n",
       "    <tr>\n",
       "      <th>1</th>\n",
       "      <td>b'2022-12-19T03:00:00Z'</td>\n",
       "      <td>b'GridPointRequestedAt[40.010N_105.300W]'</td>\n",
       "      <td>40.0</td>\n",
       "      <td>-105.5</td>\n",
       "      <td>0.0</td>\n",
       "      <td>259.49140</td>\n",
       "    </tr>\n",
       "    <tr>\n",
       "      <th>2</th>\n",
       "      <td>b'2022-12-19T06:00:00Z'</td>\n",
       "      <td>b'GridPointRequestedAt[40.010N_105.300W]'</td>\n",
       "      <td>40.0</td>\n",
       "      <td>-105.5</td>\n",
       "      <td>0.0</td>\n",
       "      <td>258.89140</td>\n",
       "    </tr>\n",
       "    <tr>\n",
       "      <th>3</th>\n",
       "      <td>b'2022-12-19T09:00:00Z'</td>\n",
       "      <td>b'GridPointRequestedAt[40.010N_105.300W]'</td>\n",
       "      <td>40.0</td>\n",
       "      <td>-105.5</td>\n",
       "      <td>0.0</td>\n",
       "      <td>258.78275</td>\n",
       "    </tr>\n",
       "    <tr>\n",
       "      <th>4</th>\n",
       "      <td>b'2022-12-19T12:00:00Z'</td>\n",
       "      <td>b'GridPointRequestedAt[40.010N_105.300W]'</td>\n",
       "      <td>40.0</td>\n",
       "      <td>-105.5</td>\n",
       "      <td>0.0</td>\n",
       "      <td>257.33707</td>\n",
       "    </tr>\n",
       "  </tbody>\n",
       "</table>\n",
       "</div>"
      ],
      "text/plain": [
       "                      time                                    station  \\\n",
       "0  b'2022-12-19T00:00:00Z'  b'GridPointRequestedAt[40.010N_105.300W]'   \n",
       "1  b'2022-12-19T03:00:00Z'  b'GridPointRequestedAt[40.010N_105.300W]'   \n",
       "2  b'2022-12-19T06:00:00Z'  b'GridPointRequestedAt[40.010N_105.300W]'   \n",
       "3  b'2022-12-19T09:00:00Z'  b'GridPointRequestedAt[40.010N_105.300W]'   \n",
       "4  b'2022-12-19T12:00:00Z'  b'GridPointRequestedAt[40.010N_105.300W]'   \n",
       "\n",
       "   latitude  longitude  Precipitation_rate_surface  Temperature_surface  \n",
       "0      40.0     -105.5                         0.0            259.76294  \n",
       "1      40.0     -105.5                         0.0            259.49140  \n",
       "2      40.0     -105.5                         0.0            258.89140  \n",
       "3      40.0     -105.5                         0.0            258.78275  \n",
       "4      40.0     -105.5                         0.0            257.33707  "
      ]
     },
     "execution_count": 7,
     "metadata": {},
     "output_type": "execute_result"
    }
   ],
   "source": [
    "df = pd.DataFrame(point_data)\n",
    "df.head()"
   ]
  },
  {
   "cell_type": "code",
   "execution_count": 8,
   "metadata": {},
   "outputs": [
    {
     "data": {
      "text/plain": [
       "array([ 0,  3,  6,  9, 12, 15, 18, 21, 24, 27, 30, 33, 36, 39, 42, 45, 48,\n",
       "       51, 54, 57, 60, 63, 66, 69, 72])"
      ]
     },
     "execution_count": 8,
     "metadata": {},
     "output_type": "execute_result"
    }
   ],
   "source": [
    "hours = np.arange(len(df)) * 3\n",
    "hours"
   ]
  },
  {
   "cell_type": "code",
   "execution_count": 9,
   "metadata": {},
   "outputs": [
    {
     "data": {
      "text/plain": [
       "<BarContainer object of 25 artists>"
      ]
     },
     "execution_count": 9,
     "metadata": {},
     "output_type": "execute_result"
    },
    {
     "data": {
      "image/png": "[encoded data removed]",
      "text/plain": [
       "<Figure size 640x480 with 2 Axes>"
      ]
     },
     "metadata": {},
     "output_type": "display_data"
    }
   ],
   "source": [
    "fig, (ax1, ax2) = plt.subplots(nrows = 2)\n",
    "ax1.plot(hours, df['Temperature_surface'], color = 'tab:red')\n",
    "ax2.bar(hours, df['Precipitation_rate_surface'])"
   ]
  }
 ],
 "metadata": {
  "kernelspec": {
   "display_name": "Python 3.9.12 ('base')",
   "language": "python",
   "name": "python3"
  },
  "language_info": {
   "codemirror_mode": {
    "name": "ipython",
    "version": 3
   },
   "file_extension": ".py",
   "mimetype": "text/x-python",
   "name": "python",
   "nbconvert_exporter": "python",
   "pygments_lexer": "ipython3",
   "version": "3.9.12"
  },
  "orig_nbformat": 4,
  "vscode": {
   "interpreter": {
    "hash": "b5cfa023891fceef02537f80a4c6e95b77988fb973cdb16a51cdb785092210be"
   }
  }
 },
 "nbformat": 4,
 "nbformat_minor": 2
}
