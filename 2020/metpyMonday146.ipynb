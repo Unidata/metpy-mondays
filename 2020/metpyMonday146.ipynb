{
 "cells": [
  {
   "cell_type": "markdown",
   "id": "25a108ad",
   "metadata": {},
   "source": [
    "## 146 - GEOJSON Polygons from NWS Warning Text\n",
    "\n",
    "[Youtube](https://www.youtube.com/watch?v=98ybh_RYVFU)"
   ]
  },
  {
   "cell_type": "code",
   "execution_count": 1,
   "id": "2848d057",
   "metadata": {},
   "outputs": [],
   "source": [
    "import geojson\n",
    "from geojson import Polygon"
   ]
  },
  {
   "cell_type": "code",
   "execution_count": 2,
   "id": "bf7e6a2c",
   "metadata": {},
   "outputs": [],
   "source": [
    "warning_text = 'LAT...LON 3036 9309 3029 9303 3014 9328 3017 9335 3035 9332'"
   ]
  },
  {
   "cell_type": "code",
   "execution_count": 3,
   "id": "7ea28c62",
   "metadata": {},
   "outputs": [],
   "source": [
    "def text_to_points(text):\n",
    "    \"\"\"\n",
    "    Convert NWS text to points.\n",
    "    \"\"\"\n",
    "    points = []\n",
    "    p = [float(val) / 100 for val in text.split(' ')[1:]]\n",
    "    for i in range(0, len(p), 2):\n",
    "        points.append((-p[i+1], p[i]))\n",
    "    return points"
   ]
  },
  {
   "cell_type": "code",
   "execution_count": 4,
   "id": "885ce5bf",
   "metadata": {},
   "outputs": [],
   "source": [
    "points = text_to_points(warning_text)"
   ]
  },
  {
   "cell_type": "code",
   "execution_count": 5,
   "id": "d88e83c3",
   "metadata": {},
   "outputs": [
    {
     "data": {
      "text/plain": [
       "[(-93.09, 30.36),\n",
       " (-93.03, 30.29),\n",
       " (-93.28, 30.14),\n",
       " (-93.35, 30.17),\n",
       " (-93.32, 30.35)]"
      ]
     },
     "execution_count": 5,
     "metadata": {},
     "output_type": "execute_result"
    }
   ],
   "source": [
    "points"
   ]
  },
  {
   "cell_type": "code",
   "execution_count": 6,
   "id": "a5038113",
   "metadata": {},
   "outputs": [],
   "source": [
    "p1 = Polygon([points])"
   ]
  },
  {
   "cell_type": "code",
   "execution_count": 7,
   "id": "cb0a4890",
   "metadata": {},
   "outputs": [
    {
     "data": {
      "text/plain": [
       "{\"coordinates\": [[[-93.09, 30.36], [-93.03, 30.29], [-93.28, 30.14], [-93.35, 30.17], [-93.32, 30.35]]], \"type\": \"Polygon\"}"
      ]
     },
     "execution_count": 7,
     "metadata": {},
     "output_type": "execute_result"
    }
   ],
   "source": [
    "p1"
   ]
  },
  {
   "cell_type": "code",
   "execution_count": 8,
   "id": "64c06112",
   "metadata": {},
   "outputs": [],
   "source": [
    "with open('p1.geojson', 'w') as f:\n",
    "    f.write(geojson.dumps(p1))"
   ]
  }
 ],
 "metadata": {
  "kernelspec": {
   "display_name": "Python 3 (ipykernel)",
   "language": "python",
   "name": "python3"
  },
  "language_info": {
   "codemirror_mode": {
    "name": "ipython",
    "version": 3
   },
   "file_extension": ".py",
   "mimetype": "text/x-python",
   "name": "python",
   "nbconvert_exporter": "python",
   "pygments_lexer": "ipython3",
   "version": "3.9.12"
  }
 },
 "nbformat": 4,
 "nbformat_minor": 5
}
