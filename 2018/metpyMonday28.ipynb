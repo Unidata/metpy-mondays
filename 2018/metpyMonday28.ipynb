{
 "cells": [
  {
   "cell_type": "markdown",
   "metadata": {},
   "source": [
    "## 28 - Radar Server\n",
    "\n",
    "[Youtube](https://www.youtube.com/watch?v=shLrzh0uLWA)"
   ]
  },
  {
   "cell_type": "code",
   "execution_count": 10,
   "metadata": {},
   "outputs": [],
   "source": [
    "from siphon.catalog import TDSCatalog\n",
    "from siphon.radarserver import RadarServer"
   ]
  },
  {
   "cell_type": "code",
   "execution_count": 11,
   "metadata": {},
   "outputs": [],
   "source": [
    "cat = TDSCatalog('http://thredds.ucar.edu/thredds/radarServer/catalog.xml')"
   ]
  },
  {
   "cell_type": "code",
   "execution_count": 12,
   "metadata": {},
   "outputs": [
    {
     "data": {
      "text/plain": [
       "['NEXRAD Level II Radar for Case Study CCS039',\n",
       " 'NEXRAD Level II Radar from IDD',\n",
       " 'NEXRAD Level III Radar for Case Study CCS039',\n",
       " 'NEXRAD Level III Radar from IDD',\n",
       " 'TDWR Level III Radar from IDD']"
      ]
     },
     "execution_count": 12,
     "metadata": {},
     "output_type": "execute_result"
    }
   ],
   "source": [
    "list(cat.catalog_refs)"
   ]
  },
  {
   "cell_type": "code",
   "execution_count": 13,
   "metadata": {},
   "outputs": [
    {
     "data": {
      "text/plain": [
       "'https://thredds.ucar.edu/thredds/radarServer/nexrad/level3/IDD/dataset.xml'"
      ]
     },
     "execution_count": 13,
     "metadata": {},
     "output_type": "execute_result"
    }
   ],
   "source": [
    "cat.catalog_refs['NEXRAD Level III Radar from IDD'].href"
   ]
  },
  {
   "cell_type": "code",
   "execution_count": 14,
   "metadata": {},
   "outputs": [],
   "source": [
    "rs = RadarServer(cat.catalog_refs['NEXRAD Level III Radar from IDD'].href)"
   ]
  },
  {
   "cell_type": "code",
   "execution_count": 15,
   "metadata": {},
   "outputs": [],
   "source": [
    "from datetime import datetime, timedelta"
   ]
  },
  {
   "cell_type": "code",
   "execution_count": 16,
   "metadata": {},
   "outputs": [
    {
     "data": {
      "text/plain": [
       "var=N0Q&time_start=2022-12-19T19%3A10%3A30.352410&time_end=2022-12-19T20%3A10%3A30.352410&stn=FTG"
      ]
     },
     "execution_count": 16,
     "metadata": {},
     "output_type": "execute_result"
    }
   ],
   "source": [
    "query = rs.query()\n",
    "now = datetime.utcnow()\n",
    "query.stations('FTG').time_range(now - timedelta(hours = 1), now).variables('N0Q')"
   ]
  },
  {
   "cell_type": "code",
   "execution_count": 17,
   "metadata": {},
   "outputs": [],
   "source": [
    "query_cat = rs.get_catalog(query)"
   ]
  },
  {
   "cell_type": "code",
   "execution_count": 18,
   "metadata": {},
   "outputs": [
    {
     "data": {
      "text/plain": [
       "[]"
      ]
     },
     "execution_count": 18,
     "metadata": {},
     "output_type": "execute_result"
    }
   ],
   "source": [
    "sorted(query_cat.datasets)"
   ]
  },
  {
   "cell_type": "code",
   "execution_count": 19,
   "metadata": {},
   "outputs": [
    {
     "data": {
      "text/plain": [
       "['Level3_FTG_N0C_20221219_1917.nids',\n",
       " 'Level3_FTG_N0C_20221219_1924.nids',\n",
       " 'Level3_FTG_N0C_20221219_1931.nids',\n",
       " 'Level3_FTG_N0C_20221219_1938.nids',\n",
       " 'Level3_FTG_N0C_20221219_1945.nids',\n",
       " 'Level3_FTG_N0C_20221219_1952.nids',\n",
       " 'Level3_FTG_N0C_20221219_1959.nids',\n",
       " 'Level3_FTG_N0C_20221219_2006.nids',\n",
       " 'Level3_INX_N0C_20221219_1914.nids',\n",
       " 'Level3_INX_N0C_20221219_1918.nids',\n",
       " 'Level3_INX_N0C_20221219_1923.nids',\n",
       " 'Level3_INX_N0C_20221219_1927.nids',\n",
       " 'Level3_INX_N0C_20221219_1932.nids',\n",
       " 'Level3_INX_N0C_20221219_1936.nids',\n",
       " 'Level3_INX_N0C_20221219_1941.nids',\n",
       " 'Level3_INX_N0C_20221219_1944.nids',\n",
       " 'Level3_INX_N0C_20221219_1949.nids',\n",
       " 'Level3_INX_N0C_20221219_1953.nids',\n",
       " 'Level3_INX_N0C_20221219_1958.nids',\n",
       " 'Level3_INX_N0C_20221219_2003.nids',\n",
       " 'Level3_INX_N0C_20221219_2008.nids']"
      ]
     },
     "execution_count": 19,
     "metadata": {},
     "output_type": "execute_result"
    }
   ],
   "source": [
    "query.stations('FTG', 'INX').time_range(now - timedelta(hours = 1), now).variables('N0Q', 'N0C')\n",
    "query_cat = rs.get_catalog(query)\n",
    "sorted(query_cat.datasets)"
   ]
  },
  {
   "cell_type": "code",
   "execution_count": 20,
   "metadata": {},
   "outputs": [],
   "source": [
    "product_codes = ['N0Q', 'N0C', 'N0H']\n",
    "query_catalogs = []\n",
    "for product_code in product_codes:\n",
    "\tquery.stations('FTG').time_range(now - timedelta(hours = 1), now).variables(product_code)\n",
    "\tquery_cat = rs.get_catalog(query)\n",
    "\tquery_catalogs.append(query_cat)"
   ]
  },
  {
   "cell_type": "code",
   "execution_count": 21,
   "metadata": {},
   "outputs": [
    {
     "data": {
      "text/plain": [
       "[Radar NEXRAD Level III Radar from IDD datasets in near real time,\n",
       " Radar NEXRAD Level III Radar from IDD datasets in near real time,\n",
       " Radar NEXRAD Level III Radar from IDD datasets in near real time]"
      ]
     },
     "execution_count": 21,
     "metadata": {},
     "output_type": "execute_result"
    }
   ],
   "source": [
    "query_catalogs"
   ]
  },
  {
   "cell_type": "code",
   "execution_count": 22,
   "metadata": {},
   "outputs": [],
   "source": [
    "product_codes = ['N0Q', 'N0C', 'N0H']\n",
    "query_catalogs = dict()\n",
    "for product_code in product_codes:\n",
    "\tquery.stations('FTG').time_range(now - timedelta(hours = 1), now).variables(product_code)\n",
    "\tquery_cat = rs.get_catalog(query)\n",
    "\tquery_catalogs[product_code] = query_cat"
   ]
  },
  {
   "cell_type": "code",
   "execution_count": 23,
   "metadata": {},
   "outputs": [
    {
     "data": {
      "text/plain": [
       "{'N0Q': Radar NEXRAD Level III Radar from IDD datasets in near real time,\n",
       " 'N0C': Radar NEXRAD Level III Radar from IDD datasets in near real time,\n",
       " 'N0H': Radar NEXRAD Level III Radar from IDD datasets in near real time}"
      ]
     },
     "execution_count": 23,
     "metadata": {},
     "output_type": "execute_result"
    }
   ],
   "source": [
    "query_catalogs"
   ]
  },
  {
   "cell_type": "code",
   "execution_count": 24,
   "metadata": {},
   "outputs": [
    {
     "data": {
      "text/plain": [
       "['Level3_FTG_N0C_20221219_1917.nids',\n",
       " 'Level3_FTG_N0C_20221219_1924.nids',\n",
       " 'Level3_FTG_N0C_20221219_1931.nids',\n",
       " 'Level3_FTG_N0C_20221219_1938.nids',\n",
       " 'Level3_FTG_N0C_20221219_1945.nids',\n",
       " 'Level3_FTG_N0C_20221219_1952.nids',\n",
       " 'Level3_FTG_N0C_20221219_1959.nids',\n",
       " 'Level3_FTG_N0C_20221219_2006.nids',\n",
       " 'Level3_FTG_N0H_20221219_1917.nids',\n",
       " 'Level3_FTG_N0H_20221219_1924.nids',\n",
       " 'Level3_FTG_N0H_20221219_1931.nids',\n",
       " 'Level3_FTG_N0H_20221219_1938.nids',\n",
       " 'Level3_FTG_N0H_20221219_1945.nids',\n",
       " 'Level3_FTG_N0H_20221219_1952.nids',\n",
       " 'Level3_FTG_N0H_20221219_1959.nids',\n",
       " 'Level3_FTG_N0H_20221219_2006.nids']"
      ]
     },
     "execution_count": 24,
     "metadata": {},
     "output_type": "execute_result"
    }
   ],
   "source": [
    "sorted(query_catalogs['N0C'].datasets)"
   ]
  }
 ],
 "metadata": {
  "kernelspec": {
   "display_name": "Python 3.9.12 ('base')",
   "language": "python",
   "name": "python3"
  },
  "language_info": {
   "codemirror_mode": {
    "name": "ipython",
    "version": 3
   },
   "file_extension": ".py",
   "mimetype": "text/x-python",
   "name": "python",
   "nbconvert_exporter": "python",
   "pygments_lexer": "ipython3",
   "version": "3.9.12"
  },
  "orig_nbformat": 4,
  "vscode": {
   "interpreter": {
    "hash": "b5cfa023891fceef02537f80a4c6e95b77988fb973cdb16a51cdb785092210be"
   }
  }
 },
 "nbformat": 4,
 "nbformat_minor": 2
}
