{
 "cells": [
  {
   "attachments": {},
   "cell_type": "markdown",
   "metadata": {},
   "source": [
    "## 59 - Try and Except\n",
    "\n",
    "[Youtube](https://www.youtube.com/watch?v=jMRjyU2H83U)"
   ]
  },
  {
   "cell_type": "code",
   "execution_count": 1,
   "metadata": {},
   "outputs": [],
   "source": [
    "my_data = [24, 35, 'cloudy', 23, 40, 15, 16, 28, 'sunny']"
   ]
  },
  {
   "cell_type": "code",
   "execution_count": 2,
   "metadata": {},
   "outputs": [
    {
     "ename": "TypeError",
     "evalue": "can only concatenate str (not \"int\") to str",
     "output_type": "error",
     "traceback": [
      "\u001b[0;31m---------------------------------------------------------------------------\u001b[0m",
      "\u001b[0;31mTypeError\u001b[0m                                 Traceback (most recent call last)",
      "Cell \u001b[0;32mIn [2], line 3\u001b[0m\n\u001b[1;32m      1\u001b[0m res \u001b[39m=\u001b[39m []\n\u001b[1;32m      2\u001b[0m \u001b[39mfor\u001b[39;00m ob \u001b[39min\u001b[39;00m my_data:\n\u001b[0;32m----> 3\u001b[0m \tres\u001b[39m.\u001b[39mappend(ob \u001b[39m+\u001b[39;49m \u001b[39m2\u001b[39;49m)\n",
      "\u001b[0;31mTypeError\u001b[0m: can only concatenate str (not \"int\") to str"
     ]
    }
   ],
   "source": [
    "res = []\n",
    "for ob in my_data:\n",
    "\tres.append(ob + 2)"
   ]
  },
  {
   "cell_type": "code",
   "execution_count": 3,
   "metadata": {},
   "outputs": [
    {
     "name": "stdout",
     "output_type": "stream",
     "text": [
      "Not a valid observation: cloudy\n",
      "Not a valid observation: sunny\n"
     ]
    }
   ],
   "source": [
    "res = []\n",
    "for ob in my_data:\n",
    "\ttry:\n",
    "\t\tres.append(ob + 2)\n",
    "\texcept TypeError:\n",
    "\t\tprint('Not a valid observation: {}'.format(ob))"
   ]
  },
  {
   "cell_type": "code",
   "execution_count": 4,
   "metadata": {},
   "outputs": [
    {
     "data": {
      "text/plain": [
       "[26, 37, 25, 42, 17, 18, 30]"
      ]
     },
     "execution_count": 4,
     "metadata": {},
     "output_type": "execute_result"
    }
   ],
   "source": [
    "res"
   ]
  },
  {
   "cell_type": "code",
   "execution_count": 5,
   "metadata": {},
   "outputs": [],
   "source": [
    "from siphon.simplewebservice.ndbc import NDBC"
   ]
  },
  {
   "cell_type": "code",
   "execution_count": 6,
   "metadata": {},
   "outputs": [
    {
     "data": {
      "text/plain": [
       "{'txt': 'standard meteorological data',\n",
       " 'spec': 'spectral wave summaries',\n",
       " 'data_spec': 'raw spectral wave data',\n",
       " 'swdir': 'spectral wave data (alpha1)',\n",
       " 'swdir2': 'spectral wave data (alpha2)',\n",
       " 'swr1': 'spectral wave data (r1)',\n",
       " 'swr2': 'spectral wave data (r2)'}"
      ]
     },
     "execution_count": 6,
     "metadata": {},
     "output_type": "execute_result"
    }
   ],
   "source": [
    "NDBC.buoy_data_types('46259')"
   ]
  },
  {
   "cell_type": "code",
   "execution_count": 7,
   "metadata": {},
   "outputs": [
    {
     "data": {
      "text/plain": [
       "{'txt': 'standard meteorological data',\n",
       " 'spec': 'spectral wave summaries',\n",
       " 'data_spec': 'raw spectral wave data',\n",
       " 'swdir': 'spectral wave data (alpha1)',\n",
       " 'swdir2': 'spectral wave data (alpha2)',\n",
       " 'swr1': 'spectral wave data (r1)',\n",
       " 'swr2': 'spectral wave data (r2)',\n",
       " 'supl': 'supplemental measurements data'}"
      ]
     },
     "execution_count": 7,
     "metadata": {},
     "output_type": "execute_result"
    }
   ],
   "source": [
    "NDBC.buoy_data_types('45002')"
   ]
  },
  {
   "cell_type": "code",
   "execution_count": 8,
   "metadata": {},
   "outputs": [
    {
     "ename": "HTTPError",
     "evalue": "Error accessing https://www.ndbc.noaa.gov/data/realtime2/46259.supl\nServer Error (404: Not Found)",
     "output_type": "error",
     "traceback": [
      "\u001b[0;31m---------------------------------------------------------------------------\u001b[0m",
      "\u001b[0;31mHTTPError\u001b[0m                                 Traceback (most recent call last)",
      "Cell \u001b[0;32mIn [8], line 1\u001b[0m\n\u001b[0;32m----> 1\u001b[0m df \u001b[39m=\u001b[39m NDBC\u001b[39m.\u001b[39;49mrealtime_observations(\u001b[39m'\u001b[39;49m\u001b[39m46259\u001b[39;49m\u001b[39m'\u001b[39;49m, \u001b[39m'\u001b[39;49m\u001b[39msupl\u001b[39;49m\u001b[39m'\u001b[39;49m)\n",
      "File \u001b[0;32m~/anaconda3/lib/python3.9/site-packages/siphon/simplewebservice/ndbc.py:66\u001b[0m, in \u001b[0;36mNDBC.realtime_observations\u001b[0;34m(cls, buoy, data_type)\u001b[0m\n\u001b[1;32m     62\u001b[0m \u001b[39mif\u001b[39;00m data_type \u001b[39mnot\u001b[39;00m \u001b[39min\u001b[39;00m parsers:\n\u001b[1;32m     63\u001b[0m     \u001b[39mraise\u001b[39;00m \u001b[39mKeyError\u001b[39;00m(\u001b[39m'\u001b[39m\u001b[39mData type must be txt, drift, cwind, spec, ocean, srad, dart,\u001b[39m\u001b[39m'\u001b[39m\n\u001b[1;32m     64\u001b[0m                    \u001b[39m'\u001b[39m\u001b[39msupl, or rain for parsed realtime data.\u001b[39m\u001b[39m'\u001b[39m)\n\u001b[0;32m---> 66\u001b[0m raw_data \u001b[39m=\u001b[39m endpoint\u001b[39m.\u001b[39;49mraw_buoy_data(buoy, data_type\u001b[39m=\u001b[39;49mdata_type)\n\u001b[1;32m     67\u001b[0m \u001b[39mreturn\u001b[39;00m parsers[data_type](raw_data)\n",
      "File \u001b[0;32m~/anaconda3/lib/python3.9/site-packages/siphon/simplewebservice/ndbc.py:555\u001b[0m, in \u001b[0;36mNDBC.raw_buoy_data\u001b[0;34m(cls, buoy, data_type)\u001b[0m\n\u001b[1;32m    522\u001b[0m \u001b[39m\"\"\"Retrieve the raw buoy data contents from NDBC.\u001b[39;00m\n\u001b[1;32m    523\u001b[0m \n\u001b[1;32m    524\u001b[0m \u001b[39mParameters\u001b[39;00m\n\u001b[0;32m   (...)\u001b[0m\n\u001b[1;32m    552\u001b[0m \n\u001b[1;32m    553\u001b[0m \u001b[39m\"\"\"\u001b[39;00m\n\u001b[1;32m    554\u001b[0m endpoint \u001b[39m=\u001b[39m \u001b[39mcls\u001b[39m()\n\u001b[0;32m--> 555\u001b[0m resp \u001b[39m=\u001b[39m endpoint\u001b[39m.\u001b[39;49mget_path(\u001b[39m'\u001b[39;49m\u001b[39mdata/realtime2/\u001b[39;49m\u001b[39m{}\u001b[39;49;00m\u001b[39m.\u001b[39;49m\u001b[39m{}\u001b[39;49;00m\u001b[39m'\u001b[39;49m\u001b[39m.\u001b[39;49mformat(buoy, data_type))\n\u001b[1;32m    556\u001b[0m \u001b[39mreturn\u001b[39;00m resp\u001b[39m.\u001b[39mtext\n",
      "File \u001b[0;32m~/anaconda3/lib/python3.9/site-packages/siphon/http_util.py:457\u001b[0m, in \u001b[0;36mHTTPEndPoint.get_path\u001b[0;34m(self, path, query)\u001b[0m\n\u001b[1;32m    434\u001b[0m \u001b[39mdef\u001b[39;00m \u001b[39mget_path\u001b[39m(\u001b[39mself\u001b[39m, path, query\u001b[39m=\u001b[39m\u001b[39mNone\u001b[39;00m):\n\u001b[1;32m    435\u001b[0m     \u001b[39m\"\"\"Make a GET request, optionally including a query, to a relative path.\u001b[39;00m\n\u001b[1;32m    436\u001b[0m \n\u001b[1;32m    437\u001b[0m \u001b[39m    The path of the request includes a path on top of the base URL\u001b[39;00m\n\u001b[0;32m   (...)\u001b[0m\n\u001b[1;32m    455\u001b[0m \n\u001b[1;32m    456\u001b[0m \u001b[39m    \"\"\"\u001b[39;00m\n\u001b[0;32m--> 457\u001b[0m     \u001b[39mreturn\u001b[39;00m \u001b[39mself\u001b[39;49m\u001b[39m.\u001b[39;49mget(\u001b[39mself\u001b[39;49m\u001b[39m.\u001b[39;49murl_path(path), query)\n",
      "File \u001b[0;32m~/anaconda3/lib/python3.9/site-packages/siphon/http_util.py:492\u001b[0m, in \u001b[0;36mHTTPEndPoint.get\u001b[0;34m(self, path, params)\u001b[0m\n\u001b[1;32m    490\u001b[0m     \u001b[39melse\u001b[39;00m:\n\u001b[1;32m    491\u001b[0m         text \u001b[39m=\u001b[39m resp\u001b[39m.\u001b[39mtext\n\u001b[0;32m--> 492\u001b[0m     \u001b[39mraise\u001b[39;00m requests\u001b[39m.\u001b[39mHTTPError(\u001b[39m'\u001b[39m\u001b[39mError accessing \u001b[39m\u001b[39m{0}\u001b[39;00m\u001b[39m\\n\u001b[39;00m\u001b[39m'\u001b[39m\n\u001b[1;32m    493\u001b[0m                              \u001b[39m'\u001b[39m\u001b[39mServer Error (\u001b[39m\u001b[39m{1:d}\u001b[39;00m\u001b[39m: \u001b[39m\u001b[39m{2}\u001b[39;00m\u001b[39m)\u001b[39m\u001b[39m'\u001b[39m\u001b[39m.\u001b[39mformat(resp\u001b[39m.\u001b[39mrequest\u001b[39m.\u001b[39murl,\n\u001b[1;32m    494\u001b[0m                                                                 resp\u001b[39m.\u001b[39mstatus_code,\n\u001b[1;32m    495\u001b[0m                                                                 text))\n\u001b[1;32m    496\u001b[0m \u001b[39mreturn\u001b[39;00m resp\n",
      "\u001b[0;31mHTTPError\u001b[0m: Error accessing https://www.ndbc.noaa.gov/data/realtime2/46259.supl\nServer Error (404: Not Found)"
     ]
    }
   ],
   "source": [
    "df = NDBC.realtime_observations('46259', 'supl')"
   ]
  },
  {
   "cell_type": "code",
   "execution_count": 9,
   "metadata": {},
   "outputs": [],
   "source": [
    "buoys = ['46259', '45002']"
   ]
  },
  {
   "cell_type": "code",
   "execution_count": 10,
   "metadata": {},
   "outputs": [
    {
     "name": "stdout",
     "output_type": "stream",
     "text": [
      "No supl data for buoy 46259\n",
      "Doing supplementary analysis on buoy 45002\n",
      "CPU times: user 1.08 s, sys: 89.1 ms, total: 1.17 s\n",
      "Wall time: 4.17 s\n"
     ]
    }
   ],
   "source": [
    "%%time\n",
    "\n",
    "for buoy in buoys:\n",
    "\tdata_types = NDBC.buoy_data_types(buoy)\n",
    "\tif 'supl' in data_types.keys():\n",
    "\t\tprint('Doing supplementary analysis on buoy {}'.format(buoy))\n",
    "\t\tdf = NDBC.realtime_observations(buoy, 'supl')\n",
    "\telse:\n",
    "\t\tprint('No supl data for buoy {}'.format(buoy))"
   ]
  },
  {
   "cell_type": "code",
   "execution_count": 11,
   "metadata": {},
   "outputs": [
    {
     "name": "stdout",
     "output_type": "stream",
     "text": [
      "No supl data for buoy 46259\n",
      "Doing supplementary analysis on buoy 45002\n",
      "CPU times: user 124 ms, sys: 11.4 ms, total: 136 ms\n",
      "Wall time: 445 ms\n"
     ]
    }
   ],
   "source": [
    "%%time\n",
    "\n",
    "import requests\n",
    "\n",
    "for buoy in buoys:\n",
    "\ttry:\n",
    "\t\tdf = NDBC.realtime_observations(buoy, 'supl')\n",
    "\t\tprint('Doing supplementary analysis on buoy {}'.format(buoy))\n",
    "\texcept requests.HTTPError:\n",
    "\t\tprint('No supl data for buoy {}'.format(buoy))"
   ]
  },
  {
   "cell_type": "code",
   "execution_count": null,
   "metadata": {},
   "outputs": [],
   "source": []
  }
 ],
 "metadata": {
  "kernelspec": {
   "display_name": "base",
   "language": "python",
   "name": "python3"
  },
  "language_info": {
   "codemirror_mode": {
    "name": "ipython",
    "version": 3
   },
   "file_extension": ".py",
   "mimetype": "text/x-python",
   "name": "python",
   "nbconvert_exporter": "python",
   "pygments_lexer": "ipython3",
   "version": "3.9.12"
  },
  "orig_nbformat": 4,
  "vscode": {
   "interpreter": {
    "hash": "b5cfa023891fceef02537f80a4c6e95b77988fb973cdb16a51cdb785092210be"
   }
  }
 },
 "nbformat": 4,
 "nbformat_minor": 2
}
