{
 "cells": [
  {
   "cell_type": "markdown",
   "metadata": {},
   "source": [
    "## 65 - Pandas Unit Helper\n",
    "\n",
    "[Youtube](https://www.youtube.com/watch?v=o-2s8QaiZUQ)"
   ]
  },
  {
   "cell_type": "code",
   "execution_count": 1,
   "metadata": {},
   "outputs": [],
   "source": [
    "from datetime import datetime\n",
    "request_time = datetime(1999, 5, 3, 12)"
   ]
  },
  {
   "cell_type": "code",
   "execution_count": 2,
   "metadata": {},
   "outputs": [],
   "source": [
    "station = 'OUN'"
   ]
  },
  {
   "cell_type": "code",
   "execution_count": 3,
   "metadata": {},
   "outputs": [],
   "source": [
    "from siphon.simplewebservice.wyoming import WyomingUpperAir"
   ]
  },
  {
   "cell_type": "code",
   "execution_count": 4,
   "metadata": {},
   "outputs": [],
   "source": [
    "df = WyomingUpperAir.request_data(request_time, station)"
   ]
  },
  {
   "cell_type": "code",
   "execution_count": 5,
   "metadata": {},
   "outputs": [
    {
     "data": {
      "text/html": [
       "<div>\n",
       "<style scoped>\n",
       "    .dataframe tbody tr th:only-of-type {\n",
       "        vertical-align: middle;\n",
       "    }\n",
       "\n",
       "    .dataframe tbody tr th {\n",
       "        vertical-align: top;\n",
       "    }\n",
       "\n",
       "    .dataframe thead th {\n",
       "        text-align: right;\n",
       "    }\n",
       "</style>\n",
       "<table border=\"1\" class=\"dataframe\">\n",
       "  <thead>\n",
       "    <tr style=\"text-align: right;\">\n",
       "      <th></th>\n",
       "      <th>pressure</th>\n",
       "      <th>height</th>\n",
       "      <th>temperature</th>\n",
       "      <th>dewpoint</th>\n",
       "      <th>direction</th>\n",
       "      <th>speed</th>\n",
       "      <th>u_wind</th>\n",
       "      <th>v_wind</th>\n",
       "      <th>station</th>\n",
       "      <th>station_number</th>\n",
       "      <th>time</th>\n",
       "      <th>latitude</th>\n",
       "      <th>longitude</th>\n",
       "      <th>elevation</th>\n",
       "      <th>pw</th>\n",
       "    </tr>\n",
       "  </thead>\n",
       "  <tbody>\n",
       "    <tr>\n",
       "      <th>0</th>\n",
       "      <td>966.0</td>\n",
       "      <td>345</td>\n",
       "      <td>18.2</td>\n",
       "      <td>16.9</td>\n",
       "      <td>180.0</td>\n",
       "      <td>15.0</td>\n",
       "      <td>-1.836970e-15</td>\n",
       "      <td>15.000000</td>\n",
       "      <td>OUN</td>\n",
       "      <td>72357</td>\n",
       "      <td>1999-05-03 12:00:00</td>\n",
       "      <td>35.18</td>\n",
       "      <td>-97.44</td>\n",
       "      <td>345.0</td>\n",
       "      <td>20.54</td>\n",
       "    </tr>\n",
       "    <tr>\n",
       "      <th>1</th>\n",
       "      <td>937.2</td>\n",
       "      <td>610</td>\n",
       "      <td>16.8</td>\n",
       "      <td>15.9</td>\n",
       "      <td>190.0</td>\n",
       "      <td>27.0</td>\n",
       "      <td>4.688501e+00</td>\n",
       "      <td>26.589809</td>\n",
       "      <td>OUN</td>\n",
       "      <td>72357</td>\n",
       "      <td>1999-05-03 12:00:00</td>\n",
       "      <td>35.18</td>\n",
       "      <td>-97.44</td>\n",
       "      <td>345.0</td>\n",
       "      <td>20.54</td>\n",
       "    </tr>\n",
       "    <tr>\n",
       "      <th>2</th>\n",
       "      <td>925.0</td>\n",
       "      <td>725</td>\n",
       "      <td>16.2</td>\n",
       "      <td>15.5</td>\n",
       "      <td>195.0</td>\n",
       "      <td>31.0</td>\n",
       "      <td>8.023390e+00</td>\n",
       "      <td>29.943701</td>\n",
       "      <td>OUN</td>\n",
       "      <td>72357</td>\n",
       "      <td>1999-05-03 12:00:00</td>\n",
       "      <td>35.18</td>\n",
       "      <td>-97.44</td>\n",
       "      <td>345.0</td>\n",
       "      <td>20.54</td>\n",
       "    </tr>\n",
       "    <tr>\n",
       "      <th>3</th>\n",
       "      <td>904.6</td>\n",
       "      <td>914</td>\n",
       "      <td>15.1</td>\n",
       "      <td>14.2</td>\n",
       "      <td>205.0</td>\n",
       "      <td>34.0</td>\n",
       "      <td>1.436902e+01</td>\n",
       "      <td>30.814465</td>\n",
       "      <td>OUN</td>\n",
       "      <td>72357</td>\n",
       "      <td>1999-05-03 12:00:00</td>\n",
       "      <td>35.18</td>\n",
       "      <td>-97.44</td>\n",
       "      <td>345.0</td>\n",
       "      <td>20.54</td>\n",
       "    </tr>\n",
       "    <tr>\n",
       "      <th>4</th>\n",
       "      <td>872.6</td>\n",
       "      <td>1219</td>\n",
       "      <td>13.3</td>\n",
       "      <td>12.1</td>\n",
       "      <td>210.0</td>\n",
       "      <td>38.0</td>\n",
       "      <td>1.900000e+01</td>\n",
       "      <td>32.908965</td>\n",
       "      <td>OUN</td>\n",
       "      <td>72357</td>\n",
       "      <td>1999-05-03 12:00:00</td>\n",
       "      <td>35.18</td>\n",
       "      <td>-97.44</td>\n",
       "      <td>345.0</td>\n",
       "      <td>20.54</td>\n",
       "    </tr>\n",
       "  </tbody>\n",
       "</table>\n",
       "</div>"
      ],
      "text/plain": [
       "   pressure  height  temperature  dewpoint  direction  speed        u_wind  \\\n",
       "0     966.0     345         18.2      16.9      180.0   15.0 -1.836970e-15   \n",
       "1     937.2     610         16.8      15.9      190.0   27.0  4.688501e+00   \n",
       "2     925.0     725         16.2      15.5      195.0   31.0  8.023390e+00   \n",
       "3     904.6     914         15.1      14.2      205.0   34.0  1.436902e+01   \n",
       "4     872.6    1219         13.3      12.1      210.0   38.0  1.900000e+01   \n",
       "\n",
       "      v_wind station  station_number                time  latitude  longitude  \\\n",
       "0  15.000000     OUN           72357 1999-05-03 12:00:00     35.18     -97.44   \n",
       "1  26.589809     OUN           72357 1999-05-03 12:00:00     35.18     -97.44   \n",
       "2  29.943701     OUN           72357 1999-05-03 12:00:00     35.18     -97.44   \n",
       "3  30.814465     OUN           72357 1999-05-03 12:00:00     35.18     -97.44   \n",
       "4  32.908965     OUN           72357 1999-05-03 12:00:00     35.18     -97.44   \n",
       "\n",
       "   elevation     pw  \n",
       "0      345.0  20.54  \n",
       "1      345.0  20.54  \n",
       "2      345.0  20.54  \n",
       "3      345.0  20.54  \n",
       "4      345.0  20.54  "
      ]
     },
     "execution_count": 5,
     "metadata": {},
     "output_type": "execute_result"
    }
   ],
   "source": [
    "df.head()"
   ]
  },
  {
   "cell_type": "code",
   "execution_count": 6,
   "metadata": {},
   "outputs": [
    {
     "data": {
      "text/plain": [
       "{'pressure': 'hPa',\n",
       " 'height': 'meter',\n",
       " 'temperature': 'degC',\n",
       " 'dewpoint': 'degC',\n",
       " 'direction': 'degrees',\n",
       " 'speed': 'knot',\n",
       " 'u_wind': 'knot',\n",
       " 'v_wind': 'knot',\n",
       " 'station': None,\n",
       " 'station_number': None,\n",
       " 'time': None,\n",
       " 'latitude': 'degrees',\n",
       " 'longitude': 'degrees',\n",
       " 'elevation': 'meter',\n",
       " 'pw': 'millimeter'}"
      ]
     },
     "execution_count": 6,
     "metadata": {},
     "output_type": "execute_result"
    }
   ],
   "source": [
    "df.units"
   ]
  },
  {
   "cell_type": "code",
   "execution_count": 7,
   "metadata": {},
   "outputs": [],
   "source": [
    "from metpy.units import pandas_dataframe_to_unit_arrays"
   ]
  },
  {
   "cell_type": "code",
   "execution_count": 8,
   "metadata": {},
   "outputs": [],
   "source": [
    "sounding = pandas_dataframe_to_unit_arrays(df)"
   ]
  },
  {
   "cell_type": "code",
   "execution_count": 9,
   "metadata": {},
   "outputs": [
    {
     "data": {
      "text/html": [
       "<table><tbody><tr><th>Magnitude</th><td style='text-align:left;'><pre>[966.0 937.2 925.0 904.6 872.6 853.0 850.0 836.0 821.0 811.6 782.3 754.2<br> 726.9 700.0 648.9 624.6 601.1 595.0 587.0 576.0 555.7 534.2 524.0 500.0<br> 473.3 400.0 384.5 358.0 343.0 308.3 300.0 276.0 273.0 268.5 250.0 244.2<br> 233.0 200.0 191.8 190.0 174.2 168.0 151.0 150.0 144.0 130.6 118.4 105.0<br> 102.2 100.0 97.3 94.7 80.6 76.0 73.7 70.0 61.8 50.0 48.6 44.1 34.6 30.0<br> 29.9 26.4 21.4 20.0 16.9 16.2 16.1 15.4 13.7 11.3 10.7 10.2 10.0 9.9]</pre></td></tr><tr><th>Units</th><td style='text-align:left;'>hectopascal</td></tr></tbody></table>"
      ],
      "text/latex": [
       "$\\begin{pmatrix}966.0 & 937.2 & 925.0 & 904.6 & 872.6 & 853.0 & 850.0 & 836.0 & 821.0 & 811.6 & 782.3 & 754.2 & 726.9 & 700.0 & 648.9 & 624.6 & 601.1 & 595.0 & 587.0 & 576.0 & 555.7 & 534.2 & 524.0 & 500.0 & 473.3 & 400.0 & 384.5 & 358.0 & 343.0 & 308.3 & 300.0 & 276.0 & 273.0 & 268.5 & 250.0 & 244.2 & 233.0 & 200.0 & 191.8 & 190.0 & 174.2 & 168.0 & 151.0 & 150.0 & 144.0 & 130.6 & 118.4 & 105.0 & 102.2 & 100.0 & 97.3 & 94.7 & 80.6 & 76.0 & 73.7 & 70.0 & 61.8 & 50.0 & 48.6 & 44.1 & 34.6 & 30.0 & 29.9 & 26.4 & 21.4 & 20.0 & 16.9 & 16.2 & 16.1 & 15.4 & 13.7 & 11.3 & 10.7 & 10.2 & 10.0 & 9.9\\end{pmatrix}\\ \\mathrm{hectopascal}$"
      ],
      "text/plain": [
       "array([966. , 937.2, 925. , 904.6, 872.6, 853. , 850. , 836. , 821. ,\n",
       "       811.6, 782.3, 754.2, 726.9, 700. , 648.9, 624.6, 601.1, 595. ,\n",
       "       587. , 576. , 555.7, 534.2, 524. , 500. , 473.3, 400. , 384.5,\n",
       "       358. , 343. , 308.3, 300. , 276. , 273. , 268.5, 250. , 244.2,\n",
       "       233. , 200. , 191.8, 190. , 174.2, 168. , 151. , 150. , 144. ,\n",
       "       130.6, 118.4, 105. , 102.2, 100. ,  97.3,  94.7,  80.6,  76. ,\n",
       "        73.7,  70. ,  61.8,  50. ,  48.6,  44.1,  34.6,  30. ,  29.9,\n",
       "        26.4,  21.4,  20. ,  16.9,  16.2,  16.1,  15.4,  13.7,  11.3,\n",
       "        10.7,  10.2,  10. ,   9.9]) <Unit('hectopascal')>"
      ]
     },
     "execution_count": 9,
     "metadata": {},
     "output_type": "execute_result"
    }
   ],
   "source": [
    "sounding['pressure']"
   ]
  },
  {
   "cell_type": "code",
   "execution_count": 10,
   "metadata": {},
   "outputs": [],
   "source": [
    "import pandas as pd\n",
    "my_data = {'var1': [1, 2, 3], 'var2': [5, 6, 7]}\n",
    "df = pd.DataFrame(my_data)"
   ]
  },
  {
   "cell_type": "code",
   "execution_count": 11,
   "metadata": {},
   "outputs": [
    {
     "data": {
      "text/html": [
       "<div>\n",
       "<style scoped>\n",
       "    .dataframe tbody tr th:only-of-type {\n",
       "        vertical-align: middle;\n",
       "    }\n",
       "\n",
       "    .dataframe tbody tr th {\n",
       "        vertical-align: top;\n",
       "    }\n",
       "\n",
       "    .dataframe thead th {\n",
       "        text-align: right;\n",
       "    }\n",
       "</style>\n",
       "<table border=\"1\" class=\"dataframe\">\n",
       "  <thead>\n",
       "    <tr style=\"text-align: right;\">\n",
       "      <th></th>\n",
       "      <th>var1</th>\n",
       "      <th>var2</th>\n",
       "    </tr>\n",
       "  </thead>\n",
       "  <tbody>\n",
       "    <tr>\n",
       "      <th>0</th>\n",
       "      <td>1</td>\n",
       "      <td>5</td>\n",
       "    </tr>\n",
       "    <tr>\n",
       "      <th>1</th>\n",
       "      <td>2</td>\n",
       "      <td>6</td>\n",
       "    </tr>\n",
       "    <tr>\n",
       "      <th>2</th>\n",
       "      <td>3</td>\n",
       "      <td>7</td>\n",
       "    </tr>\n",
       "  </tbody>\n",
       "</table>\n",
       "</div>"
      ],
      "text/plain": [
       "   var1  var2\n",
       "0     1     5\n",
       "1     2     6\n",
       "2     3     7"
      ]
     },
     "execution_count": 11,
     "metadata": {},
     "output_type": "execute_result"
    }
   ],
   "source": [
    "df"
   ]
  },
  {
   "cell_type": "code",
   "execution_count": 12,
   "metadata": {},
   "outputs": [],
   "source": [
    "my_units = {'var1': 'degC', 'var2': 'meters'}\n",
    "my_united_data = pandas_dataframe_to_unit_arrays(df, column_units = my_units)"
   ]
  },
  {
   "cell_type": "code",
   "execution_count": 13,
   "metadata": {},
   "outputs": [
    {
     "data": {
      "text/plain": [
       "{'var1': array([1, 2, 3]) <Unit('degree_Celsius')>,\n",
       " 'var2': array([5, 6, 7]) <Unit('meter')>}"
      ]
     },
     "execution_count": 13,
     "metadata": {},
     "output_type": "execute_result"
    }
   ],
   "source": [
    "my_united_data"
   ]
  },
  {
   "cell_type": "code",
   "execution_count": null,
   "metadata": {},
   "outputs": [],
   "source": []
  }
 ],
 "metadata": {
  "kernelspec": {
   "display_name": "Python 3.9.12 ('base')",
   "language": "python",
   "name": "python3"
  },
  "language_info": {
   "codemirror_mode": {
    "name": "ipython",
    "version": 3
   },
   "file_extension": ".py",
   "mimetype": "text/x-python",
   "name": "python",
   "nbconvert_exporter": "python",
   "pygments_lexer": "ipython3",
   "version": "3.9.12"
  },
  "orig_nbformat": 4,
  "vscode": {
   "interpreter": {
    "hash": "b5cfa023891fceef02537f80a4c6e95b77988fb973cdb16a51cdb785092210be"
   }
  }
 },
 "nbformat": 4,
 "nbformat_minor": 2
}
