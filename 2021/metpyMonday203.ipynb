{
 "cells": [
  {
   "attachments": {},
   "cell_type": "markdown",
   "metadata": {},
   "source": [
    "## 203 - Setting rcParams in the Notebook for Better Plots\n",
    "\n",
    "[Youtube](https://www.youtube.com/watch?v=pc8QABuXjuM)"
   ]
  },
  {
   "cell_type": "code",
   "execution_count": null,
   "metadata": {},
   "outputs": [],
   "source": [
    "import numpy as np\n",
    "import pandas as pd\n",
    "import matplotlib.pyplot as plt\n",
    "%matplotlib inline"
   ]
  },
  {
   "cell_type": "code",
   "execution_count": null,
   "metadata": {},
   "outputs": [],
   "source": [
    "df = pd.read_csv('sfc_temp_mon-20211018-1235.csv', parse_dates = ['created_at'])\n",
    "df"
   ]
  },
  {
   "cell_type": "code",
   "execution_count": null,
   "metadata": {},
   "outputs": [],
   "source": [
    "df2 = pd.read_csv('amb_temp_mon-20211018.csv')\n",
    "df['ambient_temperature'] = df2['value']\n",
    "df"
   ]
  },
  {
   "cell_type": "code",
   "execution_count": null,
   "metadata": {},
   "outputs": [],
   "source": [
    "df.drop(['id', 'feed_id', 'lat', 'lon', 'ele'], axis = 1, inplace = True)\n",
    "df.head()"
   ]
  },
  {
   "cell_type": "code",
   "execution_count": null,
   "metadata": {},
   "outputs": [],
   "source": [
    "df.rename(columns = {'value': 'soil_temperature', 'created_at': 'time'}, inplace = True)\n",
    "df.head()"
   ]
  },
  {
   "cell_type": "code",
   "execution_count": null,
   "metadata": {},
   "outputs": [],
   "source": [
    "fig, ax = plt.subplots(figsize = (12, 6))\n",
    "ax.plot(df['time'], df['ambient_temperature'], label = 'Air')\n",
    "ax.plot(df['time'], df['soil_temperature'], label = 'Soil')\n",
    "plt.legend()"
   ]
  },
  {
   "cell_type": "code",
   "execution_count": null,
   "metadata": {},
   "outputs": [],
   "source": [
    "plt.rcParams['xtick.labelsize'] = 16\n",
    "plt.rcParams['ytick.labelsize'] = 16\n",
    "plt.rcParams['font.size'] = 14\n",
    "plt.rcParams['lines.linewidth'] = 2\n",
    "plt.rcParams['xtick.major.size'] = 10\n",
    "plt.rcParams['xtick.minor.size'] = 5\n",
    "plt.rcParams['xtick.major.width'] = 1\n",
    "plt.rcParams['xtick.minor.width'] = 1\n",
    "plt.rcParams['ytick.major.size'] = 10\n",
    "plt.rcParams['ytick.minor.size'] = 5\n",
    "plt.rcParams['ytick.major.width'] = 1\n",
    "plt.rcParams['ytick.minor.width'] = 1\n",
    "\n",
    "fig, ax = plt.subplots(figsize = (12, 6))\n",
    "ax.plot(df['time'], df['ambient_temperature'], label = 'Air')\n",
    "ax.plot(df['time'], df['soil_temperature'], label = 'Soil')\n",
    "plt.legend()"
   ]
  },
  {
   "cell_type": "code",
   "execution_count": null,
   "metadata": {},
   "outputs": [],
   "source": [
    "from scipy.signal import medfilt\n",
    "import matplotlib.dates as mdates\n",
    "\n",
    "fig, ax = plt.subplots(figsize = (12, 6))\n",
    "ax.plot(df['time'], medfilt(df['ambient_temperature'], 3), label = 'Air')\n",
    "ax.plot(df['time'], medfilt(df['soil_temperature'], 3), label = 'Soil')\n",
    "ax.set_ylabel('Temperature [degC]')\n",
    "ax.spines['top'].set_visible(False)\n",
    "ax.spines['right'].set_visible(False)\n",
    "\n",
    "hours = mdates.HourLocator(np.arange(0, 24, 2))\n",
    "days = mdates.DayLocator(interval = 1)\n",
    "\n",
    "d_fmt = mdates.DateFormatter('%m/%d')\n",
    "h_fmt = mdates.DateFormatter('')\n",
    "\n",
    "ax.xaxis.set_major_locator(days)\n",
    "ax.xaxis.set_minor_locator(hours)\n",
    "\n",
    "ax.xaxis.set.major_formatter(d_fmt)\n",
    "ax.xaxis.set_minor_formatter(h_fmt)\n",
    "\n",
    "ax.grid(which = 'both')\n",
    "\n",
    "plt.legend()"
   ]
  }
 ],
 "metadata": {
  "language_info": {
   "name": "python"
  },
  "orig_nbformat": 4
 },
 "nbformat": 4,
 "nbformat_minor": 2
}
