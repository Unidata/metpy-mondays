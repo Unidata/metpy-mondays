{
 "cells": [
  {
   "attachments": {},
   "cell_type": "markdown",
   "metadata": {},
   "source": [
    "## 169 - Saving Space with Pandas - The One Keyword Argument you are Missing\n",
    "\n",
    "\n",
    "[Youtube](https://www.youtube.com/watch?v=YYDykZa97dY)"
   ]
  },
  {
   "cell_type": "code",
   "execution_count": 1,
   "metadata": {},
   "outputs": [],
   "source": [
    "data = 'http://www.mesonet.org/data/public/mesonet/mts/2021/02/08/20210208miam.mts'"
   ]
  },
  {
   "cell_type": "code",
   "execution_count": 2,
   "metadata": {},
   "outputs": [],
   "source": [
    "import pandas as pd"
   ]
  },
  {
   "cell_type": "code",
   "execution_count": 3,
   "metadata": {},
   "outputs": [
    {
     "data": {
      "text/html": [
       "<div>\n",
       "<style scoped>\n",
       "    .dataframe tbody tr th:only-of-type {\n",
       "        vertical-align: middle;\n",
       "    }\n",
       "\n",
       "    .dataframe tbody tr th {\n",
       "        vertical-align: top;\n",
       "    }\n",
       "\n",
       "    .dataframe thead th {\n",
       "        text-align: right;\n",
       "    }\n",
       "</style>\n",
       "<table border=\"1\" class=\"dataframe\">\n",
       "  <thead>\n",
       "    <tr style=\"text-align: right;\">\n",
       "      <th></th>\n",
       "      <th>STID</th>\n",
       "      <th>STNM</th>\n",
       "      <th>TIME</th>\n",
       "      <th>RELH</th>\n",
       "      <th>TAIR</th>\n",
       "      <th>WSPD</th>\n",
       "      <th>WVEC</th>\n",
       "      <th>WDIR</th>\n",
       "      <th>WDSD</th>\n",
       "      <th>WSSD</th>\n",
       "      <th>...</th>\n",
       "      <th>TA9M</th>\n",
       "      <th>WS2M</th>\n",
       "      <th>TS10</th>\n",
       "      <th>TB10</th>\n",
       "      <th>TS05</th>\n",
       "      <th>TS25</th>\n",
       "      <th>TS60</th>\n",
       "      <th>TR05</th>\n",
       "      <th>TR25</th>\n",
       "      <th>TR60</th>\n",
       "    </tr>\n",
       "  </thead>\n",
       "  <tbody>\n",
       "    <tr>\n",
       "      <th>0</th>\n",
       "      <td>MIAM</td>\n",
       "      <td>65</td>\n",
       "      <td>0</td>\n",
       "      <td>95</td>\n",
       "      <td>-3.1</td>\n",
       "      <td>2.7</td>\n",
       "      <td>2.7</td>\n",
       "      <td>40</td>\n",
       "      <td>6.3</td>\n",
       "      <td>0.3</td>\n",
       "      <td>...</td>\n",
       "      <td>-3.3</td>\n",
       "      <td>2.0</td>\n",
       "      <td>3.2</td>\n",
       "      <td>1.1</td>\n",
       "      <td>3.0</td>\n",
       "      <td>4.5</td>\n",
       "      <td>6.5</td>\n",
       "      <td>1.59</td>\n",
       "      <td>1.47</td>\n",
       "      <td>1.41</td>\n",
       "    </tr>\n",
       "    <tr>\n",
       "      <th>1</th>\n",
       "      <td>MIAM</td>\n",
       "      <td>65</td>\n",
       "      <td>5</td>\n",
       "      <td>95</td>\n",
       "      <td>-3.1</td>\n",
       "      <td>3.1</td>\n",
       "      <td>3.1</td>\n",
       "      <td>41</td>\n",
       "      <td>5.8</td>\n",
       "      <td>0.4</td>\n",
       "      <td>...</td>\n",
       "      <td>-3.2</td>\n",
       "      <td>2.3</td>\n",
       "      <td>-995.0</td>\n",
       "      <td>-995.0</td>\n",
       "      <td>-995.0</td>\n",
       "      <td>-995.0</td>\n",
       "      <td>-995.0</td>\n",
       "      <td>-995.00</td>\n",
       "      <td>-995.00</td>\n",
       "      <td>-995.00</td>\n",
       "    </tr>\n",
       "    <tr>\n",
       "      <th>2</th>\n",
       "      <td>MIAM</td>\n",
       "      <td>65</td>\n",
       "      <td>10</td>\n",
       "      <td>95</td>\n",
       "      <td>-3.0</td>\n",
       "      <td>2.7</td>\n",
       "      <td>2.7</td>\n",
       "      <td>44</td>\n",
       "      <td>6.5</td>\n",
       "      <td>0.4</td>\n",
       "      <td>...</td>\n",
       "      <td>-3.1</td>\n",
       "      <td>2.1</td>\n",
       "      <td>-995.0</td>\n",
       "      <td>-995.0</td>\n",
       "      <td>-995.0</td>\n",
       "      <td>-995.0</td>\n",
       "      <td>-995.0</td>\n",
       "      <td>-995.00</td>\n",
       "      <td>-995.00</td>\n",
       "      <td>-995.00</td>\n",
       "    </tr>\n",
       "    <tr>\n",
       "      <th>3</th>\n",
       "      <td>MIAM</td>\n",
       "      <td>65</td>\n",
       "      <td>15</td>\n",
       "      <td>95</td>\n",
       "      <td>-3.0</td>\n",
       "      <td>2.9</td>\n",
       "      <td>2.9</td>\n",
       "      <td>41</td>\n",
       "      <td>5.1</td>\n",
       "      <td>0.4</td>\n",
       "      <td>...</td>\n",
       "      <td>-3.1</td>\n",
       "      <td>2.1</td>\n",
       "      <td>3.2</td>\n",
       "      <td>1.1</td>\n",
       "      <td>3.0</td>\n",
       "      <td>4.5</td>\n",
       "      <td>6.5</td>\n",
       "      <td>-995.00</td>\n",
       "      <td>-995.00</td>\n",
       "      <td>-995.00</td>\n",
       "    </tr>\n",
       "    <tr>\n",
       "      <th>4</th>\n",
       "      <td>MIAM</td>\n",
       "      <td>65</td>\n",
       "      <td>20</td>\n",
       "      <td>95</td>\n",
       "      <td>-2.9</td>\n",
       "      <td>2.5</td>\n",
       "      <td>2.5</td>\n",
       "      <td>40</td>\n",
       "      <td>6.6</td>\n",
       "      <td>0.4</td>\n",
       "      <td>...</td>\n",
       "      <td>-3.0</td>\n",
       "      <td>1.9</td>\n",
       "      <td>-995.0</td>\n",
       "      <td>-995.0</td>\n",
       "      <td>-995.0</td>\n",
       "      <td>-995.0</td>\n",
       "      <td>-995.0</td>\n",
       "      <td>-995.00</td>\n",
       "      <td>-995.00</td>\n",
       "      <td>-995.00</td>\n",
       "    </tr>\n",
       "  </tbody>\n",
       "</table>\n",
       "<p>5 rows × 24 columns</p>\n",
       "</div>"
      ],
      "text/plain": [
       "   STID  STNM  TIME  RELH  TAIR  WSPD  WVEC  WDIR  WDSD  WSSD  ...  TA9M  \\\n",
       "0  MIAM    65     0    95  -3.1   2.7   2.7    40   6.3   0.3  ...  -3.3   \n",
       "1  MIAM    65     5    95  -3.1   3.1   3.1    41   5.8   0.4  ...  -3.2   \n",
       "2  MIAM    65    10    95  -3.0   2.7   2.7    44   6.5   0.4  ...  -3.1   \n",
       "3  MIAM    65    15    95  -3.0   2.9   2.9    41   5.1   0.4  ...  -3.1   \n",
       "4  MIAM    65    20    95  -2.9   2.5   2.5    40   6.6   0.4  ...  -3.0   \n",
       "\n",
       "   WS2M   TS10   TB10   TS05   TS25   TS60    TR05    TR25    TR60  \n",
       "0   2.0    3.2    1.1    3.0    4.5    6.5    1.59    1.47    1.41  \n",
       "1   2.3 -995.0 -995.0 -995.0 -995.0 -995.0 -995.00 -995.00 -995.00  \n",
       "2   2.1 -995.0 -995.0 -995.0 -995.0 -995.0 -995.00 -995.00 -995.00  \n",
       "3   2.1    3.2    1.1    3.0    4.5    6.5 -995.00 -995.00 -995.00  \n",
       "4   1.9 -995.0 -995.0 -995.0 -995.0 -995.0 -995.00 -995.00 -995.00  \n",
       "\n",
       "[5 rows x 24 columns]"
      ]
     },
     "execution_count": 3,
     "metadata": {},
     "output_type": "execute_result"
    }
   ],
   "source": [
    "df = pd.read_csv(data, skiprows = 2, delimiter = r'\\s+')\n",
    "df.head()"
   ]
  },
  {
   "cell_type": "code",
   "execution_count": 4,
   "metadata": {},
   "outputs": [
    {
     "data": {
      "text/plain": [
       "Index(['STID', 'STNM', 'TIME', 'RELH', 'TAIR', 'WSPD', 'WVEC', 'WDIR', 'WDSD',\n",
       "       'WSSD', 'WMAX', 'RAIN', 'PRES', 'SRAD', 'TA9M', 'WS2M', 'TS10', 'TB10',\n",
       "       'TS05', 'TS25', 'TS60', 'TR05', 'TR25', 'TR60'],\n",
       "      dtype='object')"
      ]
     },
     "execution_count": 4,
     "metadata": {},
     "output_type": "execute_result"
    }
   ],
   "source": [
    "df.columns"
   ]
  },
  {
   "cell_type": "code",
   "execution_count": 5,
   "metadata": {},
   "outputs": [],
   "source": [
    "df.to_csv('data.csv')"
   ]
  },
  {
   "cell_type": "code",
   "execution_count": 6,
   "metadata": {},
   "outputs": [],
   "source": [
    "df.to_excel('data.xlsx')"
   ]
  },
  {
   "cell_type": "code",
   "execution_count": 7,
   "metadata": {},
   "outputs": [],
   "source": [
    "df.to_json('data.json')"
   ]
  },
  {
   "cell_type": "code",
   "execution_count": 8,
   "metadata": {},
   "outputs": [],
   "source": [
    "df.to_pickle('data.pickle')"
   ]
  },
  {
   "cell_type": "code",
   "execution_count": 9,
   "metadata": {},
   "outputs": [],
   "source": [
    "df.to_csv('data.csv.gz', compression = 'gzip')"
   ]
  },
  {
   "cell_type": "code",
   "execution_count": 10,
   "metadata": {},
   "outputs": [],
   "source": [
    "df.to_json('data.json.gz', compression = 'gzip')"
   ]
  },
  {
   "cell_type": "code",
   "execution_count": 11,
   "metadata": {},
   "outputs": [
    {
     "name": "stdout",
     "output_type": "stream",
     "text": [
      "data.csv  data.csv.gz  data.json  data.json.gz\tdata.pickle  data.xlsx\n"
     ]
    }
   ],
   "source": [
    "!dir data.*"
   ]
  },
  {
   "cell_type": "code",
   "execution_count": 12,
   "metadata": {},
   "outputs": [
    {
     "data": {
      "text/plain": [
       "5.692433671798232"
      ]
     },
     "execution_count": 12,
     "metadata": {},
     "output_type": "execute_result"
    }
   ],
   "source": [
    "34758/6106"
   ]
  },
  {
   "cell_type": "code",
   "execution_count": 13,
   "metadata": {},
   "outputs": [
    {
     "data": {
      "text/plain": [
       "4.481442792183851"
      ]
     },
     "execution_count": 13,
     "metadata": {},
     "output_type": "execute_result"
    }
   ],
   "source": [
    "72931/16274"
   ]
  }
 ],
 "metadata": {
  "kernelspec": {
   "display_name": "base",
   "language": "python",
   "name": "python3"
  },
  "language_info": {
   "codemirror_mode": {
    "name": "ipython",
    "version": 3
   },
   "file_extension": ".py",
   "mimetype": "text/x-python",
   "name": "python",
   "nbconvert_exporter": "python",
   "pygments_lexer": "ipython3",
   "version": "3.9.12"
  },
  "orig_nbformat": 4,
  "vscode": {
   "interpreter": {
    "hash": "b5cfa023891fceef02537f80a4c6e95b77988fb973cdb16a51cdb785092210be"
   }
  }
 },
 "nbformat": 4,
 "nbformat_minor": 2
}
