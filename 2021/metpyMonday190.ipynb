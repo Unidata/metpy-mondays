{
 "cells": [
  {
   "cell_type": "markdown",
   "metadata": {},
   "source": [
    "## 190 - Combining Dictionaries and the New | Operator\n",
    "\n",
    "[Youtube](https://www.youtube.com/watch?v=0lwXJFTqLLw)"
   ]
  },
  {
   "cell_type": "code",
   "execution_count": 1,
   "metadata": {},
   "outputs": [
    {
     "data": {
      "text/plain": [
       "{'KOUN': 'Norman, OK',\n",
       " 'KTUL': 'Tulsa, OK',\n",
       " 'KFWD': 'Fort Worth, TX',\n",
       " 'KJXN': 'Jackson, MS'}"
      ]
     },
     "execution_count": 1,
     "metadata": {},
     "output_type": "execute_result"
    }
   ],
   "source": [
    "a = {'KOUN':'Norman, OK', 'KTUL':'Tulsa, OK', 'KFWD':'Dallas, TX'}\n",
    "b = {'KJXN':'Jackson, MS', 'KFWD':'Fort Worth, TX'}\n",
    "a.update(b)\n",
    "a"
   ]
  },
  {
   "cell_type": "code",
   "execution_count": 2,
   "metadata": {},
   "outputs": [
    {
     "data": {
      "text/plain": [
       "{'KOUN': 'Norman, OK',\n",
       " 'KTUL': 'Tulsa, OK',\n",
       " 'KFWD': 'Fort Worth, TX',\n",
       " 'KJXN': 'Jackson, MS'}"
      ]
     },
     "execution_count": 2,
     "metadata": {},
     "output_type": "execute_result"
    }
   ],
   "source": [
    "a = {'KOUN':'Norman, OK', 'KTUL':'Tulsa, OK', 'KFWD':'Dallas, TX'}\n",
    "c = {**a, **b}\n",
    "c"
   ]
  },
  {
   "cell_type": "code",
   "execution_count": 3,
   "metadata": {},
   "outputs": [
    {
     "data": {
      "text/plain": [
       "{'KJXN': 'Jackson, MS',\n",
       " 'KFWD': 'Dallas, TX',\n",
       " 'KOUN': 'Norman, OK',\n",
       " 'KTUL': 'Tulsa, OK'}"
      ]
     },
     "execution_count": 3,
     "metadata": {},
     "output_type": "execute_result"
    }
   ],
   "source": [
    "c = {**b, **a}\n",
    "c"
   ]
  },
  {
   "cell_type": "code",
   "execution_count": 4,
   "metadata": {},
   "outputs": [
    {
     "data": {
      "text/plain": [
       "{'KOUN': 'Norman, OK',\n",
       " 'KTUL': 'Tulsa, OK',\n",
       " 'KFWD': 'Fort Worth, TX',\n",
       " 'KJXN': 'Jackson, MS'}"
      ]
     },
     "execution_count": 4,
     "metadata": {},
     "output_type": "execute_result"
    }
   ],
   "source": [
    "a | b"
   ]
  },
  {
   "cell_type": "code",
   "execution_count": 5,
   "metadata": {},
   "outputs": [
    {
     "data": {
      "text/plain": [
       "{'KJXN': 'Jackson, MS',\n",
       " 'KFWD': 'Dallas, TX',\n",
       " 'KOUN': 'Norman, OK',\n",
       " 'KTUL': 'Tulsa, OK'}"
      ]
     },
     "execution_count": 5,
     "metadata": {},
     "output_type": "execute_result"
    }
   ],
   "source": [
    "b | a"
   ]
  },
  {
   "cell_type": "code",
   "execution_count": 6,
   "metadata": {},
   "outputs": [
    {
     "data": {
      "text/plain": [
       "{'KOUN': 'Norman, OK',\n",
       " 'KTUL': 'Tulsa, OK',\n",
       " 'KFWD': 'Dallas, TX',\n",
       " 'KJXN': 'Jackson, MS'}"
      ]
     },
     "execution_count": 6,
     "metadata": {},
     "output_type": "execute_result"
    }
   ],
   "source": [
    "a | b | c"
   ]
  },
  {
   "cell_type": "code",
   "execution_count": null,
   "metadata": {},
   "outputs": [],
   "source": []
  }
 ],
 "metadata": {
  "kernelspec": {
   "display_name": "Python 3.10.4 64-bit",
   "language": "python",
   "name": "python3"
  },
  "language_info": {
   "codemirror_mode": {
    "name": "ipython",
    "version": 3
   },
   "file_extension": ".py",
   "mimetype": "text/x-python",
   "name": "python",
   "nbconvert_exporter": "python",
   "pygments_lexer": "ipython3",
   "version": "3.10.4"
  },
  "orig_nbformat": 4,
  "vscode": {
   "interpreter": {
    "hash": "916dbcbb3f70747c44a77c7bcd40155683ae19c65e1c03b4aa3499c5328201f1"
   }
  }
 },
 "nbformat": 4,
 "nbformat_minor": 2
}
