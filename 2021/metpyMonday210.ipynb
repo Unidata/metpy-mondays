{
 "cells": [
  {
   "cell_type": "markdown",
   "id": "cd13f35b",
   "metadata": {},
   "source": [
    "## 210 - Speeding Up Your matplotlib Plots\n",
    "\n",
    "[Youtube](https://www.youtube.com/watch?v=jGVIZbi9uMY)"
   ]
  },
  {
   "cell_type": "code",
   "execution_count": 1,
   "id": "b96f4793",
   "metadata": {},
   "outputs": [],
   "source": [
    "import numpy as np\n",
    "import matplotlib.pyplot as plt\n",
    "from datetime import datetime\n",
    "from pathlib import Path\n",
    "%matplotlib agg"
   ]
  },
  {
   "cell_type": "code",
   "execution_count": 2,
   "id": "9f60e658",
   "metadata": {},
   "outputs": [],
   "source": [
    "ntrials = 10\n",
    "ndata = 10000"
   ]
  },
  {
   "cell_type": "code",
   "execution_count": 3,
   "id": "644d5982",
   "metadata": {},
   "outputs": [],
   "source": [
    "def remove_files(ntrials):\n",
    "    \"\"\"\n",
    "    Remove Test Files\n",
    "    \"\"\"\n",
    "    for i in range(ntrials):\n",
    "        Path(f'temp{i}.png').unlink()"
   ]
  },
  {
   "cell_type": "code",
   "execution_count": 4,
   "id": "223e1d2c",
   "metadata": {},
   "outputs": [
    {
     "name": "stdout",
     "output_type": "stream",
     "text": [
      "0.3871889\n"
     ]
    }
   ],
   "source": [
    "# 1\n",
    "times = []\n",
    "for i in range(ntrials):\n",
    "    x_data = np.arange(ndata)\n",
    "    y_data = np.random.random((ndata))\n",
    "    start = datetime.utcnow()\n",
    "    fig, ax = plt.subplots()\n",
    "    ax.plot(x_data, y_data)\n",
    "    plt.savefig(f'temp{i}.png')\n",
    "    end = datetime.utcnow()\n",
    "    times.append((end - start).microseconds)\n",
    "    \n",
    "print(np.mean(times) / 1e6)\n",
    "remove_files(ntrials)"
   ]
  },
  {
   "cell_type": "code",
   "execution_count": 5,
   "id": "38e8e89c",
   "metadata": {},
   "outputs": [
    {
     "name": "stdout",
     "output_type": "stream",
     "text": [
      "0.4828509\n"
     ]
    }
   ],
   "source": [
    "# 2\n",
    "times = []\n",
    "fig, ax = plt.subplots()\n",
    "\n",
    "for i in range(ntrials):\n",
    "    x_data = np.arange(ndata)\n",
    "    y_data = np.random.random((ndata))\n",
    "    start = datetime.utcnow()\n",
    "    ax.plot(x_data, y_data)\n",
    "    plt.savefig(f'temp{i}.png')\n",
    "    ax.clear()\n",
    "    end = datetime.utcnow()\n",
    "    times.append((end - start).microseconds)\n",
    "    \n",
    "print(np.mean(times) / 1e6)\n",
    "remove_files(ntrials)"
   ]
  },
  {
   "cell_type": "code",
   "execution_count": 6,
   "id": "889dffe8",
   "metadata": {},
   "outputs": [
    {
     "name": "stdout",
     "output_type": "stream",
     "text": [
      "0.35474890000000003\n"
     ]
    }
   ],
   "source": [
    "# 3\n",
    "times = []\n",
    "fig, ax = plt.subplots()\n",
    "l, = ax.plot(x_data, y_data)\n",
    "\n",
    "for i in range(ntrials):\n",
    "    x_data = np.arange(ndata)\n",
    "    y_data = np.random.random((ndata))\n",
    "    start = datetime.utcnow()\n",
    "    l.set_ydata(y_data)\n",
    "    plt.savefig(f'temp{i}.png')\n",
    "    end = datetime.utcnow()\n",
    "    times.append((end - start).microseconds)\n",
    "    \n",
    "print(np.mean(times) / 1e6)\n",
    "remove_files(ntrials)"
   ]
  },
  {
   "cell_type": "code",
   "execution_count": 7,
   "id": "998104e9",
   "metadata": {},
   "outputs": [
    {
     "name": "stdout",
     "output_type": "stream",
     "text": [
      "0.3611527\n"
     ]
    }
   ],
   "source": [
    "# 4\n",
    "times = []\n",
    "fig, ax = plt.subplots()\n",
    "\n",
    "for i in range(ntrials):\n",
    "    x_data = np.arange(ndata)\n",
    "    y_data = np.random.random((ndata))\n",
    "    start = datetime.utcnow()\n",
    "    ax.plot(x_data, y_data)\n",
    "    plt.savefig(f'temp{i}.png')\n",
    "    plt.cla()\n",
    "    end = datetime.utcnow()\n",
    "    times.append((end - start).microseconds)\n",
    "    \n",
    "print(np.mean(times) / 1e6)\n",
    "remove_files(ntrials)"
   ]
  },
  {
   "cell_type": "code",
   "execution_count": 8,
   "id": "3906b325",
   "metadata": {},
   "outputs": [
    {
     "name": "stdout",
     "output_type": "stream",
     "text": [
      "0.0620251\n"
     ]
    }
   ],
   "source": [
    "# 5\n",
    "times = []\n",
    "fig, ax = plt.subplots()\n",
    "\n",
    "for i in range(ntrials):\n",
    "    x_data = np.arange(ndata)\n",
    "    y_data = np.random.random((ndata))\n",
    "    start = datetime.utcnow()\n",
    "    ax.plot(x_data, y_data)\n",
    "    plt.savefig(f'temp{i}.png')\n",
    "    plt.clf()\n",
    "    end = datetime.utcnow()\n",
    "    times.append((end - start).microseconds)\n",
    "    \n",
    "print(np.mean(times) / 1e6)\n",
    "remove_files(ntrials)"
   ]
  },
  {
   "cell_type": "code",
   "execution_count": null,
   "id": "639aa607",
   "metadata": {},
   "outputs": [],
   "source": []
  }
 ],
 "metadata": {
  "kernelspec": {
   "display_name": "Python 3 (ipykernel)",
   "language": "python",
   "name": "python3"
  },
  "language_info": {
   "codemirror_mode": {
    "name": "ipython",
    "version": 3
   },
   "file_extension": ".py",
   "mimetype": "text/x-python",
   "name": "python",
   "nbconvert_exporter": "python",
   "pygments_lexer": "ipython3",
   "version": "3.9.12"
  }
 },
 "nbformat": 4,
 "nbformat_minor": 5
}
