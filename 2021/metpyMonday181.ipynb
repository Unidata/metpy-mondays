{
 "cells": [
  {
   "attachments": {},
   "cell_type": "markdown",
   "metadata": {},
   "source": [
    "## 181 - Using Apply to Speed Up Pandas DataFrame Operations\n",
    "\n",
    "\n",
    "[Youtube](https://www.youtube.com/watch?v=I0frgwFuwwo)"
   ]
  },
  {
   "cell_type": "code",
   "execution_count": 1,
   "metadata": {},
   "outputs": [],
   "source": [
    "import pandas as pd"
   ]
  },
  {
   "cell_type": "code",
   "execution_count": 2,
   "metadata": {},
   "outputs": [
    {
     "data": {
      "text/html": [
       "<div>\n",
       "<style scoped>\n",
       "    .dataframe tbody tr th:only-of-type {\n",
       "        vertical-align: middle;\n",
       "    }\n",
       "\n",
       "    .dataframe tbody tr th {\n",
       "        vertical-align: top;\n",
       "    }\n",
       "\n",
       "    .dataframe thead th {\n",
       "        text-align: right;\n",
       "    }\n",
       "</style>\n",
       "<table border=\"1\" class=\"dataframe\">\n",
       "  <thead>\n",
       "    <tr style=\"text-align: right;\">\n",
       "      <th></th>\n",
       "      <th>Time</th>\n",
       "      <th>Size</th>\n",
       "      <th>Location</th>\n",
       "      <th>County</th>\n",
       "      <th>State</th>\n",
       "      <th>Lat</th>\n",
       "      <th>Lon</th>\n",
       "      <th>Comments</th>\n",
       "    </tr>\n",
       "  </thead>\n",
       "  <tbody>\n",
       "    <tr>\n",
       "      <th>0</th>\n",
       "      <td>1658</td>\n",
       "      <td>100</td>\n",
       "      <td>4 S WALKER MILL</td>\n",
       "      <td>SPALDING</td>\n",
       "      <td>GA</td>\n",
       "      <td>33.24</td>\n",
       "      <td>-84.18</td>\n",
       "      <td>QUARTER SIZE HAIL REPORTED NEAR THE INTERSECTI...</td>\n",
       "    </tr>\n",
       "    <tr>\n",
       "      <th>1</th>\n",
       "      <td>1834</td>\n",
       "      <td>150</td>\n",
       "      <td>CALHOUN FALLS</td>\n",
       "      <td>ABBEVILLE</td>\n",
       "      <td>SC</td>\n",
       "      <td>34.09</td>\n",
       "      <td>-82.60</td>\n",
       "      <td>CO-OP OBSERVER REPORTED PING PONG BALL (1.50\")...</td>\n",
       "    </tr>\n",
       "    <tr>\n",
       "      <th>2</th>\n",
       "      <td>1853</td>\n",
       "      <td>175</td>\n",
       "      <td>1 NW ABBEVILLE</td>\n",
       "      <td>ABBEVILLE</td>\n",
       "      <td>SC</td>\n",
       "      <td>34.18</td>\n",
       "      <td>-82.39</td>\n",
       "      <td>SPOTTER NETWORK REPORT OF GOLF BALL SIZE HAIL....</td>\n",
       "    </tr>\n",
       "    <tr>\n",
       "      <th>3</th>\n",
       "      <td>1918</td>\n",
       "      <td>100</td>\n",
       "      <td>3 S GREENWOOD</td>\n",
       "      <td>GREENWOOD</td>\n",
       "      <td>SC</td>\n",
       "      <td>34.14</td>\n",
       "      <td>-82.15</td>\n",
       "      <td>QUARTER SIZE HAIL ON HIGHWAY 221 ON GREENWOOD'...</td>\n",
       "    </tr>\n",
       "    <tr>\n",
       "      <th>4</th>\n",
       "      <td>1941</td>\n",
       "      <td>175</td>\n",
       "      <td>3 SE EWING</td>\n",
       "      <td>LEWIS</td>\n",
       "      <td>MO</td>\n",
       "      <td>39.97</td>\n",
       "      <td>-91.67</td>\n",
       "      <td>REPORT OF GOLF BALL SIZED HAIL IN DURHAM... MO...</td>\n",
       "    </tr>\n",
       "  </tbody>\n",
       "</table>\n",
       "</div>"
      ],
      "text/plain": [
       "   Time  Size         Location     County State    Lat    Lon  \\\n",
       "0  1658   100  4 S WALKER MILL   SPALDING    GA  33.24 -84.18   \n",
       "1  1834   150    CALHOUN FALLS  ABBEVILLE    SC  34.09 -82.60   \n",
       "2  1853   175   1 NW ABBEVILLE  ABBEVILLE    SC  34.18 -82.39   \n",
       "3  1918   100    3 S GREENWOOD  GREENWOOD    SC  34.14 -82.15   \n",
       "4  1941   175       3 SE EWING      LEWIS    MO  39.97 -91.67   \n",
       "\n",
       "                                            Comments  \n",
       "0  QUARTER SIZE HAIL REPORTED NEAR THE INTERSECTI...  \n",
       "1  CO-OP OBSERVER REPORTED PING PONG BALL (1.50\")...  \n",
       "2  SPOTTER NETWORK REPORT OF GOLF BALL SIZE HAIL....  \n",
       "3  QUARTER SIZE HAIL ON HIGHWAY 221 ON GREENWOOD'...  \n",
       "4  REPORT OF GOLF BALL SIZED HAIL IN DURHAM... MO...  "
      ]
     },
     "execution_count": 2,
     "metadata": {},
     "output_type": "execute_result"
    }
   ],
   "source": [
    "hail_reports = pd.read_csv('https://www.spc.noaa.gov/climo/reports/210503_rpts_hail.csv')\n",
    "hail_reports.head()"
   ]
  },
  {
   "cell_type": "code",
   "execution_count": 3,
   "metadata": {},
   "outputs": [],
   "source": [
    "def make_nws_hail_size(size):\n",
    "\t\"\"\"\n",
    "\tConvert hail size in inches to NWS standard names.\n",
    "\t\"\"\"\n",
    "\tif size >= 0.5 and size < 0.75:\n",
    "\t\treturn \"Marble\"\n",
    "\telif size >= 0.75 and size < 0.88:\n",
    "\t\treturn \"Penny\"\n",
    "\telif size >= 0.88 and size < 1.0:\n",
    "\t\treturn \"Nickel\"\n",
    "\telif size >= 1.0 and size < 1.25:\n",
    "\t\treturn \"Quarter\"\n",
    "\telif size >= 1.25 and size < 1.5:\n",
    "\t\treturn \"Half Dollar\"\n",
    "\telif size >= 1.5 and size < 1.75:\n",
    "\t\treturn \"Walnut\"\n",
    "\telif size >= 1.75 and size < 2.0:\n",
    "\t\treturn \"Golf Ball\"\n",
    "\telif size >= 2.0 and size < 2.5:\n",
    "\t\treturn \"Hen Egg\"\n",
    "\telif size >= 2.5 and size < 3.0:\n",
    "\t return \"Tennis Ball\" \n",
    "\telif size >= 3.0 and size < 4.0:\n",
    "\t return \"Tea Cup\"\n",
    "\telif size >= 4.0 and size < 4.5: \n",
    "\t return \"Softball\"\n",
    "\telif size >= 4.5 and size < 5.0:\n",
    "\t return \"Grapefruit\"\n",
    "\telse:\n",
    "\t return None"
   ]
  },
  {
   "cell_type": "code",
   "execution_count": 4,
   "metadata": {},
   "outputs": [
    {
     "data": {
      "text/plain": [
       "'Quarter'"
      ]
     },
     "execution_count": 4,
     "metadata": {},
     "output_type": "execute_result"
    }
   ],
   "source": [
    "make_nws_hail_size(1.0)"
   ]
  },
  {
   "cell_type": "code",
   "execution_count": 5,
   "metadata": {},
   "outputs": [
    {
     "ename": "ValueError",
     "evalue": "The truth value of a Series is ambiguous. Use a.empty, a.bool(), a.item(), a.any() or a.all().",
     "output_type": "error",
     "traceback": [
      "\u001b[0;31m---------------------------------------------------------------------------\u001b[0m",
      "\u001b[0;31mValueError\u001b[0m                                Traceback (most recent call last)",
      "Cell \u001b[0;32mIn [5], line 1\u001b[0m\n\u001b[0;32m----> 1\u001b[0m make_nws_hail_size(hail_reports[\u001b[39m'\u001b[39;49m\u001b[39mSize\u001b[39;49m\u001b[39m'\u001b[39;49m] \u001b[39m/\u001b[39;49m \u001b[39m100\u001b[39;49m)\n",
      "Cell \u001b[0;32mIn [3], line 5\u001b[0m, in \u001b[0;36mmake_nws_hail_size\u001b[0;34m(size)\u001b[0m\n\u001b[1;32m      1\u001b[0m \u001b[39mdef\u001b[39;00m \u001b[39mmake_nws_hail_size\u001b[39m(size):\n\u001b[1;32m      2\u001b[0m \t\u001b[39m\"\"\"\u001b[39;00m\n\u001b[1;32m      3\u001b[0m \u001b[39m\tConvert hail size in inches to NWS standard names.\u001b[39;00m\n\u001b[1;32m      4\u001b[0m \u001b[39m\t\"\"\"\u001b[39;00m\n\u001b[0;32m----> 5\u001b[0m \t\u001b[39mif\u001b[39;00m size \u001b[39m>\u001b[39m\u001b[39m=\u001b[39m \u001b[39m0.5\u001b[39m \u001b[39mand\u001b[39;00m size \u001b[39m<\u001b[39m \u001b[39m0.75\u001b[39m:\n\u001b[1;32m      6\u001b[0m \t\t\u001b[39mreturn\u001b[39;00m \u001b[39m\"\u001b[39m\u001b[39mMarble\u001b[39m\u001b[39m\"\u001b[39m\n\u001b[1;32m      7\u001b[0m \t\u001b[39melif\u001b[39;00m size \u001b[39m>\u001b[39m\u001b[39m=\u001b[39m \u001b[39m0.75\u001b[39m \u001b[39mand\u001b[39;00m size \u001b[39m<\u001b[39m \u001b[39m0.88\u001b[39m:\n",
      "File \u001b[0;32m~/anaconda3/lib/python3.9/site-packages/pandas/core/generic.py:1527\u001b[0m, in \u001b[0;36mNDFrame.__nonzero__\u001b[0;34m(self)\u001b[0m\n\u001b[1;32m   1525\u001b[0m \u001b[39m@final\u001b[39m\n\u001b[1;32m   1526\u001b[0m \u001b[39mdef\u001b[39;00m \u001b[39m__nonzero__\u001b[39m(\u001b[39mself\u001b[39m) \u001b[39m-\u001b[39m\u001b[39m>\u001b[39m NoReturn:\n\u001b[0;32m-> 1527\u001b[0m     \u001b[39mraise\u001b[39;00m \u001b[39mValueError\u001b[39;00m(\n\u001b[1;32m   1528\u001b[0m         \u001b[39mf\u001b[39m\u001b[39m\"\u001b[39m\u001b[39mThe truth value of a \u001b[39m\u001b[39m{\u001b[39;00m\u001b[39mtype\u001b[39m(\u001b[39mself\u001b[39m)\u001b[39m.\u001b[39m\u001b[39m__name__\u001b[39m\u001b[39m}\u001b[39;00m\u001b[39m is ambiguous. \u001b[39m\u001b[39m\"\u001b[39m\n\u001b[1;32m   1529\u001b[0m         \u001b[39m\"\u001b[39m\u001b[39mUse a.empty, a.bool(), a.item(), a.any() or a.all().\u001b[39m\u001b[39m\"\u001b[39m\n\u001b[1;32m   1530\u001b[0m     )\n",
      "\u001b[0;31mValueError\u001b[0m: The truth value of a Series is ambiguous. Use a.empty, a.bool(), a.item(), a.any() or a.all()."
     ]
    }
   ],
   "source": [
    "make_nws_hail_size(hail_reports['Size'] / 100)"
   ]
  },
  {
   "cell_type": "code",
   "execution_count": 6,
   "metadata": {},
   "outputs": [
    {
     "name": "stdout",
     "output_type": "stream",
     "text": [
      "9.19 ms ± 308 µs per loop (mean ± std. dev. of 7 runs, 100 loops each)\n"
     ]
    }
   ],
   "source": [
    "%%timeit\n",
    "sizes = []\n",
    "for row in hail_reports.iterrows():\n",
    "\tsizes.append(make_nws_hail_size(row[1]['Size'] / 100 ))"
   ]
  },
  {
   "cell_type": "code",
   "execution_count": 7,
   "metadata": {},
   "outputs": [
    {
     "data": {
      "text/html": [
       "<div>\n",
       "<style scoped>\n",
       "    .dataframe tbody tr th:only-of-type {\n",
       "        vertical-align: middle;\n",
       "    }\n",
       "\n",
       "    .dataframe tbody tr th {\n",
       "        vertical-align: top;\n",
       "    }\n",
       "\n",
       "    .dataframe thead th {\n",
       "        text-align: right;\n",
       "    }\n",
       "</style>\n",
       "<table border=\"1\" class=\"dataframe\">\n",
       "  <thead>\n",
       "    <tr style=\"text-align: right;\">\n",
       "      <th></th>\n",
       "      <th>Time</th>\n",
       "      <th>Size</th>\n",
       "      <th>Location</th>\n",
       "      <th>County</th>\n",
       "      <th>State</th>\n",
       "      <th>Lat</th>\n",
       "      <th>Lon</th>\n",
       "      <th>Comments</th>\n",
       "    </tr>\n",
       "  </thead>\n",
       "  <tbody>\n",
       "    <tr>\n",
       "      <th>182</th>\n",
       "      <td>735</td>\n",
       "      <td>100</td>\n",
       "      <td>MONETTE</td>\n",
       "      <td>CRAIGHEAD</td>\n",
       "      <td>AR</td>\n",
       "      <td>35.89</td>\n",
       "      <td>-90.34</td>\n",
       "      <td>(MEG)</td>\n",
       "    </tr>\n",
       "    <tr>\n",
       "      <th>183</th>\n",
       "      <td>920</td>\n",
       "      <td>100</td>\n",
       "      <td>GADSDEN</td>\n",
       "      <td>CROCKETT</td>\n",
       "      <td>TN</td>\n",
       "      <td>35.78</td>\n",
       "      <td>-88.98</td>\n",
       "      <td>QUARTER SIZE HAIL FELL FOR 5 MINUTES. (MEG)</td>\n",
       "    </tr>\n",
       "    <tr>\n",
       "      <th>184</th>\n",
       "      <td>1015</td>\n",
       "      <td>100</td>\n",
       "      <td>2 SSE WALLAND</td>\n",
       "      <td>BLOUNT</td>\n",
       "      <td>TN</td>\n",
       "      <td>35.69</td>\n",
       "      <td>-83.80</td>\n",
       "      <td>(MRX)</td>\n",
       "    </tr>\n",
       "    <tr>\n",
       "      <th>185</th>\n",
       "      <td>1147</td>\n",
       "      <td>100</td>\n",
       "      <td>2 ENE SAN MARCOS</td>\n",
       "      <td>HAYS</td>\n",
       "      <td>TX</td>\n",
       "      <td>29.89</td>\n",
       "      <td>-97.92</td>\n",
       "      <td>MPING REPORT. (EWX)</td>\n",
       "    </tr>\n",
       "    <tr>\n",
       "      <th>186</th>\n",
       "      <td>1152</td>\n",
       "      <td>150</td>\n",
       "      <td>4 ENE SAN MARCOS</td>\n",
       "      <td>CALDWELL</td>\n",
       "      <td>TX</td>\n",
       "      <td>29.90</td>\n",
       "      <td>-97.88</td>\n",
       "      <td>TWITTER REPORT FROM NEAR SAN MARCOS AIRPORT. (...</td>\n",
       "    </tr>\n",
       "  </tbody>\n",
       "</table>\n",
       "</div>"
      ],
      "text/plain": [
       "     Time  Size          Location     County State    Lat    Lon  \\\n",
       "182   735   100           MONETTE  CRAIGHEAD    AR  35.89 -90.34   \n",
       "183   920   100           GADSDEN   CROCKETT    TN  35.78 -88.98   \n",
       "184  1015   100     2 SSE WALLAND     BLOUNT    TN  35.69 -83.80   \n",
       "185  1147   100  2 ENE SAN MARCOS       HAYS    TX  29.89 -97.92   \n",
       "186  1152   150  4 ENE SAN MARCOS   CALDWELL    TX  29.90 -97.88   \n",
       "\n",
       "                                              Comments  \n",
       "182                                              (MEG)  \n",
       "183        QUARTER SIZE HAIL FELL FOR 5 MINUTES. (MEG)  \n",
       "184                                              (MRX)  \n",
       "185                                MPING REPORT. (EWX)  \n",
       "186  TWITTER REPORT FROM NEAR SAN MARCOS AIRPORT. (...  "
      ]
     },
     "execution_count": 7,
     "metadata": {},
     "output_type": "execute_result"
    }
   ],
   "source": [
    "hail_reports.tail()"
   ]
  },
  {
   "cell_type": "code",
   "execution_count": 8,
   "metadata": {},
   "outputs": [],
   "source": [
    "def make_nws_hail_size(row):\n",
    "\t\"\"\"\n",
    "\tConvert hail size in inches to NWS standard names.\n",
    "\t\"\"\"\n",
    "\tsize = row['Size'] / 100\n",
    "\tif size >= 0.5 and size < 0.75:\n",
    "\t\treturn \"Marble\"\n",
    "\telif size >= 0.75 and size < 0.88:\n",
    "\t\treturn \"Penny\"\n",
    "\telif size >= 0.88 and size < 1.0:\n",
    "\t\treturn \"Nickel\"\n",
    "\telif size >= 1.0 and size < 1.25:\n",
    "\t\treturn \"Quarter\"\n",
    "\telif size >= 1.25 and size < 1.5:\n",
    "\t\treturn \"Half Dollar\"\n",
    "\telif size >= 1.5 and size < 1.75:\n",
    "\t\treturn \"Walnut\"\n",
    "\telif size >= 1.75 and size < 2.0:\n",
    "\t\treturn \"Golf Ball\"\n",
    "\telif size >= 2.0 and size < 2.5:\n",
    "\t\treturn \"Hen Egg\"\n",
    "\telif size >= 2.5 and size < 3.0:\n",
    "\t\treturn \"Tennis Ball\" \n",
    "\telif size >= 3.0 and size < 4.0:\n",
    "\t\treturn \"Tea Cup\"\n",
    "\telif size >= 4.0 and size < 4.5: \n",
    "\t\treturn \"Softball\"\n",
    "\telif size >= 4.5 and size < 5.0:\n",
    "\t\treturn \"Grapefruit\"\n",
    "\telse:\n",
    "\t\treturn None"
   ]
  },
  {
   "cell_type": "code",
   "execution_count": 9,
   "metadata": {},
   "outputs": [
    {
     "name": "stdout",
     "output_type": "stream",
     "text": [
      "2.5 ms ± 363 µs per loop (mean ± std. dev. of 7 runs, 100 loops each)\n"
     ]
    }
   ],
   "source": [
    "%%timeit\n",
    "hail_reports['Common Size'] = hail_reports.apply(make_nws_hail_size, axis = 1)\n",
    "hail_reports.head()"
   ]
  },
  {
   "cell_type": "code",
   "execution_count": 10,
   "metadata": {},
   "outputs": [],
   "source": [
    "import matplotlib.pyplot as plt\n",
    "%matplotlib inline"
   ]
  },
  {
   "cell_type": "code",
   "execution_count": 11,
   "metadata": {},
   "outputs": [
    {
     "data": {
      "text/plain": [
       "<AxesSubplot:>"
      ]
     },
     "execution_count": 11,
     "metadata": {},
     "output_type": "execute_result"
    },
    {
     "data": {
      "image/png": "[encoded data removed]",
      "text/plain": [
       "<Figure size 640x480 with 1 Axes>"
      ]
     },
     "metadata": {},
     "output_type": "display_data"
    }
   ],
   "source": [
    "hail_reports['Common Size'].hist()"
   ]
  },
  {
   "cell_type": "code",
   "execution_count": null,
   "metadata": {},
   "outputs": [],
   "source": []
  }
 ],
 "metadata": {
  "kernelspec": {
   "display_name": "base",
   "language": "python",
   "name": "python3"
  },
  "language_info": {
   "codemirror_mode": {
    "name": "ipython",
    "version": 3
   },
   "file_extension": ".py",
   "mimetype": "text/x-python",
   "name": "python",
   "nbconvert_exporter": "python",
   "pygments_lexer": "ipython3",
   "version": "3.9.12"
  },
  "orig_nbformat": 4,
  "vscode": {
   "interpreter": {
    "hash": "b5cfa023891fceef02537f80a4c6e95b77988fb973cdb16a51cdb785092210be"
   }
  }
 },
 "nbformat": 4,
 "nbformat_minor": 2
}
