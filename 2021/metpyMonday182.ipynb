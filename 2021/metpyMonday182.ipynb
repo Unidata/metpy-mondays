{
 "cells": [
  {
   "attachments": {},
   "cell_type": "markdown",
   "metadata": {},
   "source": [
    "## 182​ - Linear Regression with Scikit-Learn - Basic Machine Learning\n",
    "\n",
    "\n",
    "[Youtube](https://www.youtube.com/watch?v=Lg97-keOwP8)"
   ]
  },
  {
   "cell_type": "code",
   "execution_count": null,
   "metadata": {},
   "outputs": [],
   "source": [
    "import numpy as np\n",
    "from sklearn.linear_model import LinearRegression\n",
    "import pandas as pd"
   ]
  },
  {
   "cell_type": "code",
   "execution_count": null,
   "metadata": {},
   "outputs": [],
   "source": [
    "col_names = ['Day', 'Mean Temperature', 'High Temperature', 'High Temperature Time', 'Low Temperature', 'Low Temperature Time', 'Heat Deg Days', 'Cool Deg Days', 'Rain', 'Wind Speed', 'High Wind', 'High Wind Time', 'Dom Direction']\n",
    "df = pd.read_csv('wx_station.txt', delim_whitespace = True, names = col_names)\n",
    "df.head()"
   ]
  },
  {
   "cell_type": "code",
   "execution_count": null,
   "metadata": {},
   "outputs": [],
   "source": [
    "import matplotlib.pyplot as plt\n",
    "%matplotlib inline"
   ]
  },
  {
   "cell_type": "code",
   "execution_count": null,
   "metadata": {},
   "outputs": [],
   "source": [
    "plt.plot(df['High Temperature'], color = 'tab:red')\n",
    "plt.plot(df['Low Temperature'], color = 'tab:blue')"
   ]
  },
  {
   "cell_type": "code",
   "execution_count": null,
   "metadata": {},
   "outputs": [],
   "source": [
    "x = df['High Temperature'].values.reshape(-1, 1)\n",
    "y = df['Low Temperature']"
   ]
  },
  {
   "cell_type": "code",
   "execution_count": null,
   "metadata": {},
   "outputs": [],
   "source": [
    "reg = LinearRegression().fit(x, y)"
   ]
  },
  {
   "cell_type": "code",
   "execution_count": null,
   "metadata": {},
   "outputs": [],
   "source": [
    "reg.score(x, y)"
   ]
  },
  {
   "cell_type": "code",
   "execution_count": null,
   "metadata": {},
   "outputs": [],
   "source": [
    "reg.coef_"
   ]
  },
  {
   "cell_type": "code",
   "execution_count": null,
   "metadata": {},
   "outputs": [],
   "source": [
    "reg.intercept_"
   ]
  },
  {
   "cell_type": "code",
   "execution_count": null,
   "metadata": {},
   "outputs": [],
   "source": [
    "may_df = pd.read_csv('may_data', delim_whitespace = True, names = col_names)\n",
    "may_df.head()"
   ]
  },
  {
   "cell_type": "code",
   "execution_count": null,
   "metadata": {},
   "outputs": [],
   "source": [
    "may_high = may_df['High Temperature'].values.reshape(-1, 1)\n",
    "may_pred_low = reg.predict(may_high)"
   ]
  },
  {
   "cell_type": "code",
   "execution_count": null,
   "metadata": {},
   "outputs": [],
   "source": [
    "plt.plot(may_df['High Temperature'], color = 'tab:red')\n",
    "plt.plot(may_df['Low Temperature'], color = 'tab:blue')\n",
    "plt.plot(may_pred_low, color = 'tab:orange')"
   ]
  }
 ],
 "metadata": {
  "kernelspec": {
   "display_name": "base",
   "language": "python",
   "name": "python3"
  },
  "language_info": {
   "codemirror_mode": {
    "name": "ipython",
    "version": 3
   },
   "file_extension": ".py",
   "mimetype": "text/x-python",
   "name": "python",
   "nbconvert_exporter": "python",
   "pygments_lexer": "ipython3",
   "version": "3.9.12 (main, Apr  5 2022, 06:56:58) \n[GCC 7.5.0]"
  },
  "orig_nbformat": 4,
  "vscode": {
   "interpreter": {
    "hash": "b5cfa023891fceef02537f80a4c6e95b77988fb973cdb16a51cdb785092210be"
   }
  }
 },
 "nbformat": 4,
 "nbformat_minor": 2
}
