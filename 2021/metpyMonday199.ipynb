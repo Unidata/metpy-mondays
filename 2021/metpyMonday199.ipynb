{
 "cells": [
  {
   "cell_type": "markdown",
   "metadata": {},
   "source": [
    "## 199 - Lapse Rate Rules of Thumb Part 1\n",
    "\n",
    "[Youtube](https://www.youtube.com/watch?v=jQK_9F5lFAc)"
   ]
  },
  {
   "cell_type": "code",
   "execution_count": 1,
   "metadata": {},
   "outputs": [],
   "source": [
    "import pandas as pd\n",
    "from datetime import datetime\n",
    "from metpy.units import units, pandas_dataframe_to_unit_arrays\n",
    "from siphon.simplewebservice.iastate import IAStateUpperAir"
   ]
  },
  {
   "cell_type": "code",
   "execution_count": 2,
   "metadata": {},
   "outputs": [],
   "source": [
    "date = datetime(2021, 9, 18)\n",
    "station = 'LCH'\n",
    "station = 'BIS'"
   ]
  },
  {
   "cell_type": "code",
   "execution_count": 3,
   "metadata": {},
   "outputs": [
    {
     "data": {
      "text/html": [
       "<div>\n",
       "<style scoped>\n",
       "    .dataframe tbody tr th:only-of-type {\n",
       "        vertical-align: middle;\n",
       "    }\n",
       "\n",
       "    .dataframe tbody tr th {\n",
       "        vertical-align: top;\n",
       "    }\n",
       "\n",
       "    .dataframe thead th {\n",
       "        text-align: right;\n",
       "    }\n",
       "</style>\n",
       "<table border=\"1\" class=\"dataframe\">\n",
       "  <thead>\n",
       "    <tr style=\"text-align: right;\">\n",
       "      <th></th>\n",
       "      <th>pressure</th>\n",
       "      <th>height</th>\n",
       "      <th>temperature</th>\n",
       "      <th>dewpoint</th>\n",
       "      <th>direction</th>\n",
       "      <th>speed</th>\n",
       "      <th>station</th>\n",
       "      <th>time</th>\n",
       "      <th>u_wind</th>\n",
       "      <th>v_wind</th>\n",
       "    </tr>\n",
       "  </thead>\n",
       "  <tbody>\n",
       "    <tr>\n",
       "      <th>0</th>\n",
       "      <td>960.0</td>\n",
       "      <td>503.0</td>\n",
       "      <td>21.0</td>\n",
       "      <td>-2.0</td>\n",
       "      <td>160.0</td>\n",
       "      <td>6.0</td>\n",
       "      <td>KBIS</td>\n",
       "      <td>2021-09-18</td>\n",
       "      <td>-2.052121</td>\n",
       "      <td>5.638156</td>\n",
       "    </tr>\n",
       "    <tr>\n",
       "      <th>1</th>\n",
       "      <td>952.0</td>\n",
       "      <td>576.0</td>\n",
       "      <td>19.0</td>\n",
       "      <td>-3.0</td>\n",
       "      <td>NaN</td>\n",
       "      <td>NaN</td>\n",
       "      <td>KBIS</td>\n",
       "      <td>2021-09-18</td>\n",
       "      <td>NaN</td>\n",
       "      <td>NaN</td>\n",
       "    </tr>\n",
       "    <tr>\n",
       "      <th>2</th>\n",
       "      <td>933.0</td>\n",
       "      <td>746.0</td>\n",
       "      <td>17.2</td>\n",
       "      <td>-3.8</td>\n",
       "      <td>NaN</td>\n",
       "      <td>NaN</td>\n",
       "      <td>KBIS</td>\n",
       "      <td>2021-09-18</td>\n",
       "      <td>NaN</td>\n",
       "      <td>NaN</td>\n",
       "    </tr>\n",
       "    <tr>\n",
       "      <th>3</th>\n",
       "      <td>925.0</td>\n",
       "      <td>826.0</td>\n",
       "      <td>16.6</td>\n",
       "      <td>-3.4</td>\n",
       "      <td>170.0</td>\n",
       "      <td>12.0</td>\n",
       "      <td>KBIS</td>\n",
       "      <td>2021-09-18</td>\n",
       "      <td>-2.083778</td>\n",
       "      <td>11.817693</td>\n",
       "    </tr>\n",
       "    <tr>\n",
       "      <th>4</th>\n",
       "      <td>915.2</td>\n",
       "      <td>914.0</td>\n",
       "      <td>NaN</td>\n",
       "      <td>NaN</td>\n",
       "      <td>175.0</td>\n",
       "      <td>12.0</td>\n",
       "      <td>KBIS</td>\n",
       "      <td>2021-09-18</td>\n",
       "      <td>-1.045869</td>\n",
       "      <td>11.954336</td>\n",
       "    </tr>\n",
       "  </tbody>\n",
       "</table>\n",
       "</div>"
      ],
      "text/plain": [
       "   pressure  height  temperature  dewpoint  direction  speed station  \\\n",
       "0     960.0   503.0         21.0      -2.0      160.0    6.0    KBIS   \n",
       "1     952.0   576.0         19.0      -3.0        NaN    NaN    KBIS   \n",
       "2     933.0   746.0         17.2      -3.8        NaN    NaN    KBIS   \n",
       "3     925.0   826.0         16.6      -3.4      170.0   12.0    KBIS   \n",
       "4     915.2   914.0          NaN       NaN      175.0   12.0    KBIS   \n",
       "\n",
       "        time    u_wind     v_wind  \n",
       "0 2021-09-18 -2.052121   5.638156  \n",
       "1 2021-09-18       NaN        NaN  \n",
       "2 2021-09-18       NaN        NaN  \n",
       "3 2021-09-18 -2.083778  11.817693  \n",
       "4 2021-09-18 -1.045869  11.954336  "
      ]
     },
     "execution_count": 3,
     "metadata": {},
     "output_type": "execute_result"
    }
   ],
   "source": [
    "df = IAStateUpperAir.request_data(date, station)\n",
    "df.head()"
   ]
  },
  {
   "cell_type": "code",
   "execution_count": 4,
   "metadata": {},
   "outputs": [],
   "source": [
    "df_units = df.units\n",
    "df = df.dropna(subset = ['temperature', 'height'])\n",
    "df.units = df_units"
   ]
  },
  {
   "cell_type": "code",
   "execution_count": 5,
   "metadata": {},
   "outputs": [
    {
     "data": {
      "text/html": [
       "<div>\n",
       "<style scoped>\n",
       "    .dataframe tbody tr th:only-of-type {\n",
       "        vertical-align: middle;\n",
       "    }\n",
       "\n",
       "    .dataframe tbody tr th {\n",
       "        vertical-align: top;\n",
       "    }\n",
       "\n",
       "    .dataframe thead th {\n",
       "        text-align: right;\n",
       "    }\n",
       "</style>\n",
       "<table border=\"1\" class=\"dataframe\">\n",
       "  <thead>\n",
       "    <tr style=\"text-align: right;\">\n",
       "      <th></th>\n",
       "      <th>pressure</th>\n",
       "      <th>height</th>\n",
       "      <th>temperature</th>\n",
       "      <th>dewpoint</th>\n",
       "      <th>direction</th>\n",
       "      <th>speed</th>\n",
       "      <th>station</th>\n",
       "      <th>time</th>\n",
       "      <th>u_wind</th>\n",
       "      <th>v_wind</th>\n",
       "    </tr>\n",
       "  </thead>\n",
       "  <tbody>\n",
       "    <tr>\n",
       "      <th>0</th>\n",
       "      <td>960.0</td>\n",
       "      <td>503.0</td>\n",
       "      <td>21.0</td>\n",
       "      <td>-2.0</td>\n",
       "      <td>160.0</td>\n",
       "      <td>6.0</td>\n",
       "      <td>KBIS</td>\n",
       "      <td>2021-09-18</td>\n",
       "      <td>-2.052121</td>\n",
       "      <td>5.638156</td>\n",
       "    </tr>\n",
       "    <tr>\n",
       "      <th>1</th>\n",
       "      <td>952.0</td>\n",
       "      <td>576.0</td>\n",
       "      <td>19.0</td>\n",
       "      <td>-3.0</td>\n",
       "      <td>NaN</td>\n",
       "      <td>NaN</td>\n",
       "      <td>KBIS</td>\n",
       "      <td>2021-09-18</td>\n",
       "      <td>NaN</td>\n",
       "      <td>NaN</td>\n",
       "    </tr>\n",
       "    <tr>\n",
       "      <th>2</th>\n",
       "      <td>933.0</td>\n",
       "      <td>746.0</td>\n",
       "      <td>17.2</td>\n",
       "      <td>-3.8</td>\n",
       "      <td>NaN</td>\n",
       "      <td>NaN</td>\n",
       "      <td>KBIS</td>\n",
       "      <td>2021-09-18</td>\n",
       "      <td>NaN</td>\n",
       "      <td>NaN</td>\n",
       "    </tr>\n",
       "    <tr>\n",
       "      <th>3</th>\n",
       "      <td>925.0</td>\n",
       "      <td>826.0</td>\n",
       "      <td>16.6</td>\n",
       "      <td>-3.4</td>\n",
       "      <td>170.0</td>\n",
       "      <td>12.0</td>\n",
       "      <td>KBIS</td>\n",
       "      <td>2021-09-18</td>\n",
       "      <td>-2.083778</td>\n",
       "      <td>11.817693</td>\n",
       "    </tr>\n",
       "    <tr>\n",
       "      <th>6</th>\n",
       "      <td>850.0</td>\n",
       "      <td>1535.0</td>\n",
       "      <td>9.6</td>\n",
       "      <td>-6.4</td>\n",
       "      <td>200.0</td>\n",
       "      <td>17.0</td>\n",
       "      <td>KBIS</td>\n",
       "      <td>2021-09-18</td>\n",
       "      <td>5.814342</td>\n",
       "      <td>15.974775</td>\n",
       "    </tr>\n",
       "  </tbody>\n",
       "</table>\n",
       "</div>"
      ],
      "text/plain": [
       "   pressure  height  temperature  dewpoint  direction  speed station  \\\n",
       "0     960.0   503.0         21.0      -2.0      160.0    6.0    KBIS   \n",
       "1     952.0   576.0         19.0      -3.0        NaN    NaN    KBIS   \n",
       "2     933.0   746.0         17.2      -3.8        NaN    NaN    KBIS   \n",
       "3     925.0   826.0         16.6      -3.4      170.0   12.0    KBIS   \n",
       "6     850.0  1535.0          9.6      -6.4      200.0   17.0    KBIS   \n",
       "\n",
       "        time    u_wind     v_wind  \n",
       "0 2021-09-18 -2.052121   5.638156  \n",
       "1 2021-09-18       NaN        NaN  \n",
       "2 2021-09-18       NaN        NaN  \n",
       "3 2021-09-18 -2.083778  11.817693  \n",
       "6 2021-09-18  5.814342  15.974775  "
      ]
     },
     "execution_count": 5,
     "metadata": {},
     "output_type": "execute_result"
    }
   ],
   "source": [
    "df.head()"
   ]
  },
  {
   "cell_type": "code",
   "execution_count": 6,
   "metadata": {},
   "outputs": [],
   "source": [
    "df = pandas_dataframe_to_unit_arrays(df)"
   ]
  },
  {
   "cell_type": "code",
   "execution_count": 7,
   "metadata": {},
   "outputs": [],
   "source": [
    "import matplotlib.pyplot as plt"
   ]
  },
  {
   "cell_type": "code",
   "execution_count": 8,
   "metadata": {},
   "outputs": [
    {
     "data": {
      "text/plain": [
       "<matplotlib.lines.Line2D at 0x7f6889f29520>"
      ]
     },
     "execution_count": 8,
     "metadata": {},
     "output_type": "execute_result"
    },
    {
     "data": {
      "image/png": "[encoded data removed]",
      "text/plain": [
       "<Figure size 640x480 with 1 Axes>"
      ]
     },
     "metadata": {},
     "output_type": "display_data"
    }
   ],
   "source": [
    "plt.plot(df['height'], df['temperature'])\n",
    "plt.axhline(y = 0)"
   ]
  },
  {
   "cell_type": "code",
   "execution_count": 9,
   "metadata": {},
   "outputs": [],
   "source": [
    "import numpy as np"
   ]
  },
  {
   "cell_type": "code",
   "execution_count": 10,
   "metadata": {},
   "outputs": [],
   "source": [
    "closest_idx = np.argmin(np.abs(df['temperature']))"
   ]
  },
  {
   "cell_type": "code",
   "execution_count": 11,
   "metadata": {},
   "outputs": [
    {
     "data": {
      "text/plain": [
       "<matplotlib.collections.PathCollection at 0x7f68815b0340>"
      ]
     },
     "execution_count": 11,
     "metadata": {},
     "output_type": "execute_result"
    },
    {
     "data": {
      "image/png": "[encoded data removed]",
      "text/plain": [
       "<Figure size 640x480 with 1 Axes>"
      ]
     },
     "metadata": {},
     "output_type": "display_data"
    }
   ],
   "source": [
    "plt.scatter(df['temperature'][closest_idx - 2: closest_idx + 2], df['height'][closest_idx - 2: closest_idx + 2])"
   ]
  },
  {
   "cell_type": "code",
   "execution_count": 12,
   "metadata": {},
   "outputs": [
    {
     "data": {
      "text/plain": [
       "array([-118.62113402, 2650.57989691])"
      ]
     },
     "execution_count": 12,
     "metadata": {},
     "output_type": "execute_result"
    }
   ],
   "source": [
    "coeffs = np.polyfit(df['temperature'][closest_idx - 2: closest_idx + 2].m, df['height'][closest_idx - 2: closest_idx + 2].m, 1)\n",
    "coeffs"
   ]
  },
  {
   "cell_type": "code",
   "execution_count": 13,
   "metadata": {},
   "outputs": [
    {
     "data": {
      "text/html": [
       "8696.128270692961 foot"
      ],
      "text/latex": [
       "$8696.128270692961\\ \\mathrm{foot}$"
      ],
      "text/plain": [
       "8696.128270692961 <Unit('foot')>"
      ]
     },
     "execution_count": 13,
     "metadata": {},
     "output_type": "execute_result"
    }
   ],
   "source": [
    "height_est_from_obs = (np.polyval(coeffs, 0) * units.m).to('feet')\n",
    "height_est_from_obs"
   ]
  },
  {
   "cell_type": "code",
   "execution_count": 14,
   "metadata": {},
   "outputs": [
    {
     "data": {
      "text/html": [
       "10500.0 foot"
      ],
      "text/latex": [
       "$10500.0\\ \\mathrm{foot}$"
      ],
      "text/plain": [
       "10500.0 <Unit('foot')>"
      ]
     },
     "execution_count": 14,
     "metadata": {},
     "output_type": "execute_result"
    }
   ],
   "source": [
    "height_est_from_rule = df['temperature'][0].m / 2 * 1000 * units.feet\n",
    "height_est_from_rule"
   ]
  },
  {
   "cell_type": "code",
   "execution_count": 15,
   "metadata": {},
   "outputs": [
    {
     "data": {
      "text/plain": [
       "20.743389163040657"
      ]
     },
     "execution_count": 15,
     "metadata": {},
     "output_type": "execute_result"
    }
   ],
   "source": [
    "(height_est_from_rule.m - height_est_from_obs.m) / height_est_from_obs.m * 100"
   ]
  }
 ],
 "metadata": {
  "kernelspec": {
   "display_name": "Python 3.9.12 ('base')",
   "language": "python",
   "name": "python3"
  },
  "language_info": {
   "codemirror_mode": {
    "name": "ipython",
    "version": 3
   },
   "file_extension": ".py",
   "mimetype": "text/x-python",
   "name": "python",
   "nbconvert_exporter": "python",
   "pygments_lexer": "ipython3",
   "version": "3.9.12"
  },
  "orig_nbformat": 4,
  "vscode": {
   "interpreter": {
    "hash": "b5cfa023891fceef02537f80a4c6e95b77988fb973cdb16a51cdb785092210be"
   }
  }
 },
 "nbformat": 4,
 "nbformat_minor": 2
}
