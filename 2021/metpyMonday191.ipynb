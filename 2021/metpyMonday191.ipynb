{
 "cells": [
  {
   "attachments": {},
   "cell_type": "markdown",
   "metadata": {},
   "source": [
    "## 191 - The Walrus Operator :=\n",
    " \n",
    "[Youtube](https://www.youtube.com/watch?v=dTy8cQ7fD-w)"
   ]
  },
  {
   "cell_type": "code",
   "execution_count": 1,
   "metadata": {},
   "outputs": [
    {
     "name": "stdout",
     "output_type": "stream",
     "text": [
      "KOUN\n"
     ]
    }
   ],
   "source": [
    "station = 'KOUN'\n",
    "print(station)"
   ]
  },
  {
   "cell_type": "code",
   "execution_count": 2,
   "metadata": {},
   "outputs": [
    {
     "name": "stdout",
     "output_type": "stream",
     "text": [
      "KDFW\n"
     ]
    }
   ],
   "source": [
    "print(stn := 'KDFW')"
   ]
  },
  {
   "cell_type": "code",
   "execution_count": 3,
   "metadata": {},
   "outputs": [
    {
     "data": {
      "text/plain": [
       "'KDFW'"
      ]
     },
     "execution_count": 3,
     "metadata": {},
     "output_type": "execute_result"
    }
   ],
   "source": [
    "stn"
   ]
  },
  {
   "cell_type": "code",
   "execution_count": 4,
   "metadata": {},
   "outputs": [],
   "source": [
    "from metpy.units import units\n",
    "import metpy.calc as mpcalc"
   ]
  },
  {
   "cell_type": "code",
   "execution_count": 5,
   "metadata": {},
   "outputs": [],
   "source": [
    "station_data = {'KOUN': {'temperature': 12 * units.degC, 'windspeed': 12 * units.knots}, 'KDFW': {'temperature': 4 * units.degC, 'windspeed': 24 * units.knots}, 'KLZK': {'temperature': 18 * units.degC, 'windspeed': 8 * units.knots}, 'KBOU': {'temperature': 2 * units.degC, 'windspeed': 11 * units.knots}, 'KHOU': {'temperature': 8 * units.degC, 'windspeed': 4 * units.knots}, 'KKNX': {'temperature': 1 * units.degC, 'windspeed': 14 * units.knots}}"
   ]
  },
  {
   "cell_type": "code",
   "execution_count": 6,
   "metadata": {},
   "outputs": [
    {
     "data": {
      "text/plain": [
       "{'KOUN': masked_array(data=--,\n",
       "              mask=True,\n",
       "        fill_value=1e+20,\n",
       "             dtype=float64) <Unit('degree_Celsius')>,\n",
       " 'KDFW': -2.348478690576947 <Unit('degree_Celsius')>,\n",
       " 'KLZK': masked_array(data=--,\n",
       "              mask=True,\n",
       "        fill_value=1e+20,\n",
       "             dtype=float64) <Unit('degree_Celsius')>,\n",
       " 'KBOU': -2.7689931135604517 <Unit('degree_Celsius')>,\n",
       " 'KHOU': 6.797680483629145 <Unit('degree_Celsius')>,\n",
       " 'KKNX': -4.731958566855225 <Unit('degree_Celsius')>}"
      ]
     },
     "execution_count": 6,
     "metadata": {},
     "output_type": "execute_result"
    }
   ],
   "source": [
    "windchills = {stn: mpcalc.windchill(data.get('temperature'), data.get('windspeed')) for stn, data in station_data.items()}\n",
    "windchills"
   ]
  },
  {
   "cell_type": "code",
   "execution_count": 7,
   "metadata": {},
   "outputs": [
    {
     "data": {
      "text/plain": [
       "{'KDFW': -2.348478690576947 <Unit('degree_Celsius')>,\n",
       " 'KBOU': -2.7689931135604517 <Unit('degree_Celsius')>,\n",
       " 'KKNX': -4.731958566855225 <Unit('degree_Celsius')>}"
      ]
     },
     "execution_count": 7,
     "metadata": {},
     "output_type": "execute_result"
    }
   ],
   "source": [
    "windchills = {stn: mpcalc.windchill(data.get('temperature'), data.get('windspeed')) for stn, data in station_data.items() if mpcalc.windchill(data.get('temperature'), data.get('windspeed')) < 0 * units.degC}\n",
    "windchills"
   ]
  },
  {
   "cell_type": "code",
   "execution_count": 8,
   "metadata": {},
   "outputs": [
    {
     "data": {
      "text/plain": [
       "{'KDFW': -2.348478690576947 <Unit('degree_Celsius')>,\n",
       " 'KBOU': -2.7689931135604517 <Unit('degree_Celsius')>,\n",
       " 'KKNX': -4.731958566855225 <Unit('degree_Celsius')>}"
      ]
     },
     "execution_count": 8,
     "metadata": {},
     "output_type": "execute_result"
    }
   ],
   "source": [
    "wwindchills = {stn: wc for stn, data in station_data.items() if (wc := mpcalc.windchill(data.get('temperature'), data.get('windspeed'))) < 0 * units.degC}\n",
    "windchills"
   ]
  }
 ],
 "metadata": {
  "kernelspec": {
   "display_name": "base",
   "language": "python",
   "name": "python3"
  },
  "language_info": {
   "codemirror_mode": {
    "name": "ipython",
    "version": 3
   },
   "file_extension": ".py",
   "mimetype": "text/x-python",
   "name": "python",
   "nbconvert_exporter": "python",
   "pygments_lexer": "ipython3",
   "version": "3.9.12"
  },
  "orig_nbformat": 4,
  "vscode": {
   "interpreter": {
    "hash": "b5cfa023891fceef02537f80a4c6e95b77988fb973cdb16a51cdb785092210be"
   }
  }
 },
 "nbformat": 4,
 "nbformat_minor": 2
}
