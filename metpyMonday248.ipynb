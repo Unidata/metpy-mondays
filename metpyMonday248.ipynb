{
 "cells": [
  {
   "cell_type": "markdown",
   "id": "7491bbae",
   "metadata": {},
   "source": [
    "## 248 - Using the dataclass decorator\n",
    "\n",
    "[Youtube](https://www.youtube.com/watch?v=DiMjWXlz2uU)"
   ]
  },
  {
   "cell_type": "code",
   "execution_count": 1,
   "id": "8b898290",
   "metadata": {},
   "outputs": [],
   "source": [
    "class SurfaceObservation():\n",
    "    def __init__(self, temperature, dewpoint, pressure):\n",
    "        self.temperature = temperature\n",
    "        self.dewpoint = dewpoint\n",
    "        self.pressure = pressure"
   ]
  },
  {
   "cell_type": "code",
   "execution_count": 2,
   "id": "55f97761",
   "metadata": {},
   "outputs": [],
   "source": [
    "ob1 = SurfaceObservation(26, 23, 1012)\n",
    "ob2 = SurfaceObservation(28, 25, 1013)\n",
    "ob3 = SurfaceObservation(26, 23, 1012)"
   ]
  },
  {
   "cell_type": "code",
   "execution_count": 3,
   "id": "994aa8c1",
   "metadata": {},
   "outputs": [
    {
     "data": {
      "text/plain": [
       "<__main__.SurfaceObservation at 0x7f7ae65e4f40>"
      ]
     },
     "execution_count": 3,
     "metadata": {},
     "output_type": "execute_result"
    }
   ],
   "source": [
    "ob1"
   ]
  },
  {
   "cell_type": "code",
   "execution_count": 4,
   "id": "e35663f9",
   "metadata": {},
   "outputs": [
    {
     "data": {
      "text/plain": [
       "False"
      ]
     },
     "execution_count": 4,
     "metadata": {},
     "output_type": "execute_result"
    }
   ],
   "source": [
    "ob1 == ob3"
   ]
  },
  {
   "cell_type": "code",
   "execution_count": 5,
   "id": "bc5a4793",
   "metadata": {},
   "outputs": [
    {
     "data": {
      "text/plain": [
       "True"
      ]
     },
     "execution_count": 5,
     "metadata": {},
     "output_type": "execute_result"
    }
   ],
   "source": [
    "ob1 == ob1"
   ]
  },
  {
   "cell_type": "code",
   "execution_count": 6,
   "id": "66a28e67",
   "metadata": {},
   "outputs": [],
   "source": [
    "from dataclasses import dataclass"
   ]
  },
  {
   "cell_type": "code",
   "execution_count": 7,
   "id": "4f54fe5c",
   "metadata": {},
   "outputs": [],
   "source": [
    "@dataclass\n",
    "class NewSurfaceObservation():\n",
    "    temperature: float\n",
    "    dewpoint: float\n",
    "    pressure: float"
   ]
  },
  {
   "cell_type": "code",
   "execution_count": 8,
   "id": "f22a4fc7",
   "metadata": {},
   "outputs": [],
   "source": [
    "nob1 = NewSurfaceObservation(26, 23, 1012)\n",
    "nob2 = NewSurfaceObservation(28, 25, 1013)\n",
    "nob3 = NewSurfaceObservation(26, 23, 1012)"
   ]
  },
  {
   "cell_type": "code",
   "execution_count": 9,
   "id": "abb59f13",
   "metadata": {},
   "outputs": [
    {
     "data": {
      "text/plain": [
       "NewSurfaceObservation(temperature=26, dewpoint=23, pressure=1012)"
      ]
     },
     "execution_count": 9,
     "metadata": {},
     "output_type": "execute_result"
    }
   ],
   "source": [
    "nob1"
   ]
  },
  {
   "cell_type": "code",
   "execution_count": 10,
   "id": "6926f1b2",
   "metadata": {},
   "outputs": [
    {
     "data": {
      "text/plain": [
       "True"
      ]
     },
     "execution_count": 10,
     "metadata": {},
     "output_type": "execute_result"
    }
   ],
   "source": [
    "nob1 == nob3"
   ]
  },
  {
   "cell_type": "code",
   "execution_count": 11,
   "id": "0f90e6a4",
   "metadata": {},
   "outputs": [
    {
     "data": {
      "text/plain": [
       "True"
      ]
     },
     "execution_count": 11,
     "metadata": {},
     "output_type": "execute_result"
    }
   ],
   "source": [
    "nob1 == nob1"
   ]
  },
  {
   "cell_type": "code",
   "execution_count": null,
   "id": "01304137",
   "metadata": {},
   "outputs": [],
   "source": []
  }
 ],
 "metadata": {
  "kernelspec": {
   "display_name": "Python 3 (ipykernel)",
   "language": "python",
   "name": "python3"
  },
  "language_info": {
   "codemirror_mode": {
    "name": "ipython",
    "version": 3
   },
   "file_extension": ".py",
   "mimetype": "text/x-python",
   "name": "python",
   "nbconvert_exporter": "python",
   "pygments_lexer": "ipython3",
   "version": "3.9.12"
  }
 },
 "nbformat": 4,
 "nbformat_minor": 5
}
