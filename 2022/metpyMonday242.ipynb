{
 "cells": [
  {
   "attachments": {},
   "cell_type": "markdown",
   "metadata": {},
   "source": [
    "## 242 - Turning Altimeter Settings into Station and Sea Level Pressures\n",
    "\n",
    "[Youtube](https://www.youtube.com/watch?v=8NQntNLjNFU)\n",
    "\n",
    "[Metar Data - Denver International Airport](aviationweather.gov/metar/data?ids=kden&format=raw&date=&hours=0)\n",
    "\n",
    "[Metar Data - Dallas International Airport](https://aviationweather.gov/metar/data?ids=kdfw&format=raw&date=&hours=0)"
   ]
  },
  {
   "cell_type": "code",
   "execution_count": 1,
   "metadata": {},
   "outputs": [],
   "source": [
    "import metpy.calc as mpcalc\n",
    "from metpy.units import units"
   ]
  },
  {
   "attachments": {},
   "cell_type": "markdown",
   "metadata": {},
   "source": [
    "KDEN 111853Z 00000KT 10SM FEW100 33/07 A3007 RMK AO2 SLP090 T03280067"
   ]
  },
  {
   "cell_type": "code",
   "execution_count": 2,
   "metadata": {},
   "outputs": [],
   "source": [
    "a = 30.04 * units('inHg')\n",
    "h = 5434 * units('ft')"
   ]
  },
  {
   "cell_type": "code",
   "execution_count": 3,
   "metadata": {},
   "outputs": [
    {
     "data": {
      "text/html": [
       "833.0974937024353 hectopascal"
      ],
      "text/latex": [
       "$833.0974937024353\\ \\mathrm{hectopascal}$"
      ],
      "text/plain": [
       "833.0974937024353 <Unit('hectopascal')>"
      ]
     },
     "execution_count": 3,
     "metadata": {},
     "output_type": "execute_result"
    }
   ],
   "source": [
    "mpcalc.altimeter_to_station_pressure(a, h).to('hPa')"
   ]
  },
  {
   "cell_type": "code",
   "execution_count": 4,
   "metadata": {},
   "outputs": [
    {
     "data": {
      "text/html": [
       "1002.832878142815 hectopascal"
      ],
      "text/latex": [
       "$1002.832878142815\\ \\mathrm{hectopascal}$"
      ],
      "text/plain": [
       "1002.832878142815 <Unit('hectopascal')>"
      ]
     },
     "execution_count": 4,
     "metadata": {},
     "output_type": "execute_result"
    }
   ],
   "source": [
    "mpcalc.altimeter_to_sea_level_pressure(a, h, 32 * units.degC).to('hPa')"
   ]
  },
  {
   "attachments": {},
   "cell_type": "markdown",
   "metadata": {},
   "source": [
    "KDFW 111853Z 16010KT 10SM FEW050 BKN130 BKN250 30/22 A2991 RMK AO2 SLP119 T03000217"
   ]
  },
  {
   "cell_type": "code",
   "execution_count": 5,
   "metadata": {},
   "outputs": [],
   "source": [
    "a = 29.76 * units('inHg')\n",
    "h = 606 * units('feet')"
   ]
  },
  {
   "cell_type": "code",
   "execution_count": 6,
   "metadata": {},
   "outputs": [
    {
     "data": {
      "text/html": [
       "986.180288279575 hectopascal"
      ],
      "text/latex": [
       "$986.180288279575\\ \\mathrm{hectopascal}$"
      ],
      "text/plain": [
       "986.180288279575 <Unit('hectopascal')>"
      ]
     },
     "execution_count": 6,
     "metadata": {},
     "output_type": "execute_result"
    }
   ],
   "source": [
    "mpcalc.altimeter_to_station_pressure(a, h).to('hPa')"
   ]
  },
  {
   "cell_type": "code",
   "execution_count": 7,
   "metadata": {},
   "outputs": [
    {
     "data": {
      "text/html": [
       "1006.7863832352664 hectopascal"
      ],
      "text/latex": [
       "$1006.7863832352664\\ \\mathrm{hectopascal}$"
      ],
      "text/plain": [
       "1006.7863832352664 <Unit('hectopascal')>"
      ]
     },
     "execution_count": 7,
     "metadata": {},
     "output_type": "execute_result"
    }
   ],
   "source": [
    "mpcalc.altimeter_to_sea_level_pressure(a, h, 32 * units.degC).to('hPa')"
   ]
  }
 ],
 "metadata": {
  "kernelspec": {
   "display_name": "base",
   "language": "python",
   "name": "python3"
  },
  "language_info": {
   "codemirror_mode": {
    "name": "ipython",
    "version": 3
   },
   "file_extension": ".py",
   "mimetype": "text/x-python",
   "name": "python",
   "nbconvert_exporter": "python",
   "pygments_lexer": "ipython3",
   "version": "3.9.16"
  },
  "orig_nbformat": 4,
  "vscode": {
   "interpreter": {
    "hash": "b5cfa023891fceef02537f80a4c6e95b77988fb973cdb16a51cdb785092210be"
   }
  }
 },
 "nbformat": 4,
 "nbformat_minor": 2
}
