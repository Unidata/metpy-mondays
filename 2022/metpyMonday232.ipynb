{
 "cells": [
  {
   "attachments": {},
   "cell_type": "markdown",
   "metadata": {},
   "source": [
    "## 232 - Parsing Winds and Temperatures Aloft Forecasts Part 2\n",
    "\n",
    "[Youtube](https://www.youtube.com/watch?v=d8LHunYRVss)"
   ]
  },
  {
   "cell_type": "code",
   "execution_count": 1,
   "metadata": {},
   "outputs": [],
   "source": [
    "l = \"FT  3000    6000    9000   12000   18000   24000  30000  34000  39000\""
   ]
  },
  {
   "cell_type": "code",
   "execution_count": 2,
   "metadata": {},
   "outputs": [],
   "source": [
    "end_char_indexes = [4, 9, 17, 25, 33, 41, 49, 56, 63, 70]"
   ]
  },
  {
   "cell_type": "code",
   "execution_count": 3,
   "metadata": {},
   "outputs": [
    {
     "data": {
      "text/plain": [
       "[3000, 6000, 9000, 12000, 18000, 24000, 30000, 34000, 39000]"
      ]
     },
     "execution_count": 3,
     "metadata": {},
     "output_type": "execute_result"
    }
   ],
   "source": [
    "levels = []\n",
    "for start_idx, end_idx in zip(end_char_indexes[:-1], end_char_indexes[1:]):\n",
    "\tlevels.append(int(l[start_idx:end_idx]))\n",
    "\n",
    "levels"
   ]
  },
  {
   "cell_type": "code",
   "execution_count": 4,
   "metadata": {},
   "outputs": [],
   "source": [
    "l = \"BHM 1316 1915+07 2409+02 2832-03 2353-13 2458-25 237042 750852 761555\""
   ]
  },
  {
   "cell_type": "code",
   "execution_count": 5,
   "metadata": {},
   "outputs": [],
   "source": [
    "data_groups = []\n",
    "for start_idx, end_idx in zip(end_char_indexes[:-1], end_char_indexes[1:]):\n",
    "\tdata_groups.append(l[start_idx:end_idx].strip())\n",
    "\tstation = l[:3]"
   ]
  },
  {
   "cell_type": "code",
   "execution_count": 6,
   "metadata": {},
   "outputs": [
    {
     "name": "stdout",
     "output_type": "stream",
     "text": [
      "BHM\n"
     ]
    }
   ],
   "source": [
    "print(station)"
   ]
  },
  {
   "cell_type": "code",
   "execution_count": 7,
   "metadata": {},
   "outputs": [
    {
     "name": "stdout",
     "output_type": "stream",
     "text": [
      "['1316', '1915+07', '2409+02', '2832-03', '2353-13', '2458-25', '237042', '750852', '761555']\n"
     ]
    }
   ],
   "source": [
    "print(data_groups)"
   ]
  },
  {
   "cell_type": "code",
   "execution_count": 8,
   "metadata": {},
   "outputs": [
    {
     "name": "stdout",
     "output_type": "stream",
     "text": [
      "130 16 None\n",
      "190 15 7\n",
      "240 9 2\n",
      "280 32 -3\n",
      "230 53 -13\n",
      "240 58 -25\n",
      "230 70 -42\n",
      "750 8 -52\n",
      "760 15 -55\n"
     ]
    }
   ],
   "source": [
    "for level, dg in zip(levels, data_groups):\n",
    "\twdir = int(dg[:2]) * 10\n",
    "\twspd = int(dg[2:4])\n",
    "\ttemperature = None\n",
    "\n",
    "\tif len(dg) > 4:\n",
    "\t\ttemperature = int(dg[4:])\n",
    "\t\tif level > 24000:\n",
    "\t\t\ttemperature *= -1\n",
    "\tprint(wdir, wspd, temperature)"
   ]
  },
  {
   "cell_type": "code",
   "execution_count": 9,
   "metadata": {},
   "outputs": [],
   "source": [
    "def parse_wind_temperature_forecast(fname):\n",
    "\t\"\"\"\n",
    "\tParses AWC wind temperature forecast tables.\n",
    "\t\"\"\"\n",
    "\tsites = {}\n",
    "\tend_char_indexes = [4, 9, 17, 25, 33, 41, 49, 56, 63, 70]\n",
    "\n",
    "\twith open(fname) as f:\n",
    "\t\tlines = f.readlines()\n",
    "\n",
    "\t# Read the levels from the first line\n",
    "\tlevels = []\n",
    "\tl = lines.pop(0).strip()\n",
    "\tfor start_idx, end_idx in zip(end_char_indexes[:-1], end_char_indexes[1:]):\n",
    "\t\tlevels.append(int(l[start_idx:end_idx]))\n",
    "\n",
    "\t# Read each site - its own line\n",
    "\tfor l in lines:\n",
    "\t\tdata_groups = []\n",
    "\t\twspds = []\n",
    "\t\twdirs = []\n",
    "\t\ttemps = []\n",
    "\t\tstation = l[:3]\n",
    "\t\t\n",
    "\t# Extract data groups\n",
    "\tfor start_idx, end_idx in zip(end_char_indexes[:-1], end_char_indexes[1:]):\n",
    "\t\tdata_groups.append(l[start_idx:end_idx].strip())\n",
    "\t\tstation = l[:3]\n",
    "\t\t\n",
    "\t\t# Parse data groups\n",
    "\t\tfor level, dg in zip(levels, data_groups):\n",
    "\t\t\tdg = dg.strip()\n",
    "\t\t\t\n",
    "\t\tif dg == '':\n",
    "\t\t\twdir = None\n",
    "\t\t\twspd = None\n",
    "\t\t\t\n",
    "\t\telse:\t\t\n",
    "\t\t\twdir = int(dg[:2]) * 10\n",
    "\t\t\twspd = int(dg[2:4])\n",
    "\t\t\ttemperature = None\n",
    "\t\t\t\n",
    "\t\t\tif len(dg) > 4:\n",
    "\t\t\t\ttemperature = int(dg[4:])\n",
    "\t\t\t\tif level > 24000:\n",
    "\t\t\t\t\ttemperature *= -1\n",
    "\t\t\t\t\t\n",
    "\t\t\t# Check for light and variable winds\n",
    "\t\t\tif dg[:4] == '9900':\n",
    "\t\t\t\twdir = None\n",
    "\t\t\t\twspd = 0\n",
    "\t\t\t\t\n",
    "\t\t# Check for winds over 99kts\n",
    "\t\tif (wdir is not None) and (wspd is not None) and (wdir > 360):\n",
    "\t\t\twdir -= 500\n",
    "\t\t\twspd += 100\n",
    "\t\t\t\t\n",
    "\twspds.append(wspd)\n",
    "\twdirs.append(wdir)\n",
    "\ttemps.append(temperature)\n",
    "\t\t\n",
    "\tsites[station] = {'levels': levels, 'wind_speed': wspds, 'wind_direction': wdirs, 'temperature': temps}\n",
    "\n",
    "\n",
    "\treturn sites"
   ]
  },
  {
   "cell_type": "code",
   "execution_count": 10,
   "metadata": {},
   "outputs": [
    {
     "data": {
      "text/plain": [
       "{'H61': {'levels': [3000,\n",
       "   6000,\n",
       "   9000,\n",
       "   12000,\n",
       "   18000,\n",
       "   24000,\n",
       "   30000,\n",
       "   34000,\n",
       "   39000],\n",
       "  'wind_speed': [85],\n",
       "  'wind_direction': [260],\n",
       "  'temperature': [-56]}}"
      ]
     },
     "execution_count": 10,
     "metadata": {},
     "output_type": "execute_result"
    }
   ],
   "source": [
    "parse_wind_temperature_forecast('winds.txt')"
   ]
  },
  {
   "cell_type": "code",
   "execution_count": 11,
   "metadata": {},
   "outputs": [],
   "source": [
    "def parse_data_group(data_group, level):\n",
    "\t\"\"\" Parses a single data group at a given level. \"\"\"\n",
    "\t\n",
    "\t# Clean any extra characteres\n",
    "\tdata_group = data_group.strip()\n",
    "\t\t\n",
    "\t# Nothing to parse!\n",
    "\tif data_group == '':\n",
    "\t\treturn None, None, None \n",
    "\n",
    "\t# Break out text for winds and temperature\n",
    "\twind_text = data_group[:4]\n",
    "\tif len(data_group) > 4:\n",
    "\t\ttemperature_text = data_group[4:]\n",
    "\telse:\n",
    "\t\ttemperature_text = None\n",
    "\t\t\n",
    "\t# Parse the temperature \n",
    "\tif temperature_text:\n",
    "\t\ttemperature = int(temperature_text)\n",
    "\t\tif level > 24000:\n",
    "\t\t\ttemperature *= -1\n",
    "\t\t\t\n",
    "\telse:\n",
    "\t\ttemperature = None\n",
    "\t\t\t\n",
    "\t# Parse Winds\n",
    "\twdir = int(wind_text[:2]) * 10\n",
    "\twspd = int(wind_text[2:4])\n",
    "\t\t\t\t\n",
    "\t\t\t\t\t\n",
    "\t# Check for light and variable winds\n",
    "\tif (wdir == 990) and (wspd == 0):\n",
    "\t\treturn 0, None, temperature\n",
    "\t\t\t\t\n",
    "\t# Check for winds over 99kts\n",
    "\tif wdir > 360:\n",
    "\t\twdir -= 500\n",
    "\t\twspd += 100\n",
    "\t\t\t\t\n",
    "\treturn wspd, wdir, temperature"
   ]
  },
  {
   "cell_type": "code",
   "execution_count": 12,
   "metadata": {},
   "outputs": [],
   "source": [
    "def parse_station(line, levels):\n",
    "\t\"\"\" Parses all data groups in a station line for winds and temps aloft. \"\"\"\n",
    "\t\n",
    "\tdata_groups = []\n",
    "\twspds = []\n",
    "\twdirs = []\n",
    "\ttemps = []\n",
    "\tstation = line[:3]\n",
    "\tend_char_indexes = [4, 9, 17, 25, 33, 41, 49, 56, 63, 70]\n",
    "\t\n",
    "\t# Extract data groups\n",
    "\tfor start_idx, end_idx in zip(end_char_indexes[:-1], end_char_indexes[1:]):\n",
    "\t\tdata_groups.append(line[start_idx: end_idx].strip())\n",
    "\t\tstation = line[:3]\n",
    "\t\n",
    "\t# Parse data groups\n",
    "\tfor level, dg in zip(levels, data_groups):\n",
    "\t\twspd, wdir, temperature = parse_data_group(dg, level)\n",
    "\t\twspds.append(wspd)\n",
    "\t\twdirs.append(wdir)\n",
    "\t\ttemps.append(temperature)\n",
    "\t\n",
    "\treturn station, wspds, wdirs, temps"
   ]
  },
  {
   "cell_type": "code",
   "execution_count": 13,
   "metadata": {},
   "outputs": [],
   "source": [
    "def better_parse_forecast(fname):\n",
    "\t\"\"\" Parses a winds and temperature aloft file. \"\"\"\n",
    "\tsites = {}\n",
    "\tend_char_indexes = [4, 9, 17, 25, 33, 41, 49, 56, 63, 70]\n",
    "\t\n",
    "\twith open(fname) as f:\n",
    "\t\tlines = f.readlines()\n",
    "\t\t\n",
    "\t# Read the levels from the first line\n",
    "\tlevels = []\n",
    "\tl = lines.pop(0).strip()\n",
    "\tfor start_idx, end_idx in zip(end_char_indexes[:-1], end_char_indexes[1:]):\n",
    "\t\tlevels.append(int(l[start_idx:end_idx]))\n",
    "\t\n",
    "\t# Parse each station\t\n",
    "\tfor line in lines:\n",
    "\t\t# print(line)\n",
    "\t\tstn, wspds, wdirs, temps = parse_station(line, levels)\n",
    "\t\tsites[stn] = {'level': levels, 'wind_speed': wspds, 'wind_direction': wdirs, 'temperature': temps}\n",
    "\n",
    "\treturn sites"
   ]
  },
  {
   "cell_type": "code",
   "execution_count": 14,
   "metadata": {},
   "outputs": [
    {
     "data": {
      "text/plain": [
       "{'BHM': {'level': [3000, 6000, 9000, 12000, 18000, 24000, 30000, 34000, 39000],\n",
       "  'wind_speed': [5, 15, 13, 13, 37, 47, 58, 74, 96],\n",
       "  'wind_direction': [360, 350, 340, 320, 290, 280, 270, 270, 260],\n",
       "  'temperature': [None, 2, 1, -3, -18, -31, -46, -51, -54]},\n",
       " 'HSV': {'level': [3000, 6000, 9000, 12000, 18000, 24000, 30000, 34000, 39000],\n",
       "  'wind_speed': [5, 14, 14, 15, 37, 51, 60, 70, 104],\n",
       "  'wind_direction': [320, 350, 330, 320, 290, 290, 280, 270, 260],\n",
       "  'temperature': [None, 1, 1, -4, -19, -31, -47, -53, -56]},\n",
       " 'MGM': {'level': [3000, 6000, 9000, 12000, 18000, 24000, 30000, 34000, 39000],\n",
       "  'wind_speed': [9, 12, 16, 29, 40, 47, 69, 78, 104],\n",
       "  'wind_direction': [10, 340, 330, 300, 280, 270, 270, 260, 260],\n",
       "  'temperature': [None, 3, 2, -2, -17, -30, -43, -50, -51]},\n",
       " 'MOB': {'level': [3000, 6000, 9000, 12000, 18000, 24000, 30000, 34000, 39000],\n",
       "  'wind_speed': [12, 8, 19, 25, 42, 63, 73, 87, 113],\n",
       "  'wind_direction': [40, 320, 300, 280, 270, 270, 270, 260, 260],\n",
       "  'temperature': [None, 6, 6, -1, -17, -29, -40, -49, -51]},\n",
       " 'FSM': {'level': [3000, 6000, 9000, 12000, 18000, 24000, 30000, 34000, 39000],\n",
       "  'wind_speed': [0, 6, 15, 28, 28, 45, 62, 81, 63],\n",
       "  'wind_direction': [None, 250, 260, 260, 250, 240, 270, 270, 270],\n",
       "  'temperature': [None, -1, -1, -5, -19, -30, -47, -55, -59]},\n",
       " 'LIT': {'level': [3000, 6000, 9000, 12000, 18000, 24000, 30000, 34000, 39000],\n",
       "  'wind_speed': [0, 6, 15, 28, 31, 41, 57, 74, 60],\n",
       "  'wind_direction': [None, 260, 250, 260, 260, 250, 270, 280, 260],\n",
       "  'temperature': [None, 0, 0, -3, -19, -31, -46, -54, -59]},\n",
       " 'LCH': {'level': [3000, 6000, 9000, 12000, 18000, 24000, 30000, 34000, 39000],\n",
       "  'wind_speed': [16, 5, 16, 23, 38, 45, 68, 76, 117],\n",
       "  'wind_direction': [100, 160, 250, 240, 250, 270, 260, 260, 260],\n",
       "  'temperature': [None, 8, 5, -1, -16, -27, -41, -50, -52]},\n",
       " 'MSY': {'level': [3000, 6000, 9000, 12000, 18000, 24000, 30000, 34000, 39000],\n",
       "  'wind_speed': [12, 0, 17, 20, 44, 62, 75, 92, 115],\n",
       "  'wind_direction': [60, None, 260, 260, 260, 260, 260, 260, 260],\n",
       "  'temperature': [None, 7, 6, 0, -17, -28, -40, -49, -51]},\n",
       " 'SHV': {'level': [3000, 6000, 9000, 12000, 18000, 24000, 30000, 34000, 39000],\n",
       "  'wind_speed': [9, 11, 17, 23, 33, 43, 60, 79, 73],\n",
       "  'wind_direction': [90, 210, 240, 240, 240, 260, 280, 270, 260],\n",
       "  'temperature': [None, 3, 2, -3, -18, -28, -45, -53, -56]},\n",
       " 'JAN': {'level': [3000, 6000, 9000, 12000, 18000, 24000, 30000, 34000, 39000],\n",
       "  'wind_speed': [5, 0, 15, 24, 30, 35, 60, 74, 81],\n",
       "  'wind_direction': [80, None, 290, 270, 260, 260, 280, 280, 260],\n",
       "  'temperature': [None, 3, 4, -2, -18, -30, -44, -51, -57]},\n",
       " 'GAG': {'level': [3000, 6000, 9000, 12000, 18000, 24000, 30000, 34000, 39000],\n",
       "  'wind_speed': [None, 8, 10, 29, 41, 53, 77, 88, 60],\n",
       "  'wind_direction': [None, 50, 210, 210, 210, 210, 240, 240, 250],\n",
       "  'temperature': [None, -1, -5, -8, -21, -32, -47, -54, -58]},\n",
       " 'OKC': {'level': [3000, 6000, 9000, 12000, 18000, 24000, 30000, 34000, 39000],\n",
       "  'wind_speed': [8, 0, 10, 30, 37, 50, 75, 92, 73],\n",
       "  'wind_direction': [100, None, 220, 220, 220, 230, 250, 250, 260],\n",
       "  'temperature': [None, 0, -3, -6, -19, -31, -47, -55, -59]},\n",
       " 'TUL': {'level': [3000, 6000, 9000, 12000, 18000, 24000, 30000, 34000, 39000],\n",
       "  'wind_speed': [0, 5, 14, 28, 30, 48, 70, 84, 58],\n",
       "  'wind_direction': [None, 270, 270, 250, 240, 240, 260, 260, 270],\n",
       "  'temperature': [None, -1, -2, -6, -20, -31, -47, -56, -60]},\n",
       " 'BNA': {'level': [3000, 6000, 9000, 12000, 18000, 24000, 30000, 34000, 39000],\n",
       "  'wind_speed': [7, 14, 17, 24, 40, 50, 63, 67, 93],\n",
       "  'wind_direction': [270, 320, 330, 310, 290, 290, 280, 280, 260],\n",
       "  'temperature': [None, -1, -1, -6, -20, -32, -48, -55, -56]},\n",
       " 'MEM': {'level': [3000, 6000, 9000, 12000, 18000, 24000, 30000, 34000, 39000],\n",
       "  'wind_speed': [0, 7, 11, 20, 36, 47, 57, 64, 74],\n",
       "  'wind_direction': [None, 270, 240, 260, 280, 270, 270, 280, 260],\n",
       "  'temperature': [None, 0, -1, -4, -18, -31, -47, -55, -57]},\n",
       " 'TRI': {'level': [3000, 6000, 9000, 12000, 18000, 24000, 30000, 34000, 39000],\n",
       "  'wind_speed': [None, 25, 35, 43, 45, 60, 59, 63, 93],\n",
       "  'wind_direction': [None, 320, 330, 340, 330, 310, 290, 280, 270],\n",
       "  'temperature': [None, -8, -5, -8, -20, -32, -47, -54, -52]},\n",
       " 'TYS': {'level': [3000, 6000, 9000, 12000, 18000, 24000, 30000, 34000, 39000],\n",
       "  'wind_speed': [11, 22, 30, 34, 42, 52, 53, 66, 103],\n",
       "  'wind_direction': [280, 330, 340, 330, 310, 300, 280, 280, 270],\n",
       "  'temperature': [None, -3, -3, -7, -19, -32, -47, -53, -53]},\n",
       " 'ABI': {'level': [3000, 6000, 9000, 12000, 18000, 24000, 30000, 34000, 39000],\n",
       "  'wind_speed': [None, 25, 31, 33, 46, 63, 95, 95, 86],\n",
       "  'wind_direction': [None, 160, 190, 200, 220, 230, 250, 240, 250],\n",
       "  'temperature': [None, 1, -1, -4, -18, -29, -45, -53, -56]},\n",
       " 'AMA': {'level': [3000, 6000, 9000, 12000, 18000, 24000, 30000, 34000, 39000],\n",
       "  'wind_speed': [None, 22, 22, 30, 46, 59, 90, 99, 58],\n",
       "  'wind_direction': [None, 110, 160, 200, 210, 210, 230, 230, 250],\n",
       "  'temperature': [None, None, -7, -8, -22, -34, -46, -51, -53]},\n",
       " 'BRO': {'level': [3000, 6000, 9000, 12000, 18000, 24000, 30000, 34000, 39000],\n",
       "  'wind_speed': [26, 25, 36, 32, 53, 66, 92, 99, 101],\n",
       "  'wind_direction': [120, 190, 220, 240, 250, 250, 260, 260, 260],\n",
       "  'temperature': [None, 9, 7, 2, -11, -23, -36, -46, -57]},\n",
       " 'CLL': {'level': [3000, 6000, 9000, 12000, 18000, 24000, 30000, 34000, 39000],\n",
       "  'wind_speed': [12, 10, 29, 27, 34, 47, 70, 85, 101],\n",
       "  'wind_direction': [110, 150, 220, 210, 240, 250, 260, 260, 250],\n",
       "  'temperature': [None, 6, 1, -2, -15, -27, -43, -51, -55]},\n",
       " 'CRP': {'level': [3000, 6000, 9000, 12000, 18000, 24000, 30000, 34000, 39000],\n",
       "  'wind_speed': [29, 21, 30, 29, 48, 50, 100, 113, 117],\n",
       "  'wind_direction': [120, 170, 210, 230, 250, 250, 260, 260, 260],\n",
       "  'temperature': [None, 7, 5, 0, -13, -25, -38, -47, -56]},\n",
       " 'DAL': {'level': [3000, 6000, 9000, 12000, 18000, 24000, 30000, 34000, 39000],\n",
       "  'wind_speed': [13, 0, 23, 26, 36, 46, 71, 85, 81],\n",
       "  'wind_direction': [90, None, 220, 200, 230, 240, 260, 250, 260],\n",
       "  'temperature': [None, 4, -2, -4, -16, -28, -45, -54, -57]},\n",
       " 'DRT': {'level': [3000, 6000, 9000, 12000, 18000, 24000, 30000, 34000, 39000],\n",
       "  'wind_speed': [29, 45, 32, 34, 49, 68, 82, 96, 103],\n",
       "  'wind_direction': [130, 170, 200, 220, 240, 240, 250, 250, 250],\n",
       "  'temperature': [None, 3, 5, -1, -15, -26, -43, -50, -54]},\n",
       " 'ELP': {'level': [3000, 6000, 9000, 12000, 18000, 24000, 30000, 34000, 39000],\n",
       "  'wind_speed': [None, 16, 14, 27, 60, 85, 112, 102, 70],\n",
       "  'wind_direction': [None, 260, 200, 180, 210, 210, 230, 230, 240],\n",
       "  'temperature': [None, None, -2, -9, -25, -34, -41, -46, -50]},\n",
       " 'HOU': {'level': [3000, 6000, 9000, 12000, 18000, 24000, 30000, 34000, 39000],\n",
       "  'wind_speed': [16, 8, 27, 26, 37, 42, 73, 100, 116],\n",
       "  'wind_direction': [100, 140, 220, 220, 250, 260, 260, 260, 260],\n",
       "  'temperature': [None, 8, 3, -2, -14, -26, -41, -49, -53]},\n",
       " 'INK': {'level': [3000, 6000, 9000, 12000, 18000, 24000, 30000, 34000, 39000],\n",
       "  'wind_speed': [None, 34, 32, 35, 55, 86, 112, 106, 97],\n",
       "  'wind_direction': [None, 130, 190, 210, 220, 230, 240, 230, 240],\n",
       "  'temperature': [None, 1, 2, -5, -21, -29, -43, -51, -58]},\n",
       " 'LBB': {'level': [3000, 6000, 9000, 12000, 18000, 24000, 30000, 34000, 39000],\n",
       "  'wind_speed': [None, 27, 27, 34, 48, 67, 107, 110, 76],\n",
       "  'wind_direction': [None, 120, 170, 210, 210, 220, 230, 230, 240],\n",
       "  'temperature': [None, -1, -6, -6, -21, -32, -45, -51, -55]},\n",
       " 'LRD': {'level': [3000, 6000, 9000, 12000, 18000, 24000, 30000, 34000, 39000],\n",
       "  'wind_speed': [32, 38, 28, 40, 48, 50, 102, 115, 115],\n",
       "  'wind_direction': [120, 170, 220, 230, 250, 250, 260, 250, 250],\n",
       "  'temperature': [None, 6, 6, 1, -13, -26, -37, -47, -56]},\n",
       " 'MRF': {'level': [3000, 6000, 9000, 12000, 18000, 24000, 30000, 34000, 39000],\n",
       "  'wind_speed': [None, None, 36, 39, 73, 92, 97, 91, 87],\n",
       "  'wind_direction': [None, None, 200, 210, 230, 240, 240, 240, 250],\n",
       "  'temperature': [None, None, 3, -5, -16, -26, -41, -49, -55]},\n",
       " 'PSX': {'level': [3000, 6000, 9000, 12000, 18000, 24000, 30000, 34000, 39000],\n",
       "  'wind_speed': [12, 13, 32, 28, 41, 44, 89, 122, 118],\n",
       "  'wind_direction': [110, 150, 220, 220, 250, 250, 260, 260, 260],\n",
       "  'temperature': [None, 7, 3, -2, -13, -26, -39, -47, -55]},\n",
       " 'SAT': {'level': [3000, 6000, 9000, 12000, 18000, 24000, 30000, 34000, 39000],\n",
       "  'wind_speed': [28, 26, 25, 32, 43, 51, 88, 120, 114],\n",
       "  'wind_direction': [130, 170, 210, 220, 250, 250, 260, 260, 250],\n",
       "  'temperature': [None, 5, 5, -1, -13, -26, -40, -48, -54]},\n",
       " 'SPS': {'level': [3000, 6000, 9000, 12000, 18000, 24000, 30000, 34000, 39000],\n",
       "  'wind_speed': [16, 7, 21, 31, 43, 52, 80, 92, 82],\n",
       "  'wind_direction': [100, 140, 210, 200, 220, 230, 250, 250, 260],\n",
       "  'temperature': [None, 1, -3, -5, -18, -29, -46, -54, -59]},\n",
       " 'T01': {'level': [3000, 6000, 9000, 12000, 18000, 24000, 30000, 34000, 39000],\n",
       "  'wind_speed': [14, 6, 16, 24, 45, 59, 103, 125, 121],\n",
       "  'wind_direction': [110, 200, 240, 230, 260, 260, 260, 260, 260],\n",
       "  'temperature': [None, 10, 5, -1, -14, -26, -38, -47, -55]},\n",
       " 'T06': {'level': [3000, 6000, 9000, 12000, 18000, 24000, 30000, 34000, 39000],\n",
       "  'wind_speed': [14, 0, 15, 24, 46, 66, 105, 131, 111],\n",
       "  'wind_direction': [80, None, 260, 250, 260, 260, 260, 270, 260],\n",
       "  'temperature': [None, 11, 6, 1, -15, -26, -38, -47, -54]},\n",
       " 'T07': {'level': [3000, 6000, 9000, 12000, 18000, 24000, 30000, 34000, 39000],\n",
       "  'wind_speed': [12, 12, 16, 24, 51, 70, 101, 119, 108],\n",
       "  'wind_direction': [40, 290, 280, 280, 270, 260, 260, 260, 260],\n",
       "  'temperature': [None, 12, 7, 1, -15, -25, -37, -47, -55]},\n",
       " '4J3': {'level': [3000, 6000, 9000, 12000, 18000, 24000, 30000, 34000, 39000],\n",
       "  'wind_speed': [12, 25, 26, 30, 55, 74, 99, 107, 102],\n",
       "  'wind_direction': [10, 290, 290, 280, 260, 250, 260, 260, 260],\n",
       "  'temperature': [None, 12, 7, 2, -13, -24, -37, -48, -55]},\n",
       " 'H51': {'level': [3000, 6000, 9000, 12000, 18000, 24000, 30000, 34000, 39000],\n",
       "  'wind_speed': [21, 14, 25, 26, 54, 67, 95, 103, 102],\n",
       "  'wind_direction': [100, 180, 230, 240, 260, 250, 260, 260, 260],\n",
       "  'temperature': [None, 11, 6, 1, -12, -23, -36, -47, -57]},\n",
       " 'H52': {'level': [3000, 6000, 9000, 12000, 18000, 24000, 30000, 34000, 39000],\n",
       "  'wind_speed': [16, 7, 10, 15, 50, 64, 82, 87, 88],\n",
       "  'wind_direction': [80, 260, 250, 250, 260, 250, 260, 270, 270],\n",
       "  'temperature': [None, 13, 9, 3, -11, -22, -36, -47, -57]},\n",
       " 'H61': {'level': [3000, 6000, 9000, 12000, 18000, 24000, 30000, 34000, 39000],\n",
       "  'wind_speed': [7, 18, 19, 24, 46, 64, 77, 86, 85],\n",
       "  'wind_direction': [280, 280, 270, 270, 250, 250, 260, 270, 260],\n",
       "  'temperature': [None, 12, 8, 3, -11, -22, -38, -48, -56]}}"
      ]
     },
     "execution_count": 14,
     "metadata": {},
     "output_type": "execute_result"
    }
   ],
   "source": [
    "better_parse_forecast('winds.txt')"
   ]
  },
  {
   "cell_type": "code",
   "execution_count": null,
   "metadata": {},
   "outputs": [],
   "source": []
  }
 ],
 "metadata": {
  "kernelspec": {
   "display_name": "base",
   "language": "python",
   "name": "python3"
  },
  "language_info": {
   "codemirror_mode": {
    "name": "ipython",
    "version": 3
   },
   "file_extension": ".py",
   "mimetype": "text/x-python",
   "name": "python",
   "nbconvert_exporter": "python",
   "pygments_lexer": "ipython3",
   "version": "3.9.12"
  },
  "orig_nbformat": 4,
  "vscode": {
   "interpreter": {
    "hash": "b5cfa023891fceef02537f80a4c6e95b77988fb973cdb16a51cdb785092210be"
   }
  }
 },
 "nbformat": 4,
 "nbformat_minor": 2
}
