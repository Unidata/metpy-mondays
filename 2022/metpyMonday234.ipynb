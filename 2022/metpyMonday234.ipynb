{
 "cells": [
  {
   "attachments": {},
   "cell_type": "markdown",
   "metadata": {},
   "source": [
    "## 234 - Orderings Points to Properly Plot Polygons\n",
    "\n",
    "[Youtube](https://www.youtube.com/watch?v=uPHPVj8pTc4)"
   ]
  },
  {
   "cell_type": "code",
   "execution_count": null,
   "metadata": {},
   "outputs": [],
   "source": [
    "import geopandas\n",
    "import pandas as pd\n",
    "import matplotlib.pyplot as plt\n",
    "from shapely.geometry import Polygon\n",
    "import cartopy.crs as ccrs\n",
    "import cartopy.feature as cfeature\n",
    "import numpy as np"
   ]
  },
  {
   "cell_type": "code",
   "execution_count": null,
   "metadata": {},
   "outputs": [],
   "source": [
    "df = pd.read_csv('airsig.txt', skiprows = 5)\n",
    "df"
   ]
  },
  {
   "cell_type": "code",
   "execution_count": null,
   "metadata": {},
   "outputs": [],
   "source": [
    "df.iloc[3]['lon:lat points']"
   ]
  },
  {
   "cell_type": "code",
   "execution_count": null,
   "metadata": {},
   "outputs": [],
   "source": [
    "def make_lat_lon_from_points_text(text):\n",
    "\t\"\"\" Takes text string from AWC and returns lat lon lists. \"\"\"\n",
    "\t\n",
    "\tpoints = text.split(';')\n",
    "\tlons, lats = [], []\n",
    "\tfor pair in points:\n",
    "\t\tlon, lat = pair.split(':')\n",
    "\t\tlons.append(float(lon))\n",
    "\t\tlats.append(float(lat))\n",
    "\t\t\n",
    "\treturn lats, lons"
   ]
  },
  {
   "cell_type": "code",
   "execution_count": null,
   "metadata": {},
   "outputs": [],
   "source": [
    "def make_polygons_for_airmet_sigmet(fname):\n",
    "\t\"\"\" Take AWC AIRMET/SIGMET text and create polygons. \"\"\"\n",
    "\tdf = pd.read_csv(fname, skiprows = 5)\n",
    "\tdf = df[df['hazard'] == 'IFR']\n",
    "\tpolygons = []\n",
    "\tfor row in df.itertools():\n",
    "\t\trow = row[1]\n",
    "\t\tlats, lons = make_lat_lon_from_points_text(row['lon:lat points'])\n",
    "\t\tp = list(zip(lons, lats))\n",
    "\t\tp = order_points(p)\n",
    "\t\tp = Polygon(p)\n",
    "\t\tpolygons.append(p)\n",
    "\treturn polygons"
   ]
  },
  {
   "cell_type": "code",
   "execution_count": null,
   "metadata": {},
   "outputs": [],
   "source": [
    "def order_points(points):\n",
    "\t\"\"\" Order points in a counterclockwise way for polygons. \"\"\"\n",
    "\t\n",
    "\tpoints = np.array(points)\n",
    "\t\n",
    "\t# Compute Center\n",
    "\tcenter_x, center_y = np.mean(points[:, 0]), np.mean(points[:, 1])\n",
    "\t\n",
    "\t# Sort by angle\n",
    "\tpolar_angles = np.arctan2((points[:, 1] - center_y), (points[:, 0] - center_x))\n",
    "\tsort_idx = np.argsort(polar_angles)\n",
    "\treturn points[sort_idx]\t"
   ]
  },
  {
   "cell_type": "code",
   "execution_count": null,
   "metadata": {},
   "outputs": [],
   "source": [
    "polygons = make_polygon_for_airmet_sigmet('airsig.txt')"
   ]
  },
  {
   "cell_type": "code",
   "execution_count": null,
   "metadata": {},
   "outputs": [],
   "source": [
    "map_crs = ccrs.LambertConformal(central_longitude = -100, central_latitude = 45)\n",
    "bounds = [(-122, -75, 25, 50)]"
   ]
  },
  {
   "cell_type": "code",
   "execution_count": null,
   "metadata": {},
   "outputs": [],
   "source": [
    "fig = plt.figure(figsize = (17, 12))\n",
    "ax = fig.add_subplot(1, 1, 1, projection = map_crs)\n",
    "ax.set_extent(*bounds, crs = ccrs.PlateCarree())\n",
    "ax.add_feature(cfeature.COASTLINE.with_scale('50m))\n",
    "ax.add_feature(cfeature.STATES, linewidth = 0.5)\n",
    "for p in polygons:\n",
    "\tax.add_geometries([p], crs = ccrs.PlateCarree(), facecolor = 'None', edgecolor = 'tab:brown', linewidth = 3)\t"
   ]
  }
 ],
 "metadata": {
  "language_info": {
   "name": "python"
  },
  "orig_nbformat": 4
 },
 "nbformat": 4,
 "nbformat_minor": 2
}
