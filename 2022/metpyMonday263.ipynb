{
 "cells": [
  {
   "cell_type": "markdown",
   "metadata": {},
   "source": [
    "## 263 - Using XArray Multidimensional Groupby for Global Mean Temperatures\n",
    "\n",
    "[Youtube](https://www.youtube.com/watch?v=SuoaFOhPKX4)"
   ]
  },
  {
   "cell_type": "code",
   "execution_count": 1,
   "metadata": {},
   "outputs": [],
   "source": [
    "import matplotlib.pyplot as plt\n",
    "import matplotlib\n",
    "import numpy as np\n",
    "import xarray as xr\n",
    "from metpy.cbook import get_test_data"
   ]
  },
  {
   "cell_type": "code",
   "execution_count": 2,
   "metadata": {},
   "outputs": [
    {
     "ename": "ValueError",
     "evalue": "File 'naar_example.nc' is not in the registry.",
     "output_type": "error",
     "traceback": [
      "\u001b[0;31m---------------------------------------------------------------------------\u001b[0m",
      "\u001b[0;31mValueError\u001b[0m                                Traceback (most recent call last)",
      "Cell \u001b[0;32mIn [2], line 1\u001b[0m\n\u001b[0;32m----> 1\u001b[0m ds \u001b[39m=\u001b[39m xr\u001b[39m.\u001b[39mopen_dataset(get_test_data(\u001b[39m'\u001b[39;49m\u001b[39mnaar_example.nc\u001b[39;49m\u001b[39m'\u001b[39;49m, as_file_obj \u001b[39m=\u001b[39;49m \u001b[39mFalse\u001b[39;49;00m))\n\u001b[1;32m      2\u001b[0m ds\n",
      "File \u001b[0;32m~/anaconda3/lib/python3.9/site-packages/metpy/cbook.py:34\u001b[0m, in \u001b[0;36mget_test_data\u001b[0;34m(fname, as_file_obj, mode)\u001b[0m\n\u001b[1;32m     32\u001b[0m \u001b[39mdef\u001b[39;00m \u001b[39mget_test_data\u001b[39m(fname, as_file_obj\u001b[39m=\u001b[39m\u001b[39mTrue\u001b[39;00m, mode\u001b[39m=\u001b[39m\u001b[39m'\u001b[39m\u001b[39mrb\u001b[39m\u001b[39m'\u001b[39m):\n\u001b[1;32m     33\u001b[0m     \u001b[39m\"\"\"Access a file from MetPy's collection of test data.\"\"\"\u001b[39;00m\n\u001b[0;32m---> 34\u001b[0m     path \u001b[39m=\u001b[39m POOCH\u001b[39m.\u001b[39;49mfetch(fname)\n\u001b[1;32m     35\u001b[0m     \u001b[39m# If we want a file object, open it, trying to guess whether this should be binary mode\u001b[39;00m\n\u001b[1;32m     36\u001b[0m     \u001b[39m# or not\u001b[39;00m\n\u001b[1;32m     37\u001b[0m     \u001b[39mif\u001b[39;00m as_file_obj:\n",
      "File \u001b[0;32m~/anaconda3/lib/python3.9/site-packages/pooch/core.py:560\u001b[0m, in \u001b[0;36mPooch.fetch\u001b[0;34m(self, fname, processor, downloader, progressbar)\u001b[0m\n\u001b[1;32m    509\u001b[0m \u001b[39mdef\u001b[39;00m \u001b[39mfetch\u001b[39m(\u001b[39mself\u001b[39m, fname, processor\u001b[39m=\u001b[39m\u001b[39mNone\u001b[39;00m, downloader\u001b[39m=\u001b[39m\u001b[39mNone\u001b[39;00m, progressbar\u001b[39m=\u001b[39m\u001b[39mFalse\u001b[39;00m):\n\u001b[1;32m    510\u001b[0m     \u001b[39m\"\"\"\u001b[39;00m\n\u001b[1;32m    511\u001b[0m \u001b[39m    Get the absolute path to a file in the local storage.\u001b[39;00m\n\u001b[1;32m    512\u001b[0m \n\u001b[0;32m   (...)\u001b[0m\n\u001b[1;32m    558\u001b[0m \n\u001b[1;32m    559\u001b[0m \u001b[39m    \"\"\"\u001b[39;00m\n\u001b[0;32m--> 560\u001b[0m     \u001b[39mself\u001b[39;49m\u001b[39m.\u001b[39;49m_assert_file_in_registry(fname)\n\u001b[1;32m    562\u001b[0m     \u001b[39m# Create the local data directory if it doesn't already exist\u001b[39;00m\n\u001b[1;32m    563\u001b[0m     make_local_storage(\u001b[39mstr\u001b[39m(\u001b[39mself\u001b[39m\u001b[39m.\u001b[39mabspath))\n",
      "File \u001b[0;32m~/anaconda3/lib/python3.9/site-packages/pooch/core.py:607\u001b[0m, in \u001b[0;36mPooch._assert_file_in_registry\u001b[0;34m(self, fname)\u001b[0m\n\u001b[1;32m    602\u001b[0m \u001b[39m\"\"\"\u001b[39;00m\n\u001b[1;32m    603\u001b[0m \u001b[39mCheck if a file is in the registry and raise :class:`ValueError` if\u001b[39;00m\n\u001b[1;32m    604\u001b[0m \u001b[39mit's not.\u001b[39;00m\n\u001b[1;32m    605\u001b[0m \u001b[39m\"\"\"\u001b[39;00m\n\u001b[1;32m    606\u001b[0m \u001b[39mif\u001b[39;00m fname \u001b[39mnot\u001b[39;00m \u001b[39min\u001b[39;00m \u001b[39mself\u001b[39m\u001b[39m.\u001b[39mregistry:\n\u001b[0;32m--> 607\u001b[0m     \u001b[39mraise\u001b[39;00m \u001b[39mValueError\u001b[39;00m(\u001b[39mf\u001b[39m\u001b[39m\"\u001b[39m\u001b[39mFile \u001b[39m\u001b[39m'\u001b[39m\u001b[39m{\u001b[39;00mfname\u001b[39m}\u001b[39;00m\u001b[39m'\u001b[39m\u001b[39m is not in the registry.\u001b[39m\u001b[39m\"\u001b[39m)\n",
      "\u001b[0;31mValueError\u001b[0m: File 'naar_example.nc' is not in the registry."
     ]
    }
   ],
   "source": [
    "ds = xr.open_dataset(get_test_data('naar_example.nc', as_file_obj = False))\n",
    "ds"
   ]
  },
  {
   "cell_type": "code",
   "execution_count": null,
   "metadata": {},
   "outputs": [],
   "source": [
    "data_var = ds.metpy_parse_cf('Temperature')\n",
    "data_var"
   ]
  },
  {
   "cell_type": "code",
   "execution_count": null,
   "metadata": {},
   "outputs": [],
   "source": [
    "ds = ds.set_coords(['lat', 'lon'])\n",
    "ds"
   ]
  },
  {
   "cell_type": "code",
   "execution_count": null,
   "metadata": {},
   "outputs": [],
   "source": [
    "lat_bins = np.arange(0, 91, 2)\n",
    "lat_bins"
   ]
  },
  {
   "cell_type": "code",
   "execution_count": null,
   "metadata": {},
   "outputs": [],
   "source": [
    "bin_centers = np.arange(1, 90, 2)\n",
    "bin_centers"
   ]
  },
  {
   "cell_type": "code",
   "execution_count": null,
   "metadata": {},
   "outputs": [],
   "source": [
    "mean_temperature = ds.Temperature.groupby_bins('lat', lat_bins, labels = bin_centers).mean(xr.ALL_DIMS)\n",
    "mean_temperature"
   ]
  },
  {
   "cell_type": "code",
   "execution_count": null,
   "metadata": {},
   "outputs": [],
   "source": [
    "mean_temperature.plot()"
   ]
  },
  {
   "cell_type": "code",
   "execution_count": null,
   "metadata": {},
   "outputs": [],
   "source": [
    "mean_temperature = ds.Temperature.sel(isobaric = 1000.).groupby_bins('lat', lat_bins, labels = bin_centers).mean(xr.ALL_DIMS)\n",
    "mean_temperature.plot()"
   ]
  },
  {
   "cell_type": "code",
   "execution_count": null,
   "metadata": {},
   "outputs": [],
   "source": [
    "mean_temperature = ds.Temperature.sel(isobaric = 1000.).isel(time = 0).groupby_bins('lat', lat_bins, labels = bin_centers).mean(xr.ALL_DIMS)\n",
    "mean_temperature.plot()"
   ]
  },
  {
   "cell_type": "code",
   "execution_count": null,
   "metadata": {},
   "outputs": [],
   "source": [
    "cmap = matplotlib.cm.get_cmap('coolwarm')\n",
    "for l in ds.isobaric:\n",
    "\tmean_temperature = ds.Temperature.sel(isobaric = l).groupby_bins('lat', lat_bins, labels = bin_centers).mean(xr.ALL_DIMS)\n",
    "\tc = cmap(1 / np.max(ds.isobaric))\n",
    "\tplt.plot(bin_centers, mean_temperature, label = l, c = c)\n",
    "plt.xlabel('Latitude')\n",
    "plt.ylabel('Temperature K')\n",
    "plt.gca().invert_yaxis()"
   ]
  }
 ],
 "metadata": {
  "kernelspec": {
   "display_name": "Python 3.9.12 ('base')",
   "language": "python",
   "name": "python3"
  },
  "language_info": {
   "codemirror_mode": {
    "name": "ipython",
    "version": 3
   },
   "file_extension": ".py",
   "mimetype": "text/x-python",
   "name": "python",
   "nbconvert_exporter": "python",
   "pygments_lexer": "ipython3",
   "version": "3.9.12"
  },
  "orig_nbformat": 4,
  "vscode": {
   "interpreter": {
    "hash": "b5cfa023891fceef02537f80a4c6e95b77988fb973cdb16a51cdb785092210be"
   }
  }
 },
 "nbformat": 4,
 "nbformat_minor": 2
}
