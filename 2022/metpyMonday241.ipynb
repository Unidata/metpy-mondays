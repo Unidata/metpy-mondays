{
 "cells": [
  {
   "cell_type": "markdown",
   "metadata": {},
   "source": [
    "## 241 - Dispelling Coriolis Myths with MetPy\n",
    "\n",
    "[Youtube](https://www.youtube.com/watch?v=dGrHY2eMnnY)"
   ]
  },
  {
   "cell_type": "code",
   "execution_count": 1,
   "metadata": {},
   "outputs": [],
   "source": [
    "import metpy.calc as mpcalc\n",
    "from metpy.units import units"
   ]
  },
  {
   "cell_type": "code",
   "execution_count": 2,
   "metadata": {},
   "outputs": [],
   "source": [
    "latitude = 35 * units.degrees"
   ]
  },
  {
   "cell_type": "code",
   "execution_count": 3,
   "metadata": {},
   "outputs": [
    {
     "data": {
      "text/html": [
       "8.365170670324016×10<sup>-5</sup> 1/second"
      ],
      "text/latex": [
       "$8.365170670324016\\times 10^{-5}\\ \\frac{1}{\\mathrm{second}}$"
      ],
      "text/plain": [
       "8.365170670324016e-05 <Unit('1 / second')>"
      ]
     },
     "execution_count": 3,
     "metadata": {},
     "output_type": "execute_result"
    }
   ],
   "source": [
    "f = mpcalc.coriolis_parameter(latitude)\n",
    "f"
   ]
  },
  {
   "cell_type": "code",
   "execution_count": 4,
   "metadata": {},
   "outputs": [
    {
     "data": {
      "text/html": [
       "2.614115834476255×10<sup>-6</sup> meter<sup>2</sup>/second"
      ],
      "text/latex": [
       "$2.614115834476255\\times 10^{-6}\\ \\frac{\\mathrm{meter}^{2}}{\\mathrm{second}}$"
      ],
      "text/plain": [
       "2.614115834476255e-06 <Unit('meter ** 2 / second')>"
      ]
     },
     "execution_count": 4,
     "metadata": {},
     "output_type": "execute_result"
    }
   ],
   "source": [
    "r = 0.5 / 2 * units.m\n",
    "v = 0 * units('m/s')\n",
    "c = r * v + 0.5 * f * r * r\n",
    "c"
   ]
  },
  {
   "cell_type": "code",
   "execution_count": 5,
   "metadata": {},
   "outputs": [
    {
     "data": {
      "text/html": [
       "0.00017364700116480938 meter/second"
      ],
      "text/latex": [
       "$0.00017364700116480938\\ \\frac{\\mathrm{meter}}{\\mathrm{second}}$"
      ],
      "text/plain": [
       "0.00017364700116480938 <Unit('meter / second')>"
      ]
     },
     "execution_count": 5,
     "metadata": {},
     "output_type": "execute_result"
    }
   ],
   "source": [
    "r2 = 0.03 / 2 * units.m\n",
    "v = (c - 0.5 * f * r2 * r2) / r2\n",
    "v"
   ]
  },
  {
   "cell_type": "code",
   "execution_count": null,
   "metadata": {},
   "outputs": [],
   "source": []
  }
 ],
 "metadata": {
  "kernelspec": {
   "display_name": "Python 3.9.12 ('base')",
   "language": "python",
   "name": "python3"
  },
  "language_info": {
   "codemirror_mode": {
    "name": "ipython",
    "version": 3
   },
   "file_extension": ".py",
   "mimetype": "text/x-python",
   "name": "python",
   "nbconvert_exporter": "python",
   "pygments_lexer": "ipython3",
   "version": "3.9.12"
  },
  "orig_nbformat": 4,
  "vscode": {
   "interpreter": {
    "hash": "b5cfa023891fceef02537f80a4c6e95b77988fb973cdb16a51cdb785092210be"
   }
  }
 },
 "nbformat": 4,
 "nbformat_minor": 2
}
