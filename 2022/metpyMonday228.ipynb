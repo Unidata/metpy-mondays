{
 "cells": [
  {
   "cell_type": "markdown",
   "metadata": {},
   "source": [
    "## 228 - Adding Station Lats and Lons\n",
    "\n",
    "[Youtube](https://www.youtube.com/watch?v=mzcXqm5wbBI)"
   ]
  },
  {
   "cell_type": "code",
   "execution_count": 1,
   "metadata": {},
   "outputs": [],
   "source": [
    "import metpy.io"
   ]
  },
  {
   "cell_type": "code",
   "execution_count": 2,
   "metadata": {},
   "outputs": [
    {
     "data": {
      "text/plain": [
       "'1.3.1'"
      ]
     },
     "execution_count": 2,
     "metadata": {},
     "output_type": "execute_result"
    }
   ],
   "source": [
    "import metpy\n",
    "metpy.__version__"
   ]
  },
  {
   "cell_type": "code",
   "execution_count": 3,
   "metadata": {},
   "outputs": [
    {
     "data": {
      "text/plain": [
       "Station(id='PADK', synop_id=704540, name='Adak Nas', state='AK', country='US', longitude=-176.65, latitude=51.88, altitude=4, source='/home/jessica/.cache/metpy/v1.3.1/sfstns.tbl')"
      ]
     },
     "execution_count": 3,
     "metadata": {},
     "output_type": "execute_result"
    }
   ],
   "source": [
    "metpy.io.station_info['PADK']"
   ]
  },
  {
   "cell_type": "code",
   "execution_count": 4,
   "metadata": {},
   "outputs": [],
   "source": [
    "from datetime import datetime\n",
    "from siphon.simplewebservice.iastate import IAStateUpperAir"
   ]
  },
  {
   "cell_type": "code",
   "execution_count": 5,
   "metadata": {},
   "outputs": [],
   "source": [
    "date = datetime(2022, 4, 11, 12)"
   ]
  },
  {
   "cell_type": "code",
   "execution_count": 6,
   "metadata": {},
   "outputs": [
    {
     "data": {
      "text/html": [
       "<div>\n",
       "<style scoped>\n",
       "    .dataframe tbody tr th:only-of-type {\n",
       "        vertical-align: middle;\n",
       "    }\n",
       "\n",
       "    .dataframe tbody tr th {\n",
       "        vertical-align: top;\n",
       "    }\n",
       "\n",
       "    .dataframe thead th {\n",
       "        text-align: right;\n",
       "    }\n",
       "</style>\n",
       "<table border=\"1\" class=\"dataframe\">\n",
       "  <thead>\n",
       "    <tr style=\"text-align: right;\">\n",
       "      <th></th>\n",
       "      <th>pressure</th>\n",
       "      <th>height</th>\n",
       "      <th>temperature</th>\n",
       "      <th>dewpoint</th>\n",
       "      <th>direction</th>\n",
       "      <th>speed</th>\n",
       "      <th>station</th>\n",
       "      <th>time</th>\n",
       "      <th>u_wind</th>\n",
       "      <th>v_wind</th>\n",
       "    </tr>\n",
       "  </thead>\n",
       "  <tbody>\n",
       "    <tr>\n",
       "      <th>0</th>\n",
       "      <td>952.0</td>\n",
       "      <td>386.0</td>\n",
       "      <td>-0.5</td>\n",
       "      <td>-4.3</td>\n",
       "      <td>60.0</td>\n",
       "      <td>6.0</td>\n",
       "      <td>CWPL</td>\n",
       "      <td>2022-04-11 12:00:00</td>\n",
       "      <td>-5.196152</td>\n",
       "      <td>-3.000000</td>\n",
       "    </tr>\n",
       "    <tr>\n",
       "      <th>1</th>\n",
       "      <td>947.0</td>\n",
       "      <td>428.0</td>\n",
       "      <td>0.4</td>\n",
       "      <td>-11.6</td>\n",
       "      <td>NaN</td>\n",
       "      <td>NaN</td>\n",
       "      <td>CWPL</td>\n",
       "      <td>2022-04-11 12:00:00</td>\n",
       "      <td>NaN</td>\n",
       "      <td>NaN</td>\n",
       "    </tr>\n",
       "    <tr>\n",
       "      <th>2</th>\n",
       "      <td>935.0</td>\n",
       "      <td>530.0</td>\n",
       "      <td>1.0</td>\n",
       "      <td>-9.0</td>\n",
       "      <td>NaN</td>\n",
       "      <td>NaN</td>\n",
       "      <td>CWPL</td>\n",
       "      <td>2022-04-11 12:00:00</td>\n",
       "      <td>NaN</td>\n",
       "      <td>NaN</td>\n",
       "    </tr>\n",
       "    <tr>\n",
       "      <th>3</th>\n",
       "      <td>929.0</td>\n",
       "      <td>582.0</td>\n",
       "      <td>1.2</td>\n",
       "      <td>-9.8</td>\n",
       "      <td>NaN</td>\n",
       "      <td>NaN</td>\n",
       "      <td>CWPL</td>\n",
       "      <td>2022-04-11 12:00:00</td>\n",
       "      <td>NaN</td>\n",
       "      <td>NaN</td>\n",
       "    </tr>\n",
       "    <tr>\n",
       "      <th>4</th>\n",
       "      <td>926.0</td>\n",
       "      <td>609.0</td>\n",
       "      <td>NaN</td>\n",
       "      <td>NaN</td>\n",
       "      <td>105.0</td>\n",
       "      <td>14.0</td>\n",
       "      <td>CWPL</td>\n",
       "      <td>2022-04-11 12:00:00</td>\n",
       "      <td>-13.522962</td>\n",
       "      <td>3.623467</td>\n",
       "    </tr>\n",
       "    <tr>\n",
       "      <th>...</th>\n",
       "      <td>...</td>\n",
       "      <td>...</td>\n",
       "      <td>...</td>\n",
       "      <td>...</td>\n",
       "      <td>...</td>\n",
       "      <td>...</td>\n",
       "      <td>...</td>\n",
       "      <td>...</td>\n",
       "      <td>...</td>\n",
       "      <td>...</td>\n",
       "    </tr>\n",
       "    <tr>\n",
       "      <th>12782</th>\n",
       "      <td>8.4</td>\n",
       "      <td>32026.0</td>\n",
       "      <td>-50.1</td>\n",
       "      <td>-83.1</td>\n",
       "      <td>NaN</td>\n",
       "      <td>NaN</td>\n",
       "      <td>KYXY</td>\n",
       "      <td>2022-04-11 12:00:00</td>\n",
       "      <td>NaN</td>\n",
       "      <td>NaN</td>\n",
       "    </tr>\n",
       "    <tr>\n",
       "      <th>12783</th>\n",
       "      <td>7.0</td>\n",
       "      <td>33220.0</td>\n",
       "      <td>-48.3</td>\n",
       "      <td>-81.3</td>\n",
       "      <td>70.0</td>\n",
       "      <td>25.0</td>\n",
       "      <td>KYXY</td>\n",
       "      <td>2022-04-11 12:00:00</td>\n",
       "      <td>-23.492316</td>\n",
       "      <td>-8.550504</td>\n",
       "    </tr>\n",
       "    <tr>\n",
       "      <th>12784</th>\n",
       "      <td>6.7</td>\n",
       "      <td>33528.0</td>\n",
       "      <td>NaN</td>\n",
       "      <td>NaN</td>\n",
       "      <td>60.0</td>\n",
       "      <td>24.0</td>\n",
       "      <td>KYXY</td>\n",
       "      <td>2022-04-11 12:00:00</td>\n",
       "      <td>-20.784610</td>\n",
       "      <td>-12.000000</td>\n",
       "    </tr>\n",
       "    <tr>\n",
       "      <th>12785</th>\n",
       "      <td>5.9</td>\n",
       "      <td>34349.0</td>\n",
       "      <td>-45.7</td>\n",
       "      <td>-79.7</td>\n",
       "      <td>NaN</td>\n",
       "      <td>NaN</td>\n",
       "      <td>KYXY</td>\n",
       "      <td>2022-04-11 12:00:00</td>\n",
       "      <td>NaN</td>\n",
       "      <td>NaN</td>\n",
       "    </tr>\n",
       "    <tr>\n",
       "      <th>12786</th>\n",
       "      <td>5.8</td>\n",
       "      <td>34442.0</td>\n",
       "      <td>NaN</td>\n",
       "      <td>NaN</td>\n",
       "      <td>45.0</td>\n",
       "      <td>19.0</td>\n",
       "      <td>KYXY</td>\n",
       "      <td>2022-04-11 12:00:00</td>\n",
       "      <td>-13.435029</td>\n",
       "      <td>-13.435029</td>\n",
       "    </tr>\n",
       "  </tbody>\n",
       "</table>\n",
       "<p>12787 rows × 10 columns</p>\n",
       "</div>"
      ],
      "text/plain": [
       "       pressure   height  temperature  dewpoint  direction  speed station  \\\n",
       "0         952.0    386.0         -0.5      -4.3       60.0    6.0    CWPL   \n",
       "1         947.0    428.0          0.4     -11.6        NaN    NaN    CWPL   \n",
       "2         935.0    530.0          1.0      -9.0        NaN    NaN    CWPL   \n",
       "3         929.0    582.0          1.2      -9.8        NaN    NaN    CWPL   \n",
       "4         926.0    609.0          NaN       NaN      105.0   14.0    CWPL   \n",
       "...         ...      ...          ...       ...        ...    ...     ...   \n",
       "12782       8.4  32026.0        -50.1     -83.1        NaN    NaN    KYXY   \n",
       "12783       7.0  33220.0        -48.3     -81.3       70.0   25.0    KYXY   \n",
       "12784       6.7  33528.0          NaN       NaN       60.0   24.0    KYXY   \n",
       "12785       5.9  34349.0        -45.7     -79.7        NaN    NaN    KYXY   \n",
       "12786       5.8  34442.0          NaN       NaN       45.0   19.0    KYXY   \n",
       "\n",
       "                     time     u_wind     v_wind  \n",
       "0     2022-04-11 12:00:00  -5.196152  -3.000000  \n",
       "1     2022-04-11 12:00:00        NaN        NaN  \n",
       "2     2022-04-11 12:00:00        NaN        NaN  \n",
       "3     2022-04-11 12:00:00        NaN        NaN  \n",
       "4     2022-04-11 12:00:00 -13.522962   3.623467  \n",
       "...                   ...        ...        ...  \n",
       "12782 2022-04-11 12:00:00        NaN        NaN  \n",
       "12783 2022-04-11 12:00:00 -23.492316  -8.550504  \n",
       "12784 2022-04-11 12:00:00 -20.784610 -12.000000  \n",
       "12785 2022-04-11 12:00:00        NaN        NaN  \n",
       "12786 2022-04-11 12:00:00 -13.435029 -13.435029  \n",
       "\n",
       "[12787 rows x 10 columns]"
      ]
     },
     "execution_count": 6,
     "metadata": {},
     "output_type": "execute_result"
    }
   ],
   "source": [
    "df = IAStateUpperAir.request_all_data(date)\n",
    "df"
   ]
  },
  {
   "cell_type": "code",
   "execution_count": 7,
   "metadata": {},
   "outputs": [
    {
     "data": {
      "text/html": [
       "<div>\n",
       "<style scoped>\n",
       "    .dataframe tbody tr th:only-of-type {\n",
       "        vertical-align: middle;\n",
       "    }\n",
       "\n",
       "    .dataframe tbody tr th {\n",
       "        vertical-align: top;\n",
       "    }\n",
       "\n",
       "    .dataframe thead th {\n",
       "        text-align: right;\n",
       "    }\n",
       "</style>\n",
       "<table border=\"1\" class=\"dataframe\">\n",
       "  <thead>\n",
       "    <tr style=\"text-align: right;\">\n",
       "      <th></th>\n",
       "      <th>pressure</th>\n",
       "      <th>height</th>\n",
       "      <th>temperature</th>\n",
       "      <th>dewpoint</th>\n",
       "      <th>direction</th>\n",
       "      <th>speed</th>\n",
       "      <th>station</th>\n",
       "      <th>time</th>\n",
       "      <th>u_wind</th>\n",
       "      <th>v_wind</th>\n",
       "      <th>latitude</th>\n",
       "      <th>longitude</th>\n",
       "    </tr>\n",
       "  </thead>\n",
       "  <tbody>\n",
       "    <tr>\n",
       "      <th>0</th>\n",
       "      <td>952.0</td>\n",
       "      <td>386.0</td>\n",
       "      <td>-0.5</td>\n",
       "      <td>-4.3</td>\n",
       "      <td>60.0</td>\n",
       "      <td>6.0</td>\n",
       "      <td>CWPL</td>\n",
       "      <td>2022-04-11 12:00:00</td>\n",
       "      <td>-5.196152</td>\n",
       "      <td>-3.000000</td>\n",
       "      <td>51.47</td>\n",
       "      <td>-90.2</td>\n",
       "    </tr>\n",
       "    <tr>\n",
       "      <th>1</th>\n",
       "      <td>947.0</td>\n",
       "      <td>428.0</td>\n",
       "      <td>0.4</td>\n",
       "      <td>-11.6</td>\n",
       "      <td>NaN</td>\n",
       "      <td>NaN</td>\n",
       "      <td>CWPL</td>\n",
       "      <td>2022-04-11 12:00:00</td>\n",
       "      <td>NaN</td>\n",
       "      <td>NaN</td>\n",
       "      <td>51.47</td>\n",
       "      <td>-90.2</td>\n",
       "    </tr>\n",
       "    <tr>\n",
       "      <th>2</th>\n",
       "      <td>935.0</td>\n",
       "      <td>530.0</td>\n",
       "      <td>1.0</td>\n",
       "      <td>-9.0</td>\n",
       "      <td>NaN</td>\n",
       "      <td>NaN</td>\n",
       "      <td>CWPL</td>\n",
       "      <td>2022-04-11 12:00:00</td>\n",
       "      <td>NaN</td>\n",
       "      <td>NaN</td>\n",
       "      <td>51.47</td>\n",
       "      <td>-90.2</td>\n",
       "    </tr>\n",
       "    <tr>\n",
       "      <th>3</th>\n",
       "      <td>929.0</td>\n",
       "      <td>582.0</td>\n",
       "      <td>1.2</td>\n",
       "      <td>-9.8</td>\n",
       "      <td>NaN</td>\n",
       "      <td>NaN</td>\n",
       "      <td>CWPL</td>\n",
       "      <td>2022-04-11 12:00:00</td>\n",
       "      <td>NaN</td>\n",
       "      <td>NaN</td>\n",
       "      <td>51.47</td>\n",
       "      <td>-90.2</td>\n",
       "    </tr>\n",
       "    <tr>\n",
       "      <th>4</th>\n",
       "      <td>926.0</td>\n",
       "      <td>609.0</td>\n",
       "      <td>NaN</td>\n",
       "      <td>NaN</td>\n",
       "      <td>105.0</td>\n",
       "      <td>14.0</td>\n",
       "      <td>CWPL</td>\n",
       "      <td>2022-04-11 12:00:00</td>\n",
       "      <td>-13.522962</td>\n",
       "      <td>3.623467</td>\n",
       "      <td>51.47</td>\n",
       "      <td>-90.2</td>\n",
       "    </tr>\n",
       "    <tr>\n",
       "      <th>...</th>\n",
       "      <td>...</td>\n",
       "      <td>...</td>\n",
       "      <td>...</td>\n",
       "      <td>...</td>\n",
       "      <td>...</td>\n",
       "      <td>...</td>\n",
       "      <td>...</td>\n",
       "      <td>...</td>\n",
       "      <td>...</td>\n",
       "      <td>...</td>\n",
       "      <td>...</td>\n",
       "      <td>...</td>\n",
       "    </tr>\n",
       "    <tr>\n",
       "      <th>12782</th>\n",
       "      <td>8.4</td>\n",
       "      <td>32026.0</td>\n",
       "      <td>-50.1</td>\n",
       "      <td>-83.1</td>\n",
       "      <td>NaN</td>\n",
       "      <td>NaN</td>\n",
       "      <td>KYXY</td>\n",
       "      <td>2022-04-11 12:00:00</td>\n",
       "      <td>NaN</td>\n",
       "      <td>NaN</td>\n",
       "      <td>NaN</td>\n",
       "      <td>NaN</td>\n",
       "    </tr>\n",
       "    <tr>\n",
       "      <th>12783</th>\n",
       "      <td>7.0</td>\n",
       "      <td>33220.0</td>\n",
       "      <td>-48.3</td>\n",
       "      <td>-81.3</td>\n",
       "      <td>70.0</td>\n",
       "      <td>25.0</td>\n",
       "      <td>KYXY</td>\n",
       "      <td>2022-04-11 12:00:00</td>\n",
       "      <td>-23.492316</td>\n",
       "      <td>-8.550504</td>\n",
       "      <td>NaN</td>\n",
       "      <td>NaN</td>\n",
       "    </tr>\n",
       "    <tr>\n",
       "      <th>12784</th>\n",
       "      <td>6.7</td>\n",
       "      <td>33528.0</td>\n",
       "      <td>NaN</td>\n",
       "      <td>NaN</td>\n",
       "      <td>60.0</td>\n",
       "      <td>24.0</td>\n",
       "      <td>KYXY</td>\n",
       "      <td>2022-04-11 12:00:00</td>\n",
       "      <td>-20.784610</td>\n",
       "      <td>-12.000000</td>\n",
       "      <td>NaN</td>\n",
       "      <td>NaN</td>\n",
       "    </tr>\n",
       "    <tr>\n",
       "      <th>12785</th>\n",
       "      <td>5.9</td>\n",
       "      <td>34349.0</td>\n",
       "      <td>-45.7</td>\n",
       "      <td>-79.7</td>\n",
       "      <td>NaN</td>\n",
       "      <td>NaN</td>\n",
       "      <td>KYXY</td>\n",
       "      <td>2022-04-11 12:00:00</td>\n",
       "      <td>NaN</td>\n",
       "      <td>NaN</td>\n",
       "      <td>NaN</td>\n",
       "      <td>NaN</td>\n",
       "    </tr>\n",
       "    <tr>\n",
       "      <th>12786</th>\n",
       "      <td>5.8</td>\n",
       "      <td>34442.0</td>\n",
       "      <td>NaN</td>\n",
       "      <td>NaN</td>\n",
       "      <td>45.0</td>\n",
       "      <td>19.0</td>\n",
       "      <td>KYXY</td>\n",
       "      <td>2022-04-11 12:00:00</td>\n",
       "      <td>-13.435029</td>\n",
       "      <td>-13.435029</td>\n",
       "      <td>NaN</td>\n",
       "      <td>NaN</td>\n",
       "    </tr>\n",
       "  </tbody>\n",
       "</table>\n",
       "<p>12787 rows × 12 columns</p>\n",
       "</div>"
      ],
      "text/plain": [
       "       pressure   height  temperature  dewpoint  direction  speed station  \\\n",
       "0         952.0    386.0         -0.5      -4.3       60.0    6.0    CWPL   \n",
       "1         947.0    428.0          0.4     -11.6        NaN    NaN    CWPL   \n",
       "2         935.0    530.0          1.0      -9.0        NaN    NaN    CWPL   \n",
       "3         929.0    582.0          1.2      -9.8        NaN    NaN    CWPL   \n",
       "4         926.0    609.0          NaN       NaN      105.0   14.0    CWPL   \n",
       "...         ...      ...          ...       ...        ...    ...     ...   \n",
       "12782       8.4  32026.0        -50.1     -83.1        NaN    NaN    KYXY   \n",
       "12783       7.0  33220.0        -48.3     -81.3       70.0   25.0    KYXY   \n",
       "12784       6.7  33528.0          NaN       NaN       60.0   24.0    KYXY   \n",
       "12785       5.9  34349.0        -45.7     -79.7        NaN    NaN    KYXY   \n",
       "12786       5.8  34442.0          NaN       NaN       45.0   19.0    KYXY   \n",
       "\n",
       "                     time     u_wind     v_wind latitude longitude  \n",
       "0     2022-04-11 12:00:00  -5.196152  -3.000000    51.47     -90.2  \n",
       "1     2022-04-11 12:00:00        NaN        NaN    51.47     -90.2  \n",
       "2     2022-04-11 12:00:00        NaN        NaN    51.47     -90.2  \n",
       "3     2022-04-11 12:00:00        NaN        NaN    51.47     -90.2  \n",
       "4     2022-04-11 12:00:00 -13.522962   3.623467    51.47     -90.2  \n",
       "...                   ...        ...        ...      ...       ...  \n",
       "12782 2022-04-11 12:00:00        NaN        NaN      NaN       NaN  \n",
       "12783 2022-04-11 12:00:00 -23.492316  -8.550504      NaN       NaN  \n",
       "12784 2022-04-11 12:00:00 -20.784610 -12.000000      NaN       NaN  \n",
       "12785 2022-04-11 12:00:00        NaN        NaN      NaN       NaN  \n",
       "12786 2022-04-11 12:00:00 -13.435029 -13.435029      NaN       NaN  \n",
       "\n",
       "[12787 rows x 12 columns]"
      ]
     },
     "execution_count": 7,
     "metadata": {},
     "output_type": "execute_result"
    }
   ],
   "source": [
    "df = metpy.io.add_station_lat_lon(df, stn_var = 'station')\n",
    "df"
   ]
  },
  {
   "cell_type": "code",
   "execution_count": 8,
   "metadata": {},
   "outputs": [],
   "source": [
    "import matplotlib.pyplot as plt"
   ]
  },
  {
   "cell_type": "code",
   "execution_count": 9,
   "metadata": {},
   "outputs": [],
   "source": [
    "locs = df[['longitude', 'latitude']]"
   ]
  },
  {
   "cell_type": "code",
   "execution_count": 10,
   "metadata": {},
   "outputs": [
    {
     "data": {
      "text/plain": [
       "12787"
      ]
     },
     "execution_count": 10,
     "metadata": {},
     "output_type": "execute_result"
    }
   ],
   "source": [
    "len(locs)"
   ]
  },
  {
   "cell_type": "code",
   "execution_count": 11,
   "metadata": {},
   "outputs": [],
   "source": [
    "locs = locs.dropna()"
   ]
  },
  {
   "cell_type": "code",
   "execution_count": 12,
   "metadata": {},
   "outputs": [
    {
     "data": {
      "text/plain": [
       "9476"
      ]
     },
     "execution_count": 12,
     "metadata": {},
     "output_type": "execute_result"
    }
   ],
   "source": [
    "len(locs)"
   ]
  },
  {
   "cell_type": "code",
   "execution_count": 13,
   "metadata": {},
   "outputs": [],
   "source": [
    "locs = locs.drop_duplicates()"
   ]
  },
  {
   "cell_type": "code",
   "execution_count": 14,
   "metadata": {},
   "outputs": [
    {
     "data": {
      "text/plain": [
       "82"
      ]
     },
     "execution_count": 14,
     "metadata": {},
     "output_type": "execute_result"
    }
   ],
   "source": [
    "len(locs)"
   ]
  },
  {
   "cell_type": "code",
   "execution_count": 15,
   "metadata": {},
   "outputs": [
    {
     "data": {
      "text/html": [
       "<div>\n",
       "<style scoped>\n",
       "    .dataframe tbody tr th:only-of-type {\n",
       "        vertical-align: middle;\n",
       "    }\n",
       "\n",
       "    .dataframe tbody tr th {\n",
       "        vertical-align: top;\n",
       "    }\n",
       "\n",
       "    .dataframe thead th {\n",
       "        text-align: right;\n",
       "    }\n",
       "</style>\n",
       "<table border=\"1\" class=\"dataframe\">\n",
       "  <thead>\n",
       "    <tr style=\"text-align: right;\">\n",
       "      <th></th>\n",
       "      <th>longitude</th>\n",
       "      <th>latitude</th>\n",
       "    </tr>\n",
       "  </thead>\n",
       "  <tbody>\n",
       "    <tr>\n",
       "      <th>0</th>\n",
       "      <td>-90.2</td>\n",
       "      <td>51.47</td>\n",
       "    </tr>\n",
       "    <tr>\n",
       "      <th>151</th>\n",
       "      <td>-114.08</td>\n",
       "      <td>53.53</td>\n",
       "    </tr>\n",
       "    <tr>\n",
       "      <th>268</th>\n",
       "      <td>-73.67</td>\n",
       "      <td>53.75</td>\n",
       "    </tr>\n",
       "    <tr>\n",
       "      <th>363</th>\n",
       "      <td>-105.12</td>\n",
       "      <td>69.08</td>\n",
       "    </tr>\n",
       "    <tr>\n",
       "      <th>511</th>\n",
       "      <td>-85.82</td>\n",
       "      <td>80.0</td>\n",
       "    </tr>\n",
       "    <tr>\n",
       "      <th>...</th>\n",
       "      <td>...</td>\n",
       "      <td>...</td>\n",
       "    </tr>\n",
       "    <tr>\n",
       "      <th>11867</th>\n",
       "      <td>-103.2</td>\n",
       "      <td>44.07</td>\n",
       "    </tr>\n",
       "    <tr>\n",
       "      <th>11940</th>\n",
       "      <td>-120.58</td>\n",
       "      <td>34.72</td>\n",
       "    </tr>\n",
       "    <tr>\n",
       "      <th>12057</th>\n",
       "      <td>-115.18</td>\n",
       "      <td>36.04</td>\n",
       "    </tr>\n",
       "    <tr>\n",
       "      <th>12143</th>\n",
       "      <td>-92.68</td>\n",
       "      <td>38.95</td>\n",
       "    </tr>\n",
       "    <tr>\n",
       "      <th>12206</th>\n",
       "      <td>-75.47</td>\n",
       "      <td>37.93</td>\n",
       "    </tr>\n",
       "  </tbody>\n",
       "</table>\n",
       "<p>82 rows × 2 columns</p>\n",
       "</div>"
      ],
      "text/plain": [
       "      longitude latitude\n",
       "0         -90.2    51.47\n",
       "151     -114.08    53.53\n",
       "268      -73.67    53.75\n",
       "363     -105.12    69.08\n",
       "511      -85.82     80.0\n",
       "...         ...      ...\n",
       "11867    -103.2    44.07\n",
       "11940   -120.58    34.72\n",
       "12057   -115.18    36.04\n",
       "12143    -92.68    38.95\n",
       "12206    -75.47    37.93\n",
       "\n",
       "[82 rows x 2 columns]"
      ]
     },
     "execution_count": 15,
     "metadata": {},
     "output_type": "execute_result"
    }
   ],
   "source": [
    "locs"
   ]
  },
  {
   "cell_type": "code",
   "execution_count": 16,
   "metadata": {},
   "outputs": [
    {
     "data": {
      "text/plain": [
       "<matplotlib.collections.PathCollection at 0x7f57d4e652b0>"
      ]
     },
     "execution_count": 16,
     "metadata": {},
     "output_type": "execute_result"
    },
    {
     "data": {
      "image/png": "[encoded data removed]",
      "text/plain": [
       "<Figure size 640x480 with 1 Axes>"
      ]
     },
     "metadata": {},
     "output_type": "display_data"
    }
   ],
   "source": [
    "plt.scatter(df['longitude'], df['latitude'])"
   ]
  }
 ],
 "metadata": {
  "kernelspec": {
   "display_name": "Python 3.9.12 ('base')",
   "language": "python",
   "name": "python3"
  },
  "language_info": {
   "codemirror_mode": {
    "name": "ipython",
    "version": 3
   },
   "file_extension": ".py",
   "mimetype": "text/x-python",
   "name": "python",
   "nbconvert_exporter": "python",
   "pygments_lexer": "ipython3",
   "version": "3.9.12"
  },
  "orig_nbformat": 4,
  "vscode": {
   "interpreter": {
    "hash": "b5cfa023891fceef02537f80a4c6e95b77988fb973cdb16a51cdb785092210be"
   }
  }
 },
 "nbformat": 4,
 "nbformat_minor": 2
}
