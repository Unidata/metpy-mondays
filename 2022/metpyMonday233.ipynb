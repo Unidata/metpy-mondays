{
 "cells": [
  {
   "attachments": {},
   "cell_type": "markdown",
   "metadata": {},
   "source": [
    "## 233 - Parsing AIRMET SIGMET CSV files to Polygons\n",
    "\n",
    "\n",
    "[Youtube](https://www.youtube.com/watch?v=Izu6fI9rY9Y)"
   ]
  },
  {
   "cell_type": "code",
   "execution_count": null,
   "metadata": {},
   "outputs": [],
   "source": [
    "import geopandas\n",
    "import pandas as pd\n",
    "import matplotlib.pyplot as plt\n",
    "from shapely.geometry import Polygon\n",
    "import cartopy.crs as ccrs\n",
    "import cartopy.feature as cfeature"
   ]
  },
  {
   "cell_type": "code",
   "execution_count": null,
   "metadata": {},
   "outputs": [],
   "source": [
    "df = pd.read_csv('airsig.txt', skiprows = 5)\n",
    "df"
   ]
  },
  {
   "cell_type": "code",
   "execution_count": null,
   "metadata": {},
   "outputs": [],
   "source": [
    "df.iloc[3]['lon:lat points']"
   ]
  },
  {
   "cell_type": "code",
   "execution_count": null,
   "metadata": {},
   "outputs": [],
   "source": [
    "def make_lat_lon_from_points_text(text):\n",
    "\t\"\"\" Takes text string from AWC and returns lat lon lists. \"\"\"\n",
    "\t\n",
    "\tpoints = text.split(';')\n",
    "\tlons, lats = [], []\n",
    "\tfor pair in points:\n",
    "\t\tlon, lat = pair.split(':')\n",
    "\t\tlons.append(float(lon))\n",
    "\t\tlats.append(float(lat))\n",
    "\t\t\n",
    "\treturn lats, lons"
   ]
  },
  {
   "cell_type": "code",
   "execution_count": null,
   "metadata": {},
   "outputs": [],
   "source": [
    "def make_polygons_for_airmet_sigmet(fname):\n",
    "\t\"\"\" Take AWC AIRMET/SIGMET text and create polygons. \"\"\"\n",
    "\tdf = pd.read_csv(fname, skiprows = 5)\n",
    "\tpolygons = []\n",
    "\tfor row in df.itertools():\n",
    "\t\trow = row[1]\n",
    "\t\tlats, lons = make_lat_lon_from_points_text(row['lon:lat points'])\n",
    "\t\tp = Polygon(zip(lons, lats))\n",
    "\t\tpolygons.append(p)\n",
    "\treturn polygons"
   ]
  },
  {
   "cell_type": "code",
   "execution_count": null,
   "metadata": {},
   "outputs": [],
   "source": [
    "polygons = make_polygon_for_airmet_sigmet('airsig.txt')"
   ]
  },
  {
   "cell_type": "code",
   "execution_count": null,
   "metadata": {},
   "outputs": [],
   "source": [
    "map_crs = ccrs.LambertConformal(central_longitude = -100, central_latitude = 45)\n",
    "bounds = [(-122, -75, 25, 50)]\n",
    "\t\t\n",
    "fig = plt.figure(figsize = (17, 12))\n",
    "ax = fig.add_subplot(1, 1, 1, projection = map_crs)\n",
    "ax.set_extent(*bounds, crs = ccrs.PlateCarree())\n",
    "ax.add_feature(cfeature.COASTLINE.with_scale('50m))\n",
    "ax.add_feature(cfeature.STATES, linewidth = 0.5)\n",
    "\n",
    "for p in polygons:\n",
    "\tax.add_geometries([p], crs = ccrs.PlateCarree(), facecolor = 'None', edgecolor = 'tab:brown', linewidth = 3)"
   ]
  }
 ],
 "metadata": {
  "kernelspec": {
   "display_name": "base",
   "language": "python",
   "name": "python3"
  },
  "language_info": {
   "codemirror_mode": {
    "name": "ipython",
    "version": 3
   },
   "file_extension": ".py",
   "mimetype": "text/x-python",
   "name": "python",
   "nbconvert_exporter": "python",
   "pygments_lexer": "ipython3",
   "version": "3.9.12"
  },
  "orig_nbformat": 4,
  "vscode": {
   "interpreter": {
    "hash": "b5cfa023891fceef02537f80a4c6e95b77988fb973cdb16a51cdb785092210be"
   }
  }
 },
 "nbformat": 4,
 "nbformat_minor": 2
}
