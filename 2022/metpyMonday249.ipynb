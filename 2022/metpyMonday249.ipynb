{
 "cells": [
  {
   "attachments": {},
   "cell_type": "markdown",
   "metadata": {},
   "source": [
    "## 249 - Potential Temperature and Airliners\n",
    "\n",
    "[Youtube](https://www.youtube.com/watch?v=CRVO9JtV_Mg)"
   ]
  },
  {
   "attachments": {},
   "cell_type": "markdown",
   "metadata": {},
   "source": [
    "Your next conference flight cruises at a height of 30,000 ft. Assume a standard atmosphere.\n",
    "\n",
    "What is the approximate pressure outside?\n",
    "\n",
    "What is the approximate temperature outside?\n",
    "\n",
    "What is the potential temperature outside the cabin?\n",
    "\n",
    "Assuming a cabin pressurization altitude of 750hPa, what is the equivalent cabin altitude in feet?\n",
    "\n",
    "If outside air is brought in and compressed to enter the cabin, what would its temperature be without any heating/cooling from the systems on board?"
   ]
  },
  {
   "cell_type": "code",
   "execution_count": 1,
   "metadata": {},
   "outputs": [],
   "source": [
    "import metpy.calc as mpcalc\n",
    "from metpy.units import units"
   ]
  },
  {
   "cell_type": "code",
   "execution_count": 2,
   "metadata": {},
   "outputs": [],
   "source": [
    "height = 30000 * units.feet\n",
    "# height = 20000 * units.feet"
   ]
  },
  {
   "cell_type": "code",
   "execution_count": 3,
   "metadata": {},
   "outputs": [
    {
     "name": "stdout",
     "output_type": "stream",
     "text": [
      "The pressure at 30000 foot in a standard atmosphere is 301 hectopascal.\n"
     ]
    }
   ],
   "source": [
    "pressure = mpcalc.height_to_pressure_std(height)\n",
    "print(f'The pressure at {height} in a standard atmosphere is {pressure:.0f}.')"
   ]
  },
  {
   "cell_type": "code",
   "execution_count": 4,
   "metadata": {},
   "outputs": [
    {
     "name": "stdout",
     "output_type": "stream",
     "text": [
      "The standard temperature at 30000 foot is -40 degree_Celsius.\n"
     ]
    }
   ],
   "source": [
    "lapse_rate = -6.5 * units.delta_degC / units.km\n",
    "starting_temperature = 19 * units.degC\n",
    "temperature = starting_temperature + lapse_rate * height\n",
    "print(f'The standard temperature at {height} is {temperature:.0f}.')"
   ]
  },
  {
   "cell_type": "code",
   "execution_count": 5,
   "metadata": {},
   "outputs": [
    {
     "name": "stdout",
     "output_type": "stream",
     "text": [
      "The potential temperature at 30000 foot and -40 degree_Celsius is 55 degree_Celsius.\n"
     ]
    }
   ],
   "source": [
    "potential_temperature = mpcalc.potential_temperature(pressure, temperature)\n",
    "print(f'The potential temperature at {height} and {temperature:.0f} is {potential_temperature.to(\"degC\"):.0f}.')"
   ]
  },
  {
   "cell_type": "code",
   "execution_count": 6,
   "metadata": {},
   "outputs": [
    {
     "name": "stdout",
     "output_type": "stream",
     "text": [
      "The cabin altitude at 750 hectopascal is 8087 foot.\n"
     ]
    }
   ],
   "source": [
    "cabin_pressure = 750 * units.hPa\n",
    "cabin_altitude = mpcalc.pressure_to_height_std(cabin_pressure)\n",
    "print(f'The cabin altitude at {cabin_pressure} is {cabin_altitude.to(\"ft\"):.0f}.')"
   ]
  },
  {
   "cell_type": "code",
   "execution_count": 7,
   "metadata": {},
   "outputs": [
    {
     "name": "stdout",
     "output_type": "stream",
     "text": [
      "The injected cabin air would be 84 degree_Fahrenheit.\n"
     ]
    }
   ],
   "source": [
    "unconditioned_air_temperature = mpcalc.temperature_from_potential_temperature(cabin_pressure, potential_temperature)\n",
    "print(f'The injected cabin air would be {unconditioned_air_temperature.to(\"degF\"):.0f}.')"
   ]
  }
 ],
 "metadata": {
  "kernelspec": {
   "display_name": "base",
   "language": "python",
   "name": "python3"
  },
  "language_info": {
   "codemirror_mode": {
    "name": "ipython",
    "version": 3
   },
   "file_extension": ".py",
   "mimetype": "text/x-python",
   "name": "python",
   "nbconvert_exporter": "python",
   "pygments_lexer": "ipython3",
   "version": "3.9.12"
  },
  "orig_nbformat": 4,
  "vscode": {
   "interpreter": {
    "hash": "b5cfa023891fceef02537f80a4c6e95b77988fb973cdb16a51cdb785092210be"
   }
  }
 },
 "nbformat": 4,
 "nbformat_minor": 2
}
