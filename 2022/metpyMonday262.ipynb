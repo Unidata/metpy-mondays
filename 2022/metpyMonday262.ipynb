{
 "cells": [
  {
   "attachments": {},
   "cell_type": "markdown",
   "metadata": {},
   "source": [
    "## 262 - Finding Magnetic Declination and Correcting Wind Observations\n",
    "\n",
    "[Youtube](https://www.youtube.com/watch?v=jwWPDvdGFyM)\n",
    "\n",
    "To install: pip install magnetic-field-calculator"
   ]
  },
  {
   "cell_type": "code",
   "execution_count": 1,
   "metadata": {},
   "outputs": [],
   "source": [
    "from magnetic_field_calculator import MagneticFieldCalculator"
   ]
  },
  {
   "cell_type": "code",
   "execution_count": 2,
   "metadata": {},
   "outputs": [],
   "source": [
    "calculator = MagneticFieldCalculator()"
   ]
  },
  {
   "attachments": {},
   "cell_type": "markdown",
   "metadata": {},
   "source": [
    "## Simple Calculation"
   ]
  },
  {
   "cell_type": "code",
   "execution_count": 3,
   "metadata": {},
   "outputs": [
    {
     "data": {
      "text/plain": [
       "{'model': 'wmm',\n",
       " 'model_revision': '2020',\n",
       " 'date': {'units': 'year', 'value': 2023.15},\n",
       " 'coordinates': {'latitude': {'units': 'deg (north)', 'value': 40.015},\n",
       "  'longitude': {'units': 'deg (east)', 'value': 254.73},\n",
       "  'altitude': {'units': 'km', 'value': 0.0}},\n",
       " 'field-value': {'total-intensity': {'units': 'nT', 'value': 51561},\n",
       "  'declination': {'units': 'deg (east)', 'value': 7.917},\n",
       "  'inclination': {'units': 'deg (down)', 'value': 66.202},\n",
       "  'north-intensity': {'units': 'nT', 'value': 20607},\n",
       "  'east-intensity': {'units': 'nT', 'value': 2866},\n",
       "  'vertical-intensity': {'units': 'nT', 'value': 47177},\n",
       "  'horizontal-intensity': {'units': 'nT', 'value': 20805}},\n",
       " 'secular-variation': {'total-intensity': {'units': 'nT/y', 'value': -107.6},\n",
       "  'declination': {'units': 'arcmin/y (east)', 'value': -5.8},\n",
       "  'inclination': {'units': 'arcmin/y (down)', 'value': -2.5},\n",
       "  'north-intensity': {'units': 'nT/y', 'value': -4.6},\n",
       "  'east-intensity': {'units': 'nT/y', 'value': -36.4},\n",
       "  'vertical-intensity': {'units': 'nT/y', 'value': -113.3},\n",
       "  'horizontal-intensity': {'units': 'nT/y', 'value': -9.6}}}"
      ]
     },
     "execution_count": 3,
     "metadata": {},
     "output_type": "execute_result"
    }
   ],
   "source": [
    "result = calculator.calculate(latitude = 40.015, longitude = 254.73)\n",
    "result"
   ]
  },
  {
   "cell_type": "code",
   "execution_count": 4,
   "metadata": {},
   "outputs": [
    {
     "data": {
      "text/plain": [
       "{'units': 'deg (east)', 'value': 7.917}"
      ]
     },
     "execution_count": 4,
     "metadata": {},
     "output_type": "execute_result"
    }
   ],
   "source": [
    "result['field-value']['declination']"
   ]
  },
  {
   "attachments": {},
   "cell_type": "markdown",
   "metadata": {},
   "source": [
    "## Adding more details\n",
    "\n",
    "I was unsure of the units - luckly the results give us a hint. Try entering in meters (what I did) and see the massive difference in the results!"
   ]
  },
  {
   "cell_type": "code",
   "execution_count": 5,
   "metadata": {},
   "outputs": [],
   "source": [
    "result = calculator.calculate(latitude = 40.015, longitude = 254.73, altitude = 1.62)"
   ]
  },
  {
   "cell_type": "code",
   "execution_count": 6,
   "metadata": {},
   "outputs": [
    {
     "data": {
      "text/plain": [
       "{'units': 'deg (east)', 'value': 7.914}"
      ]
     },
     "execution_count": 6,
     "metadata": {},
     "output_type": "execute_result"
    }
   ],
   "source": [
    "result['field-value']['declination']"
   ]
  },
  {
   "attachments": {},
   "cell_type": "markdown",
   "metadata": {},
   "source": [
    "## Why do you care?\n",
    "\n",
    "- ATIS, AWOS/ASOS, PIREP are generally referenced to magnetic North\n",
    "- METARS, TAFs, Forecasts, models, winds aloft are generally reference to true North\n",
    "\n",
    "## How to apply the correction\n",
    "\n",
    "- \"East is least, but west is best\"\n",
    "- Subtract east variations, add west variations from true to get magnetic, opposite for magnetic to true"
   ]
  }
 ],
 "metadata": {
  "kernelspec": {
   "display_name": "base",
   "language": "python",
   "name": "python3"
  },
  "language_info": {
   "codemirror_mode": {
    "name": "ipython",
    "version": 3
   },
   "file_extension": ".py",
   "mimetype": "text/x-python",
   "name": "python",
   "nbconvert_exporter": "python",
   "pygments_lexer": "ipython3",
   "version": "3.9.16 | packaged by conda-forge | (main, Feb  1 2023, 21:39:03) \n[GCC 11.3.0]"
  },
  "orig_nbformat": 4,
  "vscode": {
   "interpreter": {
    "hash": "b5cfa023891fceef02537f80a4c6e95b77988fb973cdb16a51cdb785092210be"
   }
  }
 },
 "nbformat": 4,
 "nbformat_minor": 2
}
