{
 "cells": [
  {
   "cell_type": "markdown",
   "metadata": {},
   "source": [
    "## 13 - Temperature Units\n",
    "\n",
    "[Youtube](https://www.youtube.com/watch?v=iveJCqxe3Z4)"
   ]
  },
  {
   "cell_type": "code",
   "execution_count": 1,
   "metadata": {},
   "outputs": [],
   "source": [
    "from metpy.units import units"
   ]
  },
  {
   "cell_type": "code",
   "execution_count": 2,
   "metadata": {},
   "outputs": [],
   "source": [
    "a = 25 * units.km\n",
    "b = 5 * units('miles')"
   ]
  },
  {
   "cell_type": "code",
   "execution_count": 3,
   "metadata": {},
   "outputs": [
    {
     "data": {
      "text/html": [
       "16.95328 kilometer"
      ],
      "text/latex": [
       "$16.95328\\ \\mathrm{kilometer}$"
      ],
      "text/plain": [
       "16.95328 <Unit('kilometer')>"
      ]
     },
     "execution_count": 3,
     "metadata": {},
     "output_type": "execute_result"
    }
   ],
   "source": [
    "a - b"
   ]
  },
  {
   "cell_type": "code",
   "execution_count": 4,
   "metadata": {},
   "outputs": [],
   "source": [
    "c = 25 * units.degC\n",
    "d = 5 * units.degC"
   ]
  },
  {
   "cell_type": "code",
   "execution_count": 5,
   "metadata": {},
   "outputs": [
    {
     "data": {
      "text/html": [
       "82930.42249999999 kelvin<sup>2</sup>"
      ],
      "text/latex": [
       "$82930.42249999999\\ \\mathrm{kelvin}^{2}$"
      ],
      "text/plain": [
       "82930.42249999999 <Unit('kelvin ** 2')>"
      ]
     },
     "execution_count": 5,
     "metadata": {},
     "output_type": "execute_result"
    }
   ],
   "source": [
    "c * d"
   ]
  },
  {
   "cell_type": "code",
   "execution_count": 6,
   "metadata": {},
   "outputs": [
    {
     "data": {
      "text/html": [
       "1.0719036491101923 dimensionless"
      ],
      "text/latex": [
       "$1.0719036491101923\\ dimensionless$"
      ],
      "text/plain": [
       "1.0719036491101923 <Unit('dimensionless')>"
      ]
     },
     "execution_count": 6,
     "metadata": {},
     "output_type": "execute_result"
    }
   ],
   "source": [
    "c / d"
   ]
  },
  {
   "cell_type": "code",
   "execution_count": 7,
   "metadata": {},
   "outputs": [
    {
     "data": {
      "text/html": [
       "278.15 kelvin"
      ],
      "text/latex": [
       "$278.15\\ \\mathrm{kelvin}$"
      ],
      "text/plain": [
       "278.15 <Unit('kelvin')>"
      ]
     },
     "execution_count": 7,
     "metadata": {},
     "output_type": "execute_result"
    }
   ],
   "source": [
    "c * d / c"
   ]
  },
  {
   "cell_type": "code",
   "execution_count": 8,
   "metadata": {},
   "outputs": [
    {
     "ename": "OffsetUnitCalculusError",
     "evalue": "Ambiguous operation with offset unit (degree_Celsius, degree_Celsius). See https://pint.readthedocs.io/en/latest/nonmult.html for guidance.",
     "output_type": "error",
     "traceback": [
      "\u001b[0;31m---------------------------------------------------------------------------\u001b[0m",
      "\u001b[0;31mOffsetUnitCalculusError\u001b[0m                   Traceback (most recent call last)",
      "Cell \u001b[0;32mIn [8], line 1\u001b[0m\n\u001b[0;32m----> 1\u001b[0m c \u001b[39m+\u001b[39;49m d\n",
      "File \u001b[0;32m~/anaconda3/lib/python3.9/site-packages/pint/quantity.py:1154\u001b[0m, in \u001b[0;36mQuantity.__add__\u001b[0;34m(self, other)\u001b[0m\n\u001b[1;32m   1152\u001b[0m     \u001b[39mreturn\u001b[39;00m \u001b[39mself\u001b[39m\u001b[39m.\u001b[39mto_timedelta() \u001b[39m+\u001b[39m other\n\u001b[1;32m   1153\u001b[0m \u001b[39melse\u001b[39;00m:\n\u001b[0;32m-> 1154\u001b[0m     \u001b[39mreturn\u001b[39;00m \u001b[39mself\u001b[39;49m\u001b[39m.\u001b[39;49m_add_sub(other, operator\u001b[39m.\u001b[39;49madd)\n",
      "File \u001b[0;32m~/anaconda3/lib/python3.9/site-packages/pint/quantity.py:139\u001b[0m, in \u001b[0;36mcheck_implemented.<locals>.wrapped\u001b[0;34m(self, *args, **kwargs)\u001b[0m\n\u001b[1;32m    137\u001b[0m \u001b[39melif\u001b[39;00m \u001b[39misinstance\u001b[39m(other, \u001b[39mlist\u001b[39m) \u001b[39mand\u001b[39;00m other \u001b[39mand\u001b[39;00m \u001b[39misinstance\u001b[39m(other[\u001b[39m0\u001b[39m], \u001b[39mtype\u001b[39m(\u001b[39mself\u001b[39m)):\n\u001b[1;32m    138\u001b[0m     \u001b[39mreturn\u001b[39;00m \u001b[39mNotImplemented\u001b[39m\n\u001b[0;32m--> 139\u001b[0m \u001b[39mreturn\u001b[39;00m f(\u001b[39mself\u001b[39;49m, \u001b[39m*\u001b[39;49margs, \u001b[39m*\u001b[39;49m\u001b[39m*\u001b[39;49mkwargs)\n",
      "File \u001b[0;32m~/anaconda3/lib/python3.9/site-packages/pint/quantity.py:1130\u001b[0m, in \u001b[0;36mQuantity._add_sub\u001b[0;34m(self, other, op)\u001b[0m\n\u001b[1;32m   1128\u001b[0m     units \u001b[39m=\u001b[39m other\u001b[39m.\u001b[39m_units\n\u001b[1;32m   1129\u001b[0m \u001b[39melse\u001b[39;00m:\n\u001b[0;32m-> 1130\u001b[0m     \u001b[39mraise\u001b[39;00m OffsetUnitCalculusError(\u001b[39mself\u001b[39m\u001b[39m.\u001b[39m_units, other\u001b[39m.\u001b[39m_units)\n\u001b[1;32m   1132\u001b[0m \u001b[39mreturn\u001b[39;00m \u001b[39mself\u001b[39m\u001b[39m.\u001b[39m\u001b[39m__class__\u001b[39m(magnitude, units)\n",
      "\u001b[0;31mOffsetUnitCalculusError\u001b[0m: Ambiguous operation with offset unit (degree_Celsius, degree_Celsius). See https://pint.readthedocs.io/en/latest/nonmult.html for guidance."
     ]
    }
   ],
   "source": [
    "c + d"
   ]
  },
  {
   "cell_type": "code",
   "execution_count": 9,
   "metadata": {},
   "outputs": [
    {
     "data": {
      "text/html": [
       "20 delta_degree_Celsius"
      ],
      "text/latex": [
       "$20\\ \\mathrm{delta\\_degree\\_Celsius}$"
      ],
      "text/plain": [
       "20 <Unit('delta_degree_Celsius')>"
      ]
     },
     "execution_count": 9,
     "metadata": {},
     "output_type": "execute_result"
    }
   ],
   "source": [
    "c - d"
   ]
  },
  {
   "cell_type": "code",
   "execution_count": 10,
   "metadata": {},
   "outputs": [
    {
     "data": {
      "text/html": [
       "20.0 kelvin"
      ],
      "text/latex": [
       "$20.0\\ \\mathrm{kelvin}$"
      ],
      "text/plain": [
       "20.0 <Unit('kelvin')>"
      ]
     },
     "execution_count": 10,
     "metadata": {},
     "output_type": "execute_result"
    }
   ],
   "source": [
    "c.to('kelvin') - d.to('kelvin')"
   ]
  },
  {
   "cell_type": "code",
   "execution_count": 11,
   "metadata": {},
   "outputs": [
    {
     "data": {
      "text/html": [
       "5 degree_Celsius"
      ],
      "text/latex": [
       "$5\\ \\mathrm{degree\\_Celsius}$"
      ],
      "text/plain": [
       "5 <Unit('degree_Celsius')>"
      ]
     },
     "execution_count": 11,
     "metadata": {},
     "output_type": "execute_result"
    }
   ],
   "source": [
    "c - 20 * units.delta_degC"
   ]
  },
  {
   "cell_type": "code",
   "execution_count": 12,
   "metadata": {},
   "outputs": [
    {
     "data": {
      "text/html": [
       "36.111111111111114 degree_Celsius"
      ],
      "text/latex": [
       "$36.111111111111114\\ \\mathrm{degree\\_Celsius}$"
      ],
      "text/plain": [
       "36.111111111111114 <Unit('degree_Celsius')>"
      ]
     },
     "execution_count": 12,
     "metadata": {},
     "output_type": "execute_result"
    }
   ],
   "source": [
    "c + 20 * units.delta_degF"
   ]
  },
  {
   "cell_type": "code",
   "execution_count": null,
   "metadata": {},
   "outputs": [],
   "source": []
  }
 ],
 "metadata": {
  "kernelspec": {
   "display_name": "Python 3.9.12 ('base')",
   "language": "python",
   "name": "python3"
  },
  "language_info": {
   "codemirror_mode": {
    "name": "ipython",
    "version": 3
   },
   "file_extension": ".py",
   "mimetype": "text/x-python",
   "name": "python",
   "nbconvert_exporter": "python",
   "pygments_lexer": "ipython3",
   "version": "3.9.12"
  },
  "orig_nbformat": 4,
  "vscode": {
   "interpreter": {
    "hash": "b5cfa023891fceef02537f80a4c6e95b77988fb973cdb16a51cdb785092210be"
   }
  }
 },
 "nbformat": 4,
 "nbformat_minor": 2
}
