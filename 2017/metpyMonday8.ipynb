{
 "cells": [
  {
   "cell_type": "markdown",
   "metadata": {},
   "source": [
    "## 8 - Interactive Dewpoint Calculator\n",
    "\n",
    "[Youtube](https://www.youtube.com/watch?v=EyGg0mg13NE)"
   ]
  },
  {
   "cell_type": "code",
   "execution_count": 1,
   "metadata": {},
   "outputs": [],
   "source": [
    "import metpy.calc as mpcalc\n",
    "from metpy.units import units\n",
    "\n",
    "from ipywidgets import interact, FloatSlider, IntSlider"
   ]
  },
  {
   "cell_type": "code",
   "execution_count": 2,
   "metadata": {},
   "outputs": [],
   "source": [
    "def calculate_dewpoint(temperature, rh):\n",
    " temperature = temperature * units.degF\n",
    " rh = rh * units.percent\n",
    " return round(mpcalc.dewpoint_from_relative_humidity(temperature, rh).to('degF'), 1)"
   ]
  },
  {
   "cell_type": "code",
   "execution_count": 3,
   "metadata": {},
   "outputs": [],
   "source": [
    "temperature_slider = FloatSlider(min = 12, max = 90, step = 0.5, value = 65)\n",
    "rh_slider = IntSlider(min = 1, max = 100, value = 50)"
   ]
  },
  {
   "cell_type": "code",
   "execution_count": 4,
   "metadata": {},
   "outputs": [
    {
     "data": {
      "application/vnd.jupyter.widget-view+json": {
       "model_id": "0f66fb49419344c19ccdfaf7a077ce99",
       "version_major": 2,
       "version_minor": 0
      },
      "text/plain": [
       "interactive(children=(FloatSlider(value=65.0, description='temperature', max=90.0, min=12.0, step=0.5), IntSli…"
      ]
     },
     "metadata": {},
     "output_type": "display_data"
    }
   ],
   "source": [
    "interact(calculate_dewpoint, temperature = temperature_slider, rh = rh_slider);"
   ]
  }
 ],
 "metadata": {
  "kernelspec": {
   "display_name": "Python 3.9.12 ('base')",
   "language": "python",
   "name": "python3"
  },
  "language_info": {
   "codemirror_mode": {
    "name": "ipython",
    "version": 3
   },
   "file_extension": ".py",
   "mimetype": "text/x-python",
   "name": "python",
   "nbconvert_exporter": "python",
   "pygments_lexer": "ipython3",
   "version": "3.9.12"
  },
  "orig_nbformat": 4,
  "vscode": {
   "interpreter": {
    "hash": "b5cfa023891fceef02537f80a4c6e95b77988fb973cdb16a51cdb785092210be"
   }
  }
 },
 "nbformat": 4,
 "nbformat_minor": 2
}
