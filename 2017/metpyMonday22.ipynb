{
 "cells": [
  {
   "cell_type": "markdown",
   "metadata": {},
   "source": [
    "## 22 - CAPE/CIN\n",
    "\n",
    "[Youtube](https://www.youtube.com/watch?v=EJfsaPjQ1RU)"
   ]
  },
  {
   "cell_type": "code",
   "execution_count": 1,
   "metadata": {},
   "outputs": [],
   "source": [
    "from datetime import datetime\n",
    "from siphon.simplewebservice.wyoming import WyomingUpperAir"
   ]
  },
  {
   "cell_type": "code",
   "execution_count": 2,
   "metadata": {},
   "outputs": [],
   "source": [
    "df = WyomingUpperAir.request_data(datetime(2012, 4, 14, 12), 'OUN')"
   ]
  },
  {
   "cell_type": "code",
   "execution_count": 3,
   "metadata": {},
   "outputs": [],
   "source": [
    "from metpy.units import units"
   ]
  },
  {
   "cell_type": "code",
   "execution_count": 4,
   "metadata": {},
   "outputs": [],
   "source": [
    "p = df['pressure'].values * units(df.units['pressure'])\n",
    "T = df['temperature'].values * units(df.units['temperature'])\n",
    "Td = df['dewpoint'].values * units(df.units['dewpoint'])\n",
    "height = df['height'].values * units(df.units['height'])"
   ]
  },
  {
   "cell_type": "code",
   "execution_count": 5,
   "metadata": {},
   "outputs": [],
   "source": [
    "import metpy.calc as mpcalc"
   ]
  },
  {
   "cell_type": "code",
   "execution_count": 6,
   "metadata": {},
   "outputs": [
    {
     "name": "stderr",
     "output_type": "stream",
     "text": [
      "/home/jessica/anaconda3/lib/python3.9/site-packages/metpy/calc/thermo.py:951: UserWarning: Duplicate pressure(s) [17.1 27.1] hPa provided. Output profile includes duplicate temperatures as a result.\n",
      "  warnings.warn(f'Duplicate pressure(s) {unique[counts > 1]:~P} provided. '\n"
     ]
    },
    {
     "data": {
      "text/plain": [
       "(1153.8233563028211 <Unit('joule / kilogram')>,\n",
       " -8.634797900853476 <Unit('joule / kilogram')>)"
      ]
     },
     "execution_count": 6,
     "metadata": {},
     "output_type": "execute_result"
    }
   ],
   "source": [
    "mpcalc.surface_based_cape_cin(p, T, Td)"
   ]
  },
  {
   "cell_type": "code",
   "execution_count": 7,
   "metadata": {},
   "outputs": [
    {
     "data": {
      "text/plain": [
       "(1400.0083498346698 <Unit('joule / kilogram')>,\n",
       " -0.13211545911977995 <Unit('joule / kilogram')>)"
      ]
     },
     "execution_count": 7,
     "metadata": {},
     "output_type": "execute_result"
    }
   ],
   "source": [
    "mpcalc.most_unstable_cape_cin(p, T, Td)"
   ]
  },
  {
   "cell_type": "code",
   "execution_count": 8,
   "metadata": {},
   "outputs": [],
   "source": [
    "from metpy.units import units"
   ]
  },
  {
   "cell_type": "code",
   "execution_count": 9,
   "metadata": {},
   "outputs": [
    {
     "data": {
      "text/html": [
       "<table><tbody><tr><th>Magnitude</th><td style='text-align:left;'><pre>[969.0 964.0 939.6 925.0 906.8 904.0 874.9 850.0 844.0 819.0 814.0 784.8<br> 757.0 756.8 729.1 722.0 700.0 690.0 677.2865329512894]</pre></td></tr><tr><th>Units</th><td style='text-align:left;'>hectopascal</td></tr></tbody></table>"
      ],
      "text/latex": [
       "$\\begin{pmatrix}969.0 & 964.0 & 939.6 & 925.0 & 906.8 & 904.0 & 874.9 & 850.0 & 844.0 & 819.0 & 814.0 & 784.8 & 757.0 & 756.8 & 729.1 & 722.0 & 700.0 & 690.0 & 677.2865329512894\\end{pmatrix}\\ \\mathrm{hectopascal}$"
      ],
      "text/plain": [
       "array([969.        , 964.        , 939.6       , 925.        ,\n",
       "       906.8       , 904.        , 874.9       , 850.        ,\n",
       "       844.        , 819.        , 814.        , 784.8       ,\n",
       "       757.        , 756.8       , 729.1       , 722.        ,\n",
       "       700.        , 690.        , 677.28653295]) <Unit('hectopascal')>"
      ]
     },
     "execution_count": 9,
     "metadata": {},
     "output_type": "execute_result"
    }
   ],
   "source": [
    "p, T, Td = mpcalc.get_layer(p, T, Td, height = height, depth = 3 * units.km)\n",
    "p"
   ]
  },
  {
   "cell_type": "code",
   "execution_count": 10,
   "metadata": {},
   "outputs": [
    {
     "data": {
      "text/plain": [
       "(103.83529293984873 <Unit('joule / kilogram')>,\n",
       " -8.634797900853476 <Unit('joule / kilogram')>)"
      ]
     },
     "execution_count": 10,
     "metadata": {},
     "output_type": "execute_result"
    }
   ],
   "source": [
    "mpcalc.surface_based_cape_cin(p, T, Td)"
   ]
  }
 ],
 "metadata": {
  "kernelspec": {
   "display_name": "Python 3.9.12 ('base')",
   "language": "python",
   "name": "python3"
  },
  "language_info": {
   "codemirror_mode": {
    "name": "ipython",
    "version": 3
   },
   "file_extension": ".py",
   "mimetype": "text/x-python",
   "name": "python",
   "nbconvert_exporter": "python",
   "pygments_lexer": "ipython3",
   "version": "3.9.12"
  },
  "orig_nbformat": 4,
  "vscode": {
   "interpreter": {
    "hash": "b5cfa023891fceef02537f80a4c6e95b77988fb973cdb16a51cdb785092210be"
   }
  }
 },
 "nbformat": 4,
 "nbformat_minor": 2
}
