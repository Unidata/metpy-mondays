{
 "cells": [
  {
   "cell_type": "markdown",
   "metadata": {},
   "source": [
    "## 20 - Constants \n",
    "\n",
    "[Youtube](https://www.youtube.com/watch?v=CgTSQQAk-Ic)\n",
    "\n",
    "[Constants Page](https://unidata.github.io/MetPy/latest/api/generated/metpy.constants.html)"
   ]
  },
  {
   "cell_type": "code",
   "execution_count": 1,
   "metadata": {},
   "outputs": [
    {
     "data": {
      "text/html": [
       "9.80665 meter/second<sup>2</sup>"
      ],
      "text/latex": [
       "$9.80665\\ \\frac{\\mathrm{meter}}{\\mathrm{second}^{2}}$"
      ],
      "text/plain": [
       "9.80665 <Unit('meter / second ** 2')>"
      ]
     },
     "execution_count": 1,
     "metadata": {},
     "output_type": "execute_result"
    }
   ],
   "source": [
    "from metpy.constants import g\n",
    "g"
   ]
  },
  {
   "cell_type": "code",
   "execution_count": 2,
   "metadata": {},
   "outputs": [
    {
     "data": {
      "text/html": [
       "1360.8 watt/meter<sup>2</sup>"
      ],
      "text/latex": [
       "$1360.8\\ \\frac{\\mathrm{watt}}{\\mathrm{meter}^{2}}$"
      ],
      "text/plain": [
       "1360.8 <Unit('watt / meter ** 2')>"
      ]
     },
     "execution_count": 2,
     "metadata": {},
     "output_type": "execute_result"
    }
   ],
   "source": [
    "import metpy.constants as mpconst\n",
    "mpconst.earth_solar_irradiance"
   ]
  },
  {
   "cell_type": "code",
   "execution_count": 3,
   "metadata": {},
   "outputs": [
    {
     "data": {
      "text/html": [
       "9.761102563417644 delta_degree_Celsius/kilometer"
      ],
      "text/latex": [
       "$9.761102563417644\\ \\frac{\\mathrm{delta\\_degree\\_Celsius}}{\\mathrm{kilometer}}$"
      ],
      "text/plain": [
       "9.761102563417644 <Unit('delta_degree_Celsius / kilometer')>"
      ]
     },
     "execution_count": 3,
     "metadata": {},
     "output_type": "execute_result"
    }
   ],
   "source": [
    "(mpconst.g / mpconst.dry_air_spec_heat_press).to('degC/kilometer')"
   ]
  },
  {
   "cell_type": "code",
   "execution_count": 4,
   "metadata": {},
   "outputs": [
    {
     "data": {
      "text/html": [
       "0.009761102563417645 kelvin kilogram meter/(joule second<sup>2</sup>)"
      ],
      "text/latex": [
       "$0.009761102563417645\\ \\frac{\\mathrm{kelvin} \\cdot \\mathrm{kilogram} \\cdot \\mathrm{meter}}{\\left(\\mathrm{joule} \\cdot \\mathrm{second}^{2}\\right)}$"
      ],
      "text/plain": [
       "0.009761102563417645 <Unit('kelvin * kilogram * meter / joule / second ** 2')>"
      ]
     },
     "execution_count": 4,
     "metadata": {},
     "output_type": "execute_result"
    }
   ],
   "source": [
    "mpconst.gamma_d"
   ]
  },
  {
   "cell_type": "code",
   "execution_count": null,
   "metadata": {},
   "outputs": [],
   "source": []
  }
 ],
 "metadata": {
  "kernelspec": {
   "display_name": "Python 3.9.12 ('base')",
   "language": "python",
   "name": "python3"
  },
  "language_info": {
   "codemirror_mode": {
    "name": "ipython",
    "version": 3
   },
   "file_extension": ".py",
   "mimetype": "text/x-python",
   "name": "python",
   "nbconvert_exporter": "python",
   "pygments_lexer": "ipython3",
   "version": "3.9.12"
  },
  "orig_nbformat": 4,
  "vscode": {
   "interpreter": {
    "hash": "b5cfa023891fceef02537f80a4c6e95b77988fb973cdb16a51cdb785092210be"
   }
  }
 },
 "nbformat": 4,
 "nbformat_minor": 2
}
