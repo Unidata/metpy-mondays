{
 "cells": [
  {
   "attachments": {},
   "cell_type": "markdown",
   "metadata": {},
   "source": [
    "## 324 - Build a Custom Local Data Cache with Python\n",
    "\n",
    "[Youtube](https://www.youtube.com/watch?v=Pl47QBjPlu4)"
   ]
  },
  {
   "cell_type": "code",
   "execution_count": 1,
   "metadata": {},
   "outputs": [],
   "source": [
    "from datetime import datetime\n",
    "from pathlib import Path\n",
    "import pandas as pd\n",
    "from siphon.simplewebservice.wyoming import WyomingUpperAir"
   ]
  },
  {
   "cell_type": "code",
   "execution_count": 2,
   "metadata": {},
   "outputs": [],
   "source": [
    "def get_filename(date: datetime, station: str) -> str:\n",
    "    \"\"\"\n",
    "    Create a filename in the format YYYYMMDDHH_STN.txt\n",
    "    \"\"\"\n",
    "    return f\"{date.strftime('%Y%m%d%H')}_{station}.txt\""
   ]
  },
  {
   "cell_type": "code",
   "execution_count": 3,
   "metadata": {},
   "outputs": [],
   "source": [
    "def save_to_cache(df: pd.DataFrame, file_path: Path):\n",
    "    \"\"\"\n",
    "    Saves the pandas DataFrame to a text file CSV.\n",
    "    \"\"\"\n",
    "    df.to_csv(file_path, index = False)\n",
    "    print(f'Data saved to cache: {file_path}')"
   ]
  },
  {
   "cell_type": "code",
   "execution_count": 4,
   "metadata": {},
   "outputs": [],
   "source": [
    "def load_from_cache(file_path: Path) -> pd.DataFrame:\n",
    "    \"\"\"\n",
    "    Load a pandas DataFrame from the saved cache CSV file.\n",
    "    \"\"\"\n",
    "    print(f'Loading from cache: {file_path}')\n",
    "    return pd.read_csv(file_path)"
   ]
  },
  {
   "cell_type": "code",
   "execution_count": 5,
   "metadata": {},
   "outputs": [],
   "source": [
    "def get_sounding_data(date: datetime, station: str, cache_dir: Path) -> pd.DataFrame:\n",
    "    \"\"\"\n",
    "    Get sounding data from cache or remote source. If remote, store it locally.\n",
    "    \"\"\"\n",
    "    # Make sure cache exists or create it\n",
    "    if not cache_dir.exists():\n",
    "        cache_dir.mkdir(parents=True, exist_ok=True)\n",
    "        print(f'Created cache directory: {cache_dir}')\n",
    "\n",
    "    filename = get_filename(date, station)\n",
    "    file_path = cache_dir / filename\n",
    "\n",
    "    if file_path.exists():\n",
    "        print('Loading Existing')\n",
    "        df = load_from_cache(file_path)\n",
    "    else:\n",
    "        print('Downloading new data')\n",
    "        df = WyomingUpperAir.request_data(date, station)\n",
    "        save_to_cache(df, file_path)\n",
    "    return df"
   ]
  },
  {
   "cell_type": "code",
   "execution_count": 6,
   "metadata": {},
   "outputs": [],
   "source": [
    "cache_directory = Path('sounding_data')"
   ]
  },
  {
   "cell_type": "code",
   "execution_count": 7,
   "metadata": {},
   "outputs": [
    {
     "name": "stdout",
     "output_type": "stream",
     "text": [
      "Loading Existing\n",
      "Loading from cache: sounding_data/2014110112_OUN.txt\n"
     ]
    }
   ],
   "source": [
    "df_sounding = get_sounding_data(datetime(2014, 11, 1, 12), 'OUN', cache_directory)"
   ]
  },
  {
   "cell_type": "code",
   "execution_count": 8,
   "metadata": {},
   "outputs": [
    {
     "data": {
      "text/html": [
       "<div>\n",
       "<style scoped>\n",
       "    .dataframe tbody tr th:only-of-type {\n",
       "        vertical-align: middle;\n",
       "    }\n",
       "\n",
       "    .dataframe tbody tr th {\n",
       "        vertical-align: top;\n",
       "    }\n",
       "\n",
       "    .dataframe thead th {\n",
       "        text-align: right;\n",
       "    }\n",
       "</style>\n",
       "<table border=\"1\" class=\"dataframe\">\n",
       "  <thead>\n",
       "    <tr style=\"text-align: right;\">\n",
       "      <th></th>\n",
       "      <th>pressure</th>\n",
       "      <th>height</th>\n",
       "      <th>temperature</th>\n",
       "      <th>dewpoint</th>\n",
       "      <th>direction</th>\n",
       "      <th>speed</th>\n",
       "      <th>u_wind</th>\n",
       "      <th>v_wind</th>\n",
       "      <th>station</th>\n",
       "      <th>station_number</th>\n",
       "      <th>time</th>\n",
       "      <th>latitude</th>\n",
       "      <th>longitude</th>\n",
       "      <th>elevation</th>\n",
       "      <th>pw</th>\n",
       "    </tr>\n",
       "  </thead>\n",
       "  <tbody>\n",
       "    <tr>\n",
       "      <th>0</th>\n",
       "      <td>988.0</td>\n",
       "      <td>345</td>\n",
       "      <td>1.4</td>\n",
       "      <td>-4.6</td>\n",
       "      <td>90.0</td>\n",
       "      <td>5.0</td>\n",
       "      <td>-5.000000</td>\n",
       "      <td>-3.061617e-16</td>\n",
       "      <td>OUN</td>\n",
       "      <td>72357</td>\n",
       "      <td>2014-11-01 12:00:00</td>\n",
       "      <td>35.18</td>\n",
       "      <td>-97.44</td>\n",
       "      <td>345.0</td>\n",
       "      <td>7.29</td>\n",
       "    </tr>\n",
       "    <tr>\n",
       "      <th>1</th>\n",
       "      <td>974.0</td>\n",
       "      <td>461</td>\n",
       "      <td>1.6</td>\n",
       "      <td>-8.4</td>\n",
       "      <td>92.0</td>\n",
       "      <td>13.0</td>\n",
       "      <td>-12.992081</td>\n",
       "      <td>4.536935e-01</td>\n",
       "      <td>OUN</td>\n",
       "      <td>72357</td>\n",
       "      <td>2014-11-01 12:00:00</td>\n",
       "      <td>35.18</td>\n",
       "      <td>-97.44</td>\n",
       "      <td>345.0</td>\n",
       "      <td>7.29</td>\n",
       "    </tr>\n",
       "    <tr>\n",
       "      <th>2</th>\n",
       "      <td>964.0</td>\n",
       "      <td>544</td>\n",
       "      <td>2.6</td>\n",
       "      <td>-11.4</td>\n",
       "      <td>94.0</td>\n",
       "      <td>19.0</td>\n",
       "      <td>-18.953717</td>\n",
       "      <td>1.325373e+00</td>\n",
       "      <td>OUN</td>\n",
       "      <td>72357</td>\n",
       "      <td>2014-11-01 12:00:00</td>\n",
       "      <td>35.18</td>\n",
       "      <td>-97.44</td>\n",
       "      <td>345.0</td>\n",
       "      <td>7.29</td>\n",
       "    </tr>\n",
       "    <tr>\n",
       "      <th>3</th>\n",
       "      <td>956.2</td>\n",
       "      <td>610</td>\n",
       "      <td>2.4</td>\n",
       "      <td>-12.0</td>\n",
       "      <td>95.0</td>\n",
       "      <td>24.0</td>\n",
       "      <td>-23.908673</td>\n",
       "      <td>2.091738e+00</td>\n",
       "      <td>OUN</td>\n",
       "      <td>72357</td>\n",
       "      <td>2014-11-01 12:00:00</td>\n",
       "      <td>35.18</td>\n",
       "      <td>-97.44</td>\n",
       "      <td>345.0</td>\n",
       "      <td>7.29</td>\n",
       "    </tr>\n",
       "    <tr>\n",
       "      <th>4</th>\n",
       "      <td>945.0</td>\n",
       "      <td>706</td>\n",
       "      <td>2.2</td>\n",
       "      <td>-12.8</td>\n",
       "      <td>106.0</td>\n",
       "      <td>20.0</td>\n",
       "      <td>-19.225234</td>\n",
       "      <td>5.512747e+00</td>\n",
       "      <td>OUN</td>\n",
       "      <td>72357</td>\n",
       "      <td>2014-11-01 12:00:00</td>\n",
       "      <td>35.18</td>\n",
       "      <td>-97.44</td>\n",
       "      <td>345.0</td>\n",
       "      <td>7.29</td>\n",
       "    </tr>\n",
       "  </tbody>\n",
       "</table>\n",
       "</div>"
      ],
      "text/plain": [
       "   pressure  height  temperature  dewpoint  direction  speed     u_wind  \\\n",
       "0     988.0     345          1.4      -4.6       90.0    5.0  -5.000000   \n",
       "1     974.0     461          1.6      -8.4       92.0   13.0 -12.992081   \n",
       "2     964.0     544          2.6     -11.4       94.0   19.0 -18.953717   \n",
       "3     956.2     610          2.4     -12.0       95.0   24.0 -23.908673   \n",
       "4     945.0     706          2.2     -12.8      106.0   20.0 -19.225234   \n",
       "\n",
       "         v_wind station  station_number                 time  latitude  \\\n",
       "0 -3.061617e-16     OUN           72357  2014-11-01 12:00:00     35.18   \n",
       "1  4.536935e-01     OUN           72357  2014-11-01 12:00:00     35.18   \n",
       "2  1.325373e+00     OUN           72357  2014-11-01 12:00:00     35.18   \n",
       "3  2.091738e+00     OUN           72357  2014-11-01 12:00:00     35.18   \n",
       "4  5.512747e+00     OUN           72357  2014-11-01 12:00:00     35.18   \n",
       "\n",
       "   longitude  elevation    pw  \n",
       "0     -97.44      345.0  7.29  \n",
       "1     -97.44      345.0  7.29  \n",
       "2     -97.44      345.0  7.29  \n",
       "3     -97.44      345.0  7.29  \n",
       "4     -97.44      345.0  7.29  "
      ]
     },
     "execution_count": 8,
     "metadata": {},
     "output_type": "execute_result"
    }
   ],
   "source": [
    "df_sounding.head()"
   ]
  },
  {
   "cell_type": "code",
   "execution_count": null,
   "metadata": {},
   "outputs": [],
   "source": []
  }
 ],
 "metadata": {
  "kernelspec": {
   "display_name": "base",
   "language": "python",
   "name": "python3"
  },
  "language_info": {
   "codemirror_mode": {
    "name": "ipython",
    "version": 3
   },
   "file_extension": ".py",
   "mimetype": "text/x-python",
   "name": "python",
   "nbconvert_exporter": "python",
   "pygments_lexer": "ipython3",
   "version": "3.9.16"
  },
  "orig_nbformat": 4,
  "vscode": {
   "interpreter": {
    "hash": "b5cfa023891fceef02537f80a4c6e95b77988fb973cdb16a51cdb785092210be"
   }
  }
 },
 "nbformat": 4,
 "nbformat_minor": 2
}
