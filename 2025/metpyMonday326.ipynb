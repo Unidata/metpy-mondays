{
 "cells": [
  {
   "attachments": {},
   "cell_type": "markdown",
   "metadata": {},
   "source": [
    "## 326 - Use KDTree and MetPy to Find the Nearest METAR\n",
    "\n",
    "[Youtube](https://www.youtube.com/watch?v=nMTFb-8e1Nk)"
   ]
  },
  {
   "cell_type": "code",
   "execution_count": 1,
   "metadata": {},
   "outputs": [],
   "source": [
    "import pandas as pd\n",
    "import geopandas as gpd\n",
    "from scipy.spatial import KDTree\n",
    "from shapely.geometry import Point\n",
    "from metpy.io import station_info"
   ]
  },
  {
   "cell_type": "code",
   "execution_count": 2,
   "metadata": {},
   "outputs": [],
   "source": [
    "station_rows = []\n",
    "\n",
    "for sid, info in station_info.items():\n",
    "    try:\n",
    "        lat = getattr(info, 'latitude', None)\n",
    "        lon = getattr(info, 'longitude', None)\n",
    "        if lat is not None and lon is not None:\n",
    "            station_rows.append({'station_id': sid, 'lat': lat, 'lon': lon })\n",
    "    except Exception as e:\n",
    "        continue\n",
    "\n",
    "df = pd.DataFrame(station_rows)"
   ]
  },
  {
   "cell_type": "code",
   "execution_count": 3,
   "metadata": {},
   "outputs": [
    {
     "data": {
      "text/html": [
       "<div>\n",
       "<style scoped>\n",
       "    .dataframe tbody tr th:only-of-type {\n",
       "        vertical-align: middle;\n",
       "    }\n",
       "\n",
       "    .dataframe tbody tr th {\n",
       "        vertical-align: top;\n",
       "    }\n",
       "\n",
       "    .dataframe thead th {\n",
       "        text-align: right;\n",
       "    }\n",
       "</style>\n",
       "<table border=\"1\" class=\"dataframe\">\n",
       "  <thead>\n",
       "    <tr style=\"text-align: right;\">\n",
       "      <th></th>\n",
       "      <th>station_id</th>\n",
       "      <th>lat</th>\n",
       "      <th>lon</th>\n",
       "    </tr>\n",
       "  </thead>\n",
       "  <tbody>\n",
       "    <tr>\n",
       "      <th>0</th>\n",
       "      <td>PADK</td>\n",
       "      <td>51.88</td>\n",
       "      <td>-176.65</td>\n",
       "    </tr>\n",
       "    <tr>\n",
       "      <th>1</th>\n",
       "      <td>PAKH</td>\n",
       "      <td>56.93</td>\n",
       "      <td>-154.18</td>\n",
       "    </tr>\n",
       "    <tr>\n",
       "      <th>2</th>\n",
       "      <td>PAUT</td>\n",
       "      <td>54.15</td>\n",
       "      <td>-165.60</td>\n",
       "    </tr>\n",
       "    <tr>\n",
       "      <th>3</th>\n",
       "      <td>PAFM</td>\n",
       "      <td>67.09</td>\n",
       "      <td>-157.85</td>\n",
       "    </tr>\n",
       "    <tr>\n",
       "      <th>4</th>\n",
       "      <td>PAKP</td>\n",
       "      <td>68.13</td>\n",
       "      <td>-151.72</td>\n",
       "    </tr>\n",
       "    <tr>\n",
       "      <th>...</th>\n",
       "      <td>...</td>\n",
       "      <td>...</td>\n",
       "      <td>...</td>\n",
       "    </tr>\n",
       "    <tr>\n",
       "      <th>13786</th>\n",
       "      <td>KQLP</td>\n",
       "      <td>-0.67</td>\n",
       "      <td>36.86</td>\n",
       "    </tr>\n",
       "    <tr>\n",
       "      <th>13787</th>\n",
       "      <td>KQKV</td>\n",
       "      <td>13.33</td>\n",
       "      <td>2.60</td>\n",
       "    </tr>\n",
       "    <tr>\n",
       "      <th>13788</th>\n",
       "      <td>KQB7</td>\n",
       "      <td>2.57</td>\n",
       "      <td>-72.62</td>\n",
       "    </tr>\n",
       "    <tr>\n",
       "      <th>13789</th>\n",
       "      <td>KQB9</td>\n",
       "      <td>0.75</td>\n",
       "      <td>-75.22</td>\n",
       "    </tr>\n",
       "    <tr>\n",
       "      <th>13790</th>\n",
       "      <td>KQYV</td>\n",
       "      <td>5.52</td>\n",
       "      <td>-68.67</td>\n",
       "    </tr>\n",
       "  </tbody>\n",
       "</table>\n",
       "<p>13791 rows × 3 columns</p>\n",
       "</div>"
      ],
      "text/plain": [
       "      station_id    lat     lon\n",
       "0           PADK  51.88 -176.65\n",
       "1           PAKH  56.93 -154.18\n",
       "2           PAUT  54.15 -165.60\n",
       "3           PAFM  67.09 -157.85\n",
       "4           PAKP  68.13 -151.72\n",
       "...          ...    ...     ...\n",
       "13786       KQLP  -0.67   36.86\n",
       "13787       KQKV  13.33    2.60\n",
       "13788       KQB7   2.57  -72.62\n",
       "13789       KQB9   0.75  -75.22\n",
       "13790       KQYV   5.52  -68.67\n",
       "\n",
       "[13791 rows x 3 columns]"
      ]
     },
     "execution_count": 3,
     "metadata": {},
     "output_type": "execute_result"
    }
   ],
   "source": [
    "df"
   ]
  },
  {
   "cell_type": "code",
   "execution_count": 4,
   "metadata": {},
   "outputs": [],
   "source": [
    "coords = df[['lat', 'lon']].values\n",
    "tree = KDTree(coords)"
   ]
  },
  {
   "cell_type": "code",
   "execution_count": 5,
   "metadata": {},
   "outputs": [],
   "source": [
    "target_latlon = (36.197473, -95.846057)"
   ]
  },
  {
   "cell_type": "code",
   "execution_count": 6,
   "metadata": {},
   "outputs": [],
   "source": [
    "distance_deg, idx = tree.query(target_latlon)"
   ]
  },
  {
   "cell_type": "code",
   "execution_count": 7,
   "metadata": {},
   "outputs": [],
   "source": [
    "nearest_station = df.iloc[idx]"
   ]
  },
  {
   "cell_type": "code",
   "execution_count": 8,
   "metadata": {},
   "outputs": [
    {
     "data": {
      "text/plain": [
       "station_id     KTUL\n",
       "lat            36.2\n",
       "lon          -95.88\n",
       "Name: 2502, dtype: object"
      ]
     },
     "execution_count": 8,
     "metadata": {},
     "output_type": "execute_result"
    }
   ],
   "source": [
    "nearest_station"
   ]
  },
  {
   "cell_type": "code",
   "execution_count": 9,
   "metadata": {},
   "outputs": [],
   "source": [
    "station_coord = (nearest_station['lat'], nearest_station['lon'])"
   ]
  },
  {
   "cell_type": "code",
   "execution_count": 10,
   "metadata": {},
   "outputs": [],
   "source": [
    "target_geom = gpd.GeoSeries([Point(target_latlon[1], target_latlon[0])], crs='EPSG:4326')\n",
    "station_geom = gpd.GeoSeries([Point(station_coord[1], station_coord[0])], crs='EPSG:4326')"
   ]
  },
  {
   "cell_type": "code",
   "execution_count": 11,
   "metadata": {},
   "outputs": [],
   "source": [
    "target_proj = target_geom.to_crs(epsg=3857)\n",
    "station_proj = station_geom.to_crs(epsg=3857)"
   ]
  },
  {
   "cell_type": "code",
   "execution_count": 12,
   "metadata": {},
   "outputs": [],
   "source": [
    "distance_km = target_proj.distance(station_proj).values[0] / 1000"
   ]
  },
  {
   "cell_type": "code",
   "execution_count": 13,
   "metadata": {},
   "outputs": [
    {
     "name": "stdout",
     "output_type": "stream",
     "text": [
      "Target location: (36.197473, -95.846057)\n",
      "Nearest station: KTUL\n",
      "Station location: (36.2, -95.88)\n",
      "Distance: 3.7945632971418854\n"
     ]
    }
   ],
   "source": [
    "print(f'Target location: {target_latlon}')\n",
    "print(f\"Nearest station: {nearest_station['station_id']}\")\n",
    "print(f'Station location: {station_coord}')\n",
    "print(f'Distance: {distance_km}')"
   ]
  },
  {
   "cell_type": "code",
   "execution_count": null,
   "metadata": {},
   "outputs": [],
   "source": []
  }
 ],
 "metadata": {
  "kernelspec": {
   "display_name": "base",
   "language": "python",
   "name": "python3"
  },
  "language_info": {
   "codemirror_mode": {
    "name": "ipython",
    "version": 3
   },
   "file_extension": ".py",
   "mimetype": "text/x-python",
   "name": "python",
   "nbconvert_exporter": "python",
   "pygments_lexer": "ipython3",
   "version": "3.9.16"
  },
  "orig_nbformat": 4,
  "vscode": {
   "interpreter": {
    "hash": "b5cfa023891fceef02537f80a4c6e95b77988fb973cdb16a51cdb785092210be"
   }
  }
 },
 "nbformat": 4,
 "nbformat_minor": 2
}
