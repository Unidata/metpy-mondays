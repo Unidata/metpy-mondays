{
 "cells": [
  {
   "attachments": {},
   "cell_type": "markdown",
   "metadata": {},
   "source": [
    "## 325 - Adding Fallback Data and Cleanup to a Local Data Cache with Python\n",
    "\n",
    "[Youtube](https://www.youtube.com/watch?v=DpFANOLqvV4)"
   ]
  },
  {
   "cell_type": "code",
   "execution_count": 1,
   "metadata": {},
   "outputs": [],
   "source": [
    "from datetime import datetime, timedelta\n",
    "from pathlib import Path\n",
    "import pandas as pd\n",
    "import os\n",
    "import time\n",
    "from siphon.simplewebservice.iastate import IAStateUpperAir\n",
    "from siphon.simplewebservice.wyoming import WyomingUpperAir"
   ]
  },
  {
   "cell_type": "code",
   "execution_count": 2,
   "metadata": {},
   "outputs": [],
   "source": [
    "def get_filename(date: datetime, station: str) -> str:\n",
    "    \"\"\"\n",
    "    Create a filename in the format YYYYMMDDHH_STN.txt\n",
    "    \"\"\"\n",
    "    return f\"{date.strftime('%Y%m%d%H')}_{station}.txt\""
   ]
  },
  {
   "cell_type": "code",
   "execution_count": 3,
   "metadata": {},
   "outputs": [],
   "source": [
    "def save_to_cache(df: pd.DataFrame, file_path: Path):\n",
    "    \"\"\"\n",
    "    Saves the pandas DataFrame to a text file CSV.\n",
    "    \"\"\"\n",
    "    df.to_csv(file_path, index = False)\n",
    "    print(f'Data saved to cache: {file_path}')"
   ]
  },
  {
   "cell_type": "code",
   "execution_count": 4,
   "metadata": {},
   "outputs": [],
   "source": [
    "def load_from_cache(file_path: Path) -> pd.DataFrame:\n",
    "    \"\"\"\n",
    "    Load a pandas DataFrame from the saved cache CSV file.\n",
    "    \"\"\"\n",
    "    print(f'Loading from cache: {file_path}')\n",
    "    return pd.read_csv(file_path)"
   ]
  },
  {
   "cell_type": "code",
   "execution_count": 5,
   "metadata": {},
   "outputs": [],
   "source": [
    "def fetch_sounding(date: datetime, station: str) -> pd.DataFrame:\n",
    "    \"\"\"\n",
    "    Get sounding data from the remote sources trying Wyoming and Iowa.\n",
    "    \"\"\"\n",
    "    try:\n",
    "        return WyomingUpperAir.request_data(date, station)\n",
    "    except Exception as wyoming_err:\n",
    "        print(f'Wyoming failed: {wyoming_err}')\n",
    "        try:\n",
    "            return IAStateUpperAir.request_data(date, station)\n",
    "        except Exception as iastate_err:\n",
    "            print(f'Iowa Failed: {iastate_err}')\n",
    "            raise RuntimeError('Failed to get sounding')"
   ]
  },
  {
   "cell_type": "code",
   "execution_count": 6,
   "metadata": {},
   "outputs": [],
   "source": [
    "def should_run_cleanup(cache_dir: Path) -> bool:\n",
    "    \"\"\"\n",
    "    Determines if cleanup needs to be run, will only run once/day.\n",
    "    \"\"\"\n",
    "    marker_file = cache_dir / '.cleanup_marker'\n",
    "    if not marker_file.exists():\n",
    "        return True\n",
    "    last_run = datetime.fromtimestamp(marker_file.stat().st_mtime)\n",
    "    return (datetime.now() - last_run).days >= 1"
   ]
  },
  {
   "cell_type": "code",
   "execution_count": 7,
   "metadata": {},
   "outputs": [],
   "source": [
    "def cleanup_old_cache(cache_dir: Path, expiration_days: int = 30):\n",
    "    now = time.time()\n",
    "    expiration_in_seconds = expiration_days * 86400\n",
    "\n",
    "    for file in cache_dir.glob('*.txt'):\n",
    "        last_access = os.stat(file).st_atime\n",
    "        if now - last_access > expiration_in_seconds:\n",
    "            file.unlink()\n",
    "    \n",
    "    marker_file = cache_dir / '.cleanup_marker'\n",
    "    marker_file.touch()"
   ]
  },
  {
   "cell_type": "code",
   "execution_count": 8,
   "metadata": {},
   "outputs": [],
   "source": [
    "def get_sounding_data(date: datetime, station: str, cache_dir: Path) -> pd.DataFrame:\n",
    "    \"\"\"\n",
    "    Get sounding data from cache or remote source. If remote, store it locally.\n",
    "    \"\"\"\n",
    "    # Make sure cache exists or create it\n",
    "    if not cache_dir.exists():\n",
    "        cache_dir.mkdir(parents=True, exist_ok=True)\n",
    "        print(f'Created cache directory: {cache_dir}')\n",
    "\n",
    "    # Run cleanup if needed\n",
    "    if should_run_cleanup(cache_dir):\n",
    "        print('Running cleanup')\n",
    "        cleanup_old_cache(cache_dir)\n",
    "    \n",
    "    # Get the data\n",
    "    filename = get_filename(date, station)\n",
    "    file_path = cache_dir / filename\n",
    "\n",
    "    if file_path.exists():\n",
    "        print('Loading Existing')\n",
    "        df = load_from_cache(file_path)\n",
    "    else:\n",
    "        print('Downloading new data')\n",
    "        df = fetch_sounding(date, station)\n",
    "        save_to_cache(df, file_path)\n",
    "    return df"
   ]
  },
  {
   "cell_type": "code",
   "execution_count": 9,
   "metadata": {},
   "outputs": [],
   "source": [
    "cache_directory = Path('sounding_data')"
   ]
  },
  {
   "cell_type": "code",
   "execution_count": 10,
   "metadata": {},
   "outputs": [
    {
     "name": "stdout",
     "output_type": "stream",
     "text": [
      "Running cleanup\n",
      "Loading Existing\n",
      "Loading from cache: sounding_data/2014110812_OUN.txt\n"
     ]
    }
   ],
   "source": [
    "df_sounding = get_sounding_data(datetime(2014, 11, 8, 12), 'OUN', cache_directory)"
   ]
  },
  {
   "cell_type": "code",
   "execution_count": 11,
   "metadata": {},
   "outputs": [
    {
     "data": {
      "text/html": [
       "<div>\n",
       "<style scoped>\n",
       "    .dataframe tbody tr th:only-of-type {\n",
       "        vertical-align: middle;\n",
       "    }\n",
       "\n",
       "    .dataframe tbody tr th {\n",
       "        vertical-align: top;\n",
       "    }\n",
       "\n",
       "    .dataframe thead th {\n",
       "        text-align: right;\n",
       "    }\n",
       "</style>\n",
       "<table border=\"1\" class=\"dataframe\">\n",
       "  <thead>\n",
       "    <tr style=\"text-align: right;\">\n",
       "      <th></th>\n",
       "      <th>pressure</th>\n",
       "      <th>height</th>\n",
       "      <th>temperature</th>\n",
       "      <th>dewpoint</th>\n",
       "      <th>direction</th>\n",
       "      <th>speed</th>\n",
       "      <th>u_wind</th>\n",
       "      <th>v_wind</th>\n",
       "      <th>station</th>\n",
       "      <th>station_number</th>\n",
       "      <th>time</th>\n",
       "      <th>latitude</th>\n",
       "      <th>longitude</th>\n",
       "      <th>elevation</th>\n",
       "      <th>pw</th>\n",
       "    </tr>\n",
       "  </thead>\n",
       "  <tbody>\n",
       "    <tr>\n",
       "      <th>0</th>\n",
       "      <td>977.0</td>\n",
       "      <td>345</td>\n",
       "      <td>15.0</td>\n",
       "      <td>7.0</td>\n",
       "      <td>5.0</td>\n",
       "      <td>10.0</td>\n",
       "      <td>-0.871557</td>\n",
       "      <td>-9.961947</td>\n",
       "      <td>OUN</td>\n",
       "      <td>72357</td>\n",
       "      <td>2014-11-08 12:00:00</td>\n",
       "      <td>35.18</td>\n",
       "      <td>-97.44</td>\n",
       "      <td>345.0</td>\n",
       "      <td>20.07</td>\n",
       "    </tr>\n",
       "    <tr>\n",
       "      <th>1</th>\n",
       "      <td>975.0</td>\n",
       "      <td>362</td>\n",
       "      <td>14.8</td>\n",
       "      <td>6.8</td>\n",
       "      <td>5.0</td>\n",
       "      <td>11.0</td>\n",
       "      <td>-0.958713</td>\n",
       "      <td>-10.958142</td>\n",
       "      <td>OUN</td>\n",
       "      <td>72357</td>\n",
       "      <td>2014-11-08 12:00:00</td>\n",
       "      <td>35.18</td>\n",
       "      <td>-97.44</td>\n",
       "      <td>345.0</td>\n",
       "      <td>20.07</td>\n",
       "    </tr>\n",
       "    <tr>\n",
       "      <th>2</th>\n",
       "      <td>946.8</td>\n",
       "      <td>610</td>\n",
       "      <td>13.1</td>\n",
       "      <td>4.6</td>\n",
       "      <td>5.0</td>\n",
       "      <td>30.0</td>\n",
       "      <td>-2.614672</td>\n",
       "      <td>-29.885841</td>\n",
       "      <td>OUN</td>\n",
       "      <td>72357</td>\n",
       "      <td>2014-11-08 12:00:00</td>\n",
       "      <td>35.18</td>\n",
       "      <td>-97.44</td>\n",
       "      <td>345.0</td>\n",
       "      <td>20.07</td>\n",
       "    </tr>\n",
       "    <tr>\n",
       "      <th>3</th>\n",
       "      <td>925.0</td>\n",
       "      <td>807</td>\n",
       "      <td>11.8</td>\n",
       "      <td>2.8</td>\n",
       "      <td>15.0</td>\n",
       "      <td>39.0</td>\n",
       "      <td>-10.093943</td>\n",
       "      <td>-37.671107</td>\n",
       "      <td>OUN</td>\n",
       "      <td>72357</td>\n",
       "      <td>2014-11-08 12:00:00</td>\n",
       "      <td>35.18</td>\n",
       "      <td>-97.44</td>\n",
       "      <td>345.0</td>\n",
       "      <td>20.07</td>\n",
       "    </tr>\n",
       "    <tr>\n",
       "      <th>4</th>\n",
       "      <td>913.2</td>\n",
       "      <td>914</td>\n",
       "      <td>10.8</td>\n",
       "      <td>2.8</td>\n",
       "      <td>25.0</td>\n",
       "      <td>45.0</td>\n",
       "      <td>-19.017822</td>\n",
       "      <td>-40.783850</td>\n",
       "      <td>OUN</td>\n",
       "      <td>72357</td>\n",
       "      <td>2014-11-08 12:00:00</td>\n",
       "      <td>35.18</td>\n",
       "      <td>-97.44</td>\n",
       "      <td>345.0</td>\n",
       "      <td>20.07</td>\n",
       "    </tr>\n",
       "  </tbody>\n",
       "</table>\n",
       "</div>"
      ],
      "text/plain": [
       "   pressure  height  temperature  dewpoint  direction  speed     u_wind  \\\n",
       "0     977.0     345         15.0       7.0        5.0   10.0  -0.871557   \n",
       "1     975.0     362         14.8       6.8        5.0   11.0  -0.958713   \n",
       "2     946.8     610         13.1       4.6        5.0   30.0  -2.614672   \n",
       "3     925.0     807         11.8       2.8       15.0   39.0 -10.093943   \n",
       "4     913.2     914         10.8       2.8       25.0   45.0 -19.017822   \n",
       "\n",
       "      v_wind station  station_number                 time  latitude  \\\n",
       "0  -9.961947     OUN           72357  2014-11-08 12:00:00     35.18   \n",
       "1 -10.958142     OUN           72357  2014-11-08 12:00:00     35.18   \n",
       "2 -29.885841     OUN           72357  2014-11-08 12:00:00     35.18   \n",
       "3 -37.671107     OUN           72357  2014-11-08 12:00:00     35.18   \n",
       "4 -40.783850     OUN           72357  2014-11-08 12:00:00     35.18   \n",
       "\n",
       "   longitude  elevation     pw  \n",
       "0     -97.44      345.0  20.07  \n",
       "1     -97.44      345.0  20.07  \n",
       "2     -97.44      345.0  20.07  \n",
       "3     -97.44      345.0  20.07  \n",
       "4     -97.44      345.0  20.07  "
      ]
     },
     "execution_count": 11,
     "metadata": {},
     "output_type": "execute_result"
    }
   ],
   "source": [
    "df_sounding.head()"
   ]
  },
  {
   "cell_type": "code",
   "execution_count": null,
   "metadata": {},
   "outputs": [],
   "source": []
  }
 ],
 "metadata": {
  "kernelspec": {
   "display_name": "base",
   "language": "python",
   "name": "python3"
  },
  "language_info": {
   "codemirror_mode": {
    "name": "ipython",
    "version": 3
   },
   "file_extension": ".py",
   "mimetype": "text/x-python",
   "name": "python",
   "nbconvert_exporter": "python",
   "pygments_lexer": "ipython3",
   "version": "3.9.16"
  },
  "orig_nbformat": 4,
  "vscode": {
   "interpreter": {
    "hash": "b5cfa023891fceef02537f80a4c6e95b77988fb973cdb16a51cdb785092210be"
   }
  }
 },
 "nbformat": 4,
 "nbformat_minor": 2
}
