{
 "cells": [
  {
   "cell_type": "markdown",
   "id": "59c39196",
   "metadata": {},
   "source": [
    "## 145 - Making GeoJSON FeatureCollections\n",
    "\n",
    "[Youtube](https://www.youtube.com/watch?v=iT_JTqzgDFw)"
   ]
  },
  {
   "cell_type": "code",
   "execution_count": 1,
   "id": "a53e97b3",
   "metadata": {},
   "outputs": [],
   "source": [
    "import geojson\n",
    "from geojson import Feature, Point, FeatureCollection"
   ]
  },
  {
   "cell_type": "code",
   "execution_count": 2,
   "id": "d0ab06a0",
   "metadata": {},
   "outputs": [],
   "source": [
    "my_feature_1 = Feature(geometry = Point((-105.27, 40.01)), properties = {'temperature': 24, 'humidity': 50, 'marker-color': '#FF0000'})\n",
    "\n",
    "my_feature_2 = Feature(geometry = Point((-105.08, 40.59)), properties = {'temperature': 28, 'humidity': 47})\n",
    "\n",
    "feature_collection = FeatureCollection([my_feature_1, my_feature_2])"
   ]
  },
  {
   "cell_type": "code",
   "execution_count": 3,
   "id": "fd95205c",
   "metadata": {},
   "outputs": [
    {
     "data": {
      "text/plain": [
       "{\"features\": [{\"geometry\": {\"coordinates\": [-105.27, 40.01], \"type\": \"Point\"}, \"properties\": {\"humidity\": 50, \"marker-color\": \"#FF0000\", \"temperature\": 24}, \"type\": \"Feature\"}, {\"geometry\": {\"coordinates\": [-105.08, 40.59], \"type\": \"Point\"}, \"properties\": {\"humidity\": 47, \"temperature\": 28}, \"type\": \"Feature\"}], \"type\": \"FeatureCollection\"}"
      ]
     },
     "execution_count": 3,
     "metadata": {},
     "output_type": "execute_result"
    }
   ],
   "source": [
    "feature_collection"
   ]
  },
  {
   "cell_type": "code",
   "execution_count": 4,
   "id": "a09c3957",
   "metadata": {},
   "outputs": [],
   "source": [
    "with open('mydata.json', 'w') as f:\n",
    "    f.write(geojson.dumps(feature_collection))"
   ]
  },
  {
   "cell_type": "code",
   "execution_count": null,
   "id": "989da83b",
   "metadata": {},
   "outputs": [],
   "source": []
  }
 ],
 "metadata": {
  "kernelspec": {
   "display_name": "Python 3 (ipykernel)",
   "language": "python",
   "name": "python3"
  },
  "language_info": {
   "codemirror_mode": {
    "name": "ipython",
    "version": 3
   },
   "file_extension": ".py",
   "mimetype": "text/x-python",
   "name": "python",
   "nbconvert_exporter": "python",
   "pygments_lexer": "ipython3",
   "version": "3.9.12"
  }
 },
 "nbformat": 4,
 "nbformat_minor": 5
}
