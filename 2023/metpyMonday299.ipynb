{
 "cells": [
  {
   "attachments": {},
   "cell_type": "markdown",
   "metadata": {},
   "source": [
    "## 299 - How to Use Try, Except, Else, and Finally\n",
    "\n",
    "[Youtube](https://www.youtube.com/watch?v=fYCrHj4o32w)"
   ]
  },
  {
   "cell_type": "code",
   "execution_count": null,
   "metadata": {},
   "outputs": [],
   "source": [
    "while True:\n",
    "\ta = input('Enter number A: ')\n",
    "\tb = input('Enter number B: ')\n",
    "\ttry:\n",
    "\t\ta = float(a)\n",
    "\t\tb = float(b)\n",
    "\texcept ValueError:\n",
    "\t\tprint('Values must be numeric!')\n",
    "\t\tbreak\n",
    "\t\t\n",
    "\ttry:\n",
    "\t\tresult = a / b\n",
    "\texcept ZeroDivisionError:\n",
    "\t\tprint('Denominator cannot be zero!')\n",
    "\t\tbreak\n",
    "\t\n",
    "\telse:\n",
    "\t\tprint(a / b)"
   ]
  },
  {
   "cell_type": "code",
   "execution_count": 1,
   "metadata": {},
   "outputs": [
    {
     "name": "stdout",
     "output_type": "stream",
     "text": [
      "Cannot process file:  list index out of range\n"
     ]
    }
   ],
   "source": [
    "f = open('myfile.txt', 'r')\n",
    "lines = f.readlines()\n",
    "try:\n",
    "\tcritical_number = lines[5]\n",
    "except Exception as e:\n",
    "\tprint('Cannot process file: ', e)\n",
    "finally:\n",
    "\tf.close()"
   ]
  },
  {
   "cell_type": "code",
   "execution_count": null,
   "metadata": {},
   "outputs": [],
   "source": []
  }
 ],
 "metadata": {
  "kernelspec": {
   "display_name": "base",
   "language": "python",
   "name": "python3"
  },
  "language_info": {
   "codemirror_mode": {
    "name": "ipython",
    "version": 3
   },
   "file_extension": ".py",
   "mimetype": "text/x-python",
   "name": "python",
   "nbconvert_exporter": "python",
   "pygments_lexer": "ipython3",
   "version": "3.9.16"
  },
  "orig_nbformat": 4,
  "vscode": {
   "interpreter": {
    "hash": "b5cfa023891fceef02537f80a4c6e95b77988fb973cdb16a51cdb785092210be"
   }
  }
 },
 "nbformat": 4,
 "nbformat_minor": 2
}
