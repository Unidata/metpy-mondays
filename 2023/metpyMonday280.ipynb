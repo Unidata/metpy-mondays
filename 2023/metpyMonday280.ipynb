{
 "cells": [
  {
   "attachments": {},
   "cell_type": "markdown",
   "id": "0d74a508",
   "metadata": {},
   "source": [
    "## 280 - Say Goodbye to Print Statement Debugging: How Debug with Decorators\n",
    "\n",
    "[Youtube](https://www.youtube.com/watch?v=9_SwwFRFxk8)"
   ]
  },
  {
   "cell_type": "code",
   "execution_count": 1,
   "id": "7d47a123-d067-4238-8f17-92cb98ac9662",
   "metadata": {},
   "outputs": [],
   "source": [
    "def debug(func):\n",
    "    def wrapper(*args, **kwargs):\n",
    "        print('*' * 80)\n",
    "        print(f'Calling function {func.__name__}\\nargs={args}\\nkwargs={kwargs}')\n",
    "        result = func(*args, **kwargs)\n",
    "        print(f'Return of function {func.__name__} is {result}')\n",
    "        print('*' * 80 + '\\n')\n",
    "        return result\n",
    "    return wrapper"
   ]
  },
  {
   "cell_type": "code",
   "execution_count": 2,
   "id": "cd804308-f5f3-4415-8f29-afacc4380d9b",
   "metadata": {},
   "outputs": [],
   "source": [
    "\n",
    "def do_calc_one(a, b, c):\n",
    "    \"\"\"\n",
    "    Performs the calculation in eq. 1 of Bob et al. (2002)\n",
    "    \"\"\"\n",
    "    return a + b + c\n",
    "\n",
    "def do_calc_two(x, y, z):\n",
    "    \"\"\"\n",
    "    Performs the calculation in eq. 2 of Bob et al. (2002)\n",
    "    \"\"\"\n",
    "    return x - y + z"
   ]
  },
  {
   "cell_type": "code",
   "execution_count": 3,
   "id": "24ef4d1c-3842-4fc7-813b-77824fdfb305",
   "metadata": {},
   "outputs": [],
   "source": [
    "def calculate_solution(a, b, c, d):\n",
    "    \"\"\"\n",
    "    Final solution for flux capacitor reactance\n",
    "    \"\"\"\n",
    "    return do_calc_one(a, b, c) / do_calc_two(b, c, d)"
   ]
  },
  {
   "cell_type": "code",
   "execution_count": 4,
   "id": "d9245812-bdbc-451a-82a0-78d5f37250ee",
   "metadata": {},
   "outputs": [
    {
     "data": {
      "text/plain": [
       "1.5"
      ]
     },
     "execution_count": 4,
     "metadata": {},
     "output_type": "execute_result"
    }
   ],
   "source": [
    "calculate_solution(1, 5, 6, 9)"
   ]
  },
  {
   "cell_type": "code",
   "execution_count": null,
   "id": "63763b37-dfd5-414e-9a2e-e660942e6925",
   "metadata": {},
   "outputs": [],
   "source": []
  },
  {
   "cell_type": "code",
   "execution_count": null,
   "id": "b5569aa3-e6b0-4157-8b1c-632c397f727c",
   "metadata": {},
   "outputs": [],
   "source": []
  }
 ],
 "metadata": {
  "kernelspec": {
   "display_name": "base",
   "language": "python",
   "name": "python3"
  },
  "language_info": {
   "codemirror_mode": {
    "name": "ipython",
    "version": 3
   },
   "file_extension": ".py",
   "mimetype": "text/x-python",
   "name": "python",
   "nbconvert_exporter": "python",
   "pygments_lexer": "ipython3",
   "version": "3.9.16"
  },
  "vscode": {
   "interpreter": {
    "hash": "b5cfa023891fceef02537f80a4c6e95b77988fb973cdb16a51cdb785092210be"
   }
  }
 },
 "nbformat": 4,
 "nbformat_minor": 5
}
