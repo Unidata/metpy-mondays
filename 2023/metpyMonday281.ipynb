{
 "cells": [
  {
   "attachments": {},
   "cell_type": "markdown",
   "id": "aae44895",
   "metadata": {},
   "source": [
    "## 281 - How to Avoid File Clutter with the tempfile Package\n",
    "\n",
    "[Youtube](https://www.youtube.com/watch?v=5MghL15Lc2w)"
   ]
  },
  {
   "cell_type": "code",
   "execution_count": 5,
   "id": "a518a4ee-0a8a-4a1c-9f67-184f127499a8",
   "metadata": {},
   "outputs": [],
   "source": [
    "import tempfile"
   ]
  },
  {
   "cell_type": "code",
   "execution_count": 6,
   "id": "58322d14-e161-419f-860b-539710056a45",
   "metadata": {},
   "outputs": [
    {
     "name": "stdout",
     "output_type": "stream",
     "text": [
      "b'Here are my intermediate results that I do not want to hold in RAM'\n"
     ]
    }
   ],
   "source": [
    "with tempfile.TemporaryFile() as f:\n",
    "    f.write(b'Here are my intermediate results that I do not want to hold in RAM')\n",
    "    f.seek(0)\n",
    "    print(f.read())\n",
    "    \n",
    "f = tempfile.TemporaryFile()\n",
    "# do things\n",
    "f.close()"
   ]
  },
  {
   "cell_type": "code",
   "execution_count": 7,
   "id": "d3cb39ac-fc6f-496d-9990-71a05b72205c",
   "metadata": {},
   "outputs": [],
   "source": [
    "from pathlib import Path"
   ]
  },
  {
   "cell_type": "code",
   "execution_count": 8,
   "id": "f46eaf6a-17cd-4389-b584-6050d5d835be",
   "metadata": {},
   "outputs": [
    {
     "name": "stdout",
     "output_type": "stream",
     "text": [
      "Temp directory is:  /tmp/tmp4frkjipt\n",
      "Some dummy stuff\n"
     ]
    }
   ],
   "source": [
    "with tempfile.TemporaryDirectory() as tmpdirname:\n",
    "    print('Temp directory is: ', tmpdirname)\n",
    "    with open(Path(tmpdirname) / 'mydata.txt', 'w') as f:\n",
    "        f.write('Some dummy stuff')\n",
    "    with open(Path(tmpdirname) / 'mydata.txt', 'r') as f:\n",
    "        print(f.read())\n",
    "        \n",
    "# tmpdirname.cleanup()"
   ]
  },
  {
   "cell_type": "code",
   "execution_count": null,
   "id": "6787990d-361d-424f-82e7-58cf275362a8",
   "metadata": {},
   "outputs": [],
   "source": []
  }
 ],
 "metadata": {
  "kernelspec": {
   "display_name": "base",
   "language": "python",
   "name": "python3"
  },
  "language_info": {
   "codemirror_mode": {
    "name": "ipython",
    "version": 3
   },
   "file_extension": ".py",
   "mimetype": "text/x-python",
   "name": "python",
   "nbconvert_exporter": "python",
   "pygments_lexer": "ipython3",
   "version": "3.9.16"
  },
  "vscode": {
   "interpreter": {
    "hash": "b5cfa023891fceef02537f80a4c6e95b77988fb973cdb16a51cdb785092210be"
   }
  }
 },
 "nbformat": 4,
 "nbformat_minor": 5
}
