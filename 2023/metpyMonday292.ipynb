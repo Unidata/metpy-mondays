{
 "cells": [
  {
   "attachments": {},
   "cell_type": "markdown",
   "id": "7e0fc5ef",
   "metadata": {},
   "source": [
    "## 292 - What's New with CAPE?\n",
    "\n",
    "[Youtube](https://www.youtube.com/watch?v=pX_2q2Td2zo)"
   ]
  },
  {
   "cell_type": "code",
   "execution_count": 1,
   "id": "9113fcbe-4cc9-42e6-9706-362164c94d33",
   "metadata": {},
   "outputs": [],
   "source": [
    "import metpy.calc as mpcalc\n",
    "\n",
    "from datetime import datetime\n",
    "from metpy.units import units, pandas_dataframe_to_unit_arrays\n",
    "from siphon.simplewebservice.iastate import IAStateUpperAir"
   ]
  },
  {
   "cell_type": "code",
   "execution_count": 2,
   "id": "e2b06607-881a-4b13-99ee-04ab1fae52a0",
   "metadata": {},
   "outputs": [],
   "source": [
    "date = datetime(2023, 7, 9, 12)\n",
    "station = 'MFL'\n",
    "df = IAStateUpperAir.request_data(date, station)\n",
    "df_units = df.units"
   ]
  },
  {
   "cell_type": "code",
   "execution_count": 3,
   "id": "fe6ed12c-7c4c-496c-a7d0-d30a0b2ae5b9",
   "metadata": {},
   "outputs": [],
   "source": [
    "df = df.dropna(subset=['pressure', 'temperature', 'dewpoint'])"
   ]
  },
  {
   "cell_type": "code",
   "execution_count": 4,
   "id": "639a2b88-61c6-4392-a425-cfb00d4e1579",
   "metadata": {},
   "outputs": [],
   "source": [
    "da = pandas_dataframe_to_unit_arrays(df, column_units=df_units)"
   ]
  },
  {
   "cell_type": "code",
   "execution_count": 5,
   "id": "314f9b47-d6ac-4619-822d-c92ebdf87741",
   "metadata": {},
   "outputs": [],
   "source": [
    "profile = mpcalc.parcel_profile(da['pressure'], da['temperature'][0], da['dewpoint'][0])"
   ]
  },
  {
   "cell_type": "code",
   "execution_count": 6,
   "id": "649cf23a-cf57-40c8-a44b-2ecf6173013e",
   "metadata": {},
   "outputs": [],
   "source": [
    "cape, cin = mpcalc.cape_cin(da['pressure'], da['temperature'], da['dewpoint'],\n",
    "                            profile)"
   ]
  },
  {
   "cell_type": "code",
   "execution_count": 7,
   "id": "5b411377-80c4-44fd-b48e-a1365b1dc7dd",
   "metadata": {},
   "outputs": [
    {
     "name": "stdout",
     "output_type": "stream",
     "text": [
      "1947.0361361383812 joule / kilogram -45.466736138826676 joule / kilogram\n"
     ]
    }
   ],
   "source": [
    "print(cape, cin)"
   ]
  },
  {
   "cell_type": "code",
   "execution_count": null,
   "id": "d00db8e9-ad88-442e-a4bd-d2ff437fccfa",
   "metadata": {},
   "outputs": [],
   "source": []
  }
 ],
 "metadata": {
  "kernelspec": {
   "display_name": "base",
   "language": "python",
   "name": "python3"
  },
  "language_info": {
   "codemirror_mode": {
    "name": "ipython",
    "version": 3
   },
   "file_extension": ".py",
   "mimetype": "text/x-python",
   "name": "python",
   "nbconvert_exporter": "python",
   "pygments_lexer": "ipython3",
   "version": "3.9.16"
  },
  "vscode": {
   "interpreter": {
    "hash": "b5cfa023891fceef02537f80a4c6e95b77988fb973cdb16a51cdb785092210be"
   }
  }
 },
 "nbformat": 4,
 "nbformat_minor": 5
}
