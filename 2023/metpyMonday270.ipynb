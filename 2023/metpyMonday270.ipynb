{
 "cells": [
  {
   "attachments": {},
   "cell_type": "markdown",
   "id": "540440a6",
   "metadata": {},
   "source": [
    "## 270 - Predicting the Path of the Chinese Balloon\n",
    "\n",
    "[Youtube](https://www.youtube.com/watch?v=pWGBB_wM4v0)"
   ]
  },
  {
   "cell_type": "markdown",
   "id": "1b461208-40be-43b1-8ac7-7ff6a0e20c5b",
   "metadata": {},
   "source": [
    "![](balloon_sightings.png)"
   ]
  },
  {
   "cell_type": "code",
   "execution_count": 1,
   "id": "be35e136-f57f-4daf-afcb-9e9669601c74",
   "metadata": {},
   "outputs": [],
   "source": [
    "from datetime import datetime"
   ]
  },
  {
   "cell_type": "code",
   "execution_count": 2,
   "id": "869594d0-34ef-4911-9a4f-c12dea575b57",
   "metadata": {},
   "outputs": [],
   "source": [
    "billings_coords = (-108.5, 45.783)\n",
    "pleasant_hill_coords = (-94.269, 38.788)\n",
    "columbia_coords = (-92.334, 38.952)\n",
    "asheville_coords = (-82.552, 35.595)\n",
    "myrtle_beach_coords = (-78.887, 33.689)\n",
    "\n",
    "path_coords = [billings_coords,\n",
    "               pleasant_hill_coords,\n",
    "               columbia_coords,\n",
    "               asheville_coords,\n",
    "               myrtle_beach_coords]"
   ]
  },
  {
   "cell_type": "code",
   "execution_count": 3,
   "id": "d723ddb2-91e3-4a7f-84eb-62ccd9f3d045",
   "metadata": {},
   "outputs": [],
   "source": [
    "path_times = [datetime(2023, 2, 1, 23, 45),\n",
    "              datetime(2023, 2, 3, 17, 0),\n",
    "              datetime(2023, 2, 3, 19, 0),\n",
    "              datetime(2023, 2, 4, 14, 0),\n",
    "              datetime(2023, 2, 4, 19, 9)]"
   ]
  },
  {
   "cell_type": "code",
   "execution_count": 4,
   "id": "0814c2de-3bd6-49cc-8d08-c8d69115a388",
   "metadata": {},
   "outputs": [],
   "source": [
    "import pyproj"
   ]
  },
  {
   "cell_type": "code",
   "execution_count": 5,
   "id": "6935638c-73ce-4144-924d-49a649249443",
   "metadata": {},
   "outputs": [],
   "source": [
    "geodesic = pyproj.Geod(ellps='WGS84')\n",
    "\n",
    "leg_lengths, leg_bearings, leg_times = [], [], []\n",
    "for i in range(len(path_coords)-1):\n",
    "    bearing, _, distance = geodesic.inv(path_coords[i][0], path_coords[i][1],\n",
    "                                        path_coords[i+1][0], path_coords[i+1][1])\n",
    "    leg_lengths.append(distance)\n",
    "    leg_bearings.append(bearing)            \n",
    "    leg_times.append(path_times[i+1] - path_times[i])"
   ]
  },
  {
   "cell_type": "code",
   "execution_count": 6,
   "id": "9a36b267-cc3c-4ec9-980e-db6c5b32a5ac",
   "metadata": {},
   "outputs": [
    {
     "data": {
      "text/plain": [
       "[1404372.3386641853, 168909.13093112054, 943529.215000063, 396963.300345408]"
      ]
     },
     "execution_count": 6,
     "metadata": {},
     "output_type": "execute_result"
    }
   ],
   "source": [
    "leg_lengths"
   ]
  },
  {
   "cell_type": "code",
   "execution_count": 7,
   "id": "021ddd67-e921-4878-a936-10f47cb85712",
   "metadata": {},
   "outputs": [
    {
     "data": {
      "text/plain": [
       "[118.54137658204613, 83.20577699246873, 110.21883256433819, 121.1279262451508]"
      ]
     },
     "execution_count": 7,
     "metadata": {},
     "output_type": "execute_result"
    }
   ],
   "source": [
    "leg_bearings"
   ]
  },
  {
   "cell_type": "code",
   "execution_count": 8,
   "id": "4fd4e6ed-b09e-491b-9b33-30361de586a2",
   "metadata": {},
   "outputs": [
    {
     "data": {
      "text/plain": [
       "[datetime.timedelta(days=1, seconds=62100),\n",
       " datetime.timedelta(seconds=7200),\n",
       " datetime.timedelta(seconds=68400),\n",
       " datetime.timedelta(seconds=18540)]"
      ]
     },
     "execution_count": 8,
     "metadata": {},
     "output_type": "execute_result"
    }
   ],
   "source": [
    "leg_times"
   ]
  },
  {
   "cell_type": "code",
   "execution_count": 9,
   "id": "cedf5a0a-eaf5-45e0-993b-03d168c02360",
   "metadata": {},
   "outputs": [],
   "source": [
    "leg_velocities = [length / time.total_seconds() for length, time in zip(leg_lengths, leg_times)]"
   ]
  },
  {
   "cell_type": "code",
   "execution_count": 10,
   "id": "b7dded32-e0ab-4ff8-865e-7287b92c2adc",
   "metadata": {},
   "outputs": [
    {
     "data": {
      "text/plain": [
       "[9.457052785617408, 23.459601518211187, 13.794286769006769, 21.41118124840388]"
      ]
     },
     "execution_count": 10,
     "metadata": {},
     "output_type": "execute_result"
    }
   ],
   "source": [
    "leg_velocities"
   ]
  },
  {
   "cell_type": "code",
   "execution_count": 11,
   "id": "93cabd8d-18a2-490c-9452-4dbda0bc3bb6",
   "metadata": {},
   "outputs": [],
   "source": [
    "# North Platte, Topeka, Nashville, Charleston\n",
    "leg_sounding_stations = ['LBF', 'TOP', 'BNA', 'CHS']\n",
    "leg_sounding_times = [datetime(2023, 2, 3, 0, 0),\n",
    "                      datetime(2023, 2, 3, 12, 0),\n",
    "                      datetime(2023, 2, 4, 0, 0),\n",
    "                      datetime(2023, 2, 4, 12, 0)]"
   ]
  },
  {
   "cell_type": "code",
   "execution_count": 12,
   "id": "e0f3aedf-8a50-4cd2-ad46-6e7d54116b77",
   "metadata": {},
   "outputs": [],
   "source": [
    "from metpy.units import units, pandas_dataframe_to_unit_arrays\n",
    "from siphon.simplewebservice.wyoming import WyomingUpperAir"
   ]
  },
  {
   "cell_type": "code",
   "execution_count": 13,
   "id": "661d0de4-2360-44c0-8a18-99c31d06943b",
   "metadata": {},
   "outputs": [],
   "source": [
    "sounding_speeds, sounding_directions = [], []\n",
    "for station, time in zip(leg_sounding_stations, leg_sounding_times):\n",
    "    df = WyomingUpperAir.request_data(time, station)\n",
    "    df = pandas_dataframe_to_unit_arrays(df)\n",
    "    idx = df['pressure'] == 70 * units.hPa\n",
    "    sounding_speeds.append(df['speed'][idx].to('m/s'))\n",
    "    sounding_directions.append(df['direction'][idx] - 180 * units('deg'))"
   ]
  },
  {
   "cell_type": "code",
   "execution_count": 14,
   "id": "7498c5a3-c592-4806-a6b7-a3d85fb006d6",
   "metadata": {},
   "outputs": [],
   "source": [
    "leg_number = range(1, 5)"
   ]
  },
  {
   "cell_type": "code",
   "execution_count": 16,
   "id": "c3209810-7875-49b2-bab1-a0e956956fad",
   "metadata": {},
   "outputs": [],
   "source": [
    "import matplotlib.pyplot as plt"
   ]
  },
  {
   "cell_type": "code",
   "execution_count": 17,
   "id": "baac69bb-d1a9-4cb2-8dba-e6778fd7288d",
   "metadata": {},
   "outputs": [
    {
     "data": {
      "text/plain": [
       "Text(0.5, 0, 'Leg')"
      ]
     },
     "execution_count": 17,
     "metadata": {},
     "output_type": "execute_result"
    },
    {
     "data": {
      "image/png": "[encoded data removed]",
      "text/plain": [
       "<Figure size 640x480 with 2 Axes>"
      ]
     },
     "metadata": {},
     "output_type": "display_data"
    }
   ],
   "source": [
    "fig, axes = plt.subplots(nrows=2, sharex=True)\n",
    "\n",
    "axes[0].scatter(leg_number, leg_velocities, label='Observed', color='k')\n",
    "axes[0].scatter(leg_number, sounding_speeds, label='Calculated', color='tab:green')\n",
    "axes[0].set_ylim(0, 50)\n",
    "\n",
    "axes[1].scatter(leg_number, leg_bearings, label='Observed', color='k')\n",
    "axes[1].scatter(leg_number, sounding_directions, label='Calculated', color='tab:green')\n",
    "axes[1].set_ylim(0, 360)\n",
    "\n",
    "axes[0].set_xticks(leg_number)\n",
    "\n",
    "axes[0].set_ylabel('Speed [m/s]')\n",
    "axes[1].set_ylabel('Bearing')\n",
    "axes[1].set_xlabel('Leg')"
   ]
  },
  {
   "cell_type": "code",
   "execution_count": null,
   "id": "ed73acfe-6095-40a4-ab0d-2ad9b1803030",
   "metadata": {},
   "outputs": [],
   "source": []
  }
 ],
 "metadata": {
  "kernelspec": {
   "display_name": "Python 3 (ipykernel)",
   "language": "python",
   "name": "python3"
  },
  "language_info": {
   "codemirror_mode": {
    "name": "ipython",
    "version": 3
   },
   "file_extension": ".py",
   "mimetype": "text/x-python",
   "name": "python",
   "nbconvert_exporter": "python",
   "pygments_lexer": "ipython3",
   "version": "3.10.4"
  }
 },
 "nbformat": 4,
 "nbformat_minor": 5
}
