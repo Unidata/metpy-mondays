{
 "cells": [
  {
   "attachments": {},
   "cell_type": "markdown",
   "id": "8598a4a1",
   "metadata": {},
   "source": [
    "## 284 - Enums with Flags in Python \n",
    "\n",
    "[Youtube](https://www.youtube.com/watch?v=Jl9VlTNDjUs)"
   ]
  },
  {
   "cell_type": "code",
   "execution_count": 1,
   "id": "24ac0c55-e391-491a-8da5-482d4c9483ca",
   "metadata": {},
   "outputs": [],
   "source": [
    "from enum import Flag, auto"
   ]
  },
  {
   "cell_type": "code",
   "execution_count": 2,
   "id": "4a50ac63-5a8d-438f-83a4-969f84fc7637",
   "metadata": {},
   "outputs": [],
   "source": [
    "class CurrentConditions(Flag):\n",
    "    RAIN = auto()\n",
    "    SUNNY = auto()\n",
    "    PARTLYCLOUDY = auto()\n",
    "    MOSTLYCLOUDY = auto()\n",
    "    SNOW = auto()\n",
    "    FOG = auto()\n",
    "    MIST = auto()\n",
    "    WINDY = auto()\n",
    "    CALM = auto()"
   ]
  },
  {
   "cell_type": "code",
   "execution_count": 3,
   "id": "641f38e2-d545-4884-a2ac-fb01f8a26aaf",
   "metadata": {},
   "outputs": [],
   "source": [
    "kbou = CurrentConditions.RAIN | CurrentConditions.PARTLYCLOUDY | CurrentConditions.CALM\n",
    "kden = CurrentConditions.MOSTLYCLOUDY | CurrentConditions.MIST"
   ]
  },
  {
   "cell_type": "code",
   "execution_count": 4,
   "id": "c7daee4b-fb59-4ea8-ad02-1507a85714d9",
   "metadata": {},
   "outputs": [
    {
     "data": {
      "text/plain": [
       "True"
      ]
     },
     "execution_count": 4,
     "metadata": {},
     "output_type": "execute_result"
    }
   ],
   "source": [
    "CurrentConditions.RAIN in kbou"
   ]
  },
  {
   "cell_type": "code",
   "execution_count": 5,
   "id": "0bd4a729-4b7d-4d81-a105-e5a9bd5c24c7",
   "metadata": {},
   "outputs": [
    {
     "data": {
      "text/plain": [
       "False"
      ]
     },
     "execution_count": 5,
     "metadata": {},
     "output_type": "execute_result"
    }
   ],
   "source": [
    "CurrentConditions.RAIN in kden"
   ]
  },
  {
   "cell_type": "code",
   "execution_count": 6,
   "id": "518eb0e2-4fdb-4c2f-af92-8e94d06b2d90",
   "metadata": {},
   "outputs": [
    {
     "name": "stdout",
     "output_type": "stream",
     "text": [
      "CurrentConditions.RAIN\n"
     ]
    }
   ],
   "source": [
    "print(kbou & (CurrentConditions.MIST | CurrentConditions.RAIN))"
   ]
  }
 ],
 "metadata": {
  "kernelspec": {
   "display_name": "base",
   "language": "python",
   "name": "python3"
  },
  "language_info": {
   "codemirror_mode": {
    "name": "ipython",
    "version": 3
   },
   "file_extension": ".py",
   "mimetype": "text/x-python",
   "name": "python",
   "nbconvert_exporter": "python",
   "pygments_lexer": "ipython3",
   "version": "3.9.16"
  },
  "vscode": {
   "interpreter": {
    "hash": "b5cfa023891fceef02537f80a4c6e95b77988fb973cdb16a51cdb785092210be"
   }
  }
 },
 "nbformat": 4,
 "nbformat_minor": 5
}
