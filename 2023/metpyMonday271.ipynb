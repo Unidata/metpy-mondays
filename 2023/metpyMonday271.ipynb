{
 "cells": [
  {
   "attachments": {},
   "cell_type": "markdown",
   "id": "cd57d7a8",
   "metadata": {},
   "source": [
    "## 271 - Getting Multispectral GOES ABI Imagery\n",
    "\n",
    "[Youtube](https://www.youtube.com/watch?v=vs2xXsV0ZpA)"
   ]
  },
  {
   "cell_type": "code",
   "execution_count": null,
   "id": "b3464176-c7b4-4d71-ac4c-8d069b730c92",
   "metadata": {},
   "outputs": [],
   "source": [
    "from datetime import datetime\n",
    "import cartopy.crs as ccrs\n",
    "import cartopy.feature as cfeature\n",
    "import matplotlib.pyplot as plt\n",
    "import metpy\n",
    "from metpy.plots import add_timestamp\n",
    "import numpy as np\n",
    "from siphon.catalog import TDSCatalog"
   ]
  },
  {
   "cell_type": "code",
   "execution_count": null,
   "id": "9448dce0-3662-44c5-9cb8-5c97b44d51f8",
   "metadata": {},
   "outputs": [],
   "source": [
    "def open_dataset(date, channel, idx, region):\n",
    "    \"\"\"\n",
    "    Open and return dataset from GOES for given parameters.\n",
    "    \"\"\"\n",
    "    cat = TDSCatalog(f'https://thredds.ucar.edu/thredds/catalog/satellite/goes/east/products/CloudAndMoistureImagery/{region}/Channel{channel:02d}/{date:%Y%m%d}/catalog.xml')\n",
    "    ds = cat.datasets[idx]\n",
    "    ds = ds.remote_access(use_xarray=True)\n",
    "    return ds"
   ]
  },
  {
   "cell_type": "code",
   "execution_count": null,
   "id": "b291760f-8f29-4f7c-95d9-d4d7d09a883e",
   "metadata": {},
   "outputs": [],
   "source": [
    "date = datetime(2023, 2, 2)\n",
    "region = 'CONUS'\n",
    "idx = 220"
   ]
  },
  {
   "cell_type": "code",
   "execution_count": null,
   "id": "2ab9fbbe-e901-4fa2-9612-2c441edd2f44",
   "metadata": {},
   "outputs": [],
   "source": [
    "red_ds = open_dataset(date, 2, idx, region)\n",
    "veggie_ds = open_dataset(date, 3, idx, region)\n",
    "blue_ds = open_dataset(date, 1, idx, region)"
   ]
  },
  {
   "cell_type": "code",
   "execution_count": null,
   "id": "4b92b3cd-18c8-4015-8abd-ed7cc4648319",
   "metadata": {},
   "outputs": [],
   "source": [
    "red_ds"
   ]
  },
  {
   "cell_type": "code",
   "execution_count": null,
   "id": "1f3cdd78-9cc0-4375-a7d7-5e9929867cba",
   "metadata": {},
   "outputs": [],
   "source": [
    "data = {'red': np.clip(red_ds['Sectorized_CMI'][::2, ::2], 0, 1),\n",
    "        'veggie': np.clip(veggie_ds['Sectorized_CMI'], 0, 1),\n",
    "        'blue': np.clip(blue_ds['Sectorized_CMI'], 0, 1)}"
   ]
  },
  {
   "cell_type": "code",
   "execution_count": null,
   "id": "b420ca1b-bd9b-47df-b110-2ca6f89e8d13",
   "metadata": {},
   "outputs": [],
   "source": [
    "data['color_image'] = np.dstack((data['red'], data['veggie'], data['blue']))"
   ]
  },
  {
   "cell_type": "code",
   "execution_count": null,
   "id": "6b5ee9c8-cf86-4e03-a0d4-ccbba63c2005",
   "metadata": {},
   "outputs": [],
   "source": [
    "dat = blue_ds.metpy.parse_cf('Sectorized_CMI')\n",
    "proj = dat.metpy.cartopy_crs\n",
    "x = dat['x']\n",
    "y = dat['y']\n",
    "\n",
    "fig = plt.figure(figsize=(10, 10))\n",
    "ax = fig.add_subplot(1, 1, 1, projection=proj)\n",
    "\n",
    "ax.add_feature(cfeature.COASTLINE, linewidth=2)\n",
    "ax.add_feature(cfeature.STATES, linestyle=':', edgecolor='black')\n",
    "ax.add_feature(cfeature.BORDERS, linewidth=2, edgecolor='black')\n",
    "\n",
    "im = ax.imshow(data['color_image'], extent=(x.min(), x.max(), y.min(), y.max()), origin='upper')\n",
    "\n",
    "timestamp = datetime.strptime(blue_ds.start_date_time, '%Y%j%H%M%S')\n",
    "\n",
    "add_timestamp(ax, time=timestamp, high_contrast=True,\n",
    "              pretext=f'GOES 16 ',\n",
    "              time_format='%d %B %Y %H%MZ', y=0.01,\n",
    "              fontsize=18)"
   ]
  },
  {
   "cell_type": "code",
   "execution_count": null,
   "id": "a7b4a150-5b8f-4375-baef-e88ee2c25b48",
   "metadata": {},
   "outputs": [],
   "source": []
  }
 ],
 "metadata": {
  "kernelspec": {
   "display_name": "base",
   "language": "python",
   "name": "python3"
  },
  "language_info": {
   "codemirror_mode": {
    "name": "ipython",
    "version": 3
   },
   "file_extension": ".py",
   "mimetype": "text/x-python",
   "name": "python",
   "nbconvert_exporter": "python",
   "pygments_lexer": "ipython3",
   "version": "3.9.16"
  },
  "vscode": {
   "interpreter": {
    "hash": "b5cfa023891fceef02537f80a4c6e95b77988fb973cdb16a51cdb785092210be"
   }
  }
 },
 "nbformat": 4,
 "nbformat_minor": 5
}
