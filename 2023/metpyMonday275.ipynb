{
 "cells": [
  {
   "attachments": {},
   "cell_type": "markdown",
   "id": "300844c3",
   "metadata": {},
   "source": [
    "## 275 - Control your netCDF Precision and Size!\n",
    "\n",
    "[Youtube](https://www.youtube.com/watch?v=gH7vueC2pA4)"
   ]
  },
  {
   "cell_type": "code",
   "execution_count": 15,
   "id": "9e6fc224-f989-46c8-918f-f05d7e784164",
   "metadata": {},
   "outputs": [],
   "source": [
    "import netCDF4 as nc"
   ]
  },
  {
   "cell_type": "code",
   "execution_count": 16,
   "id": "eb5baf1e-965d-44a6-86eb-f4771a151310",
   "metadata": {},
   "outputs": [],
   "source": [
    "file_name = 'wspd.nc'"
   ]
  },
  {
   "cell_type": "code",
   "execution_count": 17,
   "id": "fe6717fa-8750-49c4-bf33-8900255eff49",
   "metadata": {},
   "outputs": [],
   "source": [
    "source = nc.Dataset(file_name)\n",
    "destination = nc.Dataset(f'{file_name.strip(\".nc\")}_compressed.nc', mode='w')"
   ]
  },
  {
   "cell_type": "code",
   "execution_count": 18,
   "id": "14f70153-40ab-4ecf-b1c9-d0f8ae011746",
   "metadata": {},
   "outputs": [
    {
     "name": "stdout",
     "output_type": "stream",
     "text": [
      "Creating dimension x\n",
      "Creating dimension y\n",
      "Creating dimension time\n",
      "Creating dimension height_above_ground\n"
     ]
    }
   ],
   "source": [
    "for name, dim in source.dimensions.items():\n",
    "    print(f'Creating dimension {name}')\n",
    "    destination.createDimension(name, len(dim) if not dim.isunlimited() else None)"
   ]
  },
  {
   "cell_type": "code",
   "execution_count": 19,
   "id": "e46bbfe4-eb67-4a13-ae39-837ce3d9fc2d",
   "metadata": {},
   "outputs": [],
   "source": [
    "destination.setncatts({a:source.getncattr(a) for a in source.ncattrs()})"
   ]
  },
  {
   "cell_type": "code",
   "execution_count": 20,
   "id": "13d12e8f-fe42-4944-a6fd-70e467a06149",
   "metadata": {},
   "outputs": [
    {
     "name": "stdout",
     "output_type": "stream",
     "text": [
      "Creating Variable LambertConformal_Projection of type int32\n",
      "Creating Variable x of type float32\n",
      "Creating Variable y of type float32\n",
      "Creating Variable reftime of type float64\n",
      "Creating Variable time of type float64\n",
      "Creating Variable height_above_ground of type float32\n",
      "Creating Variable Wind_speed_height_above_ground of type float32\n"
     ]
    }
   ],
   "source": [
    "for name, var in source.variables.items():\n",
    "    print(f'Creating Variable {name} of type {var.dtype}')\n",
    "    destination.createVariable(name, var.dtype, var.dimensions, zlib=True,\n",
    "                               least_significant_digit=3, complevel=9)\n",
    "    \n",
    "    destination.variables[name].setncatts({a:var.getncattr(a) for a in var.ncattrs()})\n",
    "    \n",
    "    destination.variables[name][:] = source.variables[name][:]"
   ]
  },
  {
   "cell_type": "code",
   "execution_count": 21,
   "id": "c30f5a51-7ffb-4d63-94b6-465715099e5c",
   "metadata": {},
   "outputs": [],
   "source": [
    "source.close()\n",
    "destination.close()"
   ]
  },
  {
   "cell_type": "code",
   "execution_count": null,
   "id": "f85dd9bb-1d3b-419d-b0b9-b2de74a08b33",
   "metadata": {},
   "outputs": [],
   "source": []
  }
 ],
 "metadata": {
  "kernelspec": {
   "display_name": "Python 3 (ipykernel)",
   "language": "python",
   "name": "python3"
  },
  "language_info": {
   "codemirror_mode": {
    "name": "ipython",
    "version": 3
   },
   "file_extension": ".py",
   "mimetype": "text/x-python",
   "name": "python",
   "nbconvert_exporter": "python",
   "pygments_lexer": "ipython3",
   "version": "3.10.4"
  }
 },
 "nbformat": 4,
 "nbformat_minor": 5
}
