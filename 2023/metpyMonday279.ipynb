{
 "cells": [
  {
   "attachments": {},
   "cell_type": "markdown",
   "id": "8479fbeb",
   "metadata": {},
   "source": [
    "## 279 - Python Generators the Easy Way!\n",
    "\n",
    "[Youtube](https://www.youtube.com/watch?v=Cq9vC4-2czA)"
   ]
  },
  {
   "cell_type": "code",
   "execution_count": 9,
   "id": "97f0f8a7-ab7f-4ecb-a355-7639ffd864c8",
   "metadata": {},
   "outputs": [
    {
     "name": "stdout",
     "output_type": "stream",
     "text": [
      "CPU times: user 1.31 s, sys: 349 ms, total: 1.66 s\n",
      "Wall time: 1.66 s\n"
     ]
    }
   ],
   "source": [
    "%%time\n",
    "squares_list = [s**2 for s in range(5000000)]"
   ]
  },
  {
   "cell_type": "code",
   "execution_count": 10,
   "id": "5543951f-87ca-4b73-a43b-a2be31ef377a",
   "metadata": {},
   "outputs": [
    {
     "data": {
      "text/plain": [
       "[0, 1, 4, 9, 16, 25, 36, 49, 64, 81]"
      ]
     },
     "execution_count": 10,
     "metadata": {},
     "output_type": "execute_result"
    }
   ],
   "source": [
    "squares_list[:10]"
   ]
  },
  {
   "cell_type": "code",
   "execution_count": 11,
   "id": "70cd4ed6-7a17-49a0-b770-c957a57c7dda",
   "metadata": {},
   "outputs": [],
   "source": [
    "import sys"
   ]
  },
  {
   "cell_type": "code",
   "execution_count": 12,
   "id": "2a72b92c-c634-4030-a848-d2cf9734e01b",
   "metadata": {},
   "outputs": [
    {
     "data": {
      "text/plain": [
       "41.911949157714844"
      ]
     },
     "execution_count": 12,
     "metadata": {},
     "output_type": "execute_result"
    }
   ],
   "source": [
    "sys.getsizeof(squares_list) / 1024 / 1024"
   ]
  },
  {
   "cell_type": "code",
   "execution_count": 13,
   "id": "b49a32c1-9881-431f-96c3-02ca154d3d57",
   "metadata": {},
   "outputs": [
    {
     "name": "stdout",
     "output_type": "stream",
     "text": [
      "CPU times: user 7 µs, sys: 2 µs, total: 9 µs\n",
      "Wall time: 14.3 µs\n"
     ]
    }
   ],
   "source": [
    "%%time\n",
    "squares_generator = (s**2 for s in range(5000000))"
   ]
  },
  {
   "cell_type": "code",
   "execution_count": 14,
   "id": "6ee5cefe-99c0-4186-9b61-a44928fbd290",
   "metadata": {},
   "outputs": [
    {
     "data": {
      "text/plain": [
       "<generator object <genexpr> at 0x7f6d5c166eb0>"
      ]
     },
     "execution_count": 14,
     "metadata": {},
     "output_type": "execute_result"
    }
   ],
   "source": [
    "squares_generator"
   ]
  },
  {
   "cell_type": "code",
   "execution_count": 15,
   "id": "237fb27d-d499-43b0-be01-53a5889cd170",
   "metadata": {},
   "outputs": [
    {
     "data": {
      "text/plain": [
       "0"
      ]
     },
     "execution_count": 15,
     "metadata": {},
     "output_type": "execute_result"
    }
   ],
   "source": [
    "next(squares_generator)"
   ]
  },
  {
   "cell_type": "code",
   "execution_count": 16,
   "id": "8e0744aa-6bc4-4dba-a1cd-558f235be60e",
   "metadata": {},
   "outputs": [
    {
     "data": {
      "text/plain": [
       "112"
      ]
     },
     "execution_count": 16,
     "metadata": {},
     "output_type": "execute_result"
    }
   ],
   "source": [
    "sys.getsizeof(squares_generator)"
   ]
  },
  {
   "cell_type": "code",
   "execution_count": null,
   "id": "15e8c3f9-9166-4ea1-9d77-f1277b58b27e",
   "metadata": {},
   "outputs": [],
   "source": []
  }
 ],
 "metadata": {
  "kernelspec": {
   "display_name": "base",
   "language": "python",
   "name": "python3"
  },
  "language_info": {
   "codemirror_mode": {
    "name": "ipython",
    "version": 3
   },
   "file_extension": ".py",
   "mimetype": "text/x-python",
   "name": "python",
   "nbconvert_exporter": "python",
   "pygments_lexer": "ipython3",
   "version": "3.9.16"
  },
  "vscode": {
   "interpreter": {
    "hash": "b5cfa023891fceef02537f80a4c6e95b77988fb973cdb16a51cdb785092210be"
   }
  }
 },
 "nbformat": 4,
 "nbformat_minor": 5
}
