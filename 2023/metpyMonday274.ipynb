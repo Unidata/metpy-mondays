{
 "cells": [
  {
   "attachments": {},
   "cell_type": "markdown",
   "id": "deed163c",
   "metadata": {},
   "source": [
    "## 274 - Will it Compress? File Compression with Python\n",
    "\n",
    "[Youtube](https://www.youtube.com/watch?v=sl5YXp9k1JE)"
   ]
  },
  {
   "cell_type": "code",
   "execution_count": 1,
   "id": "fe109b2e-63bb-4d8f-a1d1-26533caed712",
   "metadata": {},
   "outputs": [],
   "source": [
    "import shutil\n",
    "from pathlib import Path"
   ]
  },
  {
   "cell_type": "code",
   "execution_count": 2,
   "id": "c01f3570-b129-4300-8179-ba25cc579598",
   "metadata": {},
   "outputs": [],
   "source": [
    "def compress_folder_and_check_sizes(folder):\n",
    "    \"\"\"\n",
    "    This function compresses the contents of folder using several different\n",
    "    techniques and compares the sizes in print outs.\n",
    "    \"\"\"\n",
    "    print(f'RAW {sum(file.stat().st_size for file in Path(folder).rglob(\"*\")) / 1024 / 1024 :.1f} MB')\n",
    "    for comp_type, ext in zip(['zip', 'tar', 'gztar', 'bztar'], ['zip', 'tar', 'tar.gz', 'tar.bz2']):\n",
    "        shutil.make_archive(f'{folder}_compressed', comp_type, Path(folder))\n",
    "        print(f'{ext} {Path(f\"{folder}_compressed.{ext}\").stat().st_size / 1024 / 1024 :.1f} MB')"
   ]
  },
  {
   "cell_type": "code",
   "execution_count": 3,
   "id": "bc4f9191-daf6-41fd-b9e6-7361dad0ce8f",
   "metadata": {},
   "outputs": [
    {
     "name": "stdout",
     "output_type": "stream",
     "text": [
      "RAW 222.7 MB\n",
      "zip 157.8 MB\n",
      "tar 222.7 MB\n",
      "tar.gz 157.1 MB\n",
      "tar.bz2 147.0 MB\n"
     ]
    }
   ],
   "source": [
    "compress_folder_and_check_sizes('grib_to_compress')"
   ]
  },
  {
   "cell_type": "code",
   "execution_count": 4,
   "id": "50c77a84-42d6-46fa-bda6-2a6f7952b605",
   "metadata": {},
   "outputs": [
    {
     "name": "stdout",
     "output_type": "stream",
     "text": [
      "RAW 124.2 MB\n",
      "zip 120.9 MB\n",
      "tar 124.3 MB\n",
      "tar.gz 120.9 MB\n",
      "tar.bz2 122.2 MB\n"
     ]
    }
   ],
   "source": [
    "compress_folder_and_check_sizes('netcdf_to_compress')"
   ]
  },
  {
   "cell_type": "code",
   "execution_count": 5,
   "id": "87fc79c7-a41b-446f-918a-b0faad21cefe",
   "metadata": {},
   "outputs": [
    {
     "name": "stdout",
     "output_type": "stream",
     "text": [
      "RAW 276.2 MB\n",
      "zip 270.8 MB\n",
      "tar 283.6 MB\n",
      "tar.gz 270.6 MB\n",
      "tar.bz2 251.8 MB\n"
     ]
    }
   ],
   "source": [
    "compress_folder_and_check_sizes('maps_to_compress')"
   ]
  },
  {
   "cell_type": "code",
   "execution_count": 6,
   "id": "39849253-735c-446f-be8f-c454a6de6607",
   "metadata": {},
   "outputs": [
    {
     "name": "stdout",
     "output_type": "stream",
     "text": [
      "RAW 10.6 MB\n",
      "zip 3.1 MB\n",
      "tar 10.7 MB\n",
      "tar.gz 3.1 MB\n",
      "tar.bz2 2.5 MB\n"
     ]
    }
   ],
   "source": [
    "compress_folder_and_check_sizes('text_to_compress')"
   ]
  },
  {
   "cell_type": "code",
   "execution_count": null,
   "id": "41196d25-7a3b-40b5-ae7d-eb1c4431d39f",
   "metadata": {},
   "outputs": [],
   "source": []
  }
 ],
 "metadata": {
  "kernelspec": {
   "display_name": "Python 3 (ipykernel)",
   "language": "python",
   "name": "python3"
  },
  "language_info": {
   "codemirror_mode": {
    "name": "ipython",
    "version": 3
   },
   "file_extension": ".py",
   "mimetype": "text/x-python",
   "name": "python",
   "nbconvert_exporter": "python",
   "pygments_lexer": "ipython3",
   "version": "3.10.4"
  }
 },
 "nbformat": 4,
 "nbformat_minor": 5
}
