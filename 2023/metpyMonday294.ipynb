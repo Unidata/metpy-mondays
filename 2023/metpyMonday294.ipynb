{
 "cells": [
  {
   "attachments": {},
   "cell_type": "markdown",
   "id": "67226acc",
   "metadata": {},
   "source": [
    "## 294 - Which Sounding Archive to Use?\n",
    "\n",
    "[Youtube](https://www.youtube.com/watch?v=5QvymBvoeTY)"
   ]
  },
  {
   "cell_type": "code",
   "execution_count": 1,
   "id": "038d4544-8757-4f87-80e1-5aaaeb4c85a7",
   "metadata": {},
   "outputs": [],
   "source": [
    "from datetime import datetime, timedelta\n",
    "from siphon.simplewebservice.igra2 import IGRAUpperAir\n",
    "from siphon.simplewebservice.iastate import IAStateUpperAir\n",
    "from siphon.simplewebservice.wyoming import WyomingUpperAir"
   ]
  },
  {
   "cell_type": "code",
   "execution_count": 2,
   "id": "7c7a81b7-b36c-4789-ae1e-fe5f314b7ffe",
   "metadata": {},
   "outputs": [],
   "source": [
    "date = datetime(2023, 7, 20, 12)"
   ]
  },
  {
   "cell_type": "code",
   "execution_count": 3,
   "id": "4bb59490-180e-4b04-93a1-64ad422b1ea8",
   "metadata": {},
   "outputs": [],
   "source": [
    "station = 'OUN'"
   ]
  },
  {
   "cell_type": "markdown",
   "id": "d9158ac8-6d76-4f89-bd16-2e41d783ec33",
   "metadata": {},
   "source": [
    "# Wyoming"
   ]
  },
  {
   "cell_type": "code",
   "execution_count": 4,
   "id": "a18ab761-57fb-42ef-a385-91c2d8665f91",
   "metadata": {},
   "outputs": [
    {
     "name": "stderr",
     "output_type": "stream",
     "text": [
      "C:\\Users\\jleeman\\miniconda3\\envs\\daily\\lib\\site-packages\\siphon\\simplewebservice\\wyoming.py:108: UserWarning: Pandas doesn't allow columns to be created via a new attribute name - see https://pandas.pydata.org/pandas-docs/stable/indexing.html#attribute-access\n",
      "  df.units = {'pressure': 'hPa',\n"
     ]
    }
   ],
   "source": [
    "df_wyoming = WyomingUpperAir.request_data(date, station)"
   ]
  },
  {
   "cell_type": "code",
   "execution_count": 5,
   "id": "baddc467-31a4-477b-ad42-395709014aed",
   "metadata": {},
   "outputs": [
    {
     "data": {
      "text/html": [
       "<div>\n",
       "<style scoped>\n",
       "    .dataframe tbody tr th:only-of-type {\n",
       "        vertical-align: middle;\n",
       "    }\n",
       "\n",
       "    .dataframe tbody tr th {\n",
       "        vertical-align: top;\n",
       "    }\n",
       "\n",
       "    .dataframe thead th {\n",
       "        text-align: right;\n",
       "    }\n",
       "</style>\n",
       "<table border=\"1\" class=\"dataframe\">\n",
       "  <thead>\n",
       "    <tr style=\"text-align: right;\">\n",
       "      <th></th>\n",
       "      <th>pressure</th>\n",
       "      <th>height</th>\n",
       "      <th>temperature</th>\n",
       "      <th>dewpoint</th>\n",
       "      <th>direction</th>\n",
       "      <th>speed</th>\n",
       "      <th>u_wind</th>\n",
       "      <th>v_wind</th>\n",
       "      <th>station</th>\n",
       "      <th>station_number</th>\n",
       "      <th>time</th>\n",
       "      <th>latitude</th>\n",
       "      <th>longitude</th>\n",
       "      <th>elevation</th>\n",
       "      <th>pw</th>\n",
       "    </tr>\n",
       "  </thead>\n",
       "  <tbody>\n",
       "    <tr>\n",
       "      <th>0</th>\n",
       "      <td>976.0</td>\n",
       "      <td>345</td>\n",
       "      <td>25.2</td>\n",
       "      <td>20.3</td>\n",
       "      <td>140.0</td>\n",
       "      <td>3.0</td>\n",
       "      <td>-1.928363</td>\n",
       "      <td>2.298133</td>\n",
       "      <td>OUN</td>\n",
       "      <td>72357</td>\n",
       "      <td>2023-07-20 12:00:00</td>\n",
       "      <td>35.18</td>\n",
       "      <td>-97.44</td>\n",
       "      <td>345.0</td>\n",
       "      <td>39.19</td>\n",
       "    </tr>\n",
       "    <tr>\n",
       "      <th>1</th>\n",
       "      <td>969.0</td>\n",
       "      <td>409</td>\n",
       "      <td>26.8</td>\n",
       "      <td>17.8</td>\n",
       "      <td>175.0</td>\n",
       "      <td>6.0</td>\n",
       "      <td>-0.522934</td>\n",
       "      <td>5.977168</td>\n",
       "      <td>OUN</td>\n",
       "      <td>72357</td>\n",
       "      <td>2023-07-20 12:00:00</td>\n",
       "      <td>35.18</td>\n",
       "      <td>-97.44</td>\n",
       "      <td>345.0</td>\n",
       "      <td>39.19</td>\n",
       "    </tr>\n",
       "    <tr>\n",
       "      <th>2</th>\n",
       "      <td>959.0</td>\n",
       "      <td>501</td>\n",
       "      <td>26.9</td>\n",
       "      <td>17.3</td>\n",
       "      <td>225.0</td>\n",
       "      <td>10.0</td>\n",
       "      <td>7.071068</td>\n",
       "      <td>7.071068</td>\n",
       "      <td>OUN</td>\n",
       "      <td>72357</td>\n",
       "      <td>2023-07-20 12:00:00</td>\n",
       "      <td>35.18</td>\n",
       "      <td>-97.44</td>\n",
       "      <td>345.0</td>\n",
       "      <td>39.19</td>\n",
       "    </tr>\n",
       "    <tr>\n",
       "      <th>3</th>\n",
       "      <td>932.0</td>\n",
       "      <td>754</td>\n",
       "      <td>27.3</td>\n",
       "      <td>15.8</td>\n",
       "      <td>215.0</td>\n",
       "      <td>28.0</td>\n",
       "      <td>16.060140</td>\n",
       "      <td>22.936257</td>\n",
       "      <td>OUN</td>\n",
       "      <td>72357</td>\n",
       "      <td>2023-07-20 12:00:00</td>\n",
       "      <td>35.18</td>\n",
       "      <td>-97.44</td>\n",
       "      <td>345.0</td>\n",
       "      <td>39.19</td>\n",
       "    </tr>\n",
       "    <tr>\n",
       "      <th>4</th>\n",
       "      <td>925.0</td>\n",
       "      <td>821</td>\n",
       "      <td>27.4</td>\n",
       "      <td>15.4</td>\n",
       "      <td>220.0</td>\n",
       "      <td>33.0</td>\n",
       "      <td>21.211991</td>\n",
       "      <td>25.279467</td>\n",
       "      <td>OUN</td>\n",
       "      <td>72357</td>\n",
       "      <td>2023-07-20 12:00:00</td>\n",
       "      <td>35.18</td>\n",
       "      <td>-97.44</td>\n",
       "      <td>345.0</td>\n",
       "      <td>39.19</td>\n",
       "    </tr>\n",
       "  </tbody>\n",
       "</table>\n",
       "</div>"
      ],
      "text/plain": [
       "   pressure  height  temperature  dewpoint  direction  ...                time  latitude  longitude elevation     pw\n",
       "0     976.0     345         25.2      20.3      140.0  ... 2023-07-20 12:00:00     35.18     -97.44     345.0  39.19\n",
       "1     969.0     409         26.8      17.8      175.0  ... 2023-07-20 12:00:00     35.18     -97.44     345.0  39.19\n",
       "2     959.0     501         26.9      17.3      225.0  ... 2023-07-20 12:00:00     35.18     -97.44     345.0  39.19\n",
       "3     932.0     754         27.3      15.8      215.0  ... 2023-07-20 12:00:00     35.18     -97.44     345.0  39.19\n",
       "4     925.0     821         27.4      15.4      220.0  ... 2023-07-20 12:00:00     35.18     -97.44     345.0  39.19\n",
       "\n",
       "[5 rows x 15 columns]"
      ]
     },
     "execution_count": 5,
     "metadata": {},
     "output_type": "execute_result"
    }
   ],
   "source": [
    "df_wyoming.head()"
   ]
  },
  {
   "cell_type": "markdown",
   "id": "0b0581c1-3d8d-4346-8cd8-0b67098a6273",
   "metadata": {},
   "source": [
    "# IA State"
   ]
  },
  {
   "cell_type": "code",
   "execution_count": 6,
   "id": "9ed03f90-eabf-4c5f-acf0-4d60743a5033",
   "metadata": {},
   "outputs": [
    {
     "name": "stderr",
     "output_type": "stream",
     "text": [
      "C:\\Users\\jleeman\\miniconda3\\envs\\daily\\lib\\site-packages\\siphon\\simplewebservice\\iastate.py:137: UserWarning: Pandas doesn't allow columns to be created via a new attribute name - see https://pandas.pydata.org/pandas-docs/stable/indexing.html#attribute-access\n",
      "  df.units = {'pressure': 'hPa',\n"
     ]
    }
   ],
   "source": [
    "df_ia = IAStateUpperAir.request_data(date, station)"
   ]
  },
  {
   "cell_type": "code",
   "execution_count": 7,
   "id": "d6c96abc-0cc9-4dda-bdbe-3a527d00c277",
   "metadata": {},
   "outputs": [
    {
     "data": {
      "text/html": [
       "<div>\n",
       "<style scoped>\n",
       "    .dataframe tbody tr th:only-of-type {\n",
       "        vertical-align: middle;\n",
       "    }\n",
       "\n",
       "    .dataframe tbody tr th {\n",
       "        vertical-align: top;\n",
       "    }\n",
       "\n",
       "    .dataframe thead th {\n",
       "        text-align: right;\n",
       "    }\n",
       "</style>\n",
       "<table border=\"1\" class=\"dataframe\">\n",
       "  <thead>\n",
       "    <tr style=\"text-align: right;\">\n",
       "      <th></th>\n",
       "      <th>pressure</th>\n",
       "      <th>height</th>\n",
       "      <th>temperature</th>\n",
       "      <th>dewpoint</th>\n",
       "      <th>direction</th>\n",
       "      <th>speed</th>\n",
       "      <th>station</th>\n",
       "      <th>time</th>\n",
       "      <th>u_wind</th>\n",
       "      <th>v_wind</th>\n",
       "    </tr>\n",
       "  </thead>\n",
       "  <tbody>\n",
       "    <tr>\n",
       "      <th>0</th>\n",
       "      <td>976.0</td>\n",
       "      <td>362.0</td>\n",
       "      <td>25.2</td>\n",
       "      <td>20.3</td>\n",
       "      <td>140.0</td>\n",
       "      <td>3.0</td>\n",
       "      <td>KOUN</td>\n",
       "      <td>2023-07-20 12:00:00</td>\n",
       "      <td>-1.928363</td>\n",
       "      <td>2.298133</td>\n",
       "    </tr>\n",
       "    <tr>\n",
       "      <th>1</th>\n",
       "      <td>969.0</td>\n",
       "      <td>426.0</td>\n",
       "      <td>26.8</td>\n",
       "      <td>17.8</td>\n",
       "      <td>NaN</td>\n",
       "      <td>NaN</td>\n",
       "      <td>KOUN</td>\n",
       "      <td>2023-07-20 12:00:00</td>\n",
       "      <td>NaN</td>\n",
       "      <td>NaN</td>\n",
       "    </tr>\n",
       "    <tr>\n",
       "      <th>2</th>\n",
       "      <td>948.3</td>\n",
       "      <td>609.0</td>\n",
       "      <td>NaN</td>\n",
       "      <td>NaN</td>\n",
       "      <td>220.0</td>\n",
       "      <td>16.0</td>\n",
       "      <td>KOUN</td>\n",
       "      <td>2023-07-20 12:00:00</td>\n",
       "      <td>10.284602</td>\n",
       "      <td>12.256711</td>\n",
       "    </tr>\n",
       "    <tr>\n",
       "      <th>3</th>\n",
       "      <td>925.0</td>\n",
       "      <td>821.0</td>\n",
       "      <td>27.4</td>\n",
       "      <td>15.4</td>\n",
       "      <td>220.0</td>\n",
       "      <td>33.0</td>\n",
       "      <td>KOUN</td>\n",
       "      <td>2023-07-20 12:00:00</td>\n",
       "      <td>21.211991</td>\n",
       "      <td>25.279467</td>\n",
       "    </tr>\n",
       "    <tr>\n",
       "      <th>4</th>\n",
       "      <td>915.3</td>\n",
       "      <td>914.0</td>\n",
       "      <td>NaN</td>\n",
       "      <td>NaN</td>\n",
       "      <td>225.0</td>\n",
       "      <td>34.0</td>\n",
       "      <td>KOUN</td>\n",
       "      <td>2023-07-20 12:00:00</td>\n",
       "      <td>24.041631</td>\n",
       "      <td>24.041631</td>\n",
       "    </tr>\n",
       "  </tbody>\n",
       "</table>\n",
       "</div>"
      ],
      "text/plain": [
       "   pressure  height  temperature  dewpoint  direction  speed station                time     u_wind     v_wind\n",
       "0     976.0   362.0         25.2      20.3      140.0    3.0    KOUN 2023-07-20 12:00:00  -1.928363   2.298133\n",
       "1     969.0   426.0         26.8      17.8        NaN    NaN    KOUN 2023-07-20 12:00:00        NaN        NaN\n",
       "2     948.3   609.0          NaN       NaN      220.0   16.0    KOUN 2023-07-20 12:00:00  10.284602  12.256711\n",
       "3     925.0   821.0         27.4      15.4      220.0   33.0    KOUN 2023-07-20 12:00:00  21.211991  25.279467\n",
       "4     915.3   914.0          NaN       NaN      225.0   34.0    KOUN 2023-07-20 12:00:00  24.041631  24.041631"
      ]
     },
     "execution_count": 7,
     "metadata": {},
     "output_type": "execute_result"
    }
   ],
   "source": [
    "df_ia.head()"
   ]
  },
  {
   "cell_type": "code",
   "execution_count": 8,
   "id": "8665fa77-4f39-46fb-8d5c-2aff189ea971",
   "metadata": {},
   "outputs": [
    {
     "name": "stderr",
     "output_type": "stream",
     "text": [
      "C:\\Users\\jleeman\\miniconda3\\envs\\daily\\lib\\site-packages\\siphon\\simplewebservice\\iastate.py:137: UserWarning: Pandas doesn't allow columns to be created via a new attribute name - see https://pandas.pydata.org/pandas-docs/stable/indexing.html#attribute-access\n",
      "  df.units = {'pressure': 'hPa',\n"
     ]
    }
   ],
   "source": [
    "df = IAStateUpperAir.request_all_data(date)"
   ]
  },
  {
   "cell_type": "code",
   "execution_count": 9,
   "id": "3e541538-40a9-4869-95ce-574999577188",
   "metadata": {},
   "outputs": [
    {
     "data": {
      "text/html": [
       "<div>\n",
       "<style scoped>\n",
       "    .dataframe tbody tr th:only-of-type {\n",
       "        vertical-align: middle;\n",
       "    }\n",
       "\n",
       "    .dataframe tbody tr th {\n",
       "        vertical-align: top;\n",
       "    }\n",
       "\n",
       "    .dataframe thead th {\n",
       "        text-align: right;\n",
       "    }\n",
       "</style>\n",
       "<table border=\"1\" class=\"dataframe\">\n",
       "  <thead>\n",
       "    <tr style=\"text-align: right;\">\n",
       "      <th></th>\n",
       "      <th>pressure</th>\n",
       "      <th>height</th>\n",
       "      <th>temperature</th>\n",
       "      <th>dewpoint</th>\n",
       "      <th>direction</th>\n",
       "      <th>speed</th>\n",
       "      <th>station</th>\n",
       "      <th>time</th>\n",
       "      <th>u_wind</th>\n",
       "      <th>v_wind</th>\n",
       "    </tr>\n",
       "  </thead>\n",
       "  <tbody>\n",
       "    <tr>\n",
       "      <th>0</th>\n",
       "      <td>968.0</td>\n",
       "      <td>386.0</td>\n",
       "      <td>14.0</td>\n",
       "      <td>12.7</td>\n",
       "      <td>290.0</td>\n",
       "      <td>6.0</td>\n",
       "      <td>CWPL</td>\n",
       "      <td>2023-07-20 12:00:00</td>\n",
       "      <td>5.638156</td>\n",
       "      <td>-2.052121</td>\n",
       "    </tr>\n",
       "    <tr>\n",
       "      <th>1</th>\n",
       "      <td>964.0</td>\n",
       "      <td>421.0</td>\n",
       "      <td>13.8</td>\n",
       "      <td>12.5</td>\n",
       "      <td>NaN</td>\n",
       "      <td>NaN</td>\n",
       "      <td>CWPL</td>\n",
       "      <td>2023-07-20 12:00:00</td>\n",
       "      <td>NaN</td>\n",
       "      <td>NaN</td>\n",
       "    </tr>\n",
       "    <tr>\n",
       "      <th>2</th>\n",
       "      <td>954.0</td>\n",
       "      <td>509.0</td>\n",
       "      <td>17.0</td>\n",
       "      <td>10.0</td>\n",
       "      <td>NaN</td>\n",
       "      <td>NaN</td>\n",
       "      <td>CWPL</td>\n",
       "      <td>2023-07-20 12:00:00</td>\n",
       "      <td>NaN</td>\n",
       "      <td>NaN</td>\n",
       "    </tr>\n",
       "    <tr>\n",
       "      <th>3</th>\n",
       "      <td>946.0</td>\n",
       "      <td>580.0</td>\n",
       "      <td>17.2</td>\n",
       "      <td>9.2</td>\n",
       "      <td>NaN</td>\n",
       "      <td>NaN</td>\n",
       "      <td>CWPL</td>\n",
       "      <td>2023-07-20 12:00:00</td>\n",
       "      <td>NaN</td>\n",
       "      <td>NaN</td>\n",
       "    </tr>\n",
       "    <tr>\n",
       "      <th>4</th>\n",
       "      <td>942.8</td>\n",
       "      <td>609.0</td>\n",
       "      <td>NaN</td>\n",
       "      <td>NaN</td>\n",
       "      <td>340.0</td>\n",
       "      <td>7.0</td>\n",
       "      <td>CWPL</td>\n",
       "      <td>2023-07-20 12:00:00</td>\n",
       "      <td>2.394141</td>\n",
       "      <td>-6.577848</td>\n",
       "    </tr>\n",
       "  </tbody>\n",
       "</table>\n",
       "</div>"
      ],
      "text/plain": [
       "   pressure  height  temperature  dewpoint  direction  speed station                time    u_wind    v_wind\n",
       "0     968.0   386.0         14.0      12.7      290.0    6.0    CWPL 2023-07-20 12:00:00  5.638156 -2.052121\n",
       "1     964.0   421.0         13.8      12.5        NaN    NaN    CWPL 2023-07-20 12:00:00       NaN       NaN\n",
       "2     954.0   509.0         17.0      10.0        NaN    NaN    CWPL 2023-07-20 12:00:00       NaN       NaN\n",
       "3     946.0   580.0         17.2       9.2        NaN    NaN    CWPL 2023-07-20 12:00:00       NaN       NaN\n",
       "4     942.8   609.0          NaN       NaN      340.0    7.0    CWPL 2023-07-20 12:00:00  2.394141 -6.577848"
      ]
     },
     "execution_count": 9,
     "metadata": {},
     "output_type": "execute_result"
    }
   ],
   "source": [
    "df.head()"
   ]
  },
  {
   "cell_type": "markdown",
   "id": "90f03518-2e78-45de-8679-0c5b788369ed",
   "metadata": {},
   "source": [
    "# IGRA"
   ]
  },
  {
   "cell_type": "code",
   "execution_count": 10,
   "id": "6a6a65e6-fdf4-42f0-87f9-8c36b07a8433",
   "metadata": {},
   "outputs": [
    {
     "name": "stderr",
     "output_type": "stream",
     "text": [
      "C:\\Users\\jleeman\\miniconda3\\envs\\daily\\lib\\site-packages\\siphon\\simplewebservice\\igra2.py:405: UserWarning: Pandas doesn't allow columns to be created via a new attribute name - see https://pandas.pydata.org/pandas-docs/stable/indexing.html#attribute-access\n",
      "  df.units = {'etime': 'second',\n",
      "C:\\Users\\jleeman\\miniconda3\\envs\\daily\\lib\\site-packages\\siphon\\simplewebservice\\igra2.py:443: UserWarning: Pandas doesn't allow columns to be created via a new attribute name - see https://pandas.pydata.org/pandas-docs/stable/indexing.html#attribute-access\n",
      "  df.units = {'release_time': 'second',\n"
     ]
    }
   ],
   "source": [
    "df_igra = IGRAUpperAir.request_data(date, 'USM00072357')"
   ]
  },
  {
   "cell_type": "code",
   "execution_count": 12,
   "id": "67975ced-96a0-4afc-932c-9fabeace3e3d",
   "metadata": {},
   "outputs": [
    {
     "data": {
      "text/html": [
       "<div>\n",
       "<style scoped>\n",
       "    .dataframe tbody tr th:only-of-type {\n",
       "        vertical-align: middle;\n",
       "    }\n",
       "\n",
       "    .dataframe tbody tr th {\n",
       "        vertical-align: top;\n",
       "    }\n",
       "\n",
       "    .dataframe thead th {\n",
       "        text-align: right;\n",
       "    }\n",
       "</style>\n",
       "<table border=\"1\" class=\"dataframe\">\n",
       "  <thead>\n",
       "    <tr style=\"text-align: right;\">\n",
       "      <th></th>\n",
       "      <th>lvltyp1</th>\n",
       "      <th>lvltyp2</th>\n",
       "      <th>etime</th>\n",
       "      <th>pressure</th>\n",
       "      <th>pflag</th>\n",
       "      <th>height</th>\n",
       "      <th>zflag</th>\n",
       "      <th>temperature</th>\n",
       "      <th>tflag</th>\n",
       "      <th>relative_humidity</th>\n",
       "      <th>direction</th>\n",
       "      <th>speed</th>\n",
       "      <th>date</th>\n",
       "      <th>u_wind</th>\n",
       "      <th>v_wind</th>\n",
       "      <th>dewpoint</th>\n",
       "    </tr>\n",
       "  </thead>\n",
       "  <tbody>\n",
       "    <tr>\n",
       "      <th>0</th>\n",
       "      <td>2</td>\n",
       "      <td>1</td>\n",
       "      <td>0.0</td>\n",
       "      <td>976.11</td>\n",
       "      <td>2</td>\n",
       "      <td>345</td>\n",
       "      <td>0</td>\n",
       "      <td>25.3</td>\n",
       "      <td>2</td>\n",
       "      <td>74.0</td>\n",
       "      <td>140</td>\n",
       "      <td>1.5</td>\n",
       "      <td>2023-07-20 12:00:00</td>\n",
       "      <td>-1.0</td>\n",
       "      <td>1.1</td>\n",
       "      <td>20.4</td>\n",
       "    </tr>\n",
       "    <tr>\n",
       "      <th>1</th>\n",
       "      <td>2</td>\n",
       "      <td>0</td>\n",
       "      <td>9.0</td>\n",
       "      <td>968.91</td>\n",
       "      <td>0</td>\n",
       "      <td>410</td>\n",
       "      <td>2</td>\n",
       "      <td>27.0</td>\n",
       "      <td>2</td>\n",
       "      <td>57.5</td>\n",
       "      <td>231</td>\n",
       "      <td>1.7</td>\n",
       "      <td>2023-07-20 12:00:00</td>\n",
       "      <td>1.3</td>\n",
       "      <td>1.1</td>\n",
       "      <td>17.9</td>\n",
       "    </tr>\n",
       "    <tr>\n",
       "      <th>2</th>\n",
       "      <td>2</td>\n",
       "      <td>0</td>\n",
       "      <td>23.0</td>\n",
       "      <td>959.40</td>\n",
       "      <td>0</td>\n",
       "      <td>497</td>\n",
       "      <td>2</td>\n",
       "      <td>26.8</td>\n",
       "      <td>2</td>\n",
       "      <td>55.2</td>\n",
       "      <td>223</td>\n",
       "      <td>5.2</td>\n",
       "      <td>2023-07-20 12:00:00</td>\n",
       "      <td>3.5</td>\n",
       "      <td>3.8</td>\n",
       "      <td>17.1</td>\n",
       "    </tr>\n",
       "    <tr>\n",
       "      <th>3</th>\n",
       "      <td>2</td>\n",
       "      <td>0</td>\n",
       "      <td>68.0</td>\n",
       "      <td>931.75</td>\n",
       "      <td>0</td>\n",
       "      <td>756</td>\n",
       "      <td>2</td>\n",
       "      <td>27.3</td>\n",
       "      <td>2</td>\n",
       "      <td>49.8</td>\n",
       "      <td>215</td>\n",
       "      <td>14.6</td>\n",
       "      <td>2023-07-20 12:00:00</td>\n",
       "      <td>8.4</td>\n",
       "      <td>12.0</td>\n",
       "      <td>16.0</td>\n",
       "    </tr>\n",
       "    <tr>\n",
       "      <th>4</th>\n",
       "      <td>1</td>\n",
       "      <td>0</td>\n",
       "      <td>77.0</td>\n",
       "      <td>925.00</td>\n",
       "      <td>0</td>\n",
       "      <td>821</td>\n",
       "      <td>2</td>\n",
       "      <td>27.6</td>\n",
       "      <td>2</td>\n",
       "      <td>48.5</td>\n",
       "      <td>218</td>\n",
       "      <td>16.7</td>\n",
       "      <td>2023-07-20 12:00:00</td>\n",
       "      <td>10.3</td>\n",
       "      <td>13.2</td>\n",
       "      <td>15.8</td>\n",
       "    </tr>\n",
       "  </tbody>\n",
       "</table>\n",
       "</div>"
      ],
      "text/plain": [
       "   lvltyp1  lvltyp2  etime  pressure  pflag  height  ...  direction  speed                date  u_wind  v_wind  dewpoint\n",
       "0        2        1    0.0    976.11      2     345  ...        140    1.5 2023-07-20 12:00:00    -1.0     1.1      20.4\n",
       "1        2        0    9.0    968.91      0     410  ...        231    1.7 2023-07-20 12:00:00     1.3     1.1      17.9\n",
       "2        2        0   23.0    959.40      0     497  ...        223    5.2 2023-07-20 12:00:00     3.5     3.8      17.1\n",
       "3        2        0   68.0    931.75      0     756  ...        215   14.6 2023-07-20 12:00:00     8.4    12.0      16.0\n",
       "4        1        0   77.0    925.00      0     821  ...        218   16.7 2023-07-20 12:00:00    10.3    13.2      15.8\n",
       "\n",
       "[5 rows x 16 columns]"
      ]
     },
     "execution_count": 12,
     "metadata": {},
     "output_type": "execute_result"
    }
   ],
   "source": [
    "df_igra[0].head()"
   ]
  },
  {
   "cell_type": "code",
   "execution_count": 13,
   "id": "e96dbbbc-1901-4027-9413-0a3292b425c8",
   "metadata": {},
   "outputs": [
    {
     "name": "stderr",
     "output_type": "stream",
     "text": [
      "C:\\Users\\jleeman\\miniconda3\\envs\\daily\\lib\\site-packages\\siphon\\simplewebservice\\igra2.py:405: UserWarning: Pandas doesn't allow columns to be created via a new attribute name - see https://pandas.pydata.org/pandas-docs/stable/indexing.html#attribute-access\n",
      "  df.units = {'etime': 'second',\n",
      "C:\\Users\\jleeman\\miniconda3\\envs\\daily\\lib\\site-packages\\siphon\\simplewebservice\\igra2.py:443: UserWarning: Pandas doesn't allow columns to be created via a new attribute name - see https://pandas.pydata.org/pandas-docs/stable/indexing.html#attribute-access\n",
      "  df.units = {'release_time': 'second',\n"
     ]
    }
   ],
   "source": [
    "df = IGRAUpperAir.request_data([date - timedelta(days=1), date], 'USM00072357')"
   ]
  },
  {
   "cell_type": "code",
   "execution_count": 14,
   "id": "7fb0824e-dcc2-44b4-bff6-40d5540ea8b3",
   "metadata": {},
   "outputs": [
    {
     "data": {
      "text/plain": [
       "(     lvltyp1  lvltyp2  etime  pressure  pflag  height  ...  direction  speed                date  u_wind  v_wind  dewpoint\n",
       " 0          2        1    0.0    972.61      2     345  ...        180    3.1 2023-07-19 12:00:00    -0.0     3.1      17.9\n",
       " 1          2        0   14.0    963.65      0     426  ...        194   11.7 2023-07-19 12:00:00     2.8    11.4      15.9\n",
       " 2          2        0   22.0    958.47      0     474  ...        199   14.7 2023-07-19 12:00:00     4.8    13.9      15.5\n",
       " 3          2        0   29.0    954.46      0     511  ...        203   17.1 2023-07-19 12:00:00     6.7    15.7      15.1\n",
       " 4          2        0   45.0    944.09      0     609  ...        210   22.0 2023-07-19 12:00:00    11.0    19.1      14.1\n",
       " ..       ...      ...    ...       ...    ...     ...  ...        ...    ...                 ...     ...     ...       ...\n",
       " 687        3        0    NaN       NaN      0   31000  ...         95   21.1 2023-07-20 12:00:00   -21.0     1.8       NaN\n",
       " 688        3        0    NaN       NaN      0   31500  ...         75   18.5 2023-07-20 12:00:00   -17.9    -4.8       NaN\n",
       " 689        3        0    NaN       NaN      0   32000  ...         70   25.2 2023-07-20 12:00:00   -23.7    -8.6       NaN\n",
       " 690        3        0    NaN       NaN      0   33000  ...         90   18.0 2023-07-20 12:00:00   -18.0    -0.0       NaN\n",
       " 691        3        0    NaN       NaN      0   34000  ...         90   23.1 2023-07-20 12:00:00   -23.1    -0.0       NaN\n",
       " \n",
       " [692 rows x 16 columns],\n",
       "        site_id  year  month  day  ...  non_pressure_source_code  latitude  longitude                date\n",
       " 0  USM00072357  2023      7   19  ...                  ncdc-gts   35.1808   -97.4378 2023-07-19 12:00:00\n",
       " 1  USM00072357  2023      7   20  ...                  ncdc-gts   35.1808   -97.4378 2023-07-20 00:00:00\n",
       " 2  USM00072357  2023      7   20  ...                  ncdc-gts   35.1808   -97.4378 2023-07-20 12:00:00\n",
       " \n",
       " [3 rows x 12 columns])"
      ]
     },
     "execution_count": 14,
     "metadata": {},
     "output_type": "execute_result"
    }
   ],
   "source": [
    "df"
   ]
  },
  {
   "cell_type": "code",
   "execution_count": 15,
   "id": "1938693e-485d-4a0e-bedb-8ecca108361a",
   "metadata": {},
   "outputs": [
    {
     "name": "stdout",
     "output_type": "stream",
     "text": [
      "Index(['pressure', 'height', 'temperature', 'dewpoint', 'direction', 'speed',\n",
      "       'u_wind', 'v_wind', 'station', 'station_number', 'time', 'latitude',\n",
      "       'longitude', 'elevation', 'pw'],\n",
      "      dtype='object')\n",
      "Index(['pressure', 'height', 'temperature', 'dewpoint', 'direction', 'speed',\n",
      "       'station', 'time', 'u_wind', 'v_wind'],\n",
      "      dtype='object')\n",
      "Index(['lvltyp1', 'lvltyp2', 'etime', 'pressure', 'pflag', 'height', 'zflag',\n",
      "       'temperature', 'tflag', 'relative_humidity', 'direction', 'speed',\n",
      "       'date', 'u_wind', 'v_wind', 'dewpoint'],\n",
      "      dtype='object')\n"
     ]
    }
   ],
   "source": [
    "print(df_wyoming.columns)\n",
    "print(df_ia.columns)\n",
    "print(df_igra[0].columns)"
   ]
  },
  {
   "cell_type": "code",
   "execution_count": 16,
   "id": "0cdca74d-87d6-4170-84d9-c96b05474f39",
   "metadata": {},
   "outputs": [
    {
     "name": "stdout",
     "output_type": "stream",
     "text": [
      "183\n",
      "192\n",
      "261\n"
     ]
    }
   ],
   "source": [
    "print(len(df_wyoming))\n",
    "print(len(df_ia))\n",
    "print(len(df_igra[0]))"
   ]
  },
  {
   "cell_type": "code",
   "execution_count": null,
   "id": "7feba157-081a-4296-bba5-bd7bc3c6dc55",
   "metadata": {},
   "outputs": [],
   "source": []
  }
 ],
 "metadata": {
  "kernelspec": {
   "display_name": "Python 3 (ipykernel)",
   "language": "python",
   "name": "python3"
  },
  "language_info": {
   "codemirror_mode": {
    "name": "ipython",
    "version": 3
   },
   "file_extension": ".py",
   "mimetype": "text/x-python",
   "name": "python",
   "nbconvert_exporter": "python",
   "pygments_lexer": "ipython3",
   "version": "3.10.11"
  }
 },
 "nbformat": 4,
 "nbformat_minor": 5
}
