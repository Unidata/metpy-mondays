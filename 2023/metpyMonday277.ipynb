{
 "cells": [
  {
   "attachments": {},
   "cell_type": "markdown",
   "id": "f922c28c",
   "metadata": {},
   "source": [
    "## 277 - How to Quickly Counter ANY Iterable in Python\n",
    "\n",
    "[Youtube](https://www.youtube.com/watch?v=b4dV5sY9ewc)"
   ]
  },
  {
   "cell_type": "code",
   "execution_count": 1,
   "id": "3b582327-cd37-4462-966a-8edc8930b111",
   "metadata": {},
   "outputs": [],
   "source": [
    "my_list = [5, 4, 9, 1, 4, 6, 2, 5, 7, 3, 5, 6, 7, 3, 5, 5, 7, 5]"
   ]
  },
  {
   "cell_type": "code",
   "execution_count": 2,
   "id": "406872a0-79d6-4e79-9428-fd0e12ca1633",
   "metadata": {},
   "outputs": [
    {
     "data": {
      "text/plain": [
       "6"
      ]
     },
     "execution_count": 2,
     "metadata": {},
     "output_type": "execute_result"
    }
   ],
   "source": [
    "my_list.count(5)"
   ]
  },
  {
   "cell_type": "code",
   "execution_count": 3,
   "id": "2cad3b82-c73b-4bca-b9a8-8823eb288e27",
   "metadata": {},
   "outputs": [],
   "source": [
    "a = 'Unidata'"
   ]
  },
  {
   "cell_type": "code",
   "execution_count": 4,
   "id": "e1b52e29-4eb5-45e1-bf75-a9e033877e39",
   "metadata": {},
   "outputs": [
    {
     "data": {
      "text/plain": [
       "2"
      ]
     },
     "execution_count": 4,
     "metadata": {},
     "output_type": "execute_result"
    }
   ],
   "source": [
    "a.count('a')"
   ]
  },
  {
   "cell_type": "code",
   "execution_count": 5,
   "id": "5dcfe21b-ef43-40de-b9d9-31ac8d402eb6",
   "metadata": {},
   "outputs": [],
   "source": [
    "from collections import Counter"
   ]
  },
  {
   "cell_type": "code",
   "execution_count": 6,
   "id": "1e8129ad-ae77-474b-863a-138bf6a57eb0",
   "metadata": {},
   "outputs": [],
   "source": [
    "counter = Counter(my_list)"
   ]
  },
  {
   "cell_type": "code",
   "execution_count": 7,
   "id": "c7373727-b919-43c7-8a9f-e800fb335aed",
   "metadata": {},
   "outputs": [
    {
     "data": {
      "text/plain": [
       "Counter({5: 6, 4: 2, 9: 1, 1: 1, 6: 2, 2: 1, 7: 3, 3: 2})"
      ]
     },
     "execution_count": 7,
     "metadata": {},
     "output_type": "execute_result"
    }
   ],
   "source": [
    "counter"
   ]
  },
  {
   "cell_type": "code",
   "execution_count": 8,
   "id": "a62e4cfb-7a39-4005-bde0-0a0ada22f742",
   "metadata": {},
   "outputs": [
    {
     "data": {
      "text/plain": [
       "2"
      ]
     },
     "execution_count": 8,
     "metadata": {},
     "output_type": "execute_result"
    }
   ],
   "source": [
    "counter[3]"
   ]
  },
  {
   "cell_type": "code",
   "execution_count": 9,
   "id": "e3c4db81-861c-4fe9-b659-30b6d2132777",
   "metadata": {},
   "outputs": [
    {
     "data": {
      "text/plain": [
       "0"
      ]
     },
     "execution_count": 9,
     "metadata": {},
     "output_type": "execute_result"
    }
   ],
   "source": [
    "counter[11]"
   ]
  },
  {
   "cell_type": "code",
   "execution_count": 10,
   "id": "c32eb695-9577-4e1d-a894-16d34bd55ae6",
   "metadata": {},
   "outputs": [],
   "source": [
    "counter = Counter('Unidata')"
   ]
  },
  {
   "cell_type": "code",
   "execution_count": 11,
   "id": "c166dc57-7903-493a-a78b-0f547e7a5577",
   "metadata": {},
   "outputs": [
    {
     "data": {
      "text/plain": [
       "Counter({'U': 1, 'n': 1, 'i': 1, 'd': 1, 'a': 2, 't': 1})"
      ]
     },
     "execution_count": 11,
     "metadata": {},
     "output_type": "execute_result"
    }
   ],
   "source": [
    "counter"
   ]
  },
  {
   "cell_type": "code",
   "execution_count": 12,
   "id": "0b287a39-9e79-49fb-a0af-2f0051123b8f",
   "metadata": {},
   "outputs": [],
   "source": [
    "counter = Counter('UnidatA')"
   ]
  },
  {
   "cell_type": "code",
   "execution_count": 13,
   "id": "a8f978c3-ae25-462b-b51e-68b7261ca0e3",
   "metadata": {},
   "outputs": [
    {
     "data": {
      "text/plain": [
       "Counter({'U': 1, 'n': 1, 'i': 1, 'd': 1, 'a': 1, 't': 1, 'A': 1})"
      ]
     },
     "execution_count": 13,
     "metadata": {},
     "output_type": "execute_result"
    }
   ],
   "source": [
    "counter"
   ]
  },
  {
   "cell_type": "code",
   "execution_count": 14,
   "id": "b4378425-d9b1-43e2-870d-536e340ccf82",
   "metadata": {},
   "outputs": [],
   "source": [
    "counter = Counter(my_list)"
   ]
  },
  {
   "cell_type": "code",
   "execution_count": 15,
   "id": "3bfddf57-2008-4506-94d6-1afdd527af5f",
   "metadata": {},
   "outputs": [
    {
     "data": {
      "text/plain": [
       "(5, 6)"
      ]
     },
     "execution_count": 15,
     "metadata": {},
     "output_type": "execute_result"
    }
   ],
   "source": [
    "counter.most_common()[0]"
   ]
  },
  {
   "cell_type": "code",
   "execution_count": 16,
   "id": "41ab509a-b864-4b18-8ac9-8790efa3cebb",
   "metadata": {},
   "outputs": [],
   "source": [
    "c1 = Counter([5, 4, 3, 2, 1])\n",
    "c2 = Counter([2, 3, 4, 5, 6])"
   ]
  },
  {
   "cell_type": "code",
   "execution_count": 17,
   "id": "e0c871fe-49e8-4dc8-9b58-5b006c393224",
   "metadata": {},
   "outputs": [
    {
     "data": {
      "text/plain": [
       "Counter({5: 1, 4: 1, 3: 1, 2: 1, 1: 1})"
      ]
     },
     "execution_count": 17,
     "metadata": {},
     "output_type": "execute_result"
    }
   ],
   "source": [
    "c1"
   ]
  },
  {
   "cell_type": "code",
   "execution_count": 18,
   "id": "d0f1514b-902e-421d-8ca5-294a98954adf",
   "metadata": {},
   "outputs": [
    {
     "data": {
      "text/plain": [
       "Counter({2: 1, 3: 1, 4: 1, 5: 1, 6: 1})"
      ]
     },
     "execution_count": 18,
     "metadata": {},
     "output_type": "execute_result"
    }
   ],
   "source": [
    "c2"
   ]
  },
  {
   "cell_type": "code",
   "execution_count": 19,
   "id": "392c647b-f0b3-4b8b-b652-37b4d4197977",
   "metadata": {},
   "outputs": [
    {
     "data": {
      "text/plain": [
       "Counter({5: 2, 4: 2, 3: 2, 2: 2, 1: 1, 6: 1})"
      ]
     },
     "execution_count": 19,
     "metadata": {},
     "output_type": "execute_result"
    }
   ],
   "source": [
    "c1 + c2"
   ]
  },
  {
   "cell_type": "code",
   "execution_count": 20,
   "id": "052ae106-b013-4ab9-97ca-463b022839d7",
   "metadata": {},
   "outputs": [
    {
     "data": {
      "text/plain": [
       "Counter({1: 1})"
      ]
     },
     "execution_count": 20,
     "metadata": {},
     "output_type": "execute_result"
    }
   ],
   "source": [
    "c1 - c2"
   ]
  },
  {
   "cell_type": "code",
   "execution_count": 21,
   "id": "27a19be8-5797-44be-95a2-677c081e18b2",
   "metadata": {},
   "outputs": [
    {
     "data": {
      "text/plain": [
       "Counter({6: 1})"
      ]
     },
     "execution_count": 21,
     "metadata": {},
     "output_type": "execute_result"
    }
   ],
   "source": [
    "c2 - c1"
   ]
  },
  {
   "cell_type": "code",
   "execution_count": null,
   "id": "5cd78a3b-f1be-482b-998d-192c40515e67",
   "metadata": {},
   "outputs": [],
   "source": []
  }
 ],
 "metadata": {
  "kernelspec": {
   "display_name": "base",
   "language": "python",
   "name": "python3"
  },
  "language_info": {
   "codemirror_mode": {
    "name": "ipython",
    "version": 3
   },
   "file_extension": ".py",
   "mimetype": "text/x-python",
   "name": "python",
   "nbconvert_exporter": "python",
   "pygments_lexer": "ipython3",
   "version": "3.9.16"
  },
  "vscode": {
   "interpreter": {
    "hash": "b5cfa023891fceef02537f80a4c6e95b77988fb973cdb16a51cdb785092210be"
   }
  }
 },
 "nbformat": 4,
 "nbformat_minor": 5
}
