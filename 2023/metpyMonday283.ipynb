{
 "cells": [
  {
   "attachments": {},
   "cell_type": "markdown",
   "id": "ee9600d3",
   "metadata": {},
   "source": [
    "## 283 - Demystifying Enum Data Type in Python\n",
    "\n",
    "[Youtube](https://www.youtube.com/watch?v=ZKhwkIDbyF4)"
   ]
  },
  {
   "cell_type": "code",
   "execution_count": 1,
   "id": "c51c808a-a0ce-4a5d-94dc-e96c6a1d6165",
   "metadata": {},
   "outputs": [],
   "source": [
    "from enum import Enum\n",
    "import numpy as np\n",
    "import pandas as pd"
   ]
  },
  {
   "cell_type": "code",
   "execution_count": 2,
   "id": "6e7def12-8670-4bde-9db5-deee22251f55",
   "metadata": {},
   "outputs": [],
   "source": [
    "class ReportType(Enum):\n",
    "    TORNADO = 1\n",
    "    HAIL = 2\n",
    "    WIND = 3\n",
    "    FLOODING = 4"
   ]
  },
  {
   "cell_type": "code",
   "execution_count": 3,
   "id": "7022ec4a-c02b-456d-ac4b-6b74135fd1c7",
   "metadata": {},
   "outputs": [],
   "source": [
    "lats = np.random.randint(-90, 90, size=(100))\n",
    "lons = np.random.randint(-180, 180, size=(100))\n",
    "report_type = np.random.randint(1, 4, size=(100))"
   ]
  },
  {
   "cell_type": "code",
   "execution_count": 4,
   "id": "d65f6a8f-167e-4bca-a8d7-fd4608dee7b6",
   "metadata": {},
   "outputs": [],
   "source": [
    "df = pd.DataFrame({'Latitude': lats, 'Longitude': lons, 'Report': report_type})"
   ]
  },
  {
   "cell_type": "code",
   "execution_count": 5,
   "id": "204ad413-4033-4420-9009-6680cae2f416",
   "metadata": {},
   "outputs": [
    {
     "data": {
      "text/html": [
       "<div>\n",
       "<style scoped>\n",
       "    .dataframe tbody tr th:only-of-type {\n",
       "        vertical-align: middle;\n",
       "    }\n",
       "\n",
       "    .dataframe tbody tr th {\n",
       "        vertical-align: top;\n",
       "    }\n",
       "\n",
       "    .dataframe thead th {\n",
       "        text-align: right;\n",
       "    }\n",
       "</style>\n",
       "<table border=\"1\" class=\"dataframe\">\n",
       "  <thead>\n",
       "    <tr style=\"text-align: right;\">\n",
       "      <th></th>\n",
       "      <th>Latitude</th>\n",
       "      <th>Longitude</th>\n",
       "      <th>Report</th>\n",
       "    </tr>\n",
       "  </thead>\n",
       "  <tbody>\n",
       "    <tr>\n",
       "      <th>0</th>\n",
       "      <td>-4</td>\n",
       "      <td>-23</td>\n",
       "      <td>1</td>\n",
       "    </tr>\n",
       "    <tr>\n",
       "      <th>1</th>\n",
       "      <td>-68</td>\n",
       "      <td>156</td>\n",
       "      <td>1</td>\n",
       "    </tr>\n",
       "    <tr>\n",
       "      <th>2</th>\n",
       "      <td>24</td>\n",
       "      <td>125</td>\n",
       "      <td>1</td>\n",
       "    </tr>\n",
       "    <tr>\n",
       "      <th>3</th>\n",
       "      <td>23</td>\n",
       "      <td>-176</td>\n",
       "      <td>3</td>\n",
       "    </tr>\n",
       "    <tr>\n",
       "      <th>4</th>\n",
       "      <td>-64</td>\n",
       "      <td>-7</td>\n",
       "      <td>1</td>\n",
       "    </tr>\n",
       "  </tbody>\n",
       "</table>\n",
       "</div>"
      ],
      "text/plain": [
       "   Latitude  Longitude  Report\n",
       "0        -4        -23       1\n",
       "1       -68        156       1\n",
       "2        24        125       1\n",
       "3        23       -176       3\n",
       "4       -64         -7       1"
      ]
     },
     "execution_count": 5,
     "metadata": {},
     "output_type": "execute_result"
    }
   ],
   "source": [
    "df.head()"
   ]
  },
  {
   "cell_type": "code",
   "execution_count": 6,
   "id": "81cebf44-7408-41f2-9956-c731e409a8d4",
   "metadata": {},
   "outputs": [],
   "source": [
    "df['Report'] = [ReportType(r) for r in df['Report']]"
   ]
  },
  {
   "cell_type": "code",
   "execution_count": 7,
   "id": "f03439ab-5bd7-4cfd-89aa-00cb86b22937",
   "metadata": {},
   "outputs": [
    {
     "data": {
      "text/html": [
       "<div>\n",
       "<style scoped>\n",
       "    .dataframe tbody tr th:only-of-type {\n",
       "        vertical-align: middle;\n",
       "    }\n",
       "\n",
       "    .dataframe tbody tr th {\n",
       "        vertical-align: top;\n",
       "    }\n",
       "\n",
       "    .dataframe thead th {\n",
       "        text-align: right;\n",
       "    }\n",
       "</style>\n",
       "<table border=\"1\" class=\"dataframe\">\n",
       "  <thead>\n",
       "    <tr style=\"text-align: right;\">\n",
       "      <th></th>\n",
       "      <th>Latitude</th>\n",
       "      <th>Longitude</th>\n",
       "      <th>Report</th>\n",
       "    </tr>\n",
       "  </thead>\n",
       "  <tbody>\n",
       "    <tr>\n",
       "      <th>0</th>\n",
       "      <td>-4</td>\n",
       "      <td>-23</td>\n",
       "      <td>ReportType.TORNADO</td>\n",
       "    </tr>\n",
       "    <tr>\n",
       "      <th>1</th>\n",
       "      <td>-68</td>\n",
       "      <td>156</td>\n",
       "      <td>ReportType.TORNADO</td>\n",
       "    </tr>\n",
       "    <tr>\n",
       "      <th>2</th>\n",
       "      <td>24</td>\n",
       "      <td>125</td>\n",
       "      <td>ReportType.TORNADO</td>\n",
       "    </tr>\n",
       "    <tr>\n",
       "      <th>3</th>\n",
       "      <td>23</td>\n",
       "      <td>-176</td>\n",
       "      <td>ReportType.WIND</td>\n",
       "    </tr>\n",
       "    <tr>\n",
       "      <th>4</th>\n",
       "      <td>-64</td>\n",
       "      <td>-7</td>\n",
       "      <td>ReportType.TORNADO</td>\n",
       "    </tr>\n",
       "  </tbody>\n",
       "</table>\n",
       "</div>"
      ],
      "text/plain": [
       "   Latitude  Longitude              Report\n",
       "0        -4        -23  ReportType.TORNADO\n",
       "1       -68        156  ReportType.TORNADO\n",
       "2        24        125  ReportType.TORNADO\n",
       "3        23       -176     ReportType.WIND\n",
       "4       -64         -7  ReportType.TORNADO"
      ]
     },
     "execution_count": 7,
     "metadata": {},
     "output_type": "execute_result"
    }
   ],
   "source": [
    "df.head()"
   ]
  },
  {
   "cell_type": "code",
   "execution_count": 8,
   "id": "1f80b703-32ba-41e8-8fdc-d1010346d33e",
   "metadata": {},
   "outputs": [
    {
     "data": {
      "text/html": [
       "<div>\n",
       "<style scoped>\n",
       "    .dataframe tbody tr th:only-of-type {\n",
       "        vertical-align: middle;\n",
       "    }\n",
       "\n",
       "    .dataframe tbody tr th {\n",
       "        vertical-align: top;\n",
       "    }\n",
       "\n",
       "    .dataframe thead th {\n",
       "        text-align: right;\n",
       "    }\n",
       "</style>\n",
       "<table border=\"1\" class=\"dataframe\">\n",
       "  <thead>\n",
       "    <tr style=\"text-align: right;\">\n",
       "      <th></th>\n",
       "      <th>Latitude</th>\n",
       "      <th>Longitude</th>\n",
       "      <th>Report</th>\n",
       "    </tr>\n",
       "  </thead>\n",
       "  <tbody>\n",
       "    <tr>\n",
       "      <th>0</th>\n",
       "      <td>-4</td>\n",
       "      <td>-23</td>\n",
       "      <td>ReportType.TORNADO</td>\n",
       "    </tr>\n",
       "    <tr>\n",
       "      <th>1</th>\n",
       "      <td>-68</td>\n",
       "      <td>156</td>\n",
       "      <td>ReportType.TORNADO</td>\n",
       "    </tr>\n",
       "    <tr>\n",
       "      <th>2</th>\n",
       "      <td>24</td>\n",
       "      <td>125</td>\n",
       "      <td>ReportType.TORNADO</td>\n",
       "    </tr>\n",
       "    <tr>\n",
       "      <th>4</th>\n",
       "      <td>-64</td>\n",
       "      <td>-7</td>\n",
       "      <td>ReportType.TORNADO</td>\n",
       "    </tr>\n",
       "    <tr>\n",
       "      <th>7</th>\n",
       "      <td>-13</td>\n",
       "      <td>17</td>\n",
       "      <td>ReportType.TORNADO</td>\n",
       "    </tr>\n",
       "    <tr>\n",
       "      <th>9</th>\n",
       "      <td>80</td>\n",
       "      <td>53</td>\n",
       "      <td>ReportType.TORNADO</td>\n",
       "    </tr>\n",
       "    <tr>\n",
       "      <th>16</th>\n",
       "      <td>54</td>\n",
       "      <td>-27</td>\n",
       "      <td>ReportType.TORNADO</td>\n",
       "    </tr>\n",
       "    <tr>\n",
       "      <th>19</th>\n",
       "      <td>19</td>\n",
       "      <td>-129</td>\n",
       "      <td>ReportType.TORNADO</td>\n",
       "    </tr>\n",
       "    <tr>\n",
       "      <th>20</th>\n",
       "      <td>-75</td>\n",
       "      <td>149</td>\n",
       "      <td>ReportType.TORNADO</td>\n",
       "    </tr>\n",
       "    <tr>\n",
       "      <th>23</th>\n",
       "      <td>17</td>\n",
       "      <td>6</td>\n",
       "      <td>ReportType.TORNADO</td>\n",
       "    </tr>\n",
       "    <tr>\n",
       "      <th>24</th>\n",
       "      <td>64</td>\n",
       "      <td>145</td>\n",
       "      <td>ReportType.TORNADO</td>\n",
       "    </tr>\n",
       "    <tr>\n",
       "      <th>27</th>\n",
       "      <td>87</td>\n",
       "      <td>-83</td>\n",
       "      <td>ReportType.TORNADO</td>\n",
       "    </tr>\n",
       "    <tr>\n",
       "      <th>31</th>\n",
       "      <td>-21</td>\n",
       "      <td>132</td>\n",
       "      <td>ReportType.TORNADO</td>\n",
       "    </tr>\n",
       "    <tr>\n",
       "      <th>33</th>\n",
       "      <td>-56</td>\n",
       "      <td>22</td>\n",
       "      <td>ReportType.TORNADO</td>\n",
       "    </tr>\n",
       "    <tr>\n",
       "      <th>34</th>\n",
       "      <td>-76</td>\n",
       "      <td>-3</td>\n",
       "      <td>ReportType.TORNADO</td>\n",
       "    </tr>\n",
       "    <tr>\n",
       "      <th>36</th>\n",
       "      <td>-6</td>\n",
       "      <td>57</td>\n",
       "      <td>ReportType.TORNADO</td>\n",
       "    </tr>\n",
       "    <tr>\n",
       "      <th>39</th>\n",
       "      <td>-22</td>\n",
       "      <td>15</td>\n",
       "      <td>ReportType.TORNADO</td>\n",
       "    </tr>\n",
       "    <tr>\n",
       "      <th>41</th>\n",
       "      <td>50</td>\n",
       "      <td>-154</td>\n",
       "      <td>ReportType.TORNADO</td>\n",
       "    </tr>\n",
       "    <tr>\n",
       "      <th>43</th>\n",
       "      <td>-26</td>\n",
       "      <td>110</td>\n",
       "      <td>ReportType.TORNADO</td>\n",
       "    </tr>\n",
       "    <tr>\n",
       "      <th>45</th>\n",
       "      <td>-38</td>\n",
       "      <td>-131</td>\n",
       "      <td>ReportType.TORNADO</td>\n",
       "    </tr>\n",
       "    <tr>\n",
       "      <th>47</th>\n",
       "      <td>-78</td>\n",
       "      <td>22</td>\n",
       "      <td>ReportType.TORNADO</td>\n",
       "    </tr>\n",
       "    <tr>\n",
       "      <th>48</th>\n",
       "      <td>-30</td>\n",
       "      <td>171</td>\n",
       "      <td>ReportType.TORNADO</td>\n",
       "    </tr>\n",
       "    <tr>\n",
       "      <th>50</th>\n",
       "      <td>5</td>\n",
       "      <td>-76</td>\n",
       "      <td>ReportType.TORNADO</td>\n",
       "    </tr>\n",
       "    <tr>\n",
       "      <th>51</th>\n",
       "      <td>80</td>\n",
       "      <td>-175</td>\n",
       "      <td>ReportType.TORNADO</td>\n",
       "    </tr>\n",
       "    <tr>\n",
       "      <th>56</th>\n",
       "      <td>-40</td>\n",
       "      <td>-123</td>\n",
       "      <td>ReportType.TORNADO</td>\n",
       "    </tr>\n",
       "    <tr>\n",
       "      <th>59</th>\n",
       "      <td>4</td>\n",
       "      <td>73</td>\n",
       "      <td>ReportType.TORNADO</td>\n",
       "    </tr>\n",
       "    <tr>\n",
       "      <th>62</th>\n",
       "      <td>-88</td>\n",
       "      <td>1</td>\n",
       "      <td>ReportType.TORNADO</td>\n",
       "    </tr>\n",
       "    <tr>\n",
       "      <th>66</th>\n",
       "      <td>-42</td>\n",
       "      <td>-108</td>\n",
       "      <td>ReportType.TORNADO</td>\n",
       "    </tr>\n",
       "    <tr>\n",
       "      <th>69</th>\n",
       "      <td>-37</td>\n",
       "      <td>-33</td>\n",
       "      <td>ReportType.TORNADO</td>\n",
       "    </tr>\n",
       "    <tr>\n",
       "      <th>75</th>\n",
       "      <td>-25</td>\n",
       "      <td>36</td>\n",
       "      <td>ReportType.TORNADO</td>\n",
       "    </tr>\n",
       "    <tr>\n",
       "      <th>77</th>\n",
       "      <td>-1</td>\n",
       "      <td>-9</td>\n",
       "      <td>ReportType.TORNADO</td>\n",
       "    </tr>\n",
       "    <tr>\n",
       "      <th>81</th>\n",
       "      <td>-55</td>\n",
       "      <td>115</td>\n",
       "      <td>ReportType.TORNADO</td>\n",
       "    </tr>\n",
       "    <tr>\n",
       "      <th>86</th>\n",
       "      <td>-84</td>\n",
       "      <td>-21</td>\n",
       "      <td>ReportType.TORNADO</td>\n",
       "    </tr>\n",
       "    <tr>\n",
       "      <th>88</th>\n",
       "      <td>-85</td>\n",
       "      <td>7</td>\n",
       "      <td>ReportType.TORNADO</td>\n",
       "    </tr>\n",
       "    <tr>\n",
       "      <th>89</th>\n",
       "      <td>79</td>\n",
       "      <td>18</td>\n",
       "      <td>ReportType.TORNADO</td>\n",
       "    </tr>\n",
       "    <tr>\n",
       "      <th>90</th>\n",
       "      <td>80</td>\n",
       "      <td>73</td>\n",
       "      <td>ReportType.TORNADO</td>\n",
       "    </tr>\n",
       "    <tr>\n",
       "      <th>92</th>\n",
       "      <td>-12</td>\n",
       "      <td>-80</td>\n",
       "      <td>ReportType.TORNADO</td>\n",
       "    </tr>\n",
       "    <tr>\n",
       "      <th>93</th>\n",
       "      <td>-15</td>\n",
       "      <td>26</td>\n",
       "      <td>ReportType.TORNADO</td>\n",
       "    </tr>\n",
       "    <tr>\n",
       "      <th>95</th>\n",
       "      <td>-77</td>\n",
       "      <td>-74</td>\n",
       "      <td>ReportType.TORNADO</td>\n",
       "    </tr>\n",
       "    <tr>\n",
       "      <th>96</th>\n",
       "      <td>16</td>\n",
       "      <td>145</td>\n",
       "      <td>ReportType.TORNADO</td>\n",
       "    </tr>\n",
       "  </tbody>\n",
       "</table>\n",
       "</div>"
      ],
      "text/plain": [
       "    Latitude  Longitude              Report\n",
       "0         -4        -23  ReportType.TORNADO\n",
       "1        -68        156  ReportType.TORNADO\n",
       "2         24        125  ReportType.TORNADO\n",
       "4        -64         -7  ReportType.TORNADO\n",
       "7        -13         17  ReportType.TORNADO\n",
       "9         80         53  ReportType.TORNADO\n",
       "16        54        -27  ReportType.TORNADO\n",
       "19        19       -129  ReportType.TORNADO\n",
       "20       -75        149  ReportType.TORNADO\n",
       "23        17          6  ReportType.TORNADO\n",
       "24        64        145  ReportType.TORNADO\n",
       "27        87        -83  ReportType.TORNADO\n",
       "31       -21        132  ReportType.TORNADO\n",
       "33       -56         22  ReportType.TORNADO\n",
       "34       -76         -3  ReportType.TORNADO\n",
       "36        -6         57  ReportType.TORNADO\n",
       "39       -22         15  ReportType.TORNADO\n",
       "41        50       -154  ReportType.TORNADO\n",
       "43       -26        110  ReportType.TORNADO\n",
       "45       -38       -131  ReportType.TORNADO\n",
       "47       -78         22  ReportType.TORNADO\n",
       "48       -30        171  ReportType.TORNADO\n",
       "50         5        -76  ReportType.TORNADO\n",
       "51        80       -175  ReportType.TORNADO\n",
       "56       -40       -123  ReportType.TORNADO\n",
       "59         4         73  ReportType.TORNADO\n",
       "62       -88          1  ReportType.TORNADO\n",
       "66       -42       -108  ReportType.TORNADO\n",
       "69       -37        -33  ReportType.TORNADO\n",
       "75       -25         36  ReportType.TORNADO\n",
       "77        -1         -9  ReportType.TORNADO\n",
       "81       -55        115  ReportType.TORNADO\n",
       "86       -84        -21  ReportType.TORNADO\n",
       "88       -85          7  ReportType.TORNADO\n",
       "89        79         18  ReportType.TORNADO\n",
       "90        80         73  ReportType.TORNADO\n",
       "92       -12        -80  ReportType.TORNADO\n",
       "93       -15         26  ReportType.TORNADO\n",
       "95       -77        -74  ReportType.TORNADO\n",
       "96        16        145  ReportType.TORNADO"
      ]
     },
     "execution_count": 8,
     "metadata": {},
     "output_type": "execute_result"
    }
   ],
   "source": [
    "df[df['Report'] == ReportType.TORNADO]"
   ]
  },
  {
   "cell_type": "code",
   "execution_count": 9,
   "id": "8a3bac87-714b-4bf2-8725-4ea35ca5b742",
   "metadata": {},
   "outputs": [
    {
     "data": {
      "text/plain": [
       "<ReportType.TORNADO: 1>"
      ]
     },
     "execution_count": 9,
     "metadata": {},
     "output_type": "execute_result"
    }
   ],
   "source": [
    "ReportType(1)"
   ]
  },
  {
   "cell_type": "code",
   "execution_count": 10,
   "id": "b9ba0dc0-cc87-4a2d-b589-83a563c18e1b",
   "metadata": {},
   "outputs": [],
   "source": [
    "def my_filter(data, agressiveness):\n",
    "    \"\"\"\n",
    "    Fake filter for demo.\n",
    "    \"\"\"\n",
    "    if agressiveness == 'small':\n",
    "        size = 1\n",
    "    elif agressiveness == 'medium':\n",
    "        size = 5\n",
    "    elif agressiveness == 'large':\n",
    "        size = 10\n",
    "    else:\n",
    "        raise ValueError('Invalid Filter Agressiveness')\n",
    "    return data * size"
   ]
  },
  {
   "cell_type": "code",
   "execution_count": 11,
   "id": "4562f5e0-7801-422c-be35-ac4db44c8fcb",
   "metadata": {},
   "outputs": [],
   "source": [
    "d = np.random.random((10))"
   ]
  },
  {
   "cell_type": "code",
   "execution_count": 12,
   "id": "a1bcfb1b-be8a-47e0-aaab-c651d7d2e614",
   "metadata": {},
   "outputs": [
    {
     "data": {
      "text/plain": [
       "array([0.27003356, 0.94171538, 0.41653638, 0.62966362, 0.38039789,\n",
       "       0.34088661, 0.76712207, 0.78059836, 0.56605649, 0.27466429])"
      ]
     },
     "execution_count": 12,
     "metadata": {},
     "output_type": "execute_result"
    }
   ],
   "source": [
    "my_filter(d, 'small')"
   ]
  },
  {
   "cell_type": "code",
   "execution_count": 13,
   "id": "41a206b2-7025-43eb-b7be-317db6db952d",
   "metadata": {},
   "outputs": [
    {
     "data": {
      "text/plain": [
       "array([2.70033563, 9.41715384, 4.16536383, 6.29663621, 3.8039789 ,\n",
       "       3.40886607, 7.67122073, 7.80598361, 5.66056486, 2.74664289])"
      ]
     },
     "execution_count": 13,
     "metadata": {},
     "output_type": "execute_result"
    }
   ],
   "source": [
    "my_filter(d, 'large')"
   ]
  },
  {
   "cell_type": "code",
   "execution_count": 14,
   "id": "99a091e5-ce63-425b-bca9-aa181ce495dd",
   "metadata": {},
   "outputs": [
    {
     "ename": "ValueError",
     "evalue": "Invalid Filter Agressiveness",
     "output_type": "error",
     "traceback": [
      "\u001b[0;31m---------------------------------------------------------------------------\u001b[0m",
      "\u001b[0;31mValueError\u001b[0m                                Traceback (most recent call last)",
      "\u001b[0;32m/tmp/ipykernel_359846/4273411292.py\u001b[0m in \u001b[0;36m<cell line: 1>\u001b[0;34m()\u001b[0m\n\u001b[0;32m----> 1\u001b[0;31m \u001b[0mmy_filter\u001b[0m\u001b[0;34m(\u001b[0m\u001b[0md\u001b[0m\u001b[0;34m,\u001b[0m \u001b[0;34m'smadll'\u001b[0m\u001b[0;34m)\u001b[0m\u001b[0;34m\u001b[0m\u001b[0;34m\u001b[0m\u001b[0m\n\u001b[0m",
      "\u001b[0;32m/tmp/ipykernel_359846/2892565509.py\u001b[0m in \u001b[0;36mmy_filter\u001b[0;34m(data, agressiveness)\u001b[0m\n\u001b[1;32m     10\u001b[0m         \u001b[0msize\u001b[0m \u001b[0;34m=\u001b[0m \u001b[0;36m10\u001b[0m\u001b[0;34m\u001b[0m\u001b[0;34m\u001b[0m\u001b[0m\n\u001b[1;32m     11\u001b[0m     \u001b[0;32melse\u001b[0m\u001b[0;34m:\u001b[0m\u001b[0;34m\u001b[0m\u001b[0;34m\u001b[0m\u001b[0m\n\u001b[0;32m---> 12\u001b[0;31m         \u001b[0;32mraise\u001b[0m \u001b[0mValueError\u001b[0m\u001b[0;34m(\u001b[0m\u001b[0;34m'Invalid Filter Agressiveness'\u001b[0m\u001b[0;34m)\u001b[0m\u001b[0;34m\u001b[0m\u001b[0;34m\u001b[0m\u001b[0m\n\u001b[0m\u001b[1;32m     13\u001b[0m     \u001b[0;32mreturn\u001b[0m \u001b[0mdata\u001b[0m \u001b[0;34m*\u001b[0m \u001b[0msize\u001b[0m\u001b[0;34m\u001b[0m\u001b[0;34m\u001b[0m\u001b[0m\n",
      "\u001b[0;31mValueError\u001b[0m: Invalid Filter Agressiveness"
     ]
    }
   ],
   "source": [
    "my_filter(d, 'smadll')"
   ]
  },
  {
   "cell_type": "code",
   "execution_count": 15,
   "id": "0611a0e6-c1d9-4fe4-a949-cd03a60c2ee8",
   "metadata": {},
   "outputs": [],
   "source": [
    "class FilterOptions(Enum):\n",
    "    small = 1\n",
    "    medium = 5\n",
    "    large = 10\n",
    "    \n",
    "    @classmethod\n",
    "    def best_for_timescale(cls, datasize):\n",
    "        if datasize < 1:\n",
    "            return FilterOptions.small\n",
    "        elif datasize < 10:\n",
    "            return FilterOptions.medium\n",
    "        else:\n",
    "            return FilterOptions.large"
   ]
  },
  {
   "cell_type": "code",
   "execution_count": 16,
   "id": "dc79a0af-fa17-49eb-b250-19c8fd82d928",
   "metadata": {},
   "outputs": [],
   "source": [
    "def my_filter(data, agressiveness):\n",
    "    return data * agressiveness.value"
   ]
  },
  {
   "cell_type": "code",
   "execution_count": 17,
   "id": "84d60c1c-c1f9-4987-85fd-f0d2146925e6",
   "metadata": {},
   "outputs": [
    {
     "data": {
      "text/plain": [
       "array([2.70033563, 9.41715384, 4.16536383, 6.29663621, 3.8039789 ,\n",
       "       3.40886607, 7.67122073, 7.80598361, 5.66056486, 2.74664289])"
      ]
     },
     "execution_count": 17,
     "metadata": {},
     "output_type": "execute_result"
    }
   ],
   "source": [
    "my_filter(d, FilterOptions.large)"
   ]
  },
  {
   "cell_type": "code",
   "execution_count": 18,
   "id": "9802da8d-5059-4de0-84c2-e7111aa0eb97",
   "metadata": {},
   "outputs": [
    {
     "data": {
      "text/plain": [
       "array([0.27003356, 0.94171538, 0.41653638, 0.62966362, 0.38039789,\n",
       "       0.34088661, 0.76712207, 0.78059836, 0.56605649, 0.27466429])"
      ]
     },
     "execution_count": 18,
     "metadata": {},
     "output_type": "execute_result"
    }
   ],
   "source": [
    "my_filter(d, FilterOptions.best_for_timescale(0))"
   ]
  },
  {
   "cell_type": "code",
   "execution_count": null,
   "id": "5cd0f0e5-74ca-4d2c-86eb-2c98899a5ffb",
   "metadata": {},
   "outputs": [],
   "source": []
  }
 ],
 "metadata": {
  "kernelspec": {
   "display_name": "base",
   "language": "python",
   "name": "python3"
  },
  "language_info": {
   "codemirror_mode": {
    "name": "ipython",
    "version": 3
   },
   "file_extension": ".py",
   "mimetype": "text/x-python",
   "name": "python",
   "nbconvert_exporter": "python",
   "pygments_lexer": "ipython3",
   "version": "3.9.16"
  },
  "vscode": {
   "interpreter": {
    "hash": "b5cfa023891fceef02537f80a4c6e95b77988fb973cdb16a51cdb785092210be"
   }
  }
 },
 "nbformat": 4,
 "nbformat_minor": 5
}
