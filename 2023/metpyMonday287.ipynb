{
 "cells": [
  {
   "attachments": {},
   "cell_type": "markdown",
   "id": "f3da9a1d",
   "metadata": {},
   "source": [
    "## 287 - Parsing Weather Prediction Center Surface Bulletins\n",
    "\n",
    "[Youtube](https://www.youtube.com/watch?v=6t6TPcfDEbY)"
   ]
  },
  {
   "cell_type": "code",
   "execution_count": 1,
   "id": "3bb9f7a0-7c49-40bb-85a8-fbfc4166a846",
   "metadata": {},
   "outputs": [],
   "source": [
    "import matplotlib.pyplot as plt\n",
    "import urllib.request\n",
    "\n",
    "from metpy.io import parse_wpc_surface_bulletin\n",
    "from io import BytesIO"
   ]
  },
  {
   "cell_type": "code",
   "execution_count": 2,
   "id": "f73ca3ca-4190-4631-8736-5697b3b6812d",
   "metadata": {},
   "outputs": [],
   "source": [
    "url = 'https://www.wpc.ncep.noaa.gov/discussions/codsus'"
   ]
  },
  {
   "cell_type": "code",
   "execution_count": 3,
   "id": "850adf88-acdc-41f3-adc4-e8a2003fa6c7",
   "metadata": {},
   "outputs": [],
   "source": [
    "with urllib.request.urlopen(url) as response:\n",
    "    content = response.read()"
   ]
  },
  {
   "cell_type": "code",
   "execution_count": 4,
   "id": "c9490eae-eaa8-4438-8b2a-671fe4e715de",
   "metadata": {},
   "outputs": [
    {
     "data": {
      "text/plain": [
       "b' \\nCODED SURFACE FRONTAL POSITIONS\\nNWS WEATHER PREDICTION CENTER COLLEGE PARK MD\\n619 PM EDT MON JUN 05 2023\\n \\nVALID 060521Z\\nHIGHS 1013 3576 1013 3192 1014 3481 1013 3384 1013 2996 1014 32102 1019 37104 \\n1018 40101 1017 4298 1018 44110 1017 4282 1017 4288 1033 5884 1029 5730 1026 \\n5842 1026 6536 1023 7366 1027 6068 1025 7091 1029 72127 1022 68150 1018 63146 \\n1032 47135 1016 45115 \\nLOWS 1001 22103 1011 3491 1011 3682 1010 3097 1003 40121 1000 35115 1006 \\n37111 1011 45108 1015 45100 1015 4383 997 4364 1009 4772 1019 5956 1013 5362 \\n1016 5557 1019 7058 1011 4678 1019 6775 1011 55112 1014 60115 1015 59108 1010 \\n51112 1011 52116 1012 48118 1012 61134 1012 61124 1020 68109 1008 42124 1016 \\n4596 \\nTROF 1791 1990 2089 2387 \\nTROF 1586 1784 1982 \\nTROF 35115 33116 31115 29114 28112 26111 24110 22109 \\nCOLD WK 3070 2972 2874 2776 2678 2679 \\nTROF 1897 1998 20100 21101 22103 24104 25105 26106 28107 \\nTROF 32103 31105 32108 33109 36110 \\nTROF 3682 3684 3586 3488 3489 3491 \\nTROF 3682 3582 3483 \\nTROF 3491 3292 3194 3097 \\nTROF 3897 3598 3399 3199 3098 3097 \\nTROF 3097 2898 2799 \\nTROF 3595 3493 3491 \\nTROF 45100 43100 43102 \\nCOLD WK 4383 4385 4490 4593 \\nOCFNT WK 4264 4364 4363 4362 4262 \\nWARM WK 4262 4259 4258 \\nCOLD WK 4262 4161 4060 \\nSTNRY WK 5956 5756 5657 \\nSTNRY WK 5557 5457 5359 5362 \\nTROF 5931 5737 5441 5042 \\nTROF 6330 6235 6040 \\nSTNRY WK 5069 5071 4972 4772 \\nCOLD WK 5263 5165 5167 5069 \\nTROF 4968 4870 4772 \\nSTNRY WK 4772 4673 4674 4675 4676 4678 \\nCOLD WK 4678 4578 4479 4481 \\nSTNRY WK 4381 4382 4383 \\nTROF 4678 4681 4784 4886 \\nTROF 4673 4474 4274 \\nWARM WK 59108 59104 59102 57100 5698 5594 \\nSTNRY WK 5598 55100 55101 56102 57104 56106 \\nSTNRY WK 4593 4796 4897 5097 5296 5496 5496 5598 \\nTROF 60115 60111 59108 \\nTROF 55103 52102 48100 \\nTROF 55108 52107 50105 48103 46100 45100 \\nSTNRY WK 55112 53112 51112 \\nTROF 60115 58114 56115 \\nCOLD WK 51112 49112 48112 48113 49114 \\nSTNRY WK 49114 51115 52116 \\nSTNRY WK 49117 49118 48118 \\nCOLD WK 52116 50116 49116 49117 \\nSTNRY WK 48118 47117 46117 45118 \\nTROF 45108 45111 47112 48112 \\nTROF 51112 51111 50110 49111 \\nTROF 54118 53118 52116 \\nTROF 61134 61131 62127 61124 \\nTROF 60134 60133 59131 \\nTROF 61124 59122 55123 53124 \\nTROF 61124 61119 60115 \\nSTNRY WK 6792 69100 69109 \\nSTNRY WK 65125 65129 65134 66139 \\nCOLD WK 68109 67113 66119 65125 \\nSTNRY WK 59108 58109 57111 56114 \\nWARM WK 55112 55110 56107 56105 \\nOCFNT WK 57161 57155 55150 52147 \\nCOLD WK 52147 51145 49145 48145 \\nTROF 4597 4598 45100 \\nTROF 4596 4494 4393 \\nWARM WK 70173 72159 72147 \\nOCFNT WK 8295 8095 7897 \\nCOLD WK 7897 75101 72107 69113 \\nTROF 82122 79118 76119 \\nTROF 3977 3779 3780 3682 \\nTROF 45108 43106 41106 40107 39109 38110 37111 \\nTROF 37111 37112 37113 \\nTROF 4890 4993 4996 \\nTROF 4264 4166 4168 4171 4172 4074 3876 3676 3478 3381 \\nTROF 4861 4663 4364 \\nTROF 5578 5177 4875 4772 \\nTROF 6951 6453 5956 \\nTROF 5865 5564 5362 \\nTROF 7058 6759 6563 \\nTROF 6775 6372 6072 \\nTROF 6775 7079 7380 \\nTROF 66106 64110 63116 \\nTROF 59165 62159 62150 \\nTROF 64136 62136 61134 \\nTROF 61134 61139 62142 \\nTROF 50123 49122 48120 \\nTROF 48124 46124 43124 41124 \\nTROF 40121 41122 43122 44121 \\nTROF 40121 38120 36119 \\nTROF 39117 37116 35115 \\nTROF 35115 33112 31111 \\nTROF 45108 43108 40110 39113 \\nTROF 37123 35122 32119 \\n \\n$$\\r\\r\\n'"
      ]
     },
     "execution_count": 4,
     "metadata": {},
     "output_type": "execute_result"
    }
   ],
   "source": [
    "content"
   ]
  },
  {
   "cell_type": "code",
   "execution_count": 5,
   "id": "77434189-fd36-425b-8b50-aa3a603e0128",
   "metadata": {},
   "outputs": [],
   "source": [
    "df = parse_wpc_surface_bulletin(BytesIO(content))"
   ]
  },
  {
   "cell_type": "code",
   "execution_count": 6,
   "id": "ea8360ad-0e42-4e4b-a55d-3459b6f4e484",
   "metadata": {},
   "outputs": [
    {
     "data": {
      "text/html": [
       "<div>\n",
       "<style scoped>\n",
       "    .dataframe tbody tr th:only-of-type {\n",
       "        vertical-align: middle;\n",
       "    }\n",
       "\n",
       "    .dataframe tbody tr th {\n",
       "        vertical-align: top;\n",
       "    }\n",
       "\n",
       "    .dataframe thead th {\n",
       "        text-align: right;\n",
       "    }\n",
       "</style>\n",
       "<table border=\"1\" class=\"dataframe\">\n",
       "  <thead>\n",
       "    <tr style=\"text-align: right;\">\n",
       "      <th></th>\n",
       "      <th>valid</th>\n",
       "      <th>feature</th>\n",
       "      <th>strength</th>\n",
       "      <th>geometry</th>\n",
       "    </tr>\n",
       "  </thead>\n",
       "  <tbody>\n",
       "    <tr>\n",
       "      <th>0</th>\n",
       "      <td>2023-06-05 21:00:00</td>\n",
       "      <td>HIGH</td>\n",
       "      <td>1013</td>\n",
       "      <td>POINT (-76 35)</td>\n",
       "    </tr>\n",
       "    <tr>\n",
       "      <th>1</th>\n",
       "      <td>2023-06-05 21:00:00</td>\n",
       "      <td>HIGH</td>\n",
       "      <td>1013</td>\n",
       "      <td>POINT (-92 31)</td>\n",
       "    </tr>\n",
       "    <tr>\n",
       "      <th>2</th>\n",
       "      <td>2023-06-05 21:00:00</td>\n",
       "      <td>HIGH</td>\n",
       "      <td>1014</td>\n",
       "      <td>POINT (-81 34)</td>\n",
       "    </tr>\n",
       "    <tr>\n",
       "      <th>3</th>\n",
       "      <td>2023-06-05 21:00:00</td>\n",
       "      <td>HIGH</td>\n",
       "      <td>1013</td>\n",
       "      <td>POINT (-84 33)</td>\n",
       "    </tr>\n",
       "    <tr>\n",
       "      <th>4</th>\n",
       "      <td>2023-06-05 21:00:00</td>\n",
       "      <td>HIGH</td>\n",
       "      <td>1013</td>\n",
       "      <td>POINT (-96 29)</td>\n",
       "    </tr>\n",
       "    <tr>\n",
       "      <th>...</th>\n",
       "      <td>...</td>\n",
       "      <td>...</td>\n",
       "      <td>...</td>\n",
       "      <td>...</td>\n",
       "    </tr>\n",
       "    <tr>\n",
       "      <th>134</th>\n",
       "      <td>2023-06-05 21:00:00</td>\n",
       "      <td>TROF</td>\n",
       "      <td>NaN</td>\n",
       "      <td>LINESTRING (-121 40, -120 38, -119 36)</td>\n",
       "    </tr>\n",
       "    <tr>\n",
       "      <th>135</th>\n",
       "      <td>2023-06-05 21:00:00</td>\n",
       "      <td>TROF</td>\n",
       "      <td>NaN</td>\n",
       "      <td>LINESTRING (-117 39, -116 37, -115 35)</td>\n",
       "    </tr>\n",
       "    <tr>\n",
       "      <th>136</th>\n",
       "      <td>2023-06-05 21:00:00</td>\n",
       "      <td>TROF</td>\n",
       "      <td>NaN</td>\n",
       "      <td>LINESTRING (-115 35, -112 33, -111 31)</td>\n",
       "    </tr>\n",
       "    <tr>\n",
       "      <th>137</th>\n",
       "      <td>2023-06-05 21:00:00</td>\n",
       "      <td>TROF</td>\n",
       "      <td>NaN</td>\n",
       "      <td>LINESTRING (-108 45, -108 43, -110 40, -113 39)</td>\n",
       "    </tr>\n",
       "    <tr>\n",
       "      <th>138</th>\n",
       "      <td>2023-06-05 21:00:00</td>\n",
       "      <td>TROF</td>\n",
       "      <td>NaN</td>\n",
       "      <td>LINESTRING (-123 37, -122 35, -119 32)</td>\n",
       "    </tr>\n",
       "  </tbody>\n",
       "</table>\n",
       "<p>139 rows × 4 columns</p>\n",
       "</div>"
      ],
      "text/plain": [
       "                  valid feature strength                                         geometry\n",
       "0   2023-06-05 21:00:00    HIGH     1013                                   POINT (-76 35)\n",
       "1   2023-06-05 21:00:00    HIGH     1013                                   POINT (-92 31)\n",
       "2   2023-06-05 21:00:00    HIGH     1014                                   POINT (-81 34)\n",
       "3   2023-06-05 21:00:00    HIGH     1013                                   POINT (-84 33)\n",
       "4   2023-06-05 21:00:00    HIGH     1013                                   POINT (-96 29)\n",
       "..                  ...     ...      ...                                              ...\n",
       "134 2023-06-05 21:00:00    TROF      NaN           LINESTRING (-121 40, -120 38, -119 36)\n",
       "135 2023-06-05 21:00:00    TROF      NaN           LINESTRING (-117 39, -116 37, -115 35)\n",
       "136 2023-06-05 21:00:00    TROF      NaN           LINESTRING (-115 35, -112 33, -111 31)\n",
       "137 2023-06-05 21:00:00    TROF      NaN  LINESTRING (-108 45, -108 43, -110 40, -113 39)\n",
       "138 2023-06-05 21:00:00    TROF      NaN           LINESTRING (-123 37, -122 35, -119 32)\n",
       "\n",
       "[139 rows x 4 columns]"
      ]
     },
     "execution_count": 6,
     "metadata": {},
     "output_type": "execute_result"
    }
   ],
   "source": [
    "df"
   ]
  },
  {
   "cell_type": "code",
   "execution_count": 7,
   "id": "3232a44a-1b0c-4ebd-afd5-4c8b25a91124",
   "metadata": {},
   "outputs": [
    {
     "data": {
      "text/plain": [
       "array(['HIGH', 'LOW', 'TROF', 'COLD', 'OCFNT', 'WARM', 'STNRY'],\n",
       "      dtype=object)"
      ]
     },
     "execution_count": 7,
     "metadata": {},
     "output_type": "execute_result"
    }
   ],
   "source": [
    "df['feature'].unique()"
   ]
  },
  {
   "cell_type": "code",
   "execution_count": 8,
   "id": "5cb34ab6-590c-4440-9186-82263089dddb",
   "metadata": {},
   "outputs": [
    {
     "data": {
      "text/plain": [
       "feature\n",
       "TROF     55\n",
       "LOW      29\n",
       "HIGH     24\n",
       "STNRY    14\n",
       "COLD     10\n",
       "WARM      4\n",
       "OCFNT     3\n",
       "Name: count, dtype: int64"
      ]
     },
     "execution_count": 8,
     "metadata": {},
     "output_type": "execute_result"
    }
   ],
   "source": [
    "df['feature'].value_counts()"
   ]
  },
  {
   "cell_type": "code",
   "execution_count": 10,
   "id": "a79f2dc6-a0fb-494c-8bbc-dfa370eb316f",
   "metadata": {},
   "outputs": [
    {
     "data": {
      "text/plain": [
       "Text(0.5, 1.0, 'Current Low and High Strengths')"
      ]
     },
     "execution_count": 10,
     "metadata": {},
     "output_type": "execute_result"
    },
    {
     "data": {
      "image/png": "[encoded data removed]",
      "text/plain": [
       "<Figure size 640x480 with 1 Axes>"
      ]
     },
     "metadata": {},
     "output_type": "display_data"
    }
   ],
   "source": [
    "fig, ax = plt.subplots()\n",
    "low_strength = df[df['feature']=='LOW'].strength\n",
    "high_strength = df[df['feature']=='HIGH'].strength\n",
    "ax.hist(low_strength, color='tab:red', alpha=0.7, label='Lows')\n",
    "ax.hist(high_strength, color='tab:blue', alpha=0.7, label='Highs')\n",
    "ax.legend()\n",
    "ax.set_xlabel('Pressure [hPa]')\n",
    "ax.set_ylabel('Count')\n",
    "plt.title('Current Low and High Strengths')"
   ]
  },
  {
   "cell_type": "code",
   "execution_count": null,
   "id": "cede7984-5af2-4fbf-8bc5-5c97da8cf3ed",
   "metadata": {},
   "outputs": [],
   "source": []
  }
 ],
 "metadata": {
  "kernelspec": {
   "display_name": "Python 3",
   "language": "python",
   "name": "python3"
  },
  "language_info": {
   "codemirror_mode": {
    "name": "ipython",
    "version": 3
   },
   "file_extension": ".py",
   "mimetype": "text/x-python",
   "name": "python",
   "nbconvert_exporter": "python",
   "pygments_lexer": "ipython3",
   "version": "3.10.6 (main, May 29 2023, 11:10:38) [GCC 11.3.0]"
  },
  "vscode": {
   "interpreter": {
    "hash": "916dbcbb3f70747c44a77c7bcd40155683ae19c65e1c03b4aa3499c5328201f1"
   }
  }
 },
 "nbformat": 4,
 "nbformat_minor": 5
}
