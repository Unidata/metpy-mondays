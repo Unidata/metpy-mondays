{
 "cells": [
  {
   "attachments": {},
   "cell_type": "markdown",
   "id": "9cba9795",
   "metadata": {},
   "source": [
    "## 276 - Watermark your Images in Python\n",
    "\n",
    "[Youtube](https://www.youtube.com/watch?v=KtQxPYcT-6k)\n"
   ]
  },
  {
   "cell_type": "code",
   "execution_count": 1,
   "id": "d0d48fe6-4464-4984-af74-a22e0e0f3423",
   "metadata": {},
   "outputs": [],
   "source": [
    "from PIL import Image, ImageDraw, ImageFont"
   ]
  },
  {
   "cell_type": "code",
   "execution_count": 2,
   "id": "f85cc1e8-2726-44f8-bd45-4622e31505eb",
   "metadata": {},
   "outputs": [],
   "source": [
    "watermark_text = 'PRELIMINARY'"
   ]
  },
  {
   "cell_type": "code",
   "execution_count": 3,
   "id": "8382c589-b4b2-4940-80ef-5018da50d86d",
   "metadata": {},
   "outputs": [],
   "source": [
    "image_name = 'mymap.png'"
   ]
  },
  {
   "cell_type": "code",
   "execution_count": 4,
   "id": "b81821fe-a759-44c0-a7fb-8f0ffbcc1103",
   "metadata": {},
   "outputs": [],
   "source": [
    "image = Image.open(image_name).convert('RGBA')\n",
    "width, height = image.size"
   ]
  },
  {
   "cell_type": "code",
   "execution_count": 6,
   "id": "50e783b2-12d9-4cfd-b201-4db8e7e4197b",
   "metadata": {},
   "outputs": [],
   "source": [
    "text_image = Image.new('RGBA', image.size)\n",
    "font = ImageFont.truetype('arial.ttf', 105)\n",
    "\n",
    "d = ImageDraw.Draw(text_image)\n",
    "\n",
    "text_box = d.textbbox([0, 0], watermark_text, font=font)\n",
    "textwidth = text_box[2] - text_box[0]\n",
    "textheight = text_box[3] - text_box[1]\n",
    "x = width / 2 - textwidth / 2\n",
    "y = height / 2 - textheight / 2\n",
    "\n",
    "d.text((x, y), watermark_text, font=font, fill=(255, 0, 0, 100))\n",
    "\n",
    "text_image = text_image.rotate(20)\n",
    "\n",
    "combined = Image.alpha_composite(image, text_image)\n",
    "combined.show()"
   ]
  },
  {
   "cell_type": "code",
   "execution_count": null,
   "id": "924b3db9-61d0-4fd4-bc05-65fd0e1e9522",
   "metadata": {},
   "outputs": [],
   "source": []
  }
 ],
 "metadata": {
  "kernelspec": {
   "display_name": "Python 3 (ipykernel)",
   "language": "python",
   "name": "python3"
  },
  "language_info": {
   "codemirror_mode": {
    "name": "ipython",
    "version": 3
   },
   "file_extension": ".py",
   "mimetype": "text/x-python",
   "name": "python",
   "nbconvert_exporter": "python",
   "pygments_lexer": "ipython3",
   "version": "3.10.4"
  }
 },
 "nbformat": 4,
 "nbformat_minor": 5
}
