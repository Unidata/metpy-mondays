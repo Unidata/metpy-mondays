{
 "cells": [
  {
   "attachments": {},
   "cell_type": "markdown",
   "metadata": {},
   "source": [
    "## 266 - LCL vs. CCL Understanding the Difference\n",
    "\n",
    "\n",
    "[Youtube](https://www.youtube.com/watch?v=9G74gEcUeC0)"
   ]
  },
  {
   "cell_type": "code",
   "execution_count": 1,
   "metadata": {},
   "outputs": [],
   "source": [
    "from datetime import datetime\n",
    "import metpy.calc as mpcalc\n",
    "import matplotlib.pyplot as plt\n",
    "from metpy.units import units, pandas_dataframe_to_unit_arrays\n",
    "from siphon.simplewebservice.wyoming import WyomingUpperAir"
   ]
  },
  {
   "cell_type": "code",
   "execution_count": 2,
   "metadata": {},
   "outputs": [],
   "source": [
    "date = datetime(2023, 1, 1)\n",
    "station = 'OUN'\n",
    "df = WyomingUpperAir.request_data(date, station)\n",
    "df = pandas_dataframe_to_unit_arrays(df)"
   ]
  },
  {
   "cell_type": "code",
   "execution_count": 3,
   "metadata": {},
   "outputs": [
    {
     "data": {
      "text/plain": [
       "(649.3496723190677 <Unit('hectopascal')>,\n",
       " 0.573988004030033 <Unit('degree_Celsius')>,\n",
       " 33.46835173698645 <Unit('degree_Celsius')>)"
      ]
     },
     "execution_count": 3,
     "metadata": {},
     "output_type": "execute_result"
    }
   ],
   "source": [
    "mpcalc.ccl(df['pressure'], df['temperature'], df['dewpoint'])"
   ]
  },
  {
   "cell_type": "code",
   "execution_count": 4,
   "metadata": {},
   "outputs": [],
   "source": [
    "ccls = []\n",
    "lcls = []"
   ]
  },
  {
   "cell_type": "code",
   "execution_count": 5,
   "metadata": {},
   "outputs": [
    {
     "name": "stdout",
     "output_type": "stream",
     "text": [
      "2021-01-01 12:00:00\n",
      "2021-02-01 12:00:00\n",
      "2021-03-01 12:00:00\n",
      "2021-04-01 12:00:00\n",
      "2021-05-01 12:00:00\n",
      "2021-06-01 12:00:00\n",
      "2021-07-01 12:00:00\n",
      "2021-08-01 12:00:00\n",
      "2021-09-01 12:00:00\n",
      "2021-10-01 12:00:00\n",
      "2021-11-01 12:00:00\n",
      "2021-12-01 12:00:00\n"
     ]
    }
   ],
   "source": [
    "for m in range(1, 13):\n",
    "\tdate = datetime(2021, m, 1, 12)\n",
    "\tprint(date)\n",
    "\tstation = 'BMX'\n",
    "\tdf = WyomingUpperAir.request_data(date, station)\n",
    "\tdf = pandas_dataframe_to_unit_arrays(df)\n",
    "\tlcls.append(mpcalc.lcl(df['pressure'][0], df['temperature'][0], df['dewpoint'][0])[0])\n",
    "\tccls.append(mpcalc.ccl(df['pressure'], df['temperature'], df['dewpoint'])[0])"
   ]
  },
  {
   "cell_type": "code",
   "execution_count": 6,
   "metadata": {},
   "outputs": [
    {
     "data": {
      "text/plain": [
       "<matplotlib.legend.Legend at 0x7f6da559a610>"
      ]
     },
     "execution_count": 6,
     "metadata": {},
     "output_type": "execute_result"
    },
    {
     "data": {
      "image/png": "[encoded data removed]",
      "text/plain": [
       "<Figure size 640x480 with 1 Axes>"
      ]
     },
     "metadata": {},
     "output_type": "display_data"
    }
   ],
   "source": [
    "m = range(1, 13)\n",
    "fig, ax = plt.subplots()\n",
    "ax.scatter(m, lcls, label = 'LCL')\n",
    "ax.scatter(m, ccls, label = 'CCL')\n",
    "ax.set_ylim(1100, 400)\n",
    "plt.legend()"
   ]
  }
 ],
 "metadata": {
  "kernelspec": {
   "display_name": "base",
   "language": "python",
   "name": "python3"
  },
  "language_info": {
   "codemirror_mode": {
    "name": "ipython",
    "version": 3
   },
   "file_extension": ".py",
   "mimetype": "text/x-python",
   "name": "python",
   "nbconvert_exporter": "python",
   "pygments_lexer": "ipython3",
   "version": "3.9.12"
  },
  "orig_nbformat": 4,
  "vscode": {
   "interpreter": {
    "hash": "b5cfa023891fceef02537f80a4c6e95b77988fb973cdb16a51cdb785092210be"
   }
  }
 },
 "nbformat": 4,
 "nbformat_minor": 2
}
