{
 "cells": [
  {
   "cell_type": "markdown",
   "id": "47589404",
   "metadata": {},
   "source": [
    "## 218 - K Index\n",
    "\n",
    "[Youtube](https://www.youtube.com/watch?v=L18XOChMJaw)"
   ]
  },
  {
   "cell_type": "markdown",
   "id": "e68eddeb",
   "metadata": {},
   "source": [
    "### K-Index\n",
    "\n",
    "<br>\n",
    "\n",
    "<font size=\"3\">\n",
    "$$K = (T_{850} - T_{500}) + D_{850} - (T_{700} - D_{700})$$\n",
    "</font>"
   ]
  },
  {
   "cell_type": "code",
   "execution_count": 1,
   "id": "9d13a0dd",
   "metadata": {},
   "outputs": [],
   "source": [
    "from datetime import datetime"
   ]
  },
  {
   "cell_type": "code",
   "execution_count": 2,
   "id": "d8b4e9c7",
   "metadata": {},
   "outputs": [],
   "source": [
    "date = datetime(2021, 12, 11, 0)\n",
    "station = 'BMX'"
   ]
  },
  {
   "cell_type": "code",
   "execution_count": 3,
   "id": "1e99e1e2",
   "metadata": {},
   "outputs": [],
   "source": [
    "from metpy.units import units, pandas_dataframe_to_unit_arrays\n",
    "import metpy.calc as mpcalc\n",
    "from siphon.simplewebservice.wyoming import WyomingUpperAir"
   ]
  },
  {
   "cell_type": "code",
   "execution_count": 4,
   "id": "97aebe68",
   "metadata": {},
   "outputs": [],
   "source": [
    "df = WyomingUpperAir.request_data(date, station)"
   ]
  },
  {
   "cell_type": "code",
   "execution_count": 5,
   "id": "45171164",
   "metadata": {},
   "outputs": [
    {
     "data": {
      "text/html": [
       "<div>\n",
       "<style scoped>\n",
       "    .dataframe tbody tr th:only-of-type {\n",
       "        vertical-align: middle;\n",
       "    }\n",
       "\n",
       "    .dataframe tbody tr th {\n",
       "        vertical-align: top;\n",
       "    }\n",
       "\n",
       "    .dataframe thead th {\n",
       "        text-align: right;\n",
       "    }\n",
       "</style>\n",
       "<table border=\"1\" class=\"dataframe\">\n",
       "  <thead>\n",
       "    <tr style=\"text-align: right;\">\n",
       "      <th></th>\n",
       "      <th>pressure</th>\n",
       "      <th>height</th>\n",
       "      <th>temperature</th>\n",
       "      <th>dewpoint</th>\n",
       "      <th>direction</th>\n",
       "      <th>speed</th>\n",
       "      <th>u_wind</th>\n",
       "      <th>v_wind</th>\n",
       "      <th>station</th>\n",
       "      <th>station_number</th>\n",
       "      <th>time</th>\n",
       "      <th>latitude</th>\n",
       "      <th>longitude</th>\n",
       "      <th>elevation</th>\n",
       "      <th>pw</th>\n",
       "    </tr>\n",
       "  </thead>\n",
       "  <tbody>\n",
       "    <tr>\n",
       "      <th>0</th>\n",
       "      <td>994.0</td>\n",
       "      <td>178</td>\n",
       "      <td>21.2</td>\n",
       "      <td>19.0</td>\n",
       "      <td>150.0</td>\n",
       "      <td>5.0</td>\n",
       "      <td>-2.500000</td>\n",
       "      <td>4.330127</td>\n",
       "      <td>BMX</td>\n",
       "      <td>72230</td>\n",
       "      <td>2021-12-11</td>\n",
       "      <td>33.16</td>\n",
       "      <td>-86.76</td>\n",
       "      <td>178.0</td>\n",
       "      <td>38.09</td>\n",
       "    </tr>\n",
       "    <tr>\n",
       "      <th>1</th>\n",
       "      <td>955.0</td>\n",
       "      <td>521</td>\n",
       "      <td>19.6</td>\n",
       "      <td>19.2</td>\n",
       "      <td>178.0</td>\n",
       "      <td>22.0</td>\n",
       "      <td>-0.767789</td>\n",
       "      <td>21.986598</td>\n",
       "      <td>BMX</td>\n",
       "      <td>72230</td>\n",
       "      <td>2021-12-11</td>\n",
       "      <td>33.16</td>\n",
       "      <td>-86.76</td>\n",
       "      <td>178.0</td>\n",
       "      <td>38.09</td>\n",
       "    </tr>\n",
       "    <tr>\n",
       "      <th>2</th>\n",
       "      <td>925.0</td>\n",
       "      <td>793</td>\n",
       "      <td>18.4</td>\n",
       "      <td>17.7</td>\n",
       "      <td>200.0</td>\n",
       "      <td>36.0</td>\n",
       "      <td>12.312725</td>\n",
       "      <td>33.828934</td>\n",
       "      <td>BMX</td>\n",
       "      <td>72230</td>\n",
       "      <td>2021-12-11</td>\n",
       "      <td>33.16</td>\n",
       "      <td>-86.76</td>\n",
       "      <td>178.0</td>\n",
       "      <td>38.09</td>\n",
       "    </tr>\n",
       "    <tr>\n",
       "      <th>3</th>\n",
       "      <td>850.0</td>\n",
       "      <td>1515</td>\n",
       "      <td>15.4</td>\n",
       "      <td>12.0</td>\n",
       "      <td>220.0</td>\n",
       "      <td>35.0</td>\n",
       "      <td>22.497566</td>\n",
       "      <td>26.811556</td>\n",
       "      <td>BMX</td>\n",
       "      <td>72230</td>\n",
       "      <td>2021-12-11</td>\n",
       "      <td>33.16</td>\n",
       "      <td>-86.76</td>\n",
       "      <td>178.0</td>\n",
       "      <td>38.09</td>\n",
       "    </tr>\n",
       "    <tr>\n",
       "      <th>4</th>\n",
       "      <td>799.0</td>\n",
       "      <td>2037</td>\n",
       "      <td>11.8</td>\n",
       "      <td>7.8</td>\n",
       "      <td>231.0</td>\n",
       "      <td>35.0</td>\n",
       "      <td>27.200109</td>\n",
       "      <td>22.026214</td>\n",
       "      <td>BMX</td>\n",
       "      <td>72230</td>\n",
       "      <td>2021-12-11</td>\n",
       "      <td>33.16</td>\n",
       "      <td>-86.76</td>\n",
       "      <td>178.0</td>\n",
       "      <td>38.09</td>\n",
       "    </tr>\n",
       "  </tbody>\n",
       "</table>\n",
       "</div>"
      ],
      "text/plain": [
       "   pressure  height  temperature  dewpoint  direction  speed     u_wind  \\\n",
       "0     994.0     178         21.2      19.0      150.0    5.0  -2.500000   \n",
       "1     955.0     521         19.6      19.2      178.0   22.0  -0.767789   \n",
       "2     925.0     793         18.4      17.7      200.0   36.0  12.312725   \n",
       "3     850.0    1515         15.4      12.0      220.0   35.0  22.497566   \n",
       "4     799.0    2037         11.8       7.8      231.0   35.0  27.200109   \n",
       "\n",
       "      v_wind station  station_number       time  latitude  longitude  \\\n",
       "0   4.330127     BMX           72230 2021-12-11     33.16     -86.76   \n",
       "1  21.986598     BMX           72230 2021-12-11     33.16     -86.76   \n",
       "2  33.828934     BMX           72230 2021-12-11     33.16     -86.76   \n",
       "3  26.811556     BMX           72230 2021-12-11     33.16     -86.76   \n",
       "4  22.026214     BMX           72230 2021-12-11     33.16     -86.76   \n",
       "\n",
       "   elevation     pw  \n",
       "0      178.0  38.09  \n",
       "1      178.0  38.09  \n",
       "2      178.0  38.09  \n",
       "3      178.0  38.09  \n",
       "4      178.0  38.09  "
      ]
     },
     "execution_count": 5,
     "metadata": {},
     "output_type": "execute_result"
    }
   ],
   "source": [
    "df.head()"
   ]
  },
  {
   "cell_type": "code",
   "execution_count": 6,
   "id": "4f2cc5b9",
   "metadata": {},
   "outputs": [
    {
     "data": {
      "text/html": [
       "26.299999999999997 degree_Celsius"
      ],
      "text/latex": [
       "$26.299999999999997\\ \\mathrm{degree\\_Celsius}$"
      ],
      "text/plain": [
       "26.299999999999997 <Unit('degree_Celsius')>"
      ]
     },
     "execution_count": 6,
     "metadata": {},
     "output_type": "execute_result"
    }
   ],
   "source": [
    "df = pandas_dataframe_to_unit_arrays(df)\n",
    "mpcalc.k_index(df['pressure'], df['temperature'], df['dewpoint'])"
   ]
  },
  {
   "cell_type": "code",
   "execution_count": 7,
   "id": "bbd96ddd",
   "metadata": {},
   "outputs": [],
   "source": [
    "def get_k_index(date, station):\n",
    "    df = WyomingUpperAir.request_data(date, station)\n",
    "    df = pandas_dataframe_to_unit_arrays(df)\n",
    "    return mpcalc.k_index(df['pressure'], df['temperature'], df['dewpoint'])"
   ]
  },
  {
   "cell_type": "code",
   "execution_count": 8,
   "id": "b673fcb1",
   "metadata": {},
   "outputs": [],
   "source": [
    "import pandas as pd\n",
    "import matplotlib.pyplot as plt"
   ]
  },
  {
   "cell_type": "code",
   "execution_count": 9,
   "id": "aa5f54cb",
   "metadata": {},
   "outputs": [],
   "source": [
    "dates = pd.date_range(start = datetime(2021, 12, 1, 0), end = datetime(2021, 12, 15, 12), freq = '12H')"
   ]
  },
  {
   "cell_type": "code",
   "execution_count": 11,
   "id": "2be48928",
   "metadata": {},
   "outputs": [],
   "source": [
    "k_index_values = [get_k_index(date, station) for date in dates]"
   ]
  },
  {
   "cell_type": "code",
   "execution_count": 12,
   "id": "d84b8761",
   "metadata": {},
   "outputs": [
    {
     "data": {
      "text/plain": [
       "Text(0, 0.5, 'K-Index')"
      ]
     },
     "execution_count": 12,
     "metadata": {},
     "output_type": "execute_result"
    },
    {
     "data": {
      "image/png": "[encoded data removed]",
      "text/plain": [
       "<Figure size 1200x200 with 1 Axes>"
      ]
     },
     "metadata": {},
     "output_type": "display_data"
    }
   ],
   "source": [
    "fig, ax = plt.subplots(figsize = (12,2))\n",
    "ax.scatter(dates, k_index_values)\n",
    "ax.axhline(y = 20, color = 'k')\n",
    "ax.set_ylabel('K-Index')"
   ]
  },
  {
   "cell_type": "code",
   "execution_count": null,
   "id": "72040ed4",
   "metadata": {},
   "outputs": [],
   "source": []
  }
 ],
 "metadata": {
  "kernelspec": {
   "display_name": "Python 3 (ipykernel)",
   "language": "python",
   "name": "python3"
  },
  "language_info": {
   "codemirror_mode": {
    "name": "ipython",
    "version": 3
   },
   "file_extension": ".py",
   "mimetype": "text/x-python",
   "name": "python",
   "nbconvert_exporter": "python",
   "pygments_lexer": "ipython3",
   "version": "3.9.12"
  }
 },
 "nbformat": 4,
 "nbformat_minor": 5
}
