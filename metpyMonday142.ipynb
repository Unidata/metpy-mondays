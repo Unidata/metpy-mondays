{
 "cells": [
  {
   "cell_type": "markdown",
   "id": "8fffd650",
   "metadata": {},
   "source": [
    "## 142 - HURDAT2 Hurricane Database\n",
    "\n",
    "[Youtube](https://www.youtube.com/watch?v=AqZljJ1LsdA)"
   ]
  },
  {
   "cell_type": "code",
   "execution_count": 1,
   "id": "db818db3",
   "metadata": {},
   "outputs": [],
   "source": [
    "# Get file at: https://www.nhc.noaa.gov/data/hurdat/hurdat2-1851-2021-041922.txt  (https://www.nhc.noaa.gov/data/)\n",
    "\n",
    "import pandas as pd\n",
    "from datetime import datetime"
   ]
  },
  {
   "cell_type": "code",
   "execution_count": 2,
   "id": "b0dd2769",
   "metadata": {},
   "outputs": [],
   "source": [
    "def lat_lon_to_float(v):\n",
    "    \"\"\"\n",
    "    Convert strings from NHC to float locations.\n",
    "    \"\"\"\n",
    "    if (v[-1] == 'S') or (v[-1] == 'W'):\n",
    "        multiplier = -1\n",
    "    else:\n",
    "        multiplier = 1\n",
    "    return float(v[:-1]) * multiplier"
   ]
  },
  {
   "cell_type": "code",
   "execution_count": 3,
   "id": "4a329c5f",
   "metadata": {},
   "outputs": [],
   "source": [
    "data = []"
   ]
  },
  {
   "cell_type": "code",
   "execution_count": 4,
   "id": "f5e00459",
   "metadata": {},
   "outputs": [],
   "source": [
    "with open('hurdat2-1851-2021-041922.txt', 'r') as f:\n",
    "    for line in f.readlines():\n",
    "        if line.startswith('AL'):\n",
    "            storm_id = line.split(',')\n",
    "            storm_number = storm_id[0].strip()\n",
    "            storm_name = storm_id[1].strip()\n",
    "\n",
    "        else:\n",
    "            location_line = line.split(',')\n",
    "            dt = datetime.strptime(location_line[0] + location_line[1], '%Y%m%d %H%M')\n",
    "            storm_status = location_line[3].strip()\n",
    "            storm_lat = lat_lon_to_float(location_line[4].strip())\n",
    "            storm_lon = lat_lon_to_float(location_line[5].strip())\n",
    "            data.append([storm_number, storm_name, storm_status, storm_lat, storm_lon, dt])"
   ]
  },
  {
   "cell_type": "code",
   "execution_count": 5,
   "id": "d3100fc3",
   "metadata": {},
   "outputs": [
    {
     "data": {
      "text/plain": [
       "['AL011851',\n",
       " 'UNNAMED',\n",
       " 'HU',\n",
       " 28.0,\n",
       " -94.8,\n",
       " datetime.datetime(1851, 6, 25, 0, 0)]"
      ]
     },
     "execution_count": 5,
     "metadata": {},
     "output_type": "execute_result"
    }
   ],
   "source": [
    "data[0]"
   ]
  },
  {
   "cell_type": "code",
   "execution_count": 6,
   "id": "911483b9",
   "metadata": {},
   "outputs": [],
   "source": [
    "df = pd.DataFrame(data, columns = ['Storm Number', 'Storm Name', 'Storm Status', 'Lat', 'Lon', 'Time'])"
   ]
  },
  {
   "cell_type": "code",
   "execution_count": 7,
   "id": "f8338db6",
   "metadata": {},
   "outputs": [
    {
     "data": {
      "text/html": [
       "<div>\n",
       "<style scoped>\n",
       "    .dataframe tbody tr th:only-of-type {\n",
       "        vertical-align: middle;\n",
       "    }\n",
       "\n",
       "    .dataframe tbody tr th {\n",
       "        vertical-align: top;\n",
       "    }\n",
       "\n",
       "    .dataframe thead th {\n",
       "        text-align: right;\n",
       "    }\n",
       "</style>\n",
       "<table border=\"1\" class=\"dataframe\">\n",
       "  <thead>\n",
       "    <tr style=\"text-align: right;\">\n",
       "      <th></th>\n",
       "      <th>Storm Number</th>\n",
       "      <th>Storm Name</th>\n",
       "      <th>Storm Status</th>\n",
       "      <th>Lat</th>\n",
       "      <th>Lon</th>\n",
       "      <th>Time</th>\n",
       "    </tr>\n",
       "  </thead>\n",
       "  <tbody>\n",
       "    <tr>\n",
       "      <th>0</th>\n",
       "      <td>AL011851</td>\n",
       "      <td>UNNAMED</td>\n",
       "      <td>HU</td>\n",
       "      <td>28.0</td>\n",
       "      <td>-94.8</td>\n",
       "      <td>1851-06-25 00:00:00</td>\n",
       "    </tr>\n",
       "    <tr>\n",
       "      <th>1</th>\n",
       "      <td>AL011851</td>\n",
       "      <td>UNNAMED</td>\n",
       "      <td>HU</td>\n",
       "      <td>28.0</td>\n",
       "      <td>-95.4</td>\n",
       "      <td>1851-06-25 06:00:00</td>\n",
       "    </tr>\n",
       "    <tr>\n",
       "      <th>2</th>\n",
       "      <td>AL011851</td>\n",
       "      <td>UNNAMED</td>\n",
       "      <td>HU</td>\n",
       "      <td>28.0</td>\n",
       "      <td>-96.0</td>\n",
       "      <td>1851-06-25 12:00:00</td>\n",
       "    </tr>\n",
       "    <tr>\n",
       "      <th>3</th>\n",
       "      <td>AL011851</td>\n",
       "      <td>UNNAMED</td>\n",
       "      <td>HU</td>\n",
       "      <td>28.1</td>\n",
       "      <td>-96.5</td>\n",
       "      <td>1851-06-25 18:00:00</td>\n",
       "    </tr>\n",
       "    <tr>\n",
       "      <th>4</th>\n",
       "      <td>AL011851</td>\n",
       "      <td>UNNAMED</td>\n",
       "      <td>HU</td>\n",
       "      <td>28.2</td>\n",
       "      <td>-96.8</td>\n",
       "      <td>1851-06-25 21:00:00</td>\n",
       "    </tr>\n",
       "  </tbody>\n",
       "</table>\n",
       "</div>"
      ],
      "text/plain": [
       "  Storm Number Storm Name Storm Status   Lat   Lon                Time\n",
       "0     AL011851    UNNAMED           HU  28.0 -94.8 1851-06-25 00:00:00\n",
       "1     AL011851    UNNAMED           HU  28.0 -95.4 1851-06-25 06:00:00\n",
       "2     AL011851    UNNAMED           HU  28.0 -96.0 1851-06-25 12:00:00\n",
       "3     AL011851    UNNAMED           HU  28.1 -96.5 1851-06-25 18:00:00\n",
       "4     AL011851    UNNAMED           HU  28.2 -96.8 1851-06-25 21:00:00"
      ]
     },
     "execution_count": 7,
     "metadata": {},
     "output_type": "execute_result"
    }
   ],
   "source": [
    "df.head()"
   ]
  },
  {
   "cell_type": "code",
   "execution_count": 8,
   "id": "082fdad7",
   "metadata": {},
   "outputs": [
    {
     "data": {
      "text/html": [
       "<div>\n",
       "<style scoped>\n",
       "    .dataframe tbody tr th:only-of-type {\n",
       "        vertical-align: middle;\n",
       "    }\n",
       "\n",
       "    .dataframe tbody tr th {\n",
       "        vertical-align: top;\n",
       "    }\n",
       "\n",
       "    .dataframe thead th {\n",
       "        text-align: right;\n",
       "    }\n",
       "</style>\n",
       "<table border=\"1\" class=\"dataframe\">\n",
       "  <thead>\n",
       "    <tr style=\"text-align: right;\">\n",
       "      <th></th>\n",
       "      <th>Storm Number</th>\n",
       "      <th>Storm Name</th>\n",
       "      <th>Storm Status</th>\n",
       "      <th>Lat</th>\n",
       "      <th>Lon</th>\n",
       "      <th>Time</th>\n",
       "    </tr>\n",
       "  </thead>\n",
       "  <tbody>\n",
       "    <tr>\n",
       "      <th>53496</th>\n",
       "      <td>AL212021</td>\n",
       "      <td>WANDA</td>\n",
       "      <td>TS</td>\n",
       "      <td>37.4</td>\n",
       "      <td>-37.4</td>\n",
       "      <td>2021-11-07 00:00:00</td>\n",
       "    </tr>\n",
       "    <tr>\n",
       "      <th>53497</th>\n",
       "      <td>AL212021</td>\n",
       "      <td>WANDA</td>\n",
       "      <td>TS</td>\n",
       "      <td>38.1</td>\n",
       "      <td>-36.4</td>\n",
       "      <td>2021-11-07 06:00:00</td>\n",
       "    </tr>\n",
       "    <tr>\n",
       "      <th>53498</th>\n",
       "      <td>AL212021</td>\n",
       "      <td>WANDA</td>\n",
       "      <td>LO</td>\n",
       "      <td>39.2</td>\n",
       "      <td>-34.9</td>\n",
       "      <td>2021-11-07 12:00:00</td>\n",
       "    </tr>\n",
       "    <tr>\n",
       "      <th>53499</th>\n",
       "      <td>AL212021</td>\n",
       "      <td>WANDA</td>\n",
       "      <td>LO</td>\n",
       "      <td>40.9</td>\n",
       "      <td>-32.8</td>\n",
       "      <td>2021-11-07 18:00:00</td>\n",
       "    </tr>\n",
       "    <tr>\n",
       "      <th>53500</th>\n",
       "      <td>AL212021</td>\n",
       "      <td>WANDA</td>\n",
       "      <td>LO</td>\n",
       "      <td>43.2</td>\n",
       "      <td>-29.7</td>\n",
       "      <td>2021-11-08 00:00:00</td>\n",
       "    </tr>\n",
       "  </tbody>\n",
       "</table>\n",
       "</div>"
      ],
      "text/plain": [
       "      Storm Number Storm Name Storm Status   Lat   Lon                Time\n",
       "53496     AL212021      WANDA           TS  37.4 -37.4 2021-11-07 00:00:00\n",
       "53497     AL212021      WANDA           TS  38.1 -36.4 2021-11-07 06:00:00\n",
       "53498     AL212021      WANDA           LO  39.2 -34.9 2021-11-07 12:00:00\n",
       "53499     AL212021      WANDA           LO  40.9 -32.8 2021-11-07 18:00:00\n",
       "53500     AL212021      WANDA           LO  43.2 -29.7 2021-11-08 00:00:00"
      ]
     },
     "execution_count": 8,
     "metadata": {},
     "output_type": "execute_result"
    }
   ],
   "source": [
    "df.tail()"
   ]
  },
  {
   "cell_type": "code",
   "execution_count": 9,
   "id": "6424c422",
   "metadata": {},
   "outputs": [
    {
     "data": {
      "text/plain": [
       "1936"
      ]
     },
     "execution_count": 9,
     "metadata": {},
     "output_type": "execute_result"
    }
   ],
   "source": [
    "len(df['Storm Number'].unique())"
   ]
  },
  {
   "cell_type": "code",
   "execution_count": 10,
   "id": "656516ef",
   "metadata": {},
   "outputs": [
    {
     "data": {
      "text/html": [
       "<div>\n",
       "<style scoped>\n",
       "    .dataframe tbody tr th:only-of-type {\n",
       "        vertical-align: middle;\n",
       "    }\n",
       "\n",
       "    .dataframe tbody tr th {\n",
       "        vertical-align: top;\n",
       "    }\n",
       "\n",
       "    .dataframe thead th {\n",
       "        text-align: right;\n",
       "    }\n",
       "</style>\n",
       "<table border=\"1\" class=\"dataframe\">\n",
       "  <thead>\n",
       "    <tr style=\"text-align: right;\">\n",
       "      <th></th>\n",
       "      <th>Storm Number</th>\n",
       "      <th>Storm Name</th>\n",
       "      <th>Lat</th>\n",
       "      <th>Lon</th>\n",
       "      <th>Time</th>\n",
       "    </tr>\n",
       "    <tr>\n",
       "      <th>Storm Status</th>\n",
       "      <th></th>\n",
       "      <th></th>\n",
       "      <th></th>\n",
       "      <th></th>\n",
       "      <th></th>\n",
       "    </tr>\n",
       "  </thead>\n",
       "  <tbody>\n",
       "    <tr>\n",
       "      <th>DB</th>\n",
       "      <td>230</td>\n",
       "      <td>230</td>\n",
       "      <td>230</td>\n",
       "      <td>230</td>\n",
       "      <td>230</td>\n",
       "    </tr>\n",
       "    <tr>\n",
       "      <th>EX</th>\n",
       "      <td>5929</td>\n",
       "      <td>5929</td>\n",
       "      <td>5929</td>\n",
       "      <td>5929</td>\n",
       "      <td>5929</td>\n",
       "    </tr>\n",
       "    <tr>\n",
       "      <th>HU</th>\n",
       "      <td>15272</td>\n",
       "      <td>15272</td>\n",
       "      <td>15272</td>\n",
       "      <td>15272</td>\n",
       "      <td>15272</td>\n",
       "    </tr>\n",
       "    <tr>\n",
       "      <th>LO</th>\n",
       "      <td>1483</td>\n",
       "      <td>1483</td>\n",
       "      <td>1483</td>\n",
       "      <td>1483</td>\n",
       "      <td>1483</td>\n",
       "    </tr>\n",
       "    <tr>\n",
       "      <th>SD</th>\n",
       "      <td>317</td>\n",
       "      <td>317</td>\n",
       "      <td>317</td>\n",
       "      <td>317</td>\n",
       "      <td>317</td>\n",
       "    </tr>\n",
       "    <tr>\n",
       "      <th>SS</th>\n",
       "      <td>692</td>\n",
       "      <td>692</td>\n",
       "      <td>692</td>\n",
       "      <td>692</td>\n",
       "      <td>692</td>\n",
       "    </tr>\n",
       "    <tr>\n",
       "      <th>TD</th>\n",
       "      <td>9753</td>\n",
       "      <td>9753</td>\n",
       "      <td>9753</td>\n",
       "      <td>9753</td>\n",
       "      <td>9753</td>\n",
       "    </tr>\n",
       "    <tr>\n",
       "      <th>TS</th>\n",
       "      <td>19687</td>\n",
       "      <td>19687</td>\n",
       "      <td>19687</td>\n",
       "      <td>19687</td>\n",
       "      <td>19687</td>\n",
       "    </tr>\n",
       "    <tr>\n",
       "      <th>WV</th>\n",
       "      <td>138</td>\n",
       "      <td>138</td>\n",
       "      <td>138</td>\n",
       "      <td>138</td>\n",
       "      <td>138</td>\n",
       "    </tr>\n",
       "  </tbody>\n",
       "</table>\n",
       "</div>"
      ],
      "text/plain": [
       "              Storm Number  Storm Name    Lat    Lon   Time\n",
       "Storm Status                                               \n",
       "DB                     230         230    230    230    230\n",
       "EX                    5929        5929   5929   5929   5929\n",
       "HU                   15272       15272  15272  15272  15272\n",
       "LO                    1483        1483   1483   1483   1483\n",
       "SD                     317         317    317    317    317\n",
       "SS                     692         692    692    692    692\n",
       "TD                    9753        9753   9753   9753   9753\n",
       "TS                   19687       19687  19687  19687  19687\n",
       "WV                     138         138    138    138    138"
      ]
     },
     "execution_count": 10,
     "metadata": {},
     "output_type": "execute_result"
    }
   ],
   "source": [
    "df.groupby('Storm Status').count()"
   ]
  },
  {
   "cell_type": "code",
   "execution_count": null,
   "id": "295257e4",
   "metadata": {},
   "outputs": [],
   "source": []
  }
 ],
 "metadata": {
  "kernelspec": {
   "display_name": "Python 3 (ipykernel)",
   "language": "python",
   "name": "python3"
  },
  "language_info": {
   "codemirror_mode": {
    "name": "ipython",
    "version": 3
   },
   "file_extension": ".py",
   "mimetype": "text/x-python",
   "name": "python",
   "nbconvert_exporter": "python",
   "pygments_lexer": "ipython3",
   "version": "3.9.12"
  }
 },
 "nbformat": 4,
 "nbformat_minor": 5
}
