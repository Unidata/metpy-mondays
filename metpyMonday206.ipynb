{
 "cells": [
  {
   "cell_type": "markdown",
   "id": "a3f5e06a",
   "metadata": {},
   "source": [
    "## 206 - Gridding Mesonet Data for KML Generation\n",
    "\n",
    "[Youtube](https://www.youtube.com/watch?v=l9XL6chcp7g&list=PLQut5OXpV-0ir4IdllSt1iEZKTwFBa7kO&index=200)"
   ]
  },
  {
   "cell_type": "code",
   "execution_count": 5,
   "id": "c50d1bd4",
   "metadata": {},
   "outputs": [],
   "source": [
    "import pandas as pd"
   ]
  },
  {
   "cell_type": "code",
   "execution_count": 6,
   "id": "81c30b8e",
   "metadata": {},
   "outputs": [
    {
     "data": {
      "text/html": [
       "<div>\n",
       "<style scoped>\n",
       "    .dataframe tbody tr th:only-of-type {\n",
       "        vertical-align: middle;\n",
       "    }\n",
       "\n",
       "    .dataframe tbody tr th {\n",
       "        vertical-align: top;\n",
       "    }\n",
       "\n",
       "    .dataframe thead th {\n",
       "        text-align: right;\n",
       "    }\n",
       "</style>\n",
       "<table border=\"1\" class=\"dataframe\">\n",
       "  <thead>\n",
       "    <tr style=\"text-align: right;\">\n",
       "      <th></th>\n",
       "      <th>STID</th>\n",
       "      <th>NAME</th>\n",
       "      <th>ST</th>\n",
       "      <th>LAT</th>\n",
       "      <th>LON</th>\n",
       "      <th>YR</th>\n",
       "      <th>MO</th>\n",
       "      <th>DA</th>\n",
       "      <th>HR</th>\n",
       "      <th>MI</th>\n",
       "      <th>...</th>\n",
       "      <th>RELH</th>\n",
       "      <th>CHIL</th>\n",
       "      <th>HEAT</th>\n",
       "      <th>WDIR</th>\n",
       "      <th>WSPD</th>\n",
       "      <th>WMAX</th>\n",
       "      <th>PRES</th>\n",
       "      <th>TMAX</th>\n",
       "      <th>TMIN</th>\n",
       "      <th>RAIN</th>\n",
       "    </tr>\n",
       "  </thead>\n",
       "  <tbody>\n",
       "    <tr>\n",
       "      <th>0</th>\n",
       "      <td>ACME</td>\n",
       "      <td>Acme</td>\n",
       "      <td>OK</td>\n",
       "      <td>34.81</td>\n",
       "      <td>-98.02</td>\n",
       "      <td>2022</td>\n",
       "      <td>8</td>\n",
       "      <td>31</td>\n",
       "      <td>13</td>\n",
       "      <td>5</td>\n",
       "      <td>...</td>\n",
       "      <td>63.0</td>\n",
       "      <td>NaN</td>\n",
       "      <td>93.0</td>\n",
       "      <td>SSE</td>\n",
       "      <td>11.0</td>\n",
       "      <td>15.0</td>\n",
       "      <td>1018.31</td>\n",
       "      <td>89.0</td>\n",
       "      <td>71.0</td>\n",
       "      <td>NaN</td>\n",
       "    </tr>\n",
       "    <tr>\n",
       "      <th>1</th>\n",
       "      <td>ADAX</td>\n",
       "      <td>Ada</td>\n",
       "      <td>OK</td>\n",
       "      <td>34.80</td>\n",
       "      <td>-96.67</td>\n",
       "      <td>2022</td>\n",
       "      <td>8</td>\n",
       "      <td>31</td>\n",
       "      <td>13</td>\n",
       "      <td>5</td>\n",
       "      <td>...</td>\n",
       "      <td>50.0</td>\n",
       "      <td>NaN</td>\n",
       "      <td>97.0</td>\n",
       "      <td>ESE</td>\n",
       "      <td>6.0</td>\n",
       "      <td>13.0</td>\n",
       "      <td>1017.22</td>\n",
       "      <td>93.0</td>\n",
       "      <td>72.0</td>\n",
       "      <td>NaN</td>\n",
       "    </tr>\n",
       "    <tr>\n",
       "      <th>2</th>\n",
       "      <td>ALTU</td>\n",
       "      <td>Altus</td>\n",
       "      <td>OK</td>\n",
       "      <td>34.59</td>\n",
       "      <td>-99.34</td>\n",
       "      <td>2022</td>\n",
       "      <td>8</td>\n",
       "      <td>31</td>\n",
       "      <td>13</td>\n",
       "      <td>5</td>\n",
       "      <td>...</td>\n",
       "      <td>66.0</td>\n",
       "      <td>NaN</td>\n",
       "      <td>93.0</td>\n",
       "      <td>SE</td>\n",
       "      <td>14.0</td>\n",
       "      <td>18.0</td>\n",
       "      <td>1017.81</td>\n",
       "      <td>87.0</td>\n",
       "      <td>74.0</td>\n",
       "      <td>0.09</td>\n",
       "    </tr>\n",
       "    <tr>\n",
       "      <th>3</th>\n",
       "      <td>ALV2</td>\n",
       "      <td>Alva</td>\n",
       "      <td>OK</td>\n",
       "      <td>36.71</td>\n",
       "      <td>-98.71</td>\n",
       "      <td>2022</td>\n",
       "      <td>8</td>\n",
       "      <td>31</td>\n",
       "      <td>13</td>\n",
       "      <td>5</td>\n",
       "      <td>...</td>\n",
       "      <td>31.0</td>\n",
       "      <td>NaN</td>\n",
       "      <td>90.0</td>\n",
       "      <td>ESE</td>\n",
       "      <td>9.0</td>\n",
       "      <td>14.0</td>\n",
       "      <td>1018.61</td>\n",
       "      <td>92.0</td>\n",
       "      <td>63.0</td>\n",
       "      <td>NaN</td>\n",
       "    </tr>\n",
       "    <tr>\n",
       "      <th>4</th>\n",
       "      <td>ANT2</td>\n",
       "      <td>Antlers</td>\n",
       "      <td>OK</td>\n",
       "      <td>34.25</td>\n",
       "      <td>-95.67</td>\n",
       "      <td>2022</td>\n",
       "      <td>8</td>\n",
       "      <td>31</td>\n",
       "      <td>13</td>\n",
       "      <td>5</td>\n",
       "      <td>...</td>\n",
       "      <td>56.0</td>\n",
       "      <td>NaN</td>\n",
       "      <td>98.0</td>\n",
       "      <td>SE</td>\n",
       "      <td>5.0</td>\n",
       "      <td>10.0</td>\n",
       "      <td>1017.07</td>\n",
       "      <td>90.0</td>\n",
       "      <td>70.0</td>\n",
       "      <td>NaN</td>\n",
       "    </tr>\n",
       "  </tbody>\n",
       "</table>\n",
       "<p>5 rows × 22 columns</p>\n",
       "</div>"
      ],
      "text/plain": [
       "   STID     NAME  ST    LAT    LON    YR  MO  DA  HR  MI  ...  RELH  CHIL  \\\n",
       "0  ACME     Acme  OK  34.81 -98.02  2022   8  31  13   5  ...  63.0   NaN   \n",
       "1  ADAX      Ada  OK  34.80 -96.67  2022   8  31  13   5  ...  50.0   NaN   \n",
       "2  ALTU    Altus  OK  34.59 -99.34  2022   8  31  13   5  ...  66.0   NaN   \n",
       "3  ALV2     Alva  OK  36.71 -98.71  2022   8  31  13   5  ...  31.0   NaN   \n",
       "4  ANT2  Antlers  OK  34.25 -95.67  2022   8  31  13   5  ...  56.0   NaN   \n",
       "\n",
       "   HEAT  WDIR  WSPD  WMAX     PRES  TMAX  TMIN  RAIN  \n",
       "0  93.0   SSE  11.0  15.0  1018.31  89.0  71.0   NaN  \n",
       "1  97.0   ESE   6.0  13.0  1017.22  93.0  72.0   NaN  \n",
       "2  93.0    SE  14.0  18.0  1017.81  87.0  74.0  0.09  \n",
       "3  90.0   ESE   9.0  14.0  1018.61  92.0  63.0   NaN  \n",
       "4  98.0    SE   5.0  10.0  1017.07  90.0  70.0   NaN  \n",
       "\n",
       "[5 rows x 22 columns]"
      ]
     },
     "execution_count": 6,
     "metadata": {},
     "output_type": "execute_result"
    }
   ],
   "source": [
    "df = pd.read_csv('https://www.mesonet.org/data/public/mesonet/current/current.csv.txt', delimiter = ',', \n",
    "                 na_values = ' ')\n",
    "df.head()"
   ]
  },
  {
   "cell_type": "code",
   "execution_count": 9,
   "id": "619bd07d",
   "metadata": {},
   "outputs": [
    {
     "name": "stdout",
     "output_type": "stream",
     "text": [
      "120\n",
      "117\n"
     ]
    }
   ],
   "source": [
    "print(len(df))\n",
    "df.dropna(subset = ['TAIR', 'LAT', 'LON'], inplace = True)\n",
    "print(len(df))"
   ]
  },
  {
   "cell_type": "code",
   "execution_count": 17,
   "id": "660b4f8d",
   "metadata": {},
   "outputs": [],
   "source": [
    "import cartopy.crs as ccrs\n",
    "import cartopy.feature as cfeature\n",
    "import matplotlib.pyplot as plt"
   ]
  },
  {
   "cell_type": "code",
   "execution_count": 18,
   "id": "ca28db02",
   "metadata": {},
   "outputs": [],
   "source": [
    "data_proj = ccrs.PlateCarree()\n",
    "to_proj = ccrs.AlbersEqualArea(central_longitude = -97, central_latitude = 38)"
   ]
  },
  {
   "cell_type": "code",
   "execution_count": 19,
   "id": "a5d17156",
   "metadata": {},
   "outputs": [],
   "source": [
    "from metpy.interpolate import interpolate_to_grid\n",
    "import numpy as np"
   ]
  },
  {
   "cell_type": "code",
   "execution_count": 29,
   "id": "4a117aa2",
   "metadata": {},
   "outputs": [],
   "source": [
    "xp, yp, _ = to_proj.transform_points(data_proj, np.asarray(df['LON']), np.asarray(df['LAT'])).T\n",
    "\n",
    "gridx, gridy, gridtemperature = interpolate_to_grid(xp, yp, df['TAIR'].values, \n",
    "                                                    interp_type = 'cressman', minimum_neighbors = 1, \n",
    "                                                    search_radius = 60000, hres = 20000)"
   ]
  },
  {
   "cell_type": "code",
   "execution_count": 33,
   "id": "bd6eedaf",
   "metadata": {},
   "outputs": [
    {
     "data": {
      "text/plain": [
       "<matplotlib.collections.PathCollection at 0x7f9ebe983d00>"
      ]
     },
     "execution_count": 33,
     "metadata": {},
     "output_type": "execute_result"
    },
    {
     "data": {
      "image/png": "[encoded data removed]",
      "text/plain": [
       "<Figure size 720x360 with 1 Axes>"
      ]
     },
     "metadata": {
      "needs_background": "light"
     },
     "output_type": "display_data"
    }
   ],
   "source": [
    "fig = plt.figure(figsize = (10, 5))\n",
    "ax = fig.add_subplot(1, 1, 1, projection = to_proj)\n",
    "ax.set_extent([-104, -94, 33, 38])\n",
    "ax.add_feature(cfeature.STATES.with_scale('50m'))\n",
    "\n",
    "cs = ax.contourf(gridx, gridy, gridtemperature, levels = 20, cmap = 'coolwarm')\n",
    "ax.scatter(xp, yp, marker = '+', color = 'k', s = 30)\n",
    "ax.scatter(gridx, gridy, s = 2)"
   ]
  },
  {
   "cell_type": "code",
   "execution_count": null,
   "id": "dee2a720",
   "metadata": {},
   "outputs": [],
   "source": []
  },
  {
   "cell_type": "code",
   "execution_count": null,
   "id": "3dba14a4",
   "metadata": {},
   "outputs": [],
   "source": []
  },
  {
   "cell_type": "code",
   "execution_count": null,
   "id": "0e742211",
   "metadata": {},
   "outputs": [],
   "source": []
  }
 ],
 "metadata": {
  "kernelspec": {
   "display_name": "Python 3 (ipykernel)",
   "language": "python",
   "name": "python3"
  },
  "language_info": {
   "codemirror_mode": {
    "name": "ipython",
    "version": 3
   },
   "file_extension": ".py",
   "mimetype": "text/x-python",
   "name": "python",
   "nbconvert_exporter": "python",
   "pygments_lexer": "ipython3",
   "version": "3.9.12"
  }
 },
 "nbformat": 4,
 "nbformat_minor": 5
}
